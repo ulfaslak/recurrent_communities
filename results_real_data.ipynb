{
 "cells": [
  {
   "cell_type": "markdown",
   "metadata": {
    "run_control": {
     "frozen": false,
     "read_only": false
    }
   },
   "source": [
    "# Preamble"
   ]
  },
  {
   "cell_type": "markdown",
   "metadata": {},
   "source": [
    "## Imports"
   ]
  },
  {
   "cell_type": "code",
   "execution_count": 245,
   "metadata": {
    "ExecuteTime": {
     "end_time": "2017-03-14T13:14:17.014790",
     "start_time": "2017-03-14T13:14:17.006858"
    },
    "collapsed": false,
    "run_control": {
     "frozen": false,
     "read_only": false
    }
   },
   "outputs": [],
   "source": [
    "%matplotlib inline\n",
    "import matplotlib.pylab as plt\n",
    "import numpy as np\n",
    "import pandas as pd\n",
    "from datetime import datetime as dt\n",
    "from collections import Counter, defaultdict\n",
    "import subprocess\n",
    "import re\n",
    "import itertools\n",
    "from seaborn import apionly as sns\n",
    "import scipy as sp\n",
    "from multiprocessing import Pool\n",
    "import random\n",
    "import pickle"
   ]
  },
  {
   "cell_type": "markdown",
   "metadata": {},
   "source": [
    "## Set layout params"
   ]
  },
  {
   "cell_type": "code",
   "execution_count": 2,
   "metadata": {
    "ExecuteTime": {
     "end_time": "2017-03-14T09:15:01.361533",
     "start_time": "2017-03-14T09:15:01.336742"
    },
    "collapsed": false,
    "run_control": {
     "frozen": false,
     "read_only": false
    }
   },
   "outputs": [],
   "source": [
    "plt.style.use([\"classic\"])\n",
    "np.set_printoptions(precision=4)\n",
    "np.core.arrayprint._line_width = 100\n",
    "\n",
    "class cmap_in_range:\n",
    "    \"\"\"Create map to range of colors inside given domain.\n",
    "\n",
    "    Example\n",
    "    -------\n",
    "    >>> cmap = cmap_in_range([0, 100])\n",
    "    >>> cmap(10)\n",
    "    (0.30392156862745101, 0.30315267411304353, 0.98816547208125938, 1.0)\n",
    "    \"\"\"\n",
    "    def __init__(self, cmap_domain, cmap_range=[0, 1], cmap_style='rainbow'):\n",
    "        self.cmap_domain = cmap_domain\n",
    "        self.cmap_range = cmap_range\n",
    "        self.m = interp1d(cmap_domain, cmap_range)\n",
    "        self.cmap = plt.get_cmap(cmap_style)\n",
    "        \n",
    "    def __call__(self, value):\n",
    "        if not self.cmap_domain[0] <= value <= self.cmap_domain[1]:\n",
    "            raise Exception(\"Value must be inside cmap_domain.\")\n",
    "        return self.cmap(self.m(value))\n",
    "\n",
    "def standarize_plot_parameters():\n",
    "    # http://scipy.github.io/old-wiki/pages/Cookbook/Matplotlib/LaTeX_Examples\n",
    "    # thesis has 417.47 points in column size, with 0.6\\columnwidth\n",
    "    golden_mean = (np.sqrt(5)-1.0)/2.0         # Aesthetic ratio\n",
    "    fig_width = 3.42/2  # width in inches\n",
    "    fig_height = 1.2       # height in inches\n",
    "    params = {\n",
    "        'axes.labelsize': 10,\n",
    "        'legend.fontsize': 7,\n",
    "        'xtick.labelsize': 8,\n",
    "        'ytick.labelsize': 8,\n",
    "        'figure.figsize': [fig_width, fig_height],\n",
    "        'font.family': 'STIXGeneral',  # close enough to LaTeX font\n",
    "        'font.size': 8,\n",
    "        'figure.frameon': False\n",
    "    }\n",
    "    plt.rcParams.update(params)\n",
    "\n",
    "standarize_plot_parameters()"
   ]
  },
  {
   "cell_type": "markdown",
   "metadata": {},
   "source": [
    "# Utility functions"
   ]
  },
  {
   "cell_type": "markdown",
   "metadata": {},
   "source": [
    "## General"
   ]
  },
  {
   "cell_type": "code",
   "execution_count": 78,
   "metadata": {
    "ExecuteTime": {
     "end_time": "2017-03-14T10:01:58.062846",
     "start_time": "2017-03-14T10:01:57.973753"
    },
    "collapsed": true,
    "run_control": {
     "frozen": false,
     "read_only": false
    }
   },
   "outputs": [],
   "source": [
    "def default_to_regular(d):\n",
    "    \"\"\"Recursively convert nested defaultdicts to nested dicts.\n",
    "\n",
    "    Source: http://stackoverflow.com/questions/26496831/how-to-convert-defaultdict-of-defaultdicts-of-defaultdicts-to-dict-of-dicts-o\n",
    "    \"\"\"\n",
    "    if isinstance(d, defaultdict):\n",
    "        d = {k: default_to_regular(v) for k, v in d.iteritems()}\n",
    "    return d\n",
    "\n",
    "def invert_partition(partition):\n",
    "    if type(partition.items()[0][1]) is list:\n",
    "        partition_inv = dict()\n",
    "        for c, nodes in partition.items():\n",
    "            for n in nodes:\n",
    "                partition_inv[n] = c\n",
    "    else:\n",
    "        partition_inv = defaultdict(list)\n",
    "        for n, c in partition.items():\n",
    "            partition_inv[c].append(n)\n",
    "    return default_to_regular(partition_inv)\n",
    "\n",
    "def smooth(y, box_pts):\n",
    "    \"\"\"Sliding box smoothening of noisy data.\n",
    "\n",
    "    Parameters\n",
    "    ----------\n",
    "    y : list\n",
    "        Noisy y-variable. Must be sorted wrt. time.\n",
    "\n",
    "    box_pts : int\n",
    "        Convolution box size. The greater the box the smoother the plot.\n",
    "\n",
    "    Output\n",
    "    ------\n",
    "    y_smooth : list\n",
    "        Smooth points to replace y. Same dimensions as y.\n",
    "\n",
    "    Example\n",
    "    -------\n",
    "    x = np.linspace(0,2*np.pi,100)\n",
    "    y = np.sin(x) + np.random.random(100) * 0.8\n",
    "\n",
    "    plt.plot(x, y,'o')\n",
    "    plt.plot(x, smooth(y, 18), 'r-', lw=2)\n",
    "    plt.plot(x, smooth(y,9), 'g-', lw=2)\n",
    "    \"\"\"\n",
    "    box = np.ones(box_pts)/box_pts\n",
    "    y_smooth = np.convolve(y, box, mode='same')\n",
    "    return y_smooth\n",
    "\n",
    "def plt_log_hist(v, **kwargs):\n",
    "    \"\"\"Make logplot of histogram.\"\"\"\n",
    "    # Handle input paramaters\n",
    "    bins = kwargs.get('bins', 10)\n",
    "    del kwargs['bins']\n",
    "    \n",
    "    # Construct log-bins\n",
    "    if min(v) == 0:\n",
    "        v = (np.array(v) + 0.01)\n",
    "    logbins = np.logspace(np.log10(min(v)), np.log10(max(v)), bins)\n",
    "    \n",
    "    # Plot\n",
    "    plt.hist(v, bins=logbins, **kwargs)\n",
    "    plt.xscale(\"log\")\n",
    "    \n",
    "def shannon_entropy(counts):\n",
    "    \"\"\"Compute shannon entropy of count series.\"\"\"\n",
    "    freq = np.array(counts) * 1.0 / np.sum(counts)\n",
    "    return -np.sum([f * np.log2(f) for f in freq if f != 0])\n",
    "\n",
    "def get_x_y_steps(x, y, where=\"post\"):\n",
    "    \"\"\"Plot step function from x and y coordinates.\"\"\"\n",
    "    if where == \"post\":\n",
    "        x_step = [x[0]] + [_x for tup in zip(x, x)[1:] for _x in tup]\n",
    "        y_step = [_y for tup in zip(y, y)[:-1] for _y in tup] + [y[-1]]\n",
    "    elif where == \"pre\":\n",
    "        x_step = [_x for tup in zip(x, x)[:-1] for _x in tup] + [x[-1]]\n",
    "        y_step = [y[0]] + [_y for tup in zip(y, y)[1:] for _y in tup]\n",
    "    return x_step, y_step\n",
    "\n",
    "def mean_confidence_interval(data, confidence=0.95):\n",
    "    \"\"\"Compute MCI for series (possibly multiple series)\"\"\"\n",
    "    def _isarray(obj):\n",
    "        try:\n",
    "            list(obj)\n",
    "            return True\n",
    "        except TypeError:\n",
    "            return False\n",
    "        \n",
    "    if _isarray(data[0]):\n",
    "        out_vals = []\n",
    "        for arr in data:\n",
    "            a = 1.0*np.array(arr)\n",
    "            h = sp.stats.sem(a) * sp.stats.t._ppf((1+confidence)/2., len(a)-1)\n",
    "            out_vals.append(h)\n",
    "    else:\n",
    "        a = 1.0*np.array(data)\n",
    "        h = sp.stats.sem(a) * sp.stats.t._ppf((1+confidence)/2., len(a)-1)\n",
    "        out_vals = h\n",
    "\n",
    "    return out_vals\n",
    "\n",
    "def node_communities(layer_commu):\n",
    "    \"\"\"Return list of communities each node participates in.\"\"\"\n",
    "    communities = defaultdict(list)\n",
    "    for l in sorted(layer_commu.keys()):\n",
    "        for c, nodes in layer_commu[l].items():\n",
    "            for n in nodes:\n",
    "                communities[n].append(c)\n",
    "    return communities"
   ]
  },
  {
   "cell_type": "markdown",
   "metadata": {},
   "source": [
    "## Data"
   ]
  },
  {
   "cell_type": "code",
   "execution_count": 4,
   "metadata": {
    "ExecuteTime": {
     "end_time": "2017-03-14T09:15:01.872726",
     "start_time": "2017-03-14T09:15:01.868886"
    },
    "collapsed": true,
    "run_control": {
     "frozen": false,
     "read_only": false
    }
   },
   "outputs": [],
   "source": [
    "def load_binned_network(kind, filename):\n",
    "    with open('data/processed_data/binned_networks/'+kind+'/'+filename+'.pkl', 'r') as infile:\n",
    "        return pickle.load(infile)"
   ]
  },
  {
   "cell_type": "markdown",
   "metadata": {},
   "source": [
    "## Visualization"
   ]
  },
  {
   "cell_type": "code",
   "execution_count": 5,
   "metadata": {
    "ExecuteTime": {
     "end_time": "2017-03-14T09:15:02.617046",
     "start_time": "2017-03-14T09:15:02.576542"
    },
    "collapsed": true,
    "run_control": {
     "frozen": false,
     "read_only": false
    }
   },
   "outputs": [],
   "source": [
    "class cmap_in_range:\n",
    "    \"\"\"Create map to range of colors inside given domain.\n",
    "\n",
    "    Example\n",
    "    -------\n",
    "    >>> cmap = cmap_in_range([0, 100])\n",
    "    >>> cmap(10)\n",
    "    (0.30392156862745101, 0.30315267411304353, 0.98816547208125938, 1.0)\n",
    "    \"\"\"\n",
    "    def __init__(self, cmap_domain, cmap_range=[0, 1], cmap_style='rainbow'):\n",
    "        self.cmap_domain = cmap_domain\n",
    "        self.cmap_range = cmap_range\n",
    "        self.m = interp1d(cmap_domain, cmap_range)\n",
    "        self.cmap = plt.get_cmap(cmap_style)\n",
    "        \n",
    "    def __call__(self, value):\n",
    "        if not self.cmap_domain[0] <= value <= self.cmap_domain[1]:\n",
    "            raise Exception(\"Value must be inside cmap_domain.\")\n",
    "        return self.cmap(self.m(value))\n",
    "    \n",
    "def draw(G, partition=False, colormap='rainbow'):\n",
    "    \"\"\"Draw graph G in my standard style.\n",
    "\n",
    "    Input\n",
    "    -----\n",
    "    G : networkx graph\n",
    "    partition : bool\n",
    "    \"\"\"\n",
    "\n",
    "    def shuffle_list(l):\n",
    "        l_out = list(l)[:]\n",
    "        shuffle(l_out)\n",
    "        return l_out\n",
    "    \n",
    "    def _get_cols(partition):\n",
    "        return dict(\n",
    "            zip(\n",
    "                shuffle_list(set(partition.values())),\n",
    "                np.linspace(0, 256, len(set(partition.values()))).astype(int)\n",
    "            )\n",
    "        )\n",
    "\n",
    "    cmap = plt.get_cmap(colormap)\n",
    "    if partition == True:\n",
    "        partition = community.best_partition(G)\n",
    "        cols = _get_cols(partition)\n",
    "        colors = [cmap(cols[partition[n]]) for n in G.nodes()]\n",
    "    elif type(partition) is dict and len(partition) == len(G.nodes()):\n",
    "        cols = _get_cols(partition)\n",
    "        colors = [cmap(cols[partition[n]]) for n in G.nodes()]\n",
    "    elif type(partition) in [list, tuple] and len(partition) == len(G.nodes()):\n",
    "        colors = list(partition)\n",
    "    else:\n",
    "        try:\n",
    "            colors = [cmap(n[1]['node_color']) for n in G.nodes(data=True)]\n",
    "        except KeyError:\n",
    "            # nodes do not have node_color attribute\n",
    "            colors = \"grey\"\n",
    "    \n",
    "    pos = nx.nx_pydot.graphviz_layout(G, prog='neato')\n",
    "    nx.draw_networkx_edges(G, pos=pos, width=2, alpha=.3, zorder=-10)\n",
    "    nx.draw_networkx_nodes(G, pos=pos, node_size=120, alpha=1, linewidths=0, node_color=colors)\n",
    "    plt.axis(\"off\")"
   ]
  },
  {
   "cell_type": "markdown",
   "metadata": {},
   "source": [
    "## Networks"
   ]
  },
  {
   "cell_type": "code",
   "execution_count": 6,
   "metadata": {
    "ExecuteTime": {
     "end_time": "2017-03-14T09:15:03.543941",
     "start_time": "2017-03-14T09:15:03.266115"
    },
    "collapsed": true,
    "run_control": {
     "frozen": false,
     "read_only": false
    }
   },
   "outputs": [],
   "source": [
    "def Infomap(pajek_string, *args, **kwargs):\n",
    "    \"\"\"Function that pipes commands to subprocess and runs native Infomap implementation.\n",
    "    \n",
    "    Requires two folders (1) 'input' and (2) 'output', in sister-directory of 'infomap' folder\n",
    "    that contains 'Infomap' executable. To setup 'infomap' folder, close Infomap from \n",
    "    https://github.com/mapequation/infomap and run 'make' inside resulting folder.\n",
    "    \n",
    "    Parameters\n",
    "    ----------\n",
    "    pajek_string : str\n",
    "        Pajek representation of the network (str)\n",
    "    *args : dict\n",
    "        Infomap execution options. (http://www.mapequation.org/code.html#Options)\n",
    "    Returns\n",
    "    -------\n",
    "    communities : list of lists\n",
    "    layer_communities : data structure in required format for d3 viz (json)\n",
    "    \"\"\"\n",
    "    \n",
    "    def _get_id_to_label(filename):\n",
    "        def __int_if_int(val):\n",
    "            try: return int(val)\n",
    "            except ValueError: return val\n",
    "        with open('input/' + filename + \".net\", 'r') as fp:\n",
    "            parsed_network = fp.read()\n",
    "        return dict(\n",
    "            (int(n.split()[0]), __int_if_int(n.split('\"')[1]))\n",
    "            for n in re.split(r\"\\*.+\", parsed_network)[1].split(\"\\n\")[1:-1]\n",
    "        )\n",
    "    \n",
    "    def _parse_communities_multiplex(id_to_label, filename):\n",
    "        with open('output/'+filename+\"_expanded.clu\", 'r') as infile:\n",
    "            clusters = infile.read()\n",
    "\n",
    "        # Get layers, nodes and clusters from _extended.clu file\n",
    "        la_no_clu_flow = re.findall(r'\\d+ \\d+ \\d+ \\d\\.\\d+', clusters) # [\"30 1 2 0.00800543\",...]\n",
    "        la_no_clu_flow = [tuple(i.split()) for i in la_no_clu_flow]\n",
    "\n",
    "        node_flow_json = defaultdict(float)      # {layer_node: flow, ...}\n",
    "        community_flow_json = defaultdict(float) # {community: flow, ...}\n",
    "        communities_json = defaultdict(set)      # {layer: {(node, cluster), ...}, ...}\n",
    "        for layer, node, cluster, flow in la_no_clu_flow:\n",
    "            node_flow_json[(int(layer), id_to_label[int(node)])] += float(flow)\n",
    "            community_flow_json[cluster] += float(flow)\n",
    "            communities_json[int(layer)].add((id_to_label[int(node)], int(cluster)))\n",
    "\n",
    "        return communities_json, node_flow_json, community_flow_json\n",
    "    \n",
    "    def _parse_communities_planar(id_to_label, filename):\n",
    "        with open('output/'+filename+\".clu\", 'r') as infile:\n",
    "            clusters = infile.read()\n",
    "        \n",
    "        # Get nodes and clusters from .clu file\n",
    "        no_clu = [tuple(i.split()[:-1]) for i in re.findall(r\"\\d+ \\d+ \\d\\.\\d+\", clusters)]  # [(node, cluster), ...]\n",
    "        return {0: set([(id_to_label[int(no)], int(clu)) for no, clu in no_clu])}\n",
    "    \n",
    "    def _clean_up(filename):\n",
    "        subprocess.call(['rm', 'input/'+filename+'.net'])\n",
    "        subprocess.call(['rm', 'output/'+filename+'_expanded.clu'])\n",
    "        subprocess.call(['rm', 'output/'+filename+'.clu'])\n",
    "    \n",
    "    # Check for process id in args (for multiprocessing)\n",
    "    if args[-1][:3] == \"pid\":\n",
    "        pid = args[-1][3:]\n",
    "        args = args[:-1]\n",
    "    else:\n",
    "        pid = \"\"\n",
    "        \n",
    "    # Set default kwarg params\n",
    "    return_flow = kwargs.get(\"return_flow\", False)\n",
    "        \n",
    "    # Get network in multiplex string format and define filename\n",
    "    filename = 'tmpnet' + pid\n",
    "\n",
    "    # Store locally\n",
    "    with open(\"input/\"+filename+\".net\", 'w') as outfile:\n",
    "        outfile.write(pajek_string)\n",
    "    \n",
    "    # Run Infomap for multiplex network\n",
    "    subprocess.call(\n",
    "        ['./infomap/Infomap', 'input/'+filename+\".net\"] + \\\n",
    "        list(args)\n",
    "    )\n",
    "    \n",
    "    # Parse communities from Infomap output\n",
    "    id_to_label = _get_id_to_label(filename)\n",
    "    \n",
    "    if 'multiplex' in list(args):\n",
    "        parsed_communities, node_flow, community_flow = _parse_communities_multiplex(id_to_label, filename)\n",
    "    if 'pajek' in list(args):\n",
    "        parsed_communities = _parse_communities_planar(id_to_label, filename)\n",
    "        \n",
    "    _clean_up(filename)\n",
    "\n",
    "    orig_clu = [item for sublist in parsed_communities.values() for item in sublist]\n",
    "    communities = dict()\n",
    "    for key, group in itertools.groupby(orig_clu, lambda x: x[1]):\n",
    "        for thing in group:\n",
    "            try:\n",
    "                communities[key].append(thing[0])\n",
    "            except KeyError:\n",
    "                communities[thing[1]] = [thing[0]]\n",
    "    communities = dict((k,set(v)) for k,v in communities.items())\n",
    "\n",
    "    layer_communities = {}\n",
    "    for layer, group in parsed_communities.items():\n",
    "        communities = {}\n",
    "        for no, clu in group:\n",
    "            try:\n",
    "                communities[clu-1].append(no)\n",
    "            except KeyError:\n",
    "                communities[clu-1] = [no]\n",
    "        layer_communities[layer] = communities\n",
    "\n",
    "    if return_flow:\n",
    "        return communities, layer_communities, node_flow, community_flow\n",
    "    else:\n",
    "        return communities, layer_communities\n",
    "    \n",
    "    \n",
    "def build_adjacency_tensor(layers, index=\"zero\"):\n",
    "    nodes = set([\n",
    "        n\n",
    "        for l in layers\n",
    "        for n in list(l['user1']) + list(l['user2'])\n",
    "    ])\n",
    "    \n",
    "    ind = dict((n, i) for i, n in enumerate(nodes))\n",
    "    \n",
    "    A = defaultdict(int)\n",
    "    for l, layer in enumerate(layers):\n",
    "        for _, row in layer.iterrows():\n",
    "            # Must add both ways if undirected so A becomes symmetrical. If only added one-way\n",
    "            # triu will only be connections from 'user' and and tril from 'bt_mac' or vice versa.\n",
    "            if index == \"zero\":\n",
    "                A[(ind[row['user1']], ind[row['user2']], l)] += 1\n",
    "                A[(ind[row['user2']], ind[row['user1']], l)] += 1\n",
    "            else:\n",
    "                A[(row['user1'], row['user2'], l)] += 1\n",
    "                A[(row['user2'], row['user1'], l)] += 1\n",
    "    return A\n",
    "\n",
    "\n",
    "def write_pajek(A, node_labels=None, index_from=0):\n",
    "    \"\"\"Return multiplex representation of multiplex network adjacency matrix A\n",
    "    \n",
    "    Providing an adjacency tensor where A[:, :, k] is adjacency matrix of temporal\n",
    "    layer k, return a pajek format representation of the temporal network which weights interlayer\n",
    "    edges by state node neighborhood similarity. \n",
    "    \n",
    "    Parameters\n",
    "    ----------\n",
    "    A : numpy.3darray\n",
    "        3d tensor where each A[:, :, k] is a layer adjacency matrix\n",
    "    node_labels : list\n",
    "        List of node labels if (optional)\n",
    "    index_from : int\n",
    "        From which number to index nodes and layers in pajek format from (default=0)\n",
    "\n",
    "    Returns\n",
    "    -------\n",
    "    out : string\n",
    "        A network string in pajek format\n",
    "    \"\"\"\n",
    "    \n",
    "    def _write_outfile(A):\n",
    "        \"\"\"Write nodes and intra/inter-edges from A and J to string.\"\"\"\n",
    "        def __remove_symmetry_A(A):\n",
    "            A_triu = defaultdict(int)\n",
    "            for (i, j, k), w in A.items():\n",
    "                if j > i:\n",
    "                    A_triu[(i, j, k)] = w\n",
    "            return A_triu\n",
    "        def __write_nodes(outfile):\n",
    "            outfile += \"*Vertices %d\" % Nn\n",
    "            for nid, label in enumerate(nodes):\n",
    "                outfile += '\\n%d \"%s\" 1.0' % (nid + index_from, str(label))\n",
    "            return outfile\n",
    "        def __write_intra_edges(outfile):\n",
    "            outfile += \"\\n*Intra\\n# layer node node [weight]\"\n",
    "            for (i, j, k), w in __remove_symmetry_A(A).items():\n",
    "                outfile += '\\n%d %d %d %f' % (\n",
    "                    k + index_from,  # layer\n",
    "                    nodemap[i] + index_from,  # node\n",
    "                    nodemap[j] + index_from,  # node\n",
    "                    w                # weight\n",
    "                )\n",
    "            return outfile\n",
    "        \n",
    "        outfile = \"\"\n",
    "        outfile = __write_nodes(outfile)\n",
    "        outfile = __write_intra_edges(outfile)\n",
    "        \n",
    "        return outfile\n",
    "    \n",
    "    nodes = sorted(set([n for i, j, _ in A.keys() for n in [i, j]]))\n",
    "    Nn = len(nodes)\n",
    "    Nl = len(set([k for i, j, k in A.keys()]))\n",
    "    \n",
    "    nodemap = dict(zip(nodes, range(Nn)))\n",
    "\n",
    "    return _write_outfile(A)"
   ]
  },
  {
   "cell_type": "markdown",
   "metadata": {},
   "source": [
    "## Analysis"
   ]
  },
  {
   "cell_type": "code",
   "execution_count": 72,
   "metadata": {
    "ExecuteTime": {
     "end_time": "2017-03-14T10:00:12.700136",
     "start_time": "2017-03-14T10:00:12.680166"
    },
    "collapsed": true
   },
   "outputs": [],
   "source": [
    "def layer_mixing(layer_network, layer_partition):\n",
    "    layer_partition_inv = invert_partition(layer_partition)\n",
    "\n",
    "    nodes_df = set(layer_network['user1'].values) | set(layer_network['user2'].values)\n",
    "    nodes_lc = set([v for arr in layer_partition.values() for v in arr])\n",
    "\n",
    "    if nodes_df != nodes_lc:\n",
    "        print nodes_df\n",
    "        print nodes_lc\n",
    "        print [k for k, v in Counter(list(nodes_df) + list(nodes_lc)).items() if v == 1]\n",
    "        print \"Warning: nodes_df != nodes_lc\"\n",
    "        pass\n",
    "\n",
    "    score = []\n",
    "    for ni in nodes_df:\n",
    "        endpoints = list(layer_network[(layer_network['user1'] == ni)]['user2'].values) + \\\n",
    "                    list(layer_network[(layer_network['user2'] == ni)]['user1'].values)\n",
    "        \n",
    "        # Compute in-out mixing\n",
    "        connected_communities = Counter(\n",
    "            'in' if layer_partition_inv[nj] == layer_partition_inv[ni] else\n",
    "            'out' for nj in endpoints\n",
    "        )\n",
    "        score.append(connected_communities['out'] * 1.0 / sum(connected_communities.values()))\n",
    "    \n",
    "    return score\n",
    "\n",
    "def compute_entropy_and_overlap(communities):\n",
    "    entropy, overlap = [], []\n",
    "    for n, coms in communities.items():\n",
    "        coms_count = Counter(coms).values()\n",
    "        entropy.append(shannon_entropy(coms_count))\n",
    "        overlap.append(len(coms_count))\n",
    "    return entropy, overlap"
   ]
  },
  {
   "cell_type": "markdown",
   "metadata": {},
   "source": [
    "## Not used"
   ]
  },
  {
   "cell_type": "code",
   "execution_count": null,
   "metadata": {
    "collapsed": true,
    "run_control": {
     "frozen": false,
     "read_only": false
    }
   },
   "outputs": [],
   "source": []
  },
  {
   "cell_type": "markdown",
   "metadata": {},
   "source": [
    "# Load and preprocess data"
   ]
  },
  {
   "cell_type": "markdown",
   "metadata": {},
   "source": [
    "## Sensible DTU"
   ]
  },
  {
   "cell_type": "markdown",
   "metadata": {},
   "source": [
    "### Load"
   ]
  },
  {
   "cell_type": "code",
   "execution_count": 249,
   "metadata": {
    "ExecuteTime": {
     "end_time": "2017-03-14T13:17:36.231615",
     "start_time": "2017-03-14T13:17:33.490168"
    },
    "collapsed": true
   },
   "outputs": [],
   "source": [
    "network_sensible = load_binned_network('1month_data_new','10mins_short_new'); fof = 2"
   ]
  },
  {
   "cell_type": "markdown",
   "metadata": {},
   "source": [
    "### Format as list of DFs"
   ]
  },
  {
   "cell_type": "code",
   "execution_count": 248,
   "metadata": {
    "ExecuteTime": {
     "end_time": "2017-03-14T13:16:01.744588",
     "start_time": "2017-03-14T13:15:58.849223"
    },
    "collapsed": false,
    "run_control": {
     "frozen": false,
     "read_only": false
    }
   },
   "outputs": [],
   "source": [
    "# Make slices for a span of days (e.g. monday to friday)\n",
    "# The below configuration gives exactly the three-week period in january 2014\n",
    "spd = 288 / fof  # slices per day\n",
    "smargin_start = 0#spd / 3\n",
    "smargin_end = 0#spd / 3 - 6\n",
    "dow = 0\n",
    "\n",
    "network1 = [\n",
    "    l\n",
    "    for d in range(0, 5) + range(7, 12) + range(14, 19)\n",
    "    for l in network_sensible[spd*(dow+5+d)+smargin_start:spd*(dow+6+d)-smargin_end]\n",
    "]"
   ]
  },
  {
   "cell_type": "markdown",
   "metadata": {},
   "source": [
    "### Format as pajek"
   ]
  },
  {
   "cell_type": "code",
   "execution_count": 250,
   "metadata": {
    "ExecuteTime": {
     "end_time": "2017-03-14T13:20:10.218333",
     "start_time": "2017-03-14T13:19:09.645706"
    },
    "collapsed": true
   },
   "outputs": [],
   "source": [
    "layer_indices1 = [l for l, n in enumerate(network1) if n.shape[0] > 0]\n",
    "A1 = build_adjacency_tensor([n for n in network1 if n.shape[0] > 0], index=None)\n",
    "network_pajek1 = write_pajek(A1)"
   ]
  },
  {
   "cell_type": "markdown",
   "metadata": {},
   "source": [
    "## Workplace"
   ]
  },
  {
   "cell_type": "markdown",
   "metadata": {},
   "source": [
    "### Load"
   ]
  },
  {
   "cell_type": "code",
   "execution_count": 7,
   "metadata": {
    "ExecuteTime": {
     "end_time": "2017-03-14T09:15:08.806063",
     "start_time": "2017-03-14T09:15:08.764865"
    },
    "collapsed": false,
    "run_control": {
     "frozen": false,
     "read_only": false
    }
   },
   "outputs": [
    {
     "name": "stdout",
     "output_type": "stream",
     "text": [
      "3\n"
     ]
    }
   ],
   "source": [
    "# Load\n",
    "network_workplace = pd.read_csv(\"data/workplace/tij_InVS.txt\", delimiter=\" \", names=[\"timestamp\", 'user1', 'user2'])\n",
    "\n",
    "# Minimum timestamp is a thursday\n",
    "print dt.fromtimestamp(network_workplace['timestamp'].min()).weekday()\n",
    "\n",
    "# Shift data by 4 days to make first day a monday\n",
    "network_workplace['timestamp'] = np.array([dt.fromtimestamp(ts) for ts in (network_workplace['timestamp'] + 86400 * 4)])"
   ]
  },
  {
   "cell_type": "markdown",
   "metadata": {},
   "source": [
    "### Get predefined partitions"
   ]
  },
  {
   "cell_type": "code",
   "execution_count": 8,
   "metadata": {
    "ExecuteTime": {
     "end_time": "2017-03-14T09:15:08.942887",
     "start_time": "2017-03-14T09:15:08.923462"
    },
    "collapsed": false,
    "run_control": {
     "frozen": false,
     "read_only": false
    }
   },
   "outputs": [],
   "source": [
    "workplace_teams = pd.read_csv(\"data/workplace/metadata_inVS13.txt\", delimiter=\"\\t\", names=[\"employee\", \"team\"])\n",
    "\n",
    "employee_team = {}\n",
    "team_employee = defaultdict(set)\n",
    "for _, row in workplace_teams.iterrows():\n",
    "    employee_team[row['employee']] = row['team']\n",
    "    team_employee[row['team']].add(row['employee'])\n",
    "team_employee = default_to_regular(team_employee)    "
   ]
  },
  {
   "cell_type": "markdown",
   "metadata": {},
   "source": [
    "### Format as list of DFs"
   ]
  },
  {
   "cell_type": "code",
   "execution_count": 10,
   "metadata": {
    "ExecuteTime": {
     "end_time": "2017-03-14T09:15:11.584696",
     "start_time": "2017-03-14T09:15:09.797156"
    },
    "collapsed": true,
    "run_control": {
     "frozen": false,
     "read_only": false
    }
   },
   "outputs": [],
   "source": [
    "# Layer width in minutes\n",
    "layer_size = 10\n",
    "\n",
    "# Layer time bins from lower of first to (and including) upper of last\n",
    "lower_bin = int(network_workplace['timestamp'].min().date().strftime(\"%s\"))\n",
    "upper_bin = int(network_workplace['timestamp'].max().date().strftime(\"%s\")) + 86400\n",
    "bins = [dt.fromtimestamp(ts) for ts in np.arange(lower_bin, upper_bin+layer_size*60, layer_size*60)]\n",
    "\n",
    "# List of pandas dataframes, each a temporal network layer\n",
    "network2 = [\n",
    "    network_workplace[(network_workplace['timestamp'] > low) & (network_workplace['timestamp'] < high)] for low, high in zip(bins[:-1], bins[1:])\n",
    "]\n",
    "\n",
    "# network2[54]    # first monday\n",
    "# network2[687]   # first friday\n",
    "# network2[1700]  # last"
   ]
  },
  {
   "cell_type": "markdown",
   "metadata": {},
   "source": [
    "### Format as pajek"
   ]
  },
  {
   "cell_type": "code",
   "execution_count": 11,
   "metadata": {
    "ExecuteTime": {
     "end_time": "2017-03-14T09:15:15.478458",
     "start_time": "2017-03-14T09:15:14.115229"
    },
    "collapsed": true,
    "run_control": {
     "frozen": false,
     "read_only": false
    }
   },
   "outputs": [],
   "source": [
    "layer_indices2 = [l for l, n in enumerate(network2) if n.shape[0] > 0]\n",
    "A2 = build_adjacency_tensor([n for n in network2 if n.shape[0] > 0], index=None)\n",
    "network_pajek2 = write_pajek(A2)"
   ]
  },
  {
   "cell_type": "markdown",
   "metadata": {},
   "source": [
    "# Analysis"
   ]
  },
  {
   "cell_type": "markdown",
   "metadata": {},
   "source": [
    "## Sensible DTU"
   ]
  },
  {
   "cell_type": "code",
   "execution_count": null,
   "metadata": {
    "ExecuteTime": {
     "start_time": "2017-03-14T12:25:28.868Z"
    },
    "collapsed": false
   },
   "outputs": [],
   "source": [
    "_, layer_commu_pred_JSL_1 = Infomap(\n",
    "    network_pajek1,\n",
    "    'output/',\n",
    "    '-i',\n",
    "    'multiplex',\n",
    "    '--multiplex-js-relax-rate', '0.25',\n",
    "    '--overlapping',\n",
    "    '--expanded',\n",
    "    '--clu',\n",
    "    '--two-level',\n",
    "    '-z'\n",
    ")\n",
    "\n",
    "_, layer_commu_pred_FL_1 = Infomap(\n",
    "    network_pajek1,\n",
    "    'output/',\n",
    "    '-i',\n",
    "    'multiplex',\n",
    "    '--multiplex-relax-rate', '0.25',\n",
    "    '--overlapping',\n",
    "    '--expanded',\n",
    "    '--clu',\n",
    "    '--two-level',\n",
    "    '-z'\n",
    ")\n",
    "\n",
    "_, layer_commu_pred_AL_1 = Infomap(\n",
    "    network_pajek1,\n",
    "    'output/',\n",
    "    '-i',\n",
    "    'multiplex',\n",
    "    '--multiplex-relax-rate', '0.25',\n",
    "    '--multiplex-relax-limit', '1',\n",
    "    '--overlapping',\n",
    "    '--expanded',\n",
    "    '--clu',\n",
    "    '--two-level',\n",
    "    '-z'\n",
    ")\n",
    "\n",
    "_, layer_commu_pred_NL_1 = Infomap(\n",
    "    network_pajek1,\n",
    "    'output/',\n",
    "    '-i',\n",
    "    'multiplex',\n",
    "    '--multiplex-relax-rate', '0.0',\n",
    "    '--multiplex-relax-limit', '1',\n",
    "    '--overlapping',\n",
    "    '--expanded',\n",
    "    '--clu',\n",
    "    '--two-level',\n",
    "    '-z'\n",
    ")\n",
    "\n",
    "\n",
    "\n",
    "# Format\n",
    "layer_commu_pred_JSL_1 = dict((layer_indices1[k], v) for k, v in layer_commu_pred_JSL_1.items())\n",
    "layer_commu_pred_FL_1 = dict((layer_indices1[k], v) for k, v in layer_commu_pred_FL_1.items())\n",
    "layer_commu_pred_AL_1 = dict((layer_indices1[k], v) for k, v in layer_commu_pred_AL_1.items())\n",
    "layer_commu_pred_NL_1 = dict((layer_indices1[k], v) for k, v in layer_commu_pred_NL_1.items())\n",
    "\n",
    "## Remove FL extra nodes\n",
    "for l, partition in layer_commu_pred_FL_1.items():\n",
    "    nodes_l = set(network1[l]['user1'].values) | set(network1[l]['user2'].values)\n",
    "    layer_commu_pred_FL_1[l] = invert_partition(dict((n, c) for n, c in invert_partition(partition).items() if n in nodes_l))"
   ]
  },
  {
   "cell_type": "markdown",
   "metadata": {},
   "source": [
    "## Workplace"
   ]
  },
  {
   "cell_type": "code",
   "execution_count": 28,
   "metadata": {
    "ExecuteTime": {
     "end_time": "2017-03-14T09:40:23.347363",
     "start_time": "2017-03-14T09:39:41.137023"
    },
    "collapsed": false,
    "run_control": {
     "frozen": false,
     "read_only": false
    }
   },
   "outputs": [],
   "source": [
    "_, layer_commu_pred_JSL_2 = Infomap(\n",
    "    network_pajek2,\n",
    "    'output/',\n",
    "    '-i',\n",
    "    'multiplex',\n",
    "    '--multiplex-js-relax-rate', '0.25',\n",
    "    '--overlapping',\n",
    "    '--expanded',\n",
    "    '--clu',\n",
    "    '--pajek',\n",
    "    '--two-level',\n",
    "    '-z'\n",
    ")\n",
    "\n",
    "_, layer_commu_pred_FL_2 = Infomap(\n",
    "    network_pajek2,\n",
    "    'output/',\n",
    "    '-i',\n",
    "    'multiplex',\n",
    "    '--multiplex-relax-rate', '0.25',\n",
    "    '--overlapping',\n",
    "    '--expanded',\n",
    "    '--clu',\n",
    "    '--pajek',\n",
    "    '--two-level',\n",
    "    '-z'\n",
    ")\n",
    "\n",
    "_, layer_commu_pred_AL_2 = Infomap(\n",
    "    network_pajek2,\n",
    "    'output/',\n",
    "    '-i',\n",
    "    'multiplex',\n",
    "    '--multiplex-relax-rate', '0.25',\n",
    "    '--multiplex-relax-limit', '1',\n",
    "    '--overlapping',\n",
    "    '--expanded',\n",
    "    '--clu',\n",
    "    '--pajek',\n",
    "    '--two-level',\n",
    "    '-z'\n",
    ")\n",
    "\n",
    "_, layer_commu_pred_NL_2 = Infomap(\n",
    "    network_pajek2,\n",
    "    'output/',\n",
    "    '-i',\n",
    "    'multiplex',\n",
    "    '--multiplex-relax-rate', '0.0',\n",
    "    '--multiplex-relax-limit', '1',\n",
    "    '--overlapping',\n",
    "    '--expanded',\n",
    "    '--clu',\n",
    "    '--pajek',\n",
    "    '--two-level',\n",
    "    '-z'\n",
    ")\n",
    "\n",
    "\n",
    "\n",
    "# Format\n",
    "layer_commu_pred_JSL_2 = dict((layer_indices2[k], v) for k, v in layer_commu_pred_JSL_2.items())\n",
    "layer_commu_pred_FL_2 = dict((layer_indices2[k], v) for k, v in layer_commu_pred_FL_2.items())\n",
    "layer_commu_pred_AL_2 = dict((layer_indices2[k], v) for k, v in layer_commu_pred_AL_2.items())\n",
    "layer_commu_pred_NL_2 = dict((layer_indices2[k], v) for k, v in layer_commu_pred_NL_2.items())\n",
    "\n",
    "## Remove FL extra nodes\n",
    "for l, partition in layer_commu_pred_FL_2.items():\n",
    "    nodes_l = set(network2[l]['user1'].values) | set(network2[l]['user2'].values)\n",
    "    layer_commu_pred_FL_2[l] = invert_partition(dict((n, c) for n, c in invert_partition(partition).items() if n in nodes_l))"
   ]
  },
  {
   "cell_type": "markdown",
   "metadata": {},
   "source": [
    "### Degree of mixing"
   ]
  },
  {
   "cell_type": "code",
   "execution_count": 24,
   "metadata": {
    "ExecuteTime": {
     "end_time": "2017-03-14T09:28:30.423969",
     "start_time": "2017-03-14T09:24:33.929798"
    },
    "collapsed": false,
    "run_control": {
     "frozen": false,
     "read_only": false
    }
   },
   "outputs": [
    {
     "name": "stdout",
     "output_type": "stream",
     "text": [
      "Iter 2... start\n",
      "Iter 1... start\n",
      "Iter 3... start\n",
      "Iter 4... start\n",
      "Iter 6... start\n",
      "Iter 5... start\n",
      "Iter 0... start\n",
      "Iter 7... start\n",
      "set([448, 131, 134, 778, 267, 845, 271, 533, 150, 335, 285, 222, 223, 242, 50, 499, 116, 119, 762, 123, 253])\n",
      "set([448, 131, 134, 335, 778, 267, 845, 271, 50, 242, 499, 116, 533, 150, 119, 762, 123, 285, 222, 223])\n",
      "[253]\n",
      "Warning: nodes_df != nodes_lc\n",
      "Iter 2... failed\n",
      "Iter 8... start\n",
      "Iter 0... done\n",
      "Iter 9... start\n",
      "Iter 5... done\n",
      "Iter 10... start\n",
      "Iter 6... done\n",
      "Iter 11... start\n",
      "Iter 7... done\n",
      "Iter 12... start\n",
      "Iter 1... done\n",
      "Iter 13... start\n",
      "Iter 3... done\n",
      "Iter 14... start\n",
      "Iter 4... done\n",
      "Iter 15... start\n",
      "Iter 8... done\n",
      "Iter 11... done\n",
      "Iter 9... done\n",
      "Iter 10... done\n",
      "Iter 12... done\n",
      "Iter 13... done\n",
      "Iter 14... done\n",
      "Iter 15... done\n"
     ]
    }
   ],
   "source": [
    "def worker(_iter):\n",
    "    \n",
    "    print \"Iter %d... start\" % _iter\n",
    "    _, layer_commu_pred_JSL_2 = Infomap(\n",
    "        network_pajek2,\n",
    "        'output/',\n",
    "        '-i',\n",
    "        'multiplex',\n",
    "        '--multiplex-js-relax-rate', '0.25',\n",
    "        '--overlapping',\n",
    "        '--expanded',\n",
    "        '--clu',\n",
    "        '--pajek',\n",
    "        '--two-level',\n",
    "        '-z',\n",
    "        'pid_%d' % random.randint(0, 100000000)\n",
    "    )\n",
    "\n",
    "    _, layer_commu_pred_FL_2 = Infomap(\n",
    "        network_pajek2,\n",
    "        'output/',\n",
    "        '-i',\n",
    "        'multiplex',\n",
    "        '--multiplex-relax-rate', '0.25',\n",
    "        '--overlapping',\n",
    "        '--expanded',\n",
    "        '--clu',\n",
    "        '--pajek',\n",
    "        '--two-level',\n",
    "        '-z',\n",
    "        'pid_%d' % random.randint(0, 100000000)\n",
    "    )a\n",
    "\n",
    "    # Format\n",
    "    layer_commu_pred_JSL_2 = dict((layer_indices2[k], v) for k, v in layer_commu_pred_JSL_2.items())\n",
    "    layer_commu_pred_FL_2 = dict((layer_indices2[k], v) for k, v in layer_commu_pred_FL_2.items())\n",
    "\n",
    "    # Remove FL extra nodes\n",
    "    for l, partition in layer_commu_pred_FL_2.items():\n",
    "        nodes_l = set(network2[l]['user1'].values) | set(network2[l]['user2'].values)\n",
    "        layer_commu_pred_FL_2[l] = invert_partition(dict((n, c) for n, c in invert_partition(partition).items() if n in nodes_l))\n",
    "    \n",
    "    # Compute mixing. May fail\n",
    "    average_mixing_JSL, average_mixing_FL = [], []\n",
    "    try:\n",
    "        for l, layer_partition in sorted(layer_commu_pred_JSL_2.items(), key=lambda (k, v): k):\n",
    "            average_mixing_JSL.append(np.mean(layer_mixing(network2[l], layer_partition)))\n",
    "        for l, layer_partition in sorted(layer_commu_pred_FL_2.items(), key=lambda (k, v): k):\n",
    "            average_mixing_FL.append(np.mean(layer_mixing(network2[l], layer_partition)))\n",
    "        print \"Iter %d... done\" % _iter\n",
    "    except KeyError:\n",
    "        print \"Iter %d... failed\" % _iter\n",
    "    \n",
    "    return average_mixing_JSL, average_mixing_FL\n",
    "\n",
    "data = range(16)\n",
    "\n",
    "p = Pool(8 if len(data) > 8 else len(data))\n",
    "res = p.map(worker, data)\n",
    "p.close()\n",
    "\n",
    "#mixing_JSL_arr, mixing_FL_arr = [], []\n",
    "for mixing_JSL, mixing_FL in res:\n",
    "    mixing_JSL_arr.extend(mixing_JSL)\n",
    "    mixing_FL_arr.extend(mixing_FL)"
   ]
  },
  {
   "cell_type": "code",
   "execution_count": 83,
   "metadata": {
    "ExecuteTime": {
     "end_time": "2017-03-14T10:05:25.134530",
     "start_time": "2017-03-14T10:05:24.432666"
    },
    "collapsed": false,
    "run_control": {
     "frozen": false,
     "read_only": false
    }
   },
   "outputs": [
    {
     "data": {
      "image/png": "[encoded data removed]",
      "text/plain": [
       "<matplotlib.figure.Figure at 0x111f1add0>"
      ]
     },
     "metadata": {},
     "output_type": "display_data"
    }
   ],
   "source": [
    "plt.figure(figsize=(3.42/2, 1.2), frameon=False)\n",
    "\n",
    "# FL histogram\n",
    "v_FL, b_FL = np.histogram(mixing_FL_arr, bins=np.linspace(0, 1, 11), normed=True)\n",
    "plt.step(b_FL, [v_FL[0]] + list(v_FL), where='pre', color=\"#3498db\", lw=2)\n",
    "b_FL_step, v_FL_step = get_x_y_steps(b_FL, [v_FL[0]] + list(v_FL), where=\"pre\")\n",
    "plt.fill_between(b_FL_step, v_FL_step, color=\"#3498db\", alpha=0.5, label=\"FL\")\n",
    "\n",
    "# JSL histogram\n",
    "v_JSL, b_JSL = np.histogram(mixing_JSL_arr, bins=np.linspace(0, 1, 11), normed=True)\n",
    "plt.step(b_JSL, [v_JSL[0]] + list(v_JSL), where='pre', color=\"#e74c3c\", lw=2)\n",
    "b_JSL_step, v_JSL_step = get_x_y_steps(b_JSL, [v_JSL[0]] + list(v_JSL), where=\"pre\")\n",
    "plt.fill_between(b_JSL_step, v_JSL_step, color=\"#e74c3c\", alpha=0.5, label=\"JSL\")\n",
    "\n",
    "plt.xlabel(\"$\\mu$\")\n",
    "plt.yscale(\"log\")\n",
    "\n",
    "plt.legend(frameon=False)\n",
    "plt.savefig(\"figures/mixing_coef_distribution_workplace.pdf\")\n",
    "plt.show()"
   ]
  },
  {
   "cell_type": "markdown",
   "metadata": {
    "collapsed": true,
    "run_control": {
     "frozen": false,
     "read_only": false
    }
   },
   "source": [
    "### Community overlap"
   ]
  },
  {
   "cell_type": "code",
   "execution_count": 111,
   "metadata": {
    "ExecuteTime": {
     "end_time": "2017-03-14T10:18:07.543856",
     "start_time": "2017-03-14T10:18:07.531860"
    },
    "collapsed": false
   },
   "outputs": [],
   "source": [
    "communities_JSL_2 = node_communities(layer_commu_pred_JSL_2)\n",
    "communities_FL_2 = node_communities(layer_commu_pred_FL_2)\n",
    "communities_AL_2 = node_communities(layer_commu_pred_AL_2)\n",
    "communities_NL_2 = node_communities(layer_commu_pred_NL_2)"
   ]
  },
  {
   "cell_type": "code",
   "execution_count": 112,
   "metadata": {
    "ExecuteTime": {
     "end_time": "2017-03-14T10:18:27.574777",
     "start_time": "2017-03-14T10:18:27.532486"
    },
    "collapsed": false
   },
   "outputs": [],
   "source": [
    "entropy_JSL_2, overlap_JSL_2 = compute_entropy_and_overlap(communities_JSL_2)\n",
    "entropy_FL_2, overlap_FL_2 = compute_entropy_and_overlap(communities_FL_2)\n",
    "entropy_AL_2, overlap_AL_2 = compute_entropy_and_overlap(communities_AL_2)\n",
    "entropy_NL_2, overlap_NL_2 = compute_entropy_and_overlap(communities_NL_2)"
   ]
  },
  {
   "cell_type": "code",
   "execution_count": 160,
   "metadata": {
    "ExecuteTime": {
     "end_time": "2017-03-14T10:37:20.808903",
     "start_time": "2017-03-14T10:37:20.565800"
    },
    "collapsed": false
   },
   "outputs": [
    {
     "data": {
      "image/png": "[encoded data removed]",
      "text/plain": [
       "<matplotlib.figure.Figure at 0x111e49c90>"
      ]
     },
     "metadata": {},
     "output_type": "display_data"
    }
   ],
   "source": [
    "alpha_JSL_2, beta_JSL_2, loc_JSL_2, scale_JSL_2 = sp.stats.beta.fit(overlap_JSL_2)\n",
    "alpha_FL_2, beta_FL_2, loc_FL_2, scale_FL_2 = sp.stats.beta.fit(overlap_FL_2)\n",
    "\n",
    "overlap_fit_samples_JSL_2 = sp.stats.beta.rvs(alpha_JSL_2, beta_JSL_2, loc_JSL_2, scale_JSL_2, size=10000)\n",
    "overlap_fit_samples_FL_2 = sp.stats.beta.rvs(alpha_FL_2, beta_FL_2, loc_FL_2, scale_FL_2, size=10000)\n",
    "\n",
    "\n",
    "plt.figure(figsize=(3.42/2, 1.2), frameon=False)\n",
    "\n",
    "# FL histogram\n",
    "v_FL, b_FL = np.histogram(overlap_fit_samples_FL_2, bins=np.linspace(0, 30, 13), normed=True)\n",
    "plt.step(b_FL, [v_FL[0]] + list(v_FL), where='pre', color=\"#3498db\", lw=2)\n",
    "b_FL_step, v_FL_step = get_x_y_steps(b_FL, [v_FL[0]] + list(v_FL), where=\"pre\")\n",
    "plt.fill_between(b_FL_step, v_FL_step, color=\"#3498db\", alpha=0.5, label=\"FL\")\n",
    "\n",
    "# JSL histogram\n",
    "v_JSL, b_JSL = np.histogram(overlap_fit_samples_JSL_2, bins=np.linspace(0, 30, 13), normed=True)\n",
    "plt.step(b_JSL, [v_JSL[0]] + list(v_JSL), where='pre', color=\"#e74c3c\", lw=2)\n",
    "b_JSL_step, v_JSL_step = get_x_y_steps(b_JSL, [v_JSL[0]] + list(v_JSL), where=\"pre\")\n",
    "plt.fill_between(b_JSL_step, v_JSL_step, color=\"#e74c3c\", alpha=0.5, label=\"JSL\")\n",
    "\n",
    "# AL histogram\n",
    "# v_AL, b_AL = np.histogram(overlap_AL_2, normed=True)\n",
    "# plt.step(b_AL, [v_AL[0]] + list(v_AL), where='pre', color=\"#1abc9c\", lw=2)\n",
    "# b_AL_step, v_AL_step = get_x_y_steps(b_AL, [v_AL[0]] + list(v_AL), where=\"pre\")\n",
    "# plt.fill_between(b_AL_step, v_AL_step, color=\"#1abc9c\", alpha=0.5, label=\"AL\")\n",
    "\n",
    "# NL histogram\n",
    "# v_NL, b_NL = np.histogram(overlap_NL_2, normed=True)\n",
    "# plt.step(b_NL, [v_NL[0]] + list(v_NL), where='pre', color=\"#f1c40f\", lw=2)\n",
    "# b_NL_step, v_NL_step = get_x_y_steps(b_NL, [v_NL[0]] + list(v_NL), where=\"pre\")\n",
    "# plt.fill_between(b_NL_step, v_NL_step, color=\"#f1c40f\", alpha=0.5, label=\"NL\")\n",
    "\n",
    "plt.xlabel(\"overlap\".capitalize())\n",
    "\n",
    "plt.legend(frameon=False)\n",
    "#plt.savefig(\"figures/overlap_distribution_workplace.pdf\")\n",
    "plt.show()"
   ]
  },
  {
   "cell_type": "code",
   "execution_count": 242,
   "metadata": {
    "ExecuteTime": {
     "end_time": "2017-03-14T11:32:48.391753",
     "start_time": "2017-03-14T11:32:47.690428"
    },
    "collapsed": false
   },
   "outputs": [
    {
     "data": {
      "image/png": "[encoded data removed]",
      "text/plain": [
       "<matplotlib.figure.Figure at 0x110dd6590>"
      ]
     },
     "metadata": {},
     "output_type": "display_data"
    }
   ],
   "source": [
    "alpha_JSL_2, beta_JSL_2, loc_JSL_2, scale_JSL_2 = sp.stats.beta.fit(overlap_JSL_2)\n",
    "alpha_FL_2, beta_FL_2, loc_FL_2, scale_FL_2 = sp.stats.beta.fit(overlap_FL_2)\n",
    "alpha_AL_2, beta_AL_2, loc_AL_2, scale_AL_2 = sp.stats.beta.fit(overlap_AL_2)\n",
    "alpha_NL_2, beta_NL_2, loc_NL_2, scale_NL_2 = sp.stats.beta.fit(overlap_NL_2)\n",
    "\n",
    "overlap_fit_samples_JSL_2 = sp.stats.beta.rvs(alpha_JSL_2, beta_JSL_2, loc_JSL_2, scale_JSL_2, size=10000)\n",
    "overlap_fit_samples_FL_2 = sp.stats.beta.rvs(alpha_FL_2, beta_FL_2, loc_FL_2, scale_FL_2, size=10000)\n",
    "overlap_fit_samples_AL_2 = sp.stats.beta.rvs(alpha_AL_2, beta_AL_2, loc_AL_2, scale_AL_2, size=10000)\n",
    "overlap_fit_samples_NL_2 = sp.stats.beta.rvs(alpha_NL_2, beta_NL_2, loc_NL_2, scale_NL_2, size=10000)\n",
    "\n",
    "plt.figure(figsize=(3.42/2, 2.4/4), frameon=False)\n",
    "\n",
    "# FL histogram\n",
    "v_FL, b_FL = np.histogram(overlap_fit_samples_FL_2, bins=np.linspace(0, 30, 13), normed=True)\n",
    "plt.step(b_FL, [v_FL[0]] + list(v_FL), where='pre', color=\"#3498db\", lw=2)\n",
    "b_FL_step, v_FL_step = get_x_y_steps(b_FL, [v_FL[0]] + list(v_FL), where=\"pre\")\n",
    "plt.fill_between(b_FL_step, v_FL_step, color=\"#3498db\", alpha=0.5, label=\"FL\")\n",
    "\n",
    "# JSL histogram\n",
    "v_JSL, b_JSL = np.histogram(overlap_fit_samples_JSL_2, bins=np.linspace(0, 30, 13), normed=True)\n",
    "plt.step(b_JSL, [v_JSL[0]] + list(v_JSL), where='pre', color=\"#e74c3c\", lw=2)\n",
    "b_JSL_step, v_JSL_step = get_x_y_steps(b_JSL, [v_JSL[0]] + list(v_JSL), where=\"pre\")\n",
    "plt.fill_between(b_JSL_step, v_JSL_step, color=\"#e74c3c\", alpha=0.5, label=\"JSL\")\n",
    "\n",
    "# AL histogram\n",
    "v_AL, b_AL = np.histogram(overlap_fit_samples_AL_2, normed=True)#, bins=np.logspace(0, np.log10(200), 15))\n",
    "plt.step(b_AL, [v_AL[0]] + list(v_AL), where='pre', color=\"#1abc9c\", lw=2)\n",
    "b_AL_step, v_AL_step = get_x_y_steps(b_AL, [v_AL[0]] + list(v_AL), where=\"pre\")\n",
    "plt.fill_between(b_AL_step, v_AL_step, color=\"#1abc9c\", alpha=0.5, label=\"AL\")\n",
    "\n",
    "# # NL histogram\n",
    "v_NL, b_NL = np.histogram(overlap_fit_samples_NL_2, normed=True)\n",
    "plt.step(b_NL, [v_NL[0]] + list(v_NL), where='pre', color=\"#f1c40f\", lw=2)\n",
    "b_NL_step, v_NL_step = get_x_y_steps(b_NL, [v_NL[0]] + list(v_NL), where=\"pre\")\n",
    "plt.fill_between(b_NL_step, v_NL_step, color=\"#f1c40f\", alpha=0.5, label=\"NL\")\n",
    "\n",
    "plt.yticks([0, 0.05, 0.1])\n",
    "plt.xlabel(\"overlap\".capitalize())\n",
    "plt.xlim(0, 80)\n",
    "\n",
    "plt.legend(frameon=False)\n",
    "plt.savefig(\"figures/overlap_distribution_workplace_all_distr_beta_fit_wide.pdf\")\n",
    "plt.show()"
   ]
  },
  {
   "cell_type": "code",
   "execution_count": 237,
   "metadata": {
    "ExecuteTime": {
     "end_time": "2017-03-14T11:24:13.822024",
     "start_time": "2017-03-14T11:24:13.153436"
    },
    "collapsed": false
   },
   "outputs": [
    {
     "data": {
      "image/png": "[encoded data removed]",
      "text/plain": [
       "<matplotlib.figure.Figure at 0x111e49b50>"
      ]
     },
     "metadata": {},
     "output_type": "display_data"
    }
   ],
   "source": [
    "alpha_JSL_2, beta_JSL_2, loc_JSL_2, scale_JSL_2 = sp.stats.beta.fit(entropy_JSL_2)\n",
    "alpha_FL_2, beta_FL_2, loc_FL_2, scale_FL_2 = sp.stats.beta.fit(entropy_FL_2)\n",
    "alpha_AL_2, beta_AL_2, loc_AL_2, scale_AL_2 = sp.stats.beta.fit(entropy_AL_2)\n",
    "alpha_NL_2, beta_NL_2, loc_NL_2, scale_NL_2 = sp.stats.beta.fit(entropy_NL_2)\n",
    "\n",
    "entropy_fit_samples_JSL_2 = sp.stats.beta.rvs(alpha_JSL_2, beta_JSL_2, loc_JSL_2, scale_JSL_2, size=10000)\n",
    "entropy_fit_samples_FL_2 = sp.stats.beta.rvs(alpha_FL_2, beta_FL_2, loc_FL_2, scale_FL_2, size=10000)\n",
    "entropy_fit_samples_AL_2 = sp.stats.beta.rvs(alpha_AL_2, beta_AL_2, loc_AL_2, scale_AL_2, size=10000)\n",
    "entropy_fit_samples_NL_2 = sp.stats.beta.rvs(alpha_NL_2, beta_NL_2, loc_NL_2, scale_NL_2, size=10000)\n",
    "\n",
    "plt.figure(figsize=(3.42/2, 2.4/4), frameon=False)\n",
    "\n",
    "# JSL histogram\n",
    "v_JSL, b_JSL = np.histogram(entropy_fit_samples_JSL_2, bins=np.linspace(0, 8, 17), normed=True)\n",
    "plt.step(b_JSL, [v_JSL[0]] + list(v_JSL), where='pre', color=\"#e74c3c\", lw=2)\n",
    "b_JSL_step, v_JSL_step = get_x_y_steps(b_JSL, [v_JSL[0]] + list(v_JSL), where=\"pre\")\n",
    "plt.fill_between(b_JSL_step, v_JSL_step, color=\"#e74c3c\", alpha=0.5, label=\"JSL\")\n",
    "\n",
    "# FL histogram\n",
    "v_FL, b_FL = np.histogram(entropy_fit_samples_FL_2, bins=np.linspace(0, 8, 17), normed=True)\n",
    "plt.step(b_FL, [v_FL[0]] + list(v_FL), where='pre', color=\"#3498db\", lw=2)\n",
    "b_FL_step, v_FL_step = get_x_y_steps(b_FL, [v_FL[0]] + list(v_FL), where=\"pre\")\n",
    "plt.fill_between(b_FL_step, v_FL_step, color=\"#3498db\", alpha=0.5, label=\"FL\")\n",
    "\n",
    "# AL histogram\n",
    "v_AL, b_AL = np.histogram(entropy_fit_samples_AL_2, bins=np.linspace(0, 8, 17), normed=True)\n",
    "plt.step(b_AL, [v_AL[0]] + list(v_AL), where='pre', color=\"#1abc9c\", lw=2)\n",
    "b_AL_step, v_AL_step = get_x_y_steps(b_AL, [v_AL[0]] + list(v_AL), where=\"pre\")\n",
    "plt.fill_between(b_AL_step, v_AL_step, color=\"#1abc9c\", alpha=0.5, label=\"AL\")\n",
    "\n",
    "# NL histogram\n",
    "v_NL, b_NL = np.histogram(entropy_fit_samples_NL_2, bins=np.linspace(0, 8, 17), normed=True)\n",
    "plt.step(b_NL, [v_NL[0]] + list(v_NL), where='pre', color=\"#f1c40f\", lw=2)\n",
    "b_NL_step, v_NL_step = get_x_y_steps(b_NL, [v_NL[0]] + list(v_NL), where=\"pre\")\n",
    "plt.fill_between(b_NL_step, v_NL_step, color=\"#f1c40f\", alpha=0.5, label=\"NL\")\n",
    "\n",
    "plt.xlabel(\"entropy\".capitalize())\n",
    "plt.xlim(0)\n",
    "\n",
    "#plt.legend(frameon=False)\n",
    "plt.savefig(\"figures/entropy_distribution_workplace_all_distr_beta_fit_wide.pdf\")\n",
    "plt.show()"
   ]
  },
  {
   "cell_type": "code",
   "execution_count": 228,
   "metadata": {
    "ExecuteTime": {
     "end_time": "2017-03-14T11:15:44.590102",
     "start_time": "2017-03-14T11:15:43.863755"
    },
    "collapsed": false
   },
   "outputs": [
    {
     "data": {
      "image/png": "[encoded data removed]",
      "text/plain": [
       "<matplotlib.figure.Figure at 0x111c3eed0>"
      ]
     },
     "metadata": {},
     "output_type": "display_data"
    }
   ],
   "source": [
    "alpha_JSL_2, beta_JSL_2, loc_JSL_2, scale_JSL_2 = sp.stats.beta.fit(entropy_JSL_2)\n",
    "alpha_FL_2, beta_FL_2, loc_FL_2, scale_FL_2 = sp.stats.beta.fit(entropy_FL_2)\n",
    "alpha_AL_2, beta_AL_2, loc_AL_2, scale_AL_2 = sp.stats.beta.fit(entropy_AL_2)\n",
    "alpha_NL_2, beta_NL_2, loc_NL_2, scale_NL_2 = sp.stats.beta.fit(entropy_NL_2)\n",
    "\n",
    "entropy_fit_samples_JSL_2 = sp.stats.beta.rvs(alpha_JSL_2, beta_JSL_2, loc_JSL_2, scale_JSL_2, size=10000)\n",
    "entropy_fit_samples_FL_2 = sp.stats.beta.rvs(alpha_FL_2, beta_FL_2, loc_FL_2, scale_FL_2, size=10000)\n",
    "entropy_fit_samples_AL_2 = sp.stats.beta.rvs(alpha_AL_2, beta_AL_2, loc_AL_2, scale_AL_2, size=10000)\n",
    "entropy_fit_samples_NL_2 = sp.stats.beta.rvs(alpha_NL_2, beta_NL_2, loc_NL_2, scale_NL_2, size=10000)\n",
    "\n",
    "plt.figure(figsize=(3.42, 1.2), frameon=False)\n",
    "\n",
    "# JSL histogram\n",
    "v_JSL, b_JSL = np.histogram(entropy_JSL_2, bins=np.linspace(0, 8, 17), normed=True)\n",
    "plt.step(b_JSL, [v_JSL[0]] + list(v_JSL), where='pre', color=\"#e74c3c\", lw=2)\n",
    "b_JSL_step, v_JSL_step = get_x_y_steps(b_JSL, [v_JSL[0]] + list(v_JSL), where=\"pre\")\n",
    "plt.fill_between(b_JSL_step, v_JSL_step, color=\"#e74c3c\", alpha=0.5, label=\"JSL\")\n",
    "\n",
    "# FL histogram\n",
    "v_FL, b_FL = np.histogram(entropy_FL_2, bins=np.linspace(0, 8, 17), normed=True)\n",
    "plt.step(b_FL, [v_FL[0]] + list(v_FL), where='pre', color=\"#3498db\", lw=2)\n",
    "b_FL_step, v_FL_step = get_x_y_steps(b_FL, [v_FL[0]] + list(v_FL), where=\"pre\")\n",
    "plt.fill_between(b_FL_step, v_FL_step, color=\"#3498db\", alpha=0.5, label=\"FL\")\n",
    "\n",
    "# AL histogram\n",
    "v_AL, b_AL = np.histogram(entropy_AL_2, bins=np.linspace(0, 8, 17), normed=True)\n",
    "plt.step(b_AL, [v_AL[0]] + list(v_AL), where='pre', color=\"#1abc9c\", lw=2)\n",
    "b_AL_step, v_AL_step = get_x_y_steps(b_AL, [v_AL[0]] + list(v_AL), where=\"pre\")\n",
    "plt.fill_between(b_AL_step, v_AL_step, color=\"#1abc9c\", alpha=0.5, label=\"AL\")\n",
    "\n",
    "# NL histogram\n",
    "v_NL, b_NL = np.histogram(entropy_NL_2, bins=np.linspace(0, 8, 17), normed=True)\n",
    "plt.step(b_NL, [v_NL[0]] + list(v_NL), where='pre', color=\"#f1c40f\", lw=2)\n",
    "b_NL_step, v_NL_step = get_x_y_steps(b_NL, [v_NL[0]] + list(v_NL), where=\"pre\")\n",
    "plt.fill_between(b_NL_step, v_NL_step, color=\"#f1c40f\", alpha=0.5, label=\"NL\")\n",
    "\n",
    "plt.xlabel(\"entropy\".capitalize())\n",
    "plt.xlim(0)\n",
    "\n",
    "plt.legend(frameon=False)\n",
    "#plt.savefig(\"figures/entropy_distribution_workplace.pdf\")\n",
    "plt.show()"
   ]
  },
  {
   "cell_type": "code",
   "execution_count": 187,
   "metadata": {
    "ExecuteTime": {
     "end_time": "2017-03-14T10:53:13.664510",
     "start_time": "2017-03-14T10:53:13.492766"
    },
    "collapsed": false
   },
   "outputs": [],
   "source": [
    "alpha_JSL_2, beta_JSL_2, loc_JSL_2, scale_JSL_2 = sp.stats.beta.fit(entropy_JSL_2)\n",
    "alpha_FL_2, beta_FL_2, loc_FL_2, scale_FL_2 = sp.stats.beta.fit(entropy_FL_2)"
   ]
  },
  {
   "cell_type": "code",
   "execution_count": 190,
   "metadata": {
    "ExecuteTime": {
     "end_time": "2017-03-14T10:54:14.363183",
     "start_time": "2017-03-14T10:54:14.202628"
    },
    "collapsed": false
   },
   "outputs": [
    {
     "data": {
      "text/plain": [
       "(array([  3.3186e-04,   1.8252e-03,   7.3010e-03,   2.4558e-02,   6.4050e-02,   1.8667e-01,\n",
       "          3.7716e-01,   5.3181e-01,   3.9376e-01,   7.1848e-02]),\n",
       " array([-1.5799, -0.9772, -0.3746,  0.2281,  0.8307,  1.4334,  2.0361,  2.6387,  3.2414,  3.844 ,\n",
       "         4.4467]),\n",
       " <a list of 10 Patch objects>)"
      ]
     },
     "execution_count": 190,
     "metadata": {},
     "output_type": "execute_result"
    },
    {
     "data": {
      "image/png": "[encoded data removed]",
      "text/plain": [
       "<matplotlib.figure.Figure at 0x111dcce90>"
      ]
     },
     "metadata": {},
     "output_type": "display_data"
    }
   ],
   "source": [
    "plt.hist(sp.stats.beta.rvs(alpha_FL_2, beta_FL_2, loc_FL_2, scale_FL_2, size=10000), normed=True)\n",
    "plt.hist(sp.stats.beta.rvs(alpha_JSL_2, beta_JSL_2, loc_JSL_2, scale_JSL_2, size=10000), normed=True)"
   ]
  },
  {
   "cell_type": "code",
   "execution_count": 181,
   "metadata": {
    "ExecuteTime": {
     "end_time": "2017-03-14T10:49:04.190589",
     "start_time": "2017-03-14T10:49:04.186429"
    },
    "collapsed": false
   },
   "outputs": [
    {
     "data": {
      "text/plain": [
       "0.73891232199722379"
      ]
     },
     "execution_count": 181,
     "metadata": {},
     "output_type": "execute_result"
    }
   ],
   "source": [
    "std"
   ]
  },
  {
   "cell_type": "code",
   "execution_count": null,
   "metadata": {
    "collapsed": true
   },
   "outputs": [],
   "source": []
  }
 ],
 "metadata": {
  "kernelspec": {
   "display_name": "Python 2",
   "language": "python",
   "name": "python2"
  },
  "language_info": {
   "codemirror_mode": {
    "name": "ipython",
    "version": 2
   },
   "file_extension": ".py",
   "mimetype": "text/x-python",
   "name": "python",
   "nbconvert_exporter": "python",
   "pygments_lexer": "ipython2",
   "version": "2.7.12"
  },
  "nav_menu": {},
  "toc": {
   "navigate_menu": true,
   "number_sections": true,
   "sideBar": true,
   "threshold": 6,
   "toc_cell": false,
   "toc_section_display": "block",
   "toc_window_display": true
  },
  "toc_position": {
   "height": "2204px",
   "left": "0px",
   "right": "988.003px",
   "top": "105px",
   "width": "213px"
  }
 },
 "nbformat": 4,
 "nbformat_minor": 1
}
