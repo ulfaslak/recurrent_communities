{
 "cells": [
  {
   "cell_type": "markdown",
   "metadata": {
    "run_control": {
     "frozen": false,
     "read_only": false
    }
   },
   "source": [
    "# Preamble"
   ]
  },
  {
   "cell_type": "markdown",
   "metadata": {},
   "source": [
    "## Imports"
   ]
  },
  {
   "cell_type": "code",
   "execution_count": 1,
   "metadata": {
    "ExecuteTime": {
     "end_time": "2017-03-13T14:50:52.065047",
     "start_time": "2017-03-13T14:50:50.798613"
    },
    "collapsed": true,
    "run_control": {
     "frozen": false,
     "read_only": false
    }
   },
   "outputs": [],
   "source": [
    "%matplotlib inline\n",
    "import matplotlib.pylab as plt\n",
    "import numpy as np\n",
    "import pandas as pd\n",
    "from datetime import datetime as dt\n",
    "from collections import Counter, defaultdict\n",
    "import subprocess\n",
    "import re\n",
    "import itertools\n",
    "from seaborn import apionly as sns\n",
    "import scipy as sp"
   ]
  },
  {
   "cell_type": "markdown",
   "metadata": {},
   "source": [
    "## Set layout params"
   ]
  },
  {
   "cell_type": "code",
   "execution_count": 2,
   "metadata": {
    "ExecuteTime": {
     "end_time": "2017-03-13T14:50:52.089974",
     "start_time": "2017-03-13T14:50:52.066579"
    },
    "collapsed": false,
    "run_control": {
     "frozen": false,
     "read_only": false
    }
   },
   "outputs": [],
   "source": [
    "plt.style.use([\"classic\"])\n",
    "np.set_printoptions(precision=4)\n",
    "np.core.arrayprint._line_width = 100\n",
    "\n",
    "class cmap_in_range:\n",
    "    \"\"\"Create map to range of colors inside given domain.\n",
    "\n",
    "    Example\n",
    "    -------\n",
    "    >>> cmap = cmap_in_range([0, 100])\n",
    "    >>> cmap(10)\n",
    "    (0.30392156862745101, 0.30315267411304353, 0.98816547208125938, 1.0)\n",
    "    \"\"\"\n",
    "    def __init__(self, cmap_domain, cmap_range=[0, 1], cmap_style='rainbow'):\n",
    "        self.cmap_domain = cmap_domain\n",
    "        self.cmap_range = cmap_range\n",
    "        self.m = interp1d(cmap_domain, cmap_range)\n",
    "        self.cmap = plt.get_cmap(cmap_style)\n",
    "        \n",
    "    def __call__(self, value):\n",
    "        if not self.cmap_domain[0] <= value <= self.cmap_domain[1]:\n",
    "            raise Exception(\"Value must be inside cmap_domain.\")\n",
    "        return self.cmap(self.m(value))\n",
    "\n",
    "def standarize_plot_parameters():\n",
    "    # http://scipy.github.io/old-wiki/pages/Cookbook/Matplotlib/LaTeX_Examples\n",
    "    # thesis has 417.47 points in column size, with 0.6\\columnwidth\n",
    "    golden_mean = (np.sqrt(5)-1.0)/2.0         # Aesthetic ratio\n",
    "    fig_width = 3.42/2  # width in inches\n",
    "    fig_height = 1.2       # height in inches\n",
    "    params = {\n",
    "        'axes.labelsize': 10,\n",
    "        'legend.fontsize': 7,\n",
    "        'xtick.labelsize': 8,\n",
    "        'ytick.labelsize': 8,\n",
    "        'figure.figsize': [fig_width, fig_height],\n",
    "        'font.family': 'STIXGeneral',  # close enough to LaTeX font\n",
    "        'font.size': 8,\n",
    "        'figure.frameon': False\n",
    "    }\n",
    "    plt.rcParams.update(params)\n",
    "\n",
    "standarize_plot_parameters()"
   ]
  },
  {
   "cell_type": "markdown",
   "metadata": {},
   "source": [
    "# Utility functions"
   ]
  },
  {
   "cell_type": "markdown",
   "metadata": {},
   "source": [
    "## General"
   ]
  },
  {
   "cell_type": "code",
   "execution_count": 85,
   "metadata": {
    "ExecuteTime": {
     "end_time": "2017-03-14T08:52:45.689178",
     "start_time": "2017-03-14T08:52:45.526969"
    },
    "collapsed": true,
    "run_control": {
     "frozen": false,
     "read_only": false
    }
   },
   "outputs": [],
   "source": [
    "def default_to_regular(d):\n",
    "    \"\"\"Recursively convert nested defaultdicts to nested dicts.\n",
    "\n",
    "    Source: http://stackoverflow.com/questions/26496831/how-to-convert-defaultdict-of-defaultdicts-of-defaultdicts-to-dict-of-dicts-o\n",
    "    \"\"\"\n",
    "    if isinstance(d, defaultdict):\n",
    "        d = {k: default_to_regular(v) for k, v in d.iteritems()}\n",
    "    return d\n",
    "\n",
    "def invert_partition(partition):\n",
    "    if type(partition.items()[0][1]) is list:\n",
    "        partition_inv = dict()\n",
    "        for c, nodes in partition.items():\n",
    "            for n in nodes:\n",
    "                partition_inv[n] = c\n",
    "    else:\n",
    "        partition_inv = defaultdict(list)\n",
    "        for n, c in partition.items():\n",
    "            partition_inv[c].append(n)\n",
    "    return default_to_regular(partition_inv)\n",
    "\n",
    "def smooth(y, box_pts):\n",
    "    \"\"\"Sliding box smoothening of noisy data.\n",
    "\n",
    "    Parameters\n",
    "    ----------\n",
    "    y : list\n",
    "        Noisy y-variable. Must be sorted wrt. time.\n",
    "\n",
    "    box_pts : int\n",
    "        Convolution box size. The greater the box the smoother the plot.\n",
    "\n",
    "    Output\n",
    "    ------\n",
    "    y_smooth : list\n",
    "        Smooth points to replace y. Same dimensions as y.\n",
    "\n",
    "    Example\n",
    "    -------\n",
    "    x = np.linspace(0,2*np.pi,100)\n",
    "    y = np.sin(x) + np.random.random(100) * 0.8\n",
    "\n",
    "    plt.plot(x, y,'o')\n",
    "    plt.plot(x, smooth(y, 18), 'r-', lw=2)\n",
    "    plt.plot(x, smooth(y,9), 'g-', lw=2)\n",
    "    \"\"\"\n",
    "    box = np.ones(box_pts)/box_pts\n",
    "    y_smooth = np.convolve(y, box, mode='same')\n",
    "    return y_smooth\n",
    "\n",
    "def plt_log_hist(v, **kwargs):\n",
    "    \"\"\"Make logplot of histogram.\"\"\"\n",
    "    # Handle input paramaters\n",
    "    bins = kwargs.get('bins', 10)\n",
    "    del kwargs['bins']\n",
    "    \n",
    "    # Construct log-bins\n",
    "    if min(v) == 0:\n",
    "        v = (np.array(v) + 0.01)\n",
    "    logbins = np.logspace(np.log10(min(v)), np.log10(max(v)), bins)\n",
    "    \n",
    "    # Plot\n",
    "    plt.hist(v, bins=logbins, **kwargs)\n",
    "    plt.xscale(\"log\")\n",
    "    \n",
    "def shannon_entropy(counts):\n",
    "    freq = np.array(counts) * 1.0 / np.sum(counts)\n",
    "    return -np.sum([f * np.log2(f) for f in freq if f != 0])\n",
    "\n",
    "def get_x_y_steps(x, y, where=\"post\"):\n",
    "    \"\"\"Plot step function from x and y coordinates.\"\"\"\n",
    "    if where == \"post\":\n",
    "        x_step = [x[0]] + [_x for tup in zip(x, x)[1:] for _x in tup]\n",
    "        y_step = [_y for tup in zip(y, y)[:-1] for _y in tup] + [y[-1]]\n",
    "    elif where == \"pre\":\n",
    "        x_step = [_x for tup in zip(x, x)[:-1] for _x in tup] + [x[-1]]\n",
    "        y_step = [y[0]] + [_y for tup in zip(y, y)[1:] for _y in tup]\n",
    "    return x_step, y_step\n",
    "\n",
    "def mean_confidence_interval(data, confidence=0.95):\n",
    "    def _isarray(obj):\n",
    "        try:\n",
    "            list(obj)\n",
    "            return True\n",
    "        except TypeError:\n",
    "            return False\n",
    "        \n",
    "    if _isarray(data[0]):\n",
    "        out_vals = []\n",
    "        for arr in data:\n",
    "            a = 1.0*np.array(arr)\n",
    "            h = sp.stats.sem(a) * sp.stats.t._ppf((1+confidence)/2., len(a)-1)\n",
    "            out_vals.append(h)\n",
    "    else:\n",
    "        a = 1.0*np.array(data)\n",
    "        h = sp.stats.sem(a) * sp.stats.t._ppf((1+confidence)/2., len(a)-1)\n",
    "        out_vals = h\n",
    "\n",
    "    return out_vals"
   ]
  },
  {
   "cell_type": "markdown",
   "metadata": {},
   "source": [
    "## Data"
   ]
  },
  {
   "cell_type": "code",
   "execution_count": 4,
   "metadata": {
    "ExecuteTime": {
     "end_time": "2017-03-13T14:50:52.638523",
     "start_time": "2017-03-13T14:50:52.635585"
    },
    "collapsed": true,
    "run_control": {
     "frozen": false,
     "read_only": false
    }
   },
   "outputs": [],
   "source": [
    "def load_binned_network(kind, filename):\n",
    "    with open('data/processed_data/binned_networks/'+kind+'/'+filename+'.pkl', 'r') as infile:\n",
    "        return pickle.load(infile)"
   ]
  },
  {
   "cell_type": "markdown",
   "metadata": {},
   "source": [
    "## Visualization"
   ]
  },
  {
   "cell_type": "code",
   "execution_count": 5,
   "metadata": {
    "ExecuteTime": {
     "end_time": "2017-03-13T14:50:52.980145",
     "start_time": "2017-03-13T14:50:52.943773"
    },
    "collapsed": true,
    "run_control": {
     "frozen": false,
     "read_only": false
    }
   },
   "outputs": [],
   "source": [
    "class cmap_in_range:\n",
    "    \"\"\"Create map to range of colors inside given domain.\n",
    "\n",
    "    Example\n",
    "    -------\n",
    "    >>> cmap = cmap_in_range([0, 100])\n",
    "    >>> cmap(10)\n",
    "    (0.30392156862745101, 0.30315267411304353, 0.98816547208125938, 1.0)\n",
    "    \"\"\"\n",
    "    def __init__(self, cmap_domain, cmap_range=[0, 1], cmap_style='rainbow'):\n",
    "        self.cmap_domain = cmap_domain\n",
    "        self.cmap_range = cmap_range\n",
    "        self.m = interp1d(cmap_domain, cmap_range)\n",
    "        self.cmap = plt.get_cmap(cmap_style)\n",
    "        \n",
    "    def __call__(self, value):\n",
    "        if not self.cmap_domain[0] <= value <= self.cmap_domain[1]:\n",
    "            raise Exception(\"Value must be inside cmap_domain.\")\n",
    "        return self.cmap(self.m(value))\n",
    "    \n",
    "def draw(G, partition=False, colormap='rainbow'):\n",
    "    \"\"\"Draw graph G in my standard style.\n",
    "\n",
    "    Input\n",
    "    -----\n",
    "    G : networkx graph\n",
    "    partition : bool\n",
    "    \"\"\"\n",
    "\n",
    "    def shuffle_list(l):\n",
    "        l_out = list(l)[:]\n",
    "        shuffle(l_out)\n",
    "        return l_out\n",
    "    \n",
    "    def _get_cols(partition):\n",
    "        return dict(\n",
    "            zip(\n",
    "                shuffle_list(set(partition.values())),\n",
    "                np.linspace(0, 256, len(set(partition.values()))).astype(int)\n",
    "            )\n",
    "        )\n",
    "\n",
    "    cmap = plt.get_cmap(colormap)\n",
    "    if partition == True:\n",
    "        partition = community.best_partition(G)\n",
    "        cols = _get_cols(partition)\n",
    "        colors = [cmap(cols[partition[n]]) for n in G.nodes()]\n",
    "    elif type(partition) is dict and len(partition) == len(G.nodes()):\n",
    "        cols = _get_cols(partition)\n",
    "        colors = [cmap(cols[partition[n]]) for n in G.nodes()]\n",
    "    elif type(partition) in [list, tuple] and len(partition) == len(G.nodes()):\n",
    "        colors = list(partition)\n",
    "    else:\n",
    "        try:\n",
    "            colors = [cmap(n[1]['node_color']) for n in G.nodes(data=True)]\n",
    "        except KeyError:\n",
    "            # nodes do not have node_color attribute\n",
    "            colors = \"grey\"\n",
    "    \n",
    "    pos = nx.nx_pydot.graphviz_layout(G, prog='neato')\n",
    "    nx.draw_networkx_edges(G, pos=pos, width=2, alpha=.3, zorder=-10)\n",
    "    nx.draw_networkx_nodes(G, pos=pos, node_size=120, alpha=1, linewidths=0, node_color=colors)\n",
    "    plt.axis(\"off\")"
   ]
  },
  {
   "cell_type": "markdown",
   "metadata": {},
   "source": [
    "## Networks"
   ]
  },
  {
   "cell_type": "code",
   "execution_count": 6,
   "metadata": {
    "ExecuteTime": {
     "end_time": "2017-03-13T14:50:53.541272",
     "start_time": "2017-03-13T14:50:53.260285"
    },
    "collapsed": true,
    "run_control": {
     "frozen": false,
     "read_only": false
    }
   },
   "outputs": [],
   "source": [
    "def Infomap(pajek_string, *args, **kwargs):\n",
    "    \"\"\"Function that pipes commands to subprocess and runs native Infomap implementation.\n",
    "    \n",
    "    Requires two folders (1) 'input' and (2) 'output', in sister-directory of 'infomap' folder\n",
    "    that contains 'Infomap' executable. To setup 'infomap' folder, close Infomap from \n",
    "    https://github.com/mapequation/infomap and run 'make' inside resulting folder.\n",
    "    \n",
    "    Parameters\n",
    "    ----------\n",
    "    pajek_string : str\n",
    "        Pajek representation of the network (str)\n",
    "    *args : dict\n",
    "        Infomap execution options. (http://www.mapequation.org/code.html#Options)\n",
    "    Returns\n",
    "    -------\n",
    "    communities : list of lists\n",
    "    layer_communities : data structure in required format for d3 viz (json)\n",
    "    \"\"\"\n",
    "    \n",
    "    def _get_id_to_label(filename):\n",
    "        def __int_if_int(val):\n",
    "            try: return int(val)\n",
    "            except ValueError: return val\n",
    "        with open('input/' + filename + \".net\", 'r') as fp:\n",
    "            parsed_network = fp.read()\n",
    "        return dict(\n",
    "            (int(n.split()[0]), __int_if_int(n.split('\"')[1]))\n",
    "            for n in re.split(r\"\\*.+\", parsed_network)[1].split(\"\\n\")[1:-1]\n",
    "        )\n",
    "    \n",
    "    def _parse_communities_multiplex(id_to_label, filename):\n",
    "        with open('output/'+filename+\"_expanded.clu\", 'r') as infile:\n",
    "            clusters = infile.read()\n",
    "\n",
    "        # Get layers, nodes and clusters from _extended.clu file\n",
    "        la_no_clu_flow = re.findall(r'\\d+ \\d+ \\d+ \\d\\.\\d+', clusters) # [\"30 1 2 0.00800543\",...]\n",
    "        la_no_clu_flow = [tuple(i.split()) for i in la_no_clu_flow]\n",
    "\n",
    "        node_flow_json = defaultdict(float)      # {layer_node: flow, ...}\n",
    "        community_flow_json = defaultdict(float) # {community: flow, ...}\n",
    "        communities_json = defaultdict(set)      # {layer: {(node, cluster), ...}, ...}\n",
    "        for layer, node, cluster, flow in la_no_clu_flow:\n",
    "            node_flow_json[(int(layer), id_to_label[int(node)])] += float(flow)\n",
    "            community_flow_json[cluster] += float(flow)\n",
    "            communities_json[int(layer)].add((id_to_label[int(node)], int(cluster)))\n",
    "\n",
    "        return communities_json, node_flow_json, community_flow_json\n",
    "    \n",
    "    def _parse_communities_planar(id_to_label, filename):\n",
    "        with open('output/'+filename+\".clu\", 'r') as infile:\n",
    "            clusters = infile.read()\n",
    "        \n",
    "        # Get nodes and clusters from .clu file\n",
    "        no_clu = [tuple(i.split()[:-1]) for i in re.findall(r\"\\d+ \\d+ \\d\\.\\d+\", clusters)]  # [(node, cluster), ...]\n",
    "        return {0: set([(id_to_label[int(no)], int(clu)) for no, clu in no_clu])}\n",
    "    \n",
    "    def _clean_up(filename):\n",
    "        subprocess.call(['rm', 'input/'+filename+'.net'])\n",
    "        subprocess.call(['rm', 'output/'+filename+'_expanded.clu'])\n",
    "        subprocess.call(['rm', 'output/'+filename+'.clu'])\n",
    "    \n",
    "    # Check for process id in args (for multiprocessing)\n",
    "    if args[-1][:3] == \"pid\":\n",
    "        pid = args[-1][3:]\n",
    "        args = args[:-1]\n",
    "    else:\n",
    "        pid = \"\"\n",
    "        \n",
    "    # Set default kwarg params\n",
    "    return_flow = kwargs.get(\"return_flow\", False)\n",
    "        \n",
    "    # Get network in multiplex string format and define filename\n",
    "    filename = 'tmpnet' + pid\n",
    "\n",
    "    # Store locally\n",
    "    with open(\"input/\"+filename+\".net\", 'w') as outfile:\n",
    "        outfile.write(pajek_string)\n",
    "    \n",
    "    # Run Infomap for multiplex network\n",
    "    subprocess.call(\n",
    "        ['./infomap/Infomap', 'input/'+filename+\".net\"] + \\\n",
    "        list(args)\n",
    "    )\n",
    "    \n",
    "    # Parse communities from Infomap output\n",
    "    id_to_label = _get_id_to_label(filename)\n",
    "    \n",
    "    if 'multiplex' in list(args):\n",
    "        parsed_communities, node_flow, community_flow = _parse_communities_multiplex(id_to_label, filename)\n",
    "    if 'pajek' in list(args):\n",
    "        parsed_communities = _parse_communities_planar(id_to_label, filename)\n",
    "        \n",
    "    _clean_up(filename)\n",
    "\n",
    "    orig_clu = [item for sublist in parsed_communities.values() for item in sublist]\n",
    "    communities = dict()\n",
    "    for key, group in itertools.groupby(orig_clu, lambda x: x[1]):\n",
    "        for thing in group:\n",
    "            try:\n",
    "                communities[key].append(thing[0])\n",
    "            except KeyError:\n",
    "                communities[thing[1]] = [thing[0]]\n",
    "    communities = dict((k,set(v)) for k,v in communities.items())\n",
    "\n",
    "    layer_communities = {}\n",
    "    for layer, group in parsed_communities.items():\n",
    "        communities = {}\n",
    "        for no, clu in group:\n",
    "            try:\n",
    "                communities[clu-1].append(no)\n",
    "            except KeyError:\n",
    "                communities[clu-1] = [no]\n",
    "        layer_communities[layer] = communities\n",
    "\n",
    "    if return_flow:\n",
    "        return communities, layer_communities, node_flow, community_flow\n",
    "    else:\n",
    "        return communities, layer_communities\n",
    "    \n",
    "    \n",
    "def build_adjacency_tensor(layers, index=\"zero\"):\n",
    "    nodes = set([\n",
    "        n\n",
    "        for l in layers\n",
    "        for n in list(l['user1']) + list(l['user2'])\n",
    "    ])\n",
    "    \n",
    "    ind = dict((n, i) for i, n in enumerate(nodes))\n",
    "    \n",
    "    A = defaultdict(int)\n",
    "    for l, layer in enumerate(layers):\n",
    "        for _, row in layer.iterrows():\n",
    "            # Must add both ways if undirected so A becomes symmetrical. If only added one-way\n",
    "            # triu will only be connections from 'user' and and tril from 'bt_mac' or vice versa.\n",
    "            if index == \"zero\":\n",
    "                A[(ind[row['user1']], ind[row['user2']], l)] += 1\n",
    "                A[(ind[row['user2']], ind[row['user1']], l)] += 1\n",
    "            else:\n",
    "                A[(row['user1'], row['user2'], l)] += 1\n",
    "                A[(row['user2'], row['user1'], l)] += 1\n",
    "    return A\n",
    "\n",
    "\n",
    "def write_pajek(A, node_labels=None, index_from=0):\n",
    "    \"\"\"Return multiplex representation of multiplex network adjacency matrix A\n",
    "    \n",
    "    Providing an adjacency tensor where A[:, :, k] is adjacency matrix of temporal\n",
    "    layer k, return a pajek format representation of the temporal network which weights interlayer\n",
    "    edges by state node neighborhood similarity. \n",
    "    \n",
    "    Parameters\n",
    "    ----------\n",
    "    A : numpy.3darray\n",
    "        3d tensor where each A[:, :, k] is a layer adjacency matrix\n",
    "    node_labels : list\n",
    "        List of node labels if (optional)\n",
    "    index_from : int\n",
    "        From which number to index nodes and layers in pajek format from (default=0)\n",
    "\n",
    "    Returns\n",
    "    -------\n",
    "    out : string\n",
    "        A network string in pajek format\n",
    "    \"\"\"\n",
    "    \n",
    "    def _write_outfile(A):\n",
    "        \"\"\"Write nodes and intra/inter-edges from A and J to string.\"\"\"\n",
    "        def __remove_symmetry_A(A):\n",
    "            A_triu = defaultdict(int)\n",
    "            for (i, j, k), w in A.items():\n",
    "                if j > i:\n",
    "                    A_triu[(i, j, k)] = w\n",
    "            return A_triu\n",
    "        def __write_nodes(outfile):\n",
    "            outfile += \"*Vertices %d\" % Nn\n",
    "            for nid, label in enumerate(nodes):\n",
    "                outfile += '\\n%d \"%s\" 1.0' % (nid + index_from, str(label))\n",
    "            return outfile\n",
    "        def __write_intra_edges(outfile):\n",
    "            outfile += \"\\n*Intra\\n# layer node node [weight]\"\n",
    "            for (i, j, k), w in __remove_symmetry_A(A).items():\n",
    "                outfile += '\\n%d %d %d %f' % (\n",
    "                    k + index_from,  # layer\n",
    "                    nodemap[i] + index_from,  # node\n",
    "                    nodemap[j] + index_from,  # node\n",
    "                    w                # weight\n",
    "                )\n",
    "            return outfile\n",
    "        \n",
    "        outfile = \"\"\n",
    "        outfile = __write_nodes(outfile)\n",
    "        outfile = __write_intra_edges(outfile)\n",
    "        \n",
    "        return outfile\n",
    "    \n",
    "    nodes = sorted(set([n for i, j, _ in A.keys() for n in [i, j]]))\n",
    "    Nn = len(nodes)\n",
    "    Nl = len(set([k for i, j, k in A.keys()]))\n",
    "    \n",
    "    nodemap = dict(zip(nodes, range(Nn)))\n",
    "\n",
    "    return _write_outfile(A)"
   ]
  },
  {
   "cell_type": "markdown",
   "metadata": {},
   "source": [
    "## Not used"
   ]
  },
  {
   "cell_type": "code",
   "execution_count": null,
   "metadata": {
    "collapsed": true,
    "run_control": {
     "frozen": false,
     "read_only": false
    }
   },
   "outputs": [],
   "source": []
  },
  {
   "cell_type": "markdown",
   "metadata": {},
   "source": [
    "# Load and preprocess data"
   ]
  },
  {
   "cell_type": "markdown",
   "metadata": {},
   "source": [
    "## Sensible DTU"
   ]
  },
  {
   "cell_type": "code",
   "execution_count": null,
   "metadata": {
    "collapsed": true,
    "run_control": {
     "frozen": false,
     "read_only": false
    }
   },
   "outputs": [],
   "source": [
    "# Load #\n",
    "# ---- #\n",
    "\n",
    "network_sensible = load_binned_network('1month_data_new','10mins_short_new'); fof = 2\n",
    "\n",
    "# Make slices for a span of days (e.g. monday to friday)\n",
    "# The below configuration gives exactly the three-week period in january 2014\n",
    "spd = 288 / fof  # slices per day\n",
    "smargin_start = 0#spd / 3\n",
    "smargin_end = 0#spd / 3 - 6\n",
    "dow = 0\n",
    "\n",
    "# Format layers as a dataframes in a list #\n",
    "# --------------------------------------- #\n",
    "\n",
    "layers = [\n",
    "    l\n",
    "    for d in range(0, 5) + range(7, 12) + range(14, 19)\n",
    "    for l in network[spd*(dow+5+d)+smargin_start:spd*(dow+6+d)-smargin_end]\n",
    "]"
   ]
  },
  {
   "cell_type": "markdown",
   "metadata": {},
   "source": [
    "## Workplace"
   ]
  },
  {
   "cell_type": "code",
   "execution_count": 7,
   "metadata": {
    "ExecuteTime": {
     "end_time": "2017-03-13T14:50:57.258328",
     "start_time": "2017-03-13T14:50:57.221806"
    },
    "collapsed": false,
    "run_control": {
     "frozen": false,
     "read_only": false
    }
   },
   "outputs": [
    {
     "name": "stdout",
     "output_type": "stream",
     "text": [
      "3\n"
     ]
    }
   ],
   "source": [
    "# Load #\n",
    "# ---- #\n",
    "\n",
    "network_workplace = pd.read_csv(\"data/workplace/tij_InVS.txt\", delimiter=\" \", names=[\"timestamp\", 'user1', 'user2'])\n",
    "\n",
    "# Minimum timestamp is a thursday\n",
    "print dt.fromtimestamp(network_workplace['timestamp'].min()).weekday()\n",
    "\n",
    "# Shift data by 4 days to make first day a monday\n",
    "network_workplace['timestamp'] = np.array([dt.fromtimestamp(ts) for ts in (network_workplace['timestamp'] + 86400 * 4)])"
   ]
  },
  {
   "cell_type": "code",
   "execution_count": 8,
   "metadata": {
    "ExecuteTime": {
     "end_time": "2017-03-13T14:50:57.683265",
     "start_time": "2017-03-13T14:50:57.663266"
    },
    "collapsed": false,
    "run_control": {
     "frozen": false,
     "read_only": false
    }
   },
   "outputs": [],
   "source": [
    "# Get predefined partitions #\n",
    "# ------------------------- #\n",
    "\n",
    "workplace_teams = pd.read_csv(\"data/workplace/metadata_inVS13.txt\", delimiter=\"\\t\", names=[\"employee\", \"team\"])\n",
    "\n",
    "employee_team = {}\n",
    "team_employee = defaultdict(set)\n",
    "for _, row in workplace_teams.iterrows():\n",
    "    employee_team[row['employee']] = row['team']\n",
    "    team_employee[row['team']].add(row['employee'])\n",
    "team_employee = default_to_regular(team_employee)    "
   ]
  },
  {
   "cell_type": "code",
   "execution_count": 9,
   "metadata": {
    "ExecuteTime": {
     "end_time": "2017-03-13T14:50:58.954447",
     "start_time": "2017-03-13T14:50:58.950236"
    },
    "collapsed": true,
    "run_control": {
     "frozen": false,
     "read_only": false
    }
   },
   "outputs": [],
   "source": [
    "# Plot (possible time-format error) #\n",
    "# --------------------------------- #\n",
    "\n",
    "# Create bins for histogram\n",
    "#bins = sorted(set([ts/86400*86400 for ts in range(network_workplace['timestamp'].min(), network_workplace['timestamp'].max())]))\n",
    "\n",
    "# plt.figure()\n",
    "# plt.hist(network_workplace['timestamp'], bins=bins)\n",
    "# weekdays = [\"Monday\", \"Tuesday\", \"Wednesday\", \"Thursday\", \"Friday\", \"Saturday\", \"Sunday\"]\n",
    "# plt.xticks(np.array(bins) + 86400/2, [weekdays[dt.fromtimestamp(ts).weekday()] for ts in bins], rotation=90)\n",
    "# plt.show()"
   ]
  },
  {
   "cell_type": "code",
   "execution_count": 27,
   "metadata": {
    "ExecuteTime": {
     "end_time": "2017-03-13T14:54:40.673987",
     "start_time": "2017-03-13T14:54:39.068214"
    },
    "collapsed": true,
    "run_control": {
     "frozen": false,
     "read_only": false
    }
   },
   "outputs": [],
   "source": [
    "# Format layers as a dataframes in a list #\n",
    "# --------------------------------------- #\n",
    "\n",
    "# Layer width in minutes\n",
    "layer_size = 10\n",
    "\n",
    "# Layer time bins from lower of first to (and including) upper of last\n",
    "lower_bin = int(network_workplace['timestamp'].min().date().strftime(\"%s\"))\n",
    "upper_bin = int(network_workplace['timestamp'].max().date().strftime(\"%s\")) + 86400\n",
    "bins = [dt.fromtimestamp(ts) for ts in np.arange(lower_bin, upper_bin+layer_size*60, layer_size*60)]\n",
    "\n",
    "# List of pandas dataframes, each a temporal network layer\n",
    "network2 = [\n",
    "    network_workplace[(network_workplace['timestamp'] > low) & (network_workplace['timestamp'] < high)] for low, high in zip(bins[:-1], bins[1:])\n",
    "]\n",
    "\n",
    "\n",
    "# network2[54]    # first monday\n",
    "# network2[687]   # first friday\n",
    "# network2[1700]  # last\n",
    "\n",
    "#network2 = network2[:(687+1)]  # only include week 1"
   ]
  },
  {
   "cell_type": "code",
   "execution_count": 28,
   "metadata": {
    "ExecuteTime": {
     "end_time": "2017-03-13T14:54:42.506397",
     "start_time": "2017-03-13T14:54:41.186813"
    },
    "collapsed": true
   },
   "outputs": [],
   "source": [
    "# Format list of dataframes as pajek #\n",
    "# ---------------------------------- #\n",
    "\n",
    "layer_indices = [l for l, n in enumerate(network2) if n.shape[0] > 0]\n",
    "A2 = build_adjacency_tensor([n for n in network2 if n.shape[0] > 0], index=None)\n",
    "network_pajek2 = write_pajek(A2)"
   ]
  },
  {
   "cell_type": "markdown",
   "metadata": {},
   "source": [
    "# Analysis"
   ]
  },
  {
   "cell_type": "markdown",
   "metadata": {},
   "source": [
    "## Sensible DTU"
   ]
  },
  {
   "cell_type": "markdown",
   "metadata": {},
   "source": [
    "## Workplace"
   ]
  },
  {
   "cell_type": "markdown",
   "metadata": {},
   "source": [
    "### Community detection"
   ]
  },
  {
   "cell_type": "code",
   "execution_count": 87,
   "metadata": {
    "ExecuteTime": {
     "end_time": "2017-03-14T08:53:56.543756",
     "start_time": "2017-03-14T08:53:25.102816"
    },
    "collapsed": false
   },
   "outputs": [],
   "source": [
    "_, layer_commu_pred_JSL_2 = Infomap(\n",
    "    network_pajek2,\n",
    "    'output/',\n",
    "    '-i',\n",
    "    'multiplex',\n",
    "    '--multiplex-js-relax-rate', '0.25',\n",
    "    '--overlapping',\n",
    "    '--expanded',\n",
    "    '--clu',\n",
    "    '--pajek',\n",
    "    '--two-level',\n",
    "    '-z'\n",
    ")\n",
    "\n",
    "_, layer_commu_pred_FL_2 = Infomap(\n",
    "    network_pajek2,\n",
    "    'output/',\n",
    "    '-i',\n",
    "    'multiplex',\n",
    "    '--multiplex-relax-rate', '0.25',\n",
    "    '--overlapping',\n",
    "    '--expanded',\n",
    "    '--clu',\n",
    "    '--pajek',\n",
    "    '--two-level',\n",
    "    '-z'\n",
    ")\n",
    "\n",
    "layer_commu_pred_JSL_2 = dict((layer_indices[k], v) for k, v in layer_commu_pred_JSL_2.items())\n",
    "layer_commu_pred_FL_2 = dict((layer_indices[k], v) for k, v in layer_commu_pred_FL_2.items())"
   ]
  },
  {
   "cell_type": "code",
   "execution_count": 88,
   "metadata": {
    "ExecuteTime": {
     "end_time": "2017-03-14T08:53:59.969101",
     "start_time": "2017-03-14T08:53:59.907785"
    },
    "collapsed": false
   },
   "outputs": [],
   "source": [
    "## Remove FL extra nodes\n",
    "for l, partition in layer_commu_pred_FL_2.items():\n",
    "    nodes_l = set(network2[l]['user1'].values) | set(network2[l]['user2'].values)\n",
    "    layer_commu_pred_FL_2[l] = invert_partition(dict((n, c) for n, c in invert_partition(partition).items() if n in nodes_l))"
   ]
  },
  {
   "cell_type": "markdown",
   "metadata": {},
   "source": [
    "### Degree of mixing"
   ]
  },
  {
   "cell_type": "code",
   "execution_count": 89,
   "metadata": {
    "ExecuteTime": {
     "end_time": "2017-03-14T08:54:11.113558",
     "start_time": "2017-03-14T08:54:01.492724"
    },
    "collapsed": true
   },
   "outputs": [],
   "source": [
    "def layer_mixing(layer_network, layer_partition):\n",
    "    layer_partition_inv = invert_partition(layer_partition)\n",
    "\n",
    "    nodes_df = set(layer_network['user1'].values) | set(layer_network['user2'].values)\n",
    "    nodes_lc = set([v for arr in layer_partition.values() for v in arr])\n",
    "\n",
    "    if nodes_df != nodes_lc:\n",
    "        print nodes_df\n",
    "        print nodes_lc\n",
    "        print [k for k, v in Counter(list(nodes_df) + list(nodes_lc)).items() if v == 1]\n",
    "        print \"Warning: nodes_df != nodes_lc\"\n",
    "        pass\n",
    "\n",
    "    score = []\n",
    "    for ni in nodes_df:\n",
    "        endpoints = list(layer_network[(layer_network['user1'] == ni)]['user2'].values) + \\\n",
    "                    list(layer_network[(layer_network['user2'] == ni)]['user1'].values)\n",
    "\n",
    "#         # Compute silhouette score\n",
    "#         community_sim = Counter(layer_partition_inv[nj] for nj in set(endpoints))\n",
    "#         max_ext = max([v for k, v in community_sim.items() if k != layer_partition_inv[ni]] + [0])\n",
    "#         num_int = community_sim[layer_partition_inv[ni]]\n",
    "#         score.append(((max_ext - num_int) * 1.0 / max([max_ext, num_int]) + 1) / 2.0)\n",
    "        \n",
    "        # Compute in-out mixing\n",
    "        connected_communities = Counter(\n",
    "            'in' if layer_partition_inv[nj] == layer_partition_inv[ni] else\n",
    "            'out' for nj in endpoints\n",
    "        )\n",
    "        score.append(connected_communities['out'] * 1.0 / sum(connected_communities.values()))\n",
    "    \n",
    "    return score\n",
    "\n",
    "layer_JSL, average_mixing_JSL = [], []\n",
    "for l, layer_partition in sorted(layer_commu_pred_JSL_2.items(), key=lambda (k, v): k):\n",
    "    layer_network = network2[l]\n",
    "    average_mixing_JSL.append(np.mean(layer_mixing(layer_network, layer_partition)))\n",
    "    layer_JSL.append(l)\n",
    "\n",
    "layer_FL, average_mixing_FL, mixing_FL = [], [], []\n",
    "for l, layer_partition in sorted(layer_commu_pred_FL_2.items(), key=lambda (k, v): k):\n",
    "    layer_network = network2[l]\n",
    "    mixing = layer_mixing(layer_network, layer_partition)\n",
    "    average_mixing_FL.append(np.mean(mixing))\n",
    "    layer_FL.append(l)"
   ]
  },
  {
   "cell_type": "code",
   "execution_count": 90,
   "metadata": {
    "ExecuteTime": {
     "end_time": "2017-03-14T08:54:16.064613",
     "start_time": "2017-03-14T08:54:15.285382"
    },
    "collapsed": false
   },
   "outputs": [
    {
     "data": {
      "image/png": "[encoded data removed]",
      "text/plain": [
       "<matplotlib.figure.Figure at 0x109330a90>"
      ]
     },
     "metadata": {},
     "output_type": "display_data"
    }
   ],
   "source": [
    "plt.figure(figsize=(3.42/2, 1.2), frameon=False)\n",
    "\n",
    "v_FL, b_FL = np.histogram(average_mixing_FL, bins=np.linspace(0, 1, 21), normed=True)\n",
    "plt.step(b_FL, [v_FL[0]] + list(v_FL), where='pre', color=\"#3498db\", lw=2)\n",
    "b_FL_step, v_FL_step = get_x_y_steps(b_FL, [v_FL[0]] + list(v_FL), where=\"pre\")\n",
    "plt.fill_between(b_FL_step, v_FL_step, color=\"#3498db\", alpha=0.5)\n",
    "\n",
    "v_JSL, b_JSL = np.histogram(average_mixing_JSL, bins=np.linspace(0, 1, 21), normed=True)\n",
    "plt.step(b_JSL, [v_JSL[0]] + list(v_JSL), where='pre', color=\"#e74c3c\", lw=2)\n",
    "b_JSL_step, v_JSL_step = get_x_y_steps(b_JSL, [v_JSL[0]] + list(v_JSL), where=\"pre\")\n",
    "plt.fill_between(b_JSL_step, v_JSL_step, color=\"#e74c3c\", alpha=0.5)\n",
    "\n",
    "\n",
    "plt.xlabel(\"$\\mu$\")\n",
    "plt.yscale(\"log\")\n",
    "\n",
    "#plt.legend(fontsize=5, frameon=False)\n",
    "plt.savefig(\"figures/mixing_coef_distribution_workplace.pdf\")\n",
    "plt.show()"
   ]
  },
  {
   "cell_type": "code",
   "execution_count": 32,
   "metadata": {
    "ExecuteTime": {
     "end_time": "2017-03-13T14:55:33.014650",
     "start_time": "2017-03-13T14:55:32.240020"
    },
    "collapsed": false
   },
   "outputs": [
    {
     "data": {
      "image/png": "[encoded data removed]",
      "text/plain": [
       "<matplotlib.figure.Figure at 0x108fa8ed0>"
      ]
     },
     "metadata": {},
     "output_type": "display_data"
    }
   ],
   "source": [
    "plt.figure(figsize=(3.42/2, 1.2), frameon=False)\n",
    "\n",
    "v_FL, b_FL = np.histogram(average_mixing_FL, bins=np.linspace(0, 1, 21), normed=True)\n",
    "plt.step(b_FL, [v_FL[0]] + list(v_FL), where='pre', color=\"#3498db\", lw=2)\n",
    "b_FL_step, v_FL_step = get_x_y_steps(b_FL, [v_FL[0]] + list(v_FL), where=\"pre\")\n",
    "plt.fill_between(b_FL_step, v_FL_step, color=\"#3498db\", alpha=0.5)\n",
    "\n",
    "v_JSL, b_JSL = np.histogram(average_mixing_JSL, bins=np.linspace(0, 1, 21), normed=True)\n",
    "plt.step(b_JSL, [v_JSL[0]] + list(v_JSL), where='pre', color=\"#e74c3c\", lw=2)\n",
    "b_JSL_step, v_JSL_step = get_x_y_steps(b_JSL, [v_JSL[0]] + list(v_JSL), where=\"pre\")\n",
    "plt.fill_between(b_JSL_step, v_JSL_step, color=\"#e74c3c\", alpha=0.5)\n",
    "\n",
    "\n",
    "plt.xlabel(\"$\\mu$\")\n",
    "plt.yscale(\"log\")\n",
    "\n",
    "#plt.legend(fontsize=5, frameon=False)\n",
    "plt.savefig(\"figures/mixing_coef_distribution_workplace.pdf\")\n",
    "plt.show()"
   ]
  },
  {
   "cell_type": "code",
   "execution_count": 33,
   "metadata": {
    "ExecuteTime": {
     "end_time": "2017-03-13T14:56:06.557996",
     "start_time": "2017-03-13T14:55:51.927467"
    },
    "collapsed": false
   },
   "outputs": [],
   "source": [
    "def layer_mixing(layer_network, layer_partition):\n",
    "    layer_partition_inv = invert_partition(layer_partition)\n",
    "\n",
    "    nodes_df = set(layer_network['user1'].values) | set(layer_network['user2'].values)\n",
    "    nodes_lc = set([v for arr in layer_partition.values() for v in arr])\n",
    "\n",
    "    if nodes_df != nodes_lc:\n",
    "        print nodes_df\n",
    "        print nodes_lc\n",
    "        print [k for k, v in Counter(list(nodes_df) + list(nodes_lc)).items() if v == 1]\n",
    "        print \"Warning: nodes_df != nodes_lc\"\n",
    "        pass\n",
    "\n",
    "    score = []\n",
    "    for ni in nodes_df:\n",
    "        endpoints = list(layer_network[(layer_network['user1'] == ni)]['user2'].values) + \\\n",
    "                    list(layer_network[(layer_network['user2'] == ni)]['user1'].values)\n",
    "\n",
    "#         # Compute silhouette score\n",
    "#         community_sim = Counter(layer_partition_inv[nj] for nj in set(endpoints))\n",
    "#         max_ext = max([v for k, v in community_sim.items() if k != layer_partition_inv[ni]] + [0])\n",
    "#         num_int = community_sim[layer_partition_inv[ni]]\n",
    "#         score.append(((max_ext - num_int) * 1.0 / max([max_ext, num_int]) + 1) / 2.0)\n",
    "        \n",
    "        # Compute in-out mixing\n",
    "        connected_communities = Counter(\n",
    "            'in' if layer_partition_inv[nj] == layer_partition_inv[ni] else\n",
    "            'out' for nj in endpoints\n",
    "        )\n",
    "        score.append(connected_communities['out'] * 1.0 / sum(connected_communities.values()))\n",
    "    \n",
    "    return score\n",
    "\n",
    "layer_JSL, average_mixing_JSL, mixing_JSL = [], [], []\n",
    "for l, layer_partition in sorted(layer_commu_pred_JSL_2.items(), key=lambda (k, v): k):\n",
    "    layer_network = network2[l]\n",
    "    average_mixing_JSL.append(np.mean(layer_mixing(layer_network, layer_partition)))\n",
    "    mixing_JSL.extend(layer_mixing(layer_network, layer_partition))\n",
    "    layer_JSL.append(l)\n",
    "\n",
    "layer_FL, average_mixing_FL, mixing_FL = [], [], []\n",
    "for l, layer_partition in sorted(layer_commu_pred_FL_2.items(), key=lambda (k, v): k):\n",
    "    layer_network = network2[l]\n",
    "    mixing = layer_mixing(layer_network, layer_partition)\n",
    "    average_mixing_FL.append(np.mean(mixing))\n",
    "    mixing_FL.extend(mixing)\n",
    "    layer_FL.append(l)"
   ]
  },
  {
   "cell_type": "code",
   "execution_count": 34,
   "metadata": {
    "ExecuteTime": {
     "end_time": "2017-03-13T14:56:08.295306",
     "start_time": "2017-03-13T14:56:08.072266"
    },
    "collapsed": false
   },
   "outputs": [
    {
     "data": {
      "text/plain": [
       "[<matplotlib.lines.Line2D at 0x10922f7d0>]"
      ]
     },
     "execution_count": 34,
     "metadata": {},
     "output_type": "execute_result"
    },
    {
     "data": {
      "image/png": "[encoded data removed]",
      "text/plain": [
       "<matplotlib.figure.Figure at 0x10922f810>"
      ]
     },
     "metadata": {},
     "output_type": "display_data"
    }
   ],
   "source": [
    "plt.figure(figsize=(3.42*3/4*5, 1.2/2*5))\n",
    "plt.plot(layer_JSL, smooth(average_mixing_JSL, 10), color=\"#e74c3c\")\n",
    "plt.plot(layer_FL, smooth(average_mixing_FL, 10), color=\"#3498db\")\n"
   ]
  },
  {
   "cell_type": "code",
   "execution_count": 35,
   "metadata": {
    "ExecuteTime": {
     "end_time": "2017-03-13T14:56:15.386131",
     "start_time": "2017-03-13T14:56:15.382698"
    },
    "collapsed": true
   },
   "outputs": [],
   "source": [
    "days = range(0, 5) + range(7, 12)"
   ]
  },
  {
   "cell_type": "code",
   "execution_count": 68,
   "metadata": {
    "ExecuteTime": {
     "end_time": "2017-03-13T15:03:43.362802",
     "start_time": "2017-03-13T15:03:38.598372"
    },
    "collapsed": false
   },
   "outputs": [],
   "source": [
    "def day_average_mixing(layer_commu_pred, network):\n",
    "    mixing = defaultdict(list)\n",
    "    for d in days:\n",
    "        layers_d = [\n",
    "            (i, l)\n",
    "            for i, l in enumerate(range(144*d, 144*(d+1)))\n",
    "            if network2[l].shape[0] > 0\n",
    "        ]\n",
    "        for li, l in layers_d:\n",
    "            try:\n",
    "                mixing[li].append(\n",
    "                    np.mean(\n",
    "                        layer_mixing(\n",
    "                            network2[l],               # Network layer data frame\n",
    "                            layer_commu_pred[l]  # Communities detected with Infomap\n",
    "                        )\n",
    "                    )\n",
    "                )\n",
    "            except KeyError:\n",
    "                # This occurs because a layer is too sparse\n",
    "                print \"Warning: layer %d unclustered with %d nodes and %d links.\" % (\n",
    "                    l,\n",
    "                    len(set(network2[l]['user1'].values) | set(network2[l]['user2'].values)),\n",
    "                    network2[l].shape[0]\n",
    "                )\n",
    "    return mixing\n",
    "\n",
    "mixing_JSL = day_average_mixing(layer_commu_pred_JSL_2, network2)\n",
    "mixing_FL = day_average_mixing(layer_commu_pred_FL_2, network2)"
   ]
  },
  {
   "cell_type": "code",
   "execution_count": 69,
   "metadata": {
    "ExecuteTime": {
     "end_time": "2017-03-13T15:03:59.258530",
     "start_time": "2017-03-13T15:03:59.254041"
    },
    "collapsed": true
   },
   "outputs": [],
   "source": [
    "hour_mixing_JSL = defaultdict(list)\n",
    "for l, mu_arr in mixing_JSL.items():\n",
    "    hour_mixing_JSL[l/6].extend(mu_arr)\n",
    "    \n",
    "hour_mixing_FL = defaultdict(list)\n",
    "for l, mu_arr in mixing_FL.items():\n",
    "    hour_mixing_FL[l/6].extend(mu_arr)"
   ]
  },
  {
   "cell_type": "code",
   "execution_count": 76,
   "metadata": {
    "ExecuteTime": {
     "end_time": "2017-03-13T15:05:52.586431",
     "start_time": "2017-03-13T15:05:52.581312"
    },
    "collapsed": false
   },
   "outputs": [],
   "source": [
    "x_JSL, y_JSL = zip(*sorted(hour_mixing_JSL.items(), key=lambda (k, v): k))\n",
    "y_JSL = [np.mean(arr) for arr in y_JSL]\n",
    "x_FL, y_FL = zip(*sorted(hour_mixing_FL.items(), key=lambda (k, v): k))\n",
    "y_FL = [np.mean(arr) for arr in y_FL]"
   ]
  },
  {
   "cell_type": "code",
   "execution_count": 84,
   "metadata": {
    "ExecuteTime": {
     "end_time": "2017-03-13T15:11:57.089812",
     "start_time": "2017-03-13T15:11:57.076401"
    },
    "collapsed": false
   },
   "outputs": [
    {
     "data": {
      "text/plain": [
       "[0.0011192093297969501, 0.0085683914074657225]"
      ]
     },
     "execution_count": 84,
     "metadata": {},
     "output_type": "execute_result"
    }
   ],
   "source": [
    "def mean_confidence_interval(data, confidence=0.95):\n",
    "    def _isarray(obj):\n",
    "        try:\n",
    "            list(obj)\n",
    "            return True\n",
    "        except TypeError:\n",
    "            return False\n",
    "        \n",
    "    if _isarray(data[0]):\n",
    "        out_vals = []\n",
    "        for arr in data:\n",
    "            a = 1.0*np.array(arr)\n",
    "            h = sp.stats.sem(a) * sp.stats.t._ppf((1+confidence)/2., len(a)-1)\n",
    "            out_vals.append(h)\n",
    "    else:\n",
    "        a = 1.0*np.array(data)\n",
    "        h = sp.stats.sem(a) * sp.stats.t._ppf((1+confidence)/2., len(a)-1)\n",
    "        out_vals = h\n",
    "\n",
    "    return out_vals\n",
    "\n",
    "mean_confidence_interval([hour_mixing_JSL[12], hour_mixing_JSL[13]])"
   ]
  },
  {
   "cell_type": "code",
   "execution_count": 746,
   "metadata": {
    "ExecuteTime": {
     "end_time": "2017-03-13T14:30:39.848924",
     "start_time": "2017-03-13T14:30:39.844132"
    },
    "collapsed": false
   },
   "outputs": [
    {
     "data": {
      "text/plain": [
       "0.01541924584437342"
      ]
     },
     "execution_count": 746,
     "metadata": {},
     "output_type": "execute_result"
    }
   ],
   "source": [
    "np.std(mixing_JSL[67]) / np.sqrt(len(mixing_JSL[67]))"
   ]
  },
  {
   "cell_type": "code",
   "execution_count": 672,
   "metadata": {
    "ExecuteTime": {
     "end_time": "2017-03-13T14:00:56.863982",
     "start_time": "2017-03-13T14:00:56.835441"
    },
    "collapsed": false
   },
   "outputs": [
    {
     "data": {
      "text/plain": [
       "[0.0, 0.0, 0.0, 0.0, 0.0, 0.0]"
      ]
     },
     "execution_count": 672,
     "metadata": {},
     "output_type": "execute_result"
    }
   ],
   "source": [
    "def layer_mixing(layer_network, layer_partition):\n",
    "    layer_partition_inv = invert_partition(layer_partition)\n",
    "\n",
    "    nodes_df = set(layer_network['user1'].values) | set(layer_network['user2'].values)\n",
    "    nodes_lc = set([v for arr in layer_partition.values() for v in arr])\n",
    "\n",
    "    if nodes_df != nodes_lc:\n",
    "#         print nodes_df\n",
    "#         print nodes_lc\n",
    "#         print [k for k, v in Counter(list(nodes_df) + list(nodes_lc)).items() if v == 1]\n",
    "#         print \"Warning: nodes_df != nodes_lc\"\n",
    "        pass\n",
    "\n",
    "    silhouette = []\n",
    "    for ni in nodes_df:\n",
    "        neighbors = set(layer_network[(layer_network['user1'] == ni)]['user2'].values) | \\\n",
    "                    set(layer_network[(layer_network['user2'] == ni)]['user1'].values)\n",
    "\n",
    "        # Get number of links to each community\n",
    "        community_sim = Counter(layer_partition_inv[nj] for nj in neighbors)\n",
    "\n",
    "        max_ext = max([v for k, v in community_sim.items() if k != layer_partition_inv[ni]] + [0])\n",
    "        num_int = community_sim[layer_partition_inv[ni]]\n",
    "\n",
    "        silhouette.append(((max_ext - num_int) * 1.0 / max([max_ext, num_int]) + 1) / 2.0)\n",
    "    \n",
    "    return silhouette\n",
    "\n",
    "l = 54\n",
    "layer_mixing(\n",
    "    network2[l],               # Network layer data frame\n",
    "    layer_commu_pred_JSL_2[l]  # Communities detected with Infomap\n",
    ")"
   ]
  },
  {
   "cell_type": "code",
   "execution_count": null,
   "metadata": {
    "collapsed": true
   },
   "outputs": [],
   "source": []
  }
 ],
 "metadata": {
  "kernelspec": {
   "display_name": "Python 2",
   "language": "python",
   "name": "python2"
  },
  "language_info": {
   "codemirror_mode": {
    "name": "ipython",
    "version": 2
   },
   "file_extension": ".py",
   "mimetype": "text/x-python",
   "name": "python",
   "nbconvert_exporter": "python",
   "pygments_lexer": "ipython2",
   "version": "2.7.12"
  },
  "nav_menu": {},
  "toc": {
   "navigate_menu": true,
   "number_sections": true,
   "sideBar": true,
   "threshold": 6,
   "toc_cell": false,
   "toc_section_display": "block",
   "toc_window_display": true
  }
 },
 "nbformat": 4,
 "nbformat_minor": 1
}
