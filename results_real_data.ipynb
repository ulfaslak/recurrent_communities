{
 "cells": [
  {
   "cell_type": "markdown",
   "metadata": {
    "run_control": {
     "frozen": false,
     "read_only": false
    }
   },
   "source": [
    "# **Preamble**"
   ]
  },
  {
   "cell_type": "markdown",
   "metadata": {},
   "source": [
    "## Imports"
   ]
  },
  {
   "cell_type": "code",
   "execution_count": 214,
   "metadata": {
    "ExecuteTime": {
     "end_time": "2017-03-22T15:42:17.971244",
     "start_time": "2017-03-22T15:42:17.941754"
    },
    "collapsed": false,
    "run_control": {
     "frozen": false,
     "read_only": false
    }
   },
   "outputs": [],
   "source": [
    "%matplotlib inline\n",
    "import matplotlib.pylab as plt\n",
    "import numpy as np\n",
    "import pandas as pd\n",
    "from datetime import datetime as dt\n",
    "from collections import Counter, defaultdict\n",
    "import subprocess\n",
    "import re\n",
    "import itertools\n",
    "from seaborn import apionly as sns\n",
    "import scipy as sp\n",
    "from multiprocessing import Pool\n",
    "import random\n",
    "import pickle\n",
    "import requests as rq\n",
    "import json\n",
    "from sklearn.metrics import normalized_mutual_info_score\n",
    "import os\n",
    "from sklearn.metrics.pairwise import cosine_similarity\n",
    "import networkx as nx\n",
    "import numpy as np, scipy.stats as st"
   ]
  },
  {
   "cell_type": "markdown",
   "metadata": {},
   "source": [
    "## Set layout params"
   ]
  },
  {
   "cell_type": "code",
   "execution_count": 2,
   "metadata": {
    "ExecuteTime": {
     "end_time": "2017-03-20T09:09:23.168691",
     "start_time": "2017-03-20T09:09:23.145927"
    },
    "collapsed": false,
    "run_control": {
     "frozen": false,
     "read_only": false
    }
   },
   "outputs": [],
   "source": [
    "plt.style.use([\"classic\"])\n",
    "np.set_printoptions(precision=4)\n",
    "np.core.arrayprint._line_width = 100\n",
    "\n",
    "class cmap_in_range:\n",
    "    \"\"\"Create map to range of colors inside given domain.\n",
    "\n",
    "    Example\n",
    "    -------\n",
    "    >>> cmap = cmap_in_range([0, 100])\n",
    "    >>> cmap(10)\n",
    "    (0.30392156862745101, 0.30315267411304353, 0.98816547208125938, 1.0)\n",
    "    \"\"\"\n",
    "    def __init__(self, cmap_domain, cmap_range=[0, 1], cmap_style='rainbow'):\n",
    "        self.cmap_domain = cmap_domain\n",
    "        self.cmap_range = cmap_range\n",
    "        self.m = interp1d(cmap_domain, cmap_range)\n",
    "        self.cmap = plt.get_cmap(cmap_style)\n",
    "        \n",
    "    def __call__(self, value):\n",
    "        if not self.cmap_domain[0] <= value <= self.cmap_domain[1]:\n",
    "            raise Exception(\"Value must be inside cmap_domain.\")\n",
    "        return self.cmap(self.m(value))\n",
    "\n",
    "def standarize_plot_parameters():\n",
    "    # http://scipy.github.io/old-wiki/pages/Cookbook/Matplotlib/LaTeX_Examples\n",
    "    # thesis has 417.47 points in column size, with 0.6\\columnwidth\n",
    "    golden_mean = (np.sqrt(5)-1.0)/2.0         # Aesthetic ratio\n",
    "    fig_width = 3.42/2  # width in inches\n",
    "    fig_height = 1.2       # height in inches\n",
    "    params = {\n",
    "        'axes.labelsize': 10,\n",
    "        'legend.fontsize': 7,\n",
    "        'xtick.labelsize': 8,\n",
    "        'ytick.labelsize': 8,\n",
    "        'figure.figsize': [fig_width, fig_height],\n",
    "        'font.family': 'STIXGeneral',  # close enough to LaTeX font\n",
    "        'font.size': 8,\n",
    "        'figure.frameon': False\n",
    "    }\n",
    "    plt.rcParams.update(params)\n",
    "\n",
    "standarize_plot_parameters()"
   ]
  },
  {
   "cell_type": "markdown",
   "metadata": {},
   "source": [
    "# **Utility functions**"
   ]
  },
  {
   "cell_type": "markdown",
   "metadata": {},
   "source": [
    "## General"
   ]
  },
  {
   "cell_type": "code",
   "execution_count": 68,
   "metadata": {
    "ExecuteTime": {
     "end_time": "2017-03-20T10:26:38.100353",
     "start_time": "2017-03-20T10:26:37.938749"
    },
    "collapsed": true,
    "run_control": {
     "frozen": false,
     "read_only": false
    }
   },
   "outputs": [],
   "source": [
    "def default_to_regular(d):\n",
    "    \"\"\"Recursively convert nested defaultdicts to nested dicts.\n",
    "\n",
    "    Source: http://stackoverflow.com/questions/26496831/how-to-convert-defaultdict-of-defaultdicts-of-defaultdicts-to-dict-of-dicts-o\n",
    "    \"\"\"\n",
    "    if isinstance(d, defaultdict):\n",
    "        d = {k: default_to_regular(v) for k, v in d.iteritems()}\n",
    "    return d\n",
    "\n",
    "def invert_partition(partition):\n",
    "    if type(partition.items()[0][1]) is list:\n",
    "        partition_inv = dict()\n",
    "        for c, nodes in partition.items():\n",
    "            for n in nodes:\n",
    "                partition_inv[n] = c\n",
    "    else:\n",
    "        partition_inv = defaultdict(list)\n",
    "        for n, c in partition.items():\n",
    "            partition_inv[c].append(n)\n",
    "    return default_to_regular(partition_inv)\n",
    "\n",
    "def smooth(y, box_pts):\n",
    "    \"\"\"Sliding box smoothening of noisy data.\n",
    "\n",
    "    Parameters\n",
    "    ----------\n",
    "    y : list\n",
    "        Noisy y-variable. Must be sorted wrt. time.\n",
    "\n",
    "    box_pts : int\n",
    "        Convolution box size. The greater the box the smoother the plot.\n",
    "\n",
    "    Output\n",
    "    ------\n",
    "    y_smooth : list\n",
    "        Smooth points to replace y. Same dimensions as y.\n",
    "\n",
    "    Example\n",
    "    -------\n",
    "    x = np.linspace(0,2*np.pi,100)\n",
    "    y = np.sin(x) + np.random.random(100) * 0.8\n",
    "\n",
    "    plt.plot(x, y,'o')\n",
    "    plt.plot(x, smooth(y, 18), 'r-', lw=2)\n",
    "    plt.plot(x, smooth(y,9), 'g-', lw=2)\n",
    "    \"\"\"\n",
    "    box = np.ones(box_pts)/box_pts\n",
    "    y_smooth = np.convolve(y, box, mode='same')\n",
    "    return y_smooth\n",
    "\n",
    "def plt_log_hist(v, **kwargs):\n",
    "    \"\"\"Make logplot of histogram.\"\"\"\n",
    "    # Handle input paramaters\n",
    "    bins = kwargs.get('bins', 10)\n",
    "    del kwargs['bins']\n",
    "    \n",
    "    # Construct log-bins\n",
    "    if min(v) == 0:\n",
    "        v = (np.array(v) + 0.01)\n",
    "    logbins = np.logspace(np.log10(min(v)), np.log10(max(v)), bins)\n",
    "    \n",
    "    # Plot\n",
    "    plt.hist(v, bins=logbins, **kwargs)\n",
    "    plt.xscale(\"log\")\n",
    "    \n",
    "def shannon_entropy(counts):\n",
    "    \"\"\"Compute shannon entropy of count series.\"\"\"\n",
    "    freq = np.array(counts) * 1.0 / np.sum(counts)\n",
    "    return -np.sum([f * np.log2(f) for f in freq if f != 0])\n",
    "\n",
    "def get_x_y_steps(x, y, where=\"post\"):\n",
    "    \"\"\"Plot step function from x and y coordinates.\"\"\"\n",
    "    if where == \"post\":\n",
    "        x_step = [x[0]] + [_x for tup in zip(x, x)[1:] for _x in tup]\n",
    "        y_step = [_y for tup in zip(y, y)[:-1] for _y in tup] + [y[-1]]\n",
    "    elif where == \"pre\":\n",
    "        x_step = [_x for tup in zip(x, x)[:-1] for _x in tup] + [x[-1]]\n",
    "        y_step = [y[0]] + [_y for tup in zip(y, y)[1:] for _y in tup]\n",
    "    return x_step, y_step\n",
    "\n",
    "def mean_confidence_interval(data, confidence=0.95):\n",
    "    \"\"\"Compute MCI for series (possibly multiple series)\"\"\"\n",
    "    def _isarray(obj):\n",
    "        try:\n",
    "            list(obj)\n",
    "            return True\n",
    "        except TypeError:\n",
    "            return False\n",
    "        \n",
    "    if _isarray(data[0]):\n",
    "        out_vals = []\n",
    "        for arr in data:\n",
    "            a = 1.0*np.array(arr)\n",
    "            h = sp.stats.sem(a) * sp.stats.t._ppf((1+confidence)/2., len(a)-1)\n",
    "            out_vals.append(h)\n",
    "    else:\n",
    "        a = 1.0*np.array(data)\n",
    "        h = sp.stats.sem(a) * sp.stats.t._ppf((1+confidence)/2., len(a)-1)\n",
    "        out_vals = h\n",
    "\n",
    "    return out_vals\n",
    "\n",
    "def node_communities(layer_commu):\n",
    "    \"\"\"Return list of communities each node participates in.\"\"\"\n",
    "    communities = defaultdict(list)\n",
    "    for l in sorted(layer_commu.keys()):\n",
    "        for c, nodes in layer_commu[l].items():\n",
    "            for n in nodes:\n",
    "                communities[n].append(c)\n",
    "    return communities\n",
    "\n",
    "def community_nodes(layer_commu):\n",
    "    communities = defaultdict(list)\n",
    "    for partition in layer_commu.values():\n",
    "        for c, nodes in partition.items():\n",
    "            communities[c].extend(nodes)\n",
    "    return communities\n",
    "\n",
    "def shuffle_dict_kvs(partition):\n",
    "    def _shuffle_list(l):\n",
    "        l_out = list(l)[:]\n",
    "        random.shuffle(l_out)\n",
    "        return l_out\n",
    "    return dict(zip(_shuffle_list(partition.keys()), _shuffle_list(partition.values())))\n",
    "\n",
    "def ravel_two_level(arrarr):\n",
    "    return [v for arr in arrarr for v in arr]\n",
    "\n",
    "def get_dyads(items):\n",
    "    return [(i, j) for i in items for j in items if j > i]\n",
    "\n",
    "def jaccard_similarity(arr1, arr2):\n",
    "    arr1, arr2 = set(arr1), set(arr2)\n",
    "    return len(arr1 & arr2) * 1.0 / len(arr1 | arr2)\n",
    "\n",
    "def interpolate_nans(y):\n",
    "    \"\"\"Fill in nans with interpolation in 1d numpy array\"\"\"\n",
    "    def _nan_helper(y):\n",
    "        return np.isnan(y), lambda z: z.nonzero()[0]\n",
    "    _y = y.copy()\n",
    "    _y.flags.writeable = True\n",
    "    nans, x = _nan_helper(_y)\n",
    "    _y[nans]= np.interp(x(nans), x(~nans), _y[~nans])\n",
    "    return _y"
   ]
  },
  {
   "cell_type": "markdown",
   "metadata": {},
   "source": [
    "## Data"
   ]
  },
  {
   "cell_type": "code",
   "execution_count": 4,
   "metadata": {
    "ExecuteTime": {
     "end_time": "2017-03-20T09:09:23.529676",
     "start_time": "2017-03-20T09:09:23.526030"
    },
    "collapsed": true,
    "run_control": {
     "frozen": false,
     "read_only": false
    }
   },
   "outputs": [],
   "source": [
    "def load_binned_network(kind, filename):\n",
    "    with open('data/processed_data/binned_networks/'+kind+'/'+filename+'.pkl', 'r') as infile:\n",
    "        return pickle.load(infile)"
   ]
  },
  {
   "cell_type": "markdown",
   "metadata": {},
   "source": [
    "## Visualization"
   ]
  },
  {
   "cell_type": "code",
   "execution_count": 275,
   "metadata": {
    "ExecuteTime": {
     "end_time": "2017-03-22T16:27:05.003175",
     "start_time": "2017-03-22T16:27:04.931435"
    },
    "collapsed": true,
    "run_control": {
     "frozen": false,
     "read_only": false
    }
   },
   "outputs": [],
   "source": [
    "class cmap_in_range:\n",
    "    \"\"\"Create map to range of colors inside given domain.\n",
    "\n",
    "    Example\n",
    "    -------\n",
    "    >>> cmap = cmap_in_range([0, 100])\n",
    "    >>> cmap(10)\n",
    "    (0.30392156862745101, 0.30315267411304353, 0.98816547208125938, 1.0)\n",
    "    \"\"\"\n",
    "    def __init__(self, cmap_domain, cmap_range=[0, 1], cmap_style='rainbow'):\n",
    "        self.cmap_domain = cmap_domain\n",
    "        self.cmap_range = cmap_range\n",
    "        self.m = interp1d(cmap_domain, cmap_range)\n",
    "        self.cmap = plt.get_cmap(cmap_style)\n",
    "        \n",
    "    def __call__(self, value):\n",
    "        if not self.cmap_domain[0] <= value <= self.cmap_domain[1]:\n",
    "            raise Exception(\"Value must be inside cmap_domain.\")\n",
    "        return self.cmap(self.m(value))\n",
    "    \n",
    "def draw(G, partition=False, colormap='rainbow'):\n",
    "    \"\"\"Draw graph G in my standard style.\n",
    "\n",
    "    Input\n",
    "    -----\n",
    "    G : networkx graph\n",
    "    partition : bool\n",
    "    \"\"\"\n",
    "\n",
    "    def shuffle_list(l):\n",
    "        l_out = list(l)[:]\n",
    "        random.shuffle(l_out)\n",
    "        return l_out\n",
    "    \n",
    "    def _get_cols(partition):\n",
    "        return dict(\n",
    "            zip(\n",
    "                shuffle_list(set(partition.values())),\n",
    "                np.linspace(0, 256, len(set(partition.values()))).astype(int)\n",
    "            )\n",
    "        )\n",
    "\n",
    "    cmap = plt.get_cmap(colormap)\n",
    "    if partition == True:\n",
    "        partition = community.best_partition(G)\n",
    "        cols = _get_cols(partition)\n",
    "        colors = [cmap(cols[partition[n]]) for n in G.nodes()]\n",
    "    elif type(partition) is dict and len(partition) == len(G.nodes()):\n",
    "        cols = _get_cols(partition)\n",
    "        colors = [cmap(cols[partition[n]]) for n in G.nodes()]\n",
    "    elif type(partition) in [list, tuple] and len(partition) == len(G.nodes()):\n",
    "        colors = list(partition)\n",
    "    else:\n",
    "        try:\n",
    "            colors = [cmap(n[1]['node_color']) for n in G.nodes(data=True)]\n",
    "        except KeyError:\n",
    "            # nodes do not have node_color attribute\n",
    "            colors = \"grey\"\n",
    "    \n",
    "    pos = nx.nx_pydot.graphviz_layout(G, prog='neato')\n",
    "    nx.draw_networkx_edges(G, pos=pos, width=2, alpha=.3, zorder=-10)\n",
    "    nx.draw_networkx_nodes(G, pos=pos, node_size=120, alpha=1, linewidths=0, node_color=colors)\n",
    "    plt.axis(\"off\")\n",
    "    \n",
    "def plot_bar(data):\n",
    "    \"\"\"Plot bar diagram of key-value pairs\"\"\"\n",
    "    keys, values = zip(*sorted(data.items(), key=lambda (k, v): v, reverse=True))\n",
    "    plt.bar(np.arange(len(keys))+0.5, values)\n",
    "    plt.xticks(range(len(keys)), keys)\n",
    "    \n",
    "def confidence_intervals(x, Y, c, label=\"\", mid_50_percentile=False, lw=0.5):\n",
    "    def _mean_confidence_interval(data, confidence=0.95):\n",
    "        a = 1.0*np.array(data)\n",
    "        n = len(a)\n",
    "        m, se = np.mean(a), st.sem(a)\n",
    "        h = se * st.t._ppf((1+confidence)/2., n-1)\n",
    "        return m, m-h, m+h\n",
    "    \n",
    "    y, y_low, y_upp = map(list, zip(*[_mean_confidence_interval(_y) for _y in Y]))\n",
    "    \n",
    "    plt.fill_between(\n",
    "        x,\n",
    "        y_low,\n",
    "        y_upp,\n",
    "        alpha=0.5,\n",
    "        color=c,\n",
    "        lw=0\n",
    "    )\n",
    "    plt.plot(\n",
    "        x,\n",
    "        y,\n",
    "        lw=lw,\n",
    "        c=c,\n",
    "        label=label\n",
    "    )\n",
    "    plt.scatter(\n",
    "        x,\n",
    "        y,\n",
    "        lw=0,\n",
    "        c=c,\n",
    "        s=5\n",
    "    )"
   ]
  },
  {
   "cell_type": "markdown",
   "metadata": {},
   "source": [
    "\n",
    "## Networks"
   ]
  },
  {
   "cell_type": "code",
   "execution_count": 6,
   "metadata": {
    "ExecuteTime": {
     "end_time": "2017-03-20T09:09:25.410934",
     "start_time": "2017-03-20T09:09:24.608364"
    },
    "collapsed": false,
    "run_control": {
     "frozen": false,
     "read_only": false
    }
   },
   "outputs": [],
   "source": [
    "def Infomap(pajek_string, *args, **kwargs):\n",
    "    \"\"\"Function that pipes commands to subprocess and runs native Infomap implementation.\n",
    "    \n",
    "    Requires two folders (1) 'input' and (2) 'output', in sister-directory of 'infomap' folder\n",
    "    that contains 'Infomap' executable. To setup 'infomap' folder, close Infomap from \n",
    "    https://github.com/mapequation/infomap and run 'make' inside resulting folder.\n",
    "    \n",
    "    Parameters\n",
    "    ----------\n",
    "    pajek_string : str\n",
    "        Pajek representation of the network (str)\n",
    "    *args : dict\n",
    "        Infomap execution options. (http://www.mapequation.org/code.html#Options)\n",
    "    Returns\n",
    "    -------\n",
    "    communities : list of lists\n",
    "    layer_communities : data structure in required format for d3 viz (json)\n",
    "    \"\"\"\n",
    "    \n",
    "    def _get_id_to_label(filename):\n",
    "        def __int_if_int(val):\n",
    "            try: return int(val)\n",
    "            except ValueError: return val\n",
    "        with open('input/' + filename + \".net\", 'r') as fp:\n",
    "            parsed_network = fp.read()\n",
    "        return dict(\n",
    "            (int(n.split()[0]), __int_if_int(n.split('\"')[1]))\n",
    "            for n in re.split(r\"\\*.+\", parsed_network)[1].split(\"\\n\")[1:-1]\n",
    "        )\n",
    "    \n",
    "    def _parse_communities_multiplex(id_to_label, filename):\n",
    "        with open('output/'+filename+\"_expanded.clu\", 'r') as infile:\n",
    "            clusters = infile.read()\n",
    "\n",
    "        # Get layers, nodes and clusters from _extended.clu file\n",
    "        la_no_clu_flow = re.findall(r'\\d+ \\d+ \\d+ \\d\\.\\d+', clusters) # [\"30 1 2 0.00800543\",...]\n",
    "        la_no_clu_flow = [tuple(i.split()) for i in la_no_clu_flow]\n",
    "\n",
    "        node_flow_json = defaultdict(float)      # {layer_node: flow, ...}\n",
    "        community_flow_json = defaultdict(float) # {community: flow, ...}\n",
    "        communities_json = defaultdict(set)      # {layer: {(node, cluster), ...}, ...}\n",
    "        for layer, node, cluster, flow in la_no_clu_flow:\n",
    "            node_flow_json[(int(layer), id_to_label[int(node)])] += float(flow)\n",
    "            community_flow_json[cluster] += float(flow)\n",
    "            communities_json[int(layer)].add((id_to_label[int(node)], int(cluster)))\n",
    "\n",
    "        return communities_json, node_flow_json, community_flow_json\n",
    "    \n",
    "    def _parse_communities_planar(id_to_label, filename):\n",
    "        with open('output/'+filename+\".clu\", 'r') as infile:\n",
    "            clusters = infile.read()\n",
    "        \n",
    "        # Get nodes and clusters from .clu file\n",
    "        no_clu = [tuple(i.split()[:-1]) for i in re.findall(r\"\\d+ \\d+ \\d\\.\\d+\", clusters)]  # [(node, cluster), ...]\n",
    "        return {0: set([(id_to_label[int(no)], int(clu)) for no, clu in no_clu])}\n",
    "    \n",
    "    def _clean_up(filename):\n",
    "        subprocess.call(['rm', 'input/'+filename+'.net'])\n",
    "        subprocess.call(['rm', 'output/'+filename+'_expanded.clu'])\n",
    "        subprocess.call(['rm', 'output/'+filename+'.clu'])\n",
    "    \n",
    "    # Check for process id in args (for multiprocessing)\n",
    "    if args[-1][:3] == \"pid\":\n",
    "        pid = args[-1][3:]\n",
    "        args = args[:-1]\n",
    "    else:\n",
    "        pid = \"\"\n",
    "        \n",
    "    # Set default kwarg params\n",
    "    return_flow = kwargs.get(\"return_flow\", False)\n",
    "        \n",
    "    # Get network in multiplex string format and define filename\n",
    "    filename = 'tmpnet' + pid\n",
    "\n",
    "    # Store locally\n",
    "    with open(\"input/\"+filename+\".net\", 'w') as outfile:\n",
    "        outfile.write(pajek_string)\n",
    "    \n",
    "    # Run Infomap for multiplex network\n",
    "    subprocess.call(\n",
    "        ['./infomap/Infomap', 'input/'+filename+\".net\"] + \\\n",
    "        list(args)\n",
    "    )\n",
    "    \n",
    "    # Parse communities from Infomap output\n",
    "    id_to_label = _get_id_to_label(filename)\n",
    "    \n",
    "    if 'multiplex' in list(args):\n",
    "        parsed_communities, node_flow, community_flow = _parse_communities_multiplex(id_to_label, filename)\n",
    "    if 'pajek' in list(args):\n",
    "        parsed_communities = _parse_communities_planar(id_to_label, filename)\n",
    "        \n",
    "    _clean_up(filename)\n",
    "\n",
    "    orig_clu = [item for sublist in parsed_communities.values() for item in sublist]\n",
    "    communities = dict()\n",
    "    for key, group in itertools.groupby(orig_clu, lambda x: x[1]):\n",
    "        for thing in group:\n",
    "            try:\n",
    "                communities[key].append(thing[0])\n",
    "            except KeyError:\n",
    "                communities[thing[1]] = [thing[0]]\n",
    "    communities = dict((k,set(v)) for k,v in communities.items())\n",
    "\n",
    "    layer_communities = {}\n",
    "    for layer, group in parsed_communities.items():\n",
    "        communities = {}\n",
    "        for no, clu in group:\n",
    "            try:\n",
    "                communities[clu-1].append(no)\n",
    "            except KeyError:\n",
    "                communities[clu-1] = [no]\n",
    "        layer_communities[layer] = communities\n",
    "\n",
    "    if return_flow:\n",
    "        return communities, layer_communities, node_flow, community_flow\n",
    "    else:\n",
    "        return communities, layer_communities\n",
    "    \n",
    "    \n",
    "def build_adjacency_tensor(layers, index=\"zero\"):\n",
    "    nodes = set([\n",
    "        n\n",
    "        for l in layers\n",
    "        for n in list(l['user1']) + list(l['user2'])\n",
    "    ])\n",
    "    \n",
    "    ind = dict((n, i) for i, n in enumerate(nodes))\n",
    "    \n",
    "    A = defaultdict(int)\n",
    "    for l, layer in enumerate(layers):\n",
    "        for _, row in layer.iterrows():\n",
    "            # Must add both ways if undirected so A becomes symmetrical. If only added one-way\n",
    "            # triu will only be connections from 'user' and and tril from 'bt_mac' or vice versa.\n",
    "            if index == \"zero\":\n",
    "                A[(ind[row['user1']], ind[row['user2']], l)] += 1\n",
    "                A[(ind[row['user2']], ind[row['user1']], l)] += 1\n",
    "            else:\n",
    "                A[(row['user1'], row['user2'], l)] += 1\n",
    "                A[(row['user2'], row['user1'], l)] += 1\n",
    "    return A\n",
    "\n",
    "\n",
    "def write_pajek(A, node_labels=None, index_from=0):\n",
    "    \"\"\"Return multiplex representation of multiplex network adjacency matrix A\n",
    "    \n",
    "    Providing an adjacency tensor where A[:, :, k] is adjacency matrix of temporal\n",
    "    layer k, return a pajek format representation of the temporal network which weights interlayer\n",
    "    edges by state node neighborhood similarity. \n",
    "    \n",
    "    Parameters\n",
    "    ----------\n",
    "    A : numpy.3darray\n",
    "        3d tensor where each A[:, :, k] is a layer adjacency matrix\n",
    "    node_labels : list\n",
    "        List of node labels if (optional)\n",
    "    index_from : int\n",
    "        From which number to index nodes and layers in pajek format from (default=0)\n",
    "\n",
    "    Returns\n",
    "    -------\n",
    "    out : string\n",
    "        A network string in pajek format\n",
    "    \"\"\"\n",
    "    \n",
    "    def _write_outfile(A):\n",
    "        \"\"\"Write nodes and intra/inter-edges from A and J to string.\"\"\"\n",
    "        def __remove_symmetry_A(A):\n",
    "            A_triu = defaultdict(int)\n",
    "            for (i, j, k), w in A.items():\n",
    "                if j > i:\n",
    "                    A_triu[(i, j, k)] = w\n",
    "            return A_triu\n",
    "        def __write_nodes(outfile):\n",
    "            outfile += \"*Vertices %d\" % Nn\n",
    "            for nid, label in enumerate(nodes):\n",
    "                outfile += '\\n%d \"%s\" 1.0' % (nid + index_from, str(label))\n",
    "            return outfile\n",
    "        def __write_intra_edges(outfile):\n",
    "            outfile += \"\\n*Intra\\n# layer node node [weight]\"\n",
    "            for (i, j, k), w in __remove_symmetry_A(A).items():\n",
    "                outfile += '\\n%d %d %d %f' % (\n",
    "                    k + index_from,  # layer\n",
    "                    nodemap[i] + index_from,  # node\n",
    "                    nodemap[j] + index_from,  # node\n",
    "                    w                # weight\n",
    "                )\n",
    "            return outfile\n",
    "        \n",
    "        outfile = \"\"\n",
    "        outfile = __write_nodes(outfile)\n",
    "        outfile = __write_intra_edges(outfile)\n",
    "        \n",
    "        return outfile\n",
    "    \n",
    "    nodes = sorted(set([n for i, j, _ in A.keys() for n in [i, j]]))\n",
    "    Nn = len(nodes)\n",
    "    Nl = len(set([k for i, j, k in A.keys()]))\n",
    "    \n",
    "    nodemap = dict(zip(nodes, range(Nn)))\n",
    "\n",
    "    return _write_outfile(A)\n",
    "\n",
    "def simple_compute_layer_commu_4_models(network_pajek, network, layer_indices):\n",
    "    \"\"\"Compute for each model once and return results\"\"\"\n",
    "    _, layer_commu_pred_JSL = Infomap(\n",
    "        network_pajek,\n",
    "        'output/',\n",
    "        '-i',\n",
    "        'multiplex',\n",
    "        '--multiplex-js-relax-rate', '0.25',\n",
    "        '--overlapping',\n",
    "        '--expanded',\n",
    "        '--clu',\n",
    "        '--two-level',\n",
    "        '-z',\n",
    "        'pid%d' % random.randint(0, 1000000)\n",
    "    )\n",
    "\n",
    "    _, layer_commu_pred_FL = Infomap(\n",
    "        network_pajek,\n",
    "        'output/',\n",
    "        '-i',\n",
    "        'multiplex',\n",
    "        '--multiplex-relax-rate', '0.25',\n",
    "        '--overlapping',\n",
    "        '--expanded',\n",
    "        '--clu',\n",
    "        '--two-level',\n",
    "        '-z',\n",
    "        'pid%d' % random.randint(0, 1000000)\n",
    "    )\n",
    "\n",
    "    _, layer_commu_pred_AL = Infomap(\n",
    "        network_pajek,\n",
    "        'output/',\n",
    "        '-i',\n",
    "        'multiplex',\n",
    "        '--multiplex-relax-rate', '0.25',\n",
    "        '--multiplex-relax-limit', '1',\n",
    "        '--overlapping',\n",
    "        '--expanded',\n",
    "        '--clu',\n",
    "        '--two-level',\n",
    "        '-z',\n",
    "        'pid%d' % random.randint(0, 1000000)\n",
    "    )\n",
    "\n",
    "    _, layer_commu_pred_NL = Infomap(\n",
    "        network_pajek,\n",
    "        'output/',\n",
    "        '-i',\n",
    "        'multiplex',\n",
    "        '--multiplex-relax-rate', '0.0',\n",
    "        '--multiplex-relax-limit', '1',\n",
    "        '--overlapping',\n",
    "        '--expanded',\n",
    "        '--clu',\n",
    "        '--two-level',\n",
    "        '-z',\n",
    "        'pid%d' % random.randint(0, 1000000)\n",
    "    )\n",
    "    \n",
    "    # Format\n",
    "    layer_commu_pred_JSL = dict((layer_indices[k], v) for k, v in layer_commu_pred_JSL.items())\n",
    "    layer_commu_pred_FL = dict((layer_indices[k], v) for k, v in layer_commu_pred_FL.items())\n",
    "    layer_commu_pred_AL = dict((layer_indices[k], v) for k, v in layer_commu_pred_AL.items())\n",
    "    layer_commu_pred_NL = dict((layer_indices[k], v) for k, v in layer_commu_pred_NL.items())\n",
    "\n",
    "    ## Remove FL extra nodes\n",
    "    for l, partition in layer_commu_pred_FL.items():\n",
    "        nodes_l = set(network[l]['user1'].values) | set(network[l]['user2'].values)\n",
    "        layer_commu_pred_FL[l] = invert_partition(dict((n, c) for n, c in invert_partition(partition).items() if n in nodes_l))\n",
    "        \n",
    "    ## Remove AL extra nodes\n",
    "    for l, partition in layer_commu_pred_AL.items():\n",
    "        nodes_l = set(network[l]['user1'].values) | set(network[l]['user2'].values)\n",
    "        layer_commu_pred_AL[l] = invert_partition(dict((n, c) for n, c in invert_partition(partition).items() if n in nodes_l))\n",
    "    \n",
    "    return [layer_commu_pred_JSL], [layer_commu_pred_FL], [layer_commu_pred_AL], [layer_commu_pred_NL]\n",
    "\n",
    "def worker_compute_layer_commu_4_models((network_pajek, network, layer_indices, identifier, _iter)):\n",
    "    \n",
    "    def _save_layer_commu(layer_commu, name):\n",
    "        with open(\"data_cache/%s.json\" % name, 'w') as fp:\n",
    "            json.dump(layer_commu, fp)\n",
    "            \n",
    "    ts_JSL = dt.now().strftime(\"%s\")\n",
    "    _, layer_commu_pred_JSL = Infomap(\n",
    "        network_pajek,\n",
    "        'output/',\n",
    "        '-i',\n",
    "        'multiplex',\n",
    "        '--multiplex-js-relax-rate', '0.25',\n",
    "        '--overlapping',\n",
    "        '--expanded',\n",
    "        '--clu',\n",
    "        '--two-level',\n",
    "        '-z',\n",
    "        'pid%d' % random.randint(0, 1000000)\n",
    "    )\n",
    "\n",
    "    ts_FL = dt.now().strftime(\"%s\")\n",
    "    _, layer_commu_pred_FL = Infomap(\n",
    "        network_pajek,\n",
    "        'output/',\n",
    "        '-i',\n",
    "        'multiplex',\n",
    "        '--multiplex-relax-rate', '0.25',\n",
    "        '--overlapping',\n",
    "        '--expanded',\n",
    "        '--clu',\n",
    "        '--two-level',\n",
    "        '-z',\n",
    "        'pid%d' % random.randint(0, 1000000)\n",
    "    )\n",
    "\n",
    "    ts_AL = dt.now().strftime(\"%s\")\n",
    "    _, layer_commu_pred_AL = Infomap(\n",
    "        network_pajek,\n",
    "        'output/',\n",
    "        '-i',\n",
    "        'multiplex',\n",
    "        '--multiplex-relax-rate', '0.25',\n",
    "        '--multiplex-relax-limit', '1',\n",
    "        '--overlapping',\n",
    "        '--expanded',\n",
    "        '--clu',\n",
    "        '--two-level',\n",
    "        '-z',\n",
    "        'pid%d' % random.randint(0, 1000000)\n",
    "    )\n",
    "\n",
    "    ts_NL = dt.now().strftime(\"%s\")\n",
    "    _, layer_commu_pred_NL = Infomap(\n",
    "        network_pajek,\n",
    "        'output/',\n",
    "        '-i',\n",
    "        'multiplex',\n",
    "        '--multiplex-relax-rate', '0.0',\n",
    "        '--multiplex-relax-limit', '1',\n",
    "        '--overlapping',\n",
    "        '--expanded',\n",
    "        '--clu',\n",
    "        '--two-level',\n",
    "        '-z',\n",
    "        'pid%d' % random.randint(0, 1000000)\n",
    "    )\n",
    "    \n",
    "    # Format\n",
    "    layer_commu_pred_JSL = dict((layer_indices[k], v) for k, v in layer_commu_pred_JSL.items())\n",
    "    layer_commu_pred_FL = dict((layer_indices[k], v) for k, v in layer_commu_pred_FL.items())\n",
    "    layer_commu_pred_AL = dict((layer_indices[k], v) for k, v in layer_commu_pred_AL.items())\n",
    "    layer_commu_pred_NL = dict((layer_indices[k], v) for k, v in layer_commu_pred_NL.items())\n",
    "\n",
    "    ## Remove FL extra nodes\n",
    "    for l, partition in layer_commu_pred_FL.items():\n",
    "        nodes_l = set(network[l]['user1'].values) | set(network[l]['user2'].values)\n",
    "        layer_commu_pred_FL[l] = invert_partition(dict((n, c) for n, c in invert_partition(partition).items() if n in nodes_l))\n",
    "        \n",
    "    ## Remove AL extra nodes\n",
    "    for l, partition in layer_commu_pred_AL.items():\n",
    "        nodes_l = set(network[l]['user1'].values) | set(network[l]['user2'].values)\n",
    "        layer_commu_pred_AL[l] = invert_partition(dict((n, c) for n, c in invert_partition(partition).items() if n in nodes_l))\n",
    "\n",
    "    _save_layer_commu(layer_commu_pred_JSL, \"layer_commu_pred_JSL_%s_%s\" % (identifier, ts_JSL))\n",
    "    _save_layer_commu(layer_commu_pred_FL, \"layer_commu_pred_FL_%s_%s\" % (identifier, ts_FL))\n",
    "    _save_layer_commu(layer_commu_pred_AL, \"layer_commu_pred_AL_%s_%s\" % (identifier, ts_AL))\n",
    "    _save_layer_commu(layer_commu_pred_NL, \"layer_commu_pred_NL_%s_%s\" % (identifier, ts_NL))\n",
    "    \n",
    "\n",
    "def compute_layer_commu_4_models(network_pajek, network, layer_indices, identifier, n_iter, parallel=False):\n",
    "    \"\"\"Compute layer commu for all models.\"\"\"\n",
    "    \n",
    "    def _load_all_layer_commu(model, identifier):\n",
    "        def __make_keys_int(layer_commu):\n",
    "            \"\"\"Convert all keys in a layer-partition json to ints (they are str when loaded).\"\"\"\n",
    "            return dict(\n",
    "                (int(k), dict((int(_k), _v) for _k, _v in v.items()))\n",
    "                for k, v in layer_commu.items()\n",
    "            )\n",
    "        layer_commu_arr = []\n",
    "        for filename in [filename for filename in os.listdir(\"data_cache\") if (\"layer_commu_pred_%s_%s\" % (model, identifier)) in filename]:\n",
    "            with open(\"data_cache/%s\" % filename, 'r') as fp:\n",
    "                layer_commu_arr.append(__make_keys_int(json.load(fp)))\n",
    "        return layer_commu_arr\n",
    "    \n",
    "    if n_iter > 0:\n",
    "        data = [(network_pajek, network, layer_indices, identifier, _iter) for _iter in range(n_iter)]\n",
    "\n",
    "        if parallel:\n",
    "            p = Pool(6 if len(data) > 6 else len(data))\n",
    "            p.map(worker_compute_layer_commu_4_models, data)\n",
    "            p.close()\n",
    "        else:\n",
    "            map(worker_compute_layer_commu_4_models, data)\n",
    "                          \n",
    "    layer_commu_pred_JSL_arr = _load_all_layer_commu(\"JSL\", identifier)\n",
    "    layer_commu_pred_FL_arr = _load_all_layer_commu(\"FL\", identifier)\n",
    "    layer_commu_pred_AL_arr = _load_all_layer_commu(\"AL\", identifier)\n",
    "    layer_commu_pred_NL_arr = _load_all_layer_commu(\"NL\", identifier)\n",
    "    \n",
    "    return layer_commu_pred_JSL_arr, layer_commu_pred_FL_arr, layer_commu_pred_AL_arr, layer_commu_pred_NL_arr"
   ]
  },
  {
   "cell_type": "markdown",
   "metadata": {},
   "source": [
    "## Analysis"
   ]
  },
  {
   "cell_type": "code",
   "execution_count": 261,
   "metadata": {
    "ExecuteTime": {
     "end_time": "2017-03-22T16:13:02.998938",
     "start_time": "2017-03-22T16:13:02.369756"
    },
    "collapsed": true,
    "run_control": {
     "frozen": false,
     "read_only": false
    }
   },
   "outputs": [],
   "source": [
    "def NMI_score(p1, p2):\n",
    "    \"\"\"Takes two partitions in dict format and returns NMI of partition of common nodes.\"\"\"\n",
    "    nodes = sorted(set(p1.keys()) & set(p2.keys()))\n",
    "    return normalized_mutual_info_score(\n",
    "        [p1[n] for n in nodes],\n",
    "        [p2[n] for n in nodes]\n",
    "    )\n",
    "\n",
    "def compute_entropy_and_overlap(communities):\n",
    "    entropy, overlap = [], []\n",
    "    for n, coms in communities.items():\n",
    "        coms_count = Counter(coms).values()\n",
    "        entropy.append(shannon_entropy(coms_count))\n",
    "        overlap.append(len(coms_count))\n",
    "    return entropy, overlap\n",
    "\n",
    "def solution_average_NMI(layer_commu, partition):\n",
    "    avg_NMI = []\n",
    "    for l, layer_partition in layer_commu.items():\n",
    "        avg_NMI.append(NMI_score(invert_partition(layer_partition), partition))\n",
    "    return avg_NMI\n",
    "\n",
    "def count_state_nodes(network):\n",
    "    count = 0\n",
    "    for df in network:\n",
    "        count += len(set(df['user1'].values) | set(df['user1'].values))\n",
    "    return count\n",
    "\n",
    "def compute_community_entropy(layer_commu, partition):\n",
    "    community_teams = dict()\n",
    "    for c, nodes in community_nodes(layer_commu).items():\n",
    "        community_teams[c] = Counter([partition[n] for n in nodes if n in partition])\n",
    "    return [shannon_entropy(counter.values()) for _, counter in community_teams.items()]\n",
    "\n",
    "def compute_community_size(layer_commu, network):\n",
    "    num_state_nodes = count_state_nodes(network)\n",
    "    sizes = []\n",
    "    for _, nodes in community_nodes(layer_commu).items():\n",
    "        sizes.append(len(nodes) * 1.0 / num_state_nodes)\n",
    "    return sizes\n",
    "\n",
    "def worker_compute_mixing_layer_commu((layer_commu, network)):\n",
    "    \"\"\"Worker for parallel processing.\"\"\"\n",
    "    def _layer_mixing(layer_network, layer_partition):\n",
    "        \"\"\"Compute mixing inside later.\"\"\"\n",
    "        layer_partition_inv = invert_partition(layer_partition)\n",
    "\n",
    "        nodes_df = set(layer_network['user1'].values) | set(layer_network['user2'].values)\n",
    "        nodes_lc = set([v for arr in layer_partition.values() for v in arr])\n",
    "\n",
    "        skip_nodes = []\n",
    "        if nodes_df != nodes_lc:\n",
    "            #print \"Warning: nodes_df != nodes_lc:\",\n",
    "            skip_nodes = [k for k, v in Counter(list(nodes_df) + list(nodes_lc)).items() if v == 1]\n",
    "            #print skip_nodes\n",
    "            nodes_df = nodes_df - set(skip_nodes)\n",
    "\n",
    "        score = []\n",
    "        for ni in nodes_df:\n",
    "            endpoints = [\n",
    "                p for p in\n",
    "                list(layer_network[(layer_network['user1'] == ni)]['user2'].values) + \\\n",
    "                list(layer_network[(layer_network['user2'] == ni)]['user1'].values)\n",
    "                if p not in skip_nodes\n",
    "            ]\n",
    "\n",
    "            # Compute in-out mixing\n",
    "            connected_communities = Counter(\n",
    "                'in' if layer_partition_inv[nj] == layer_partition_inv[ni] \n",
    "                else 'out'\n",
    "                for nj in endpoints\n",
    "            )\n",
    "            norm = sum(connected_communities.values()) if sum(connected_communities.values()) > 0 else 1\n",
    "            score.append(connected_communities['out'] * 1.0 / norm)\n",
    "        return score\n",
    "    return [\n",
    "        np.mean(_layer_mixing(network[l], layer_partition))\n",
    "        for l, layer_partition in sorted(layer_commu.items(), key=lambda (k, v): k)\n",
    "    ]\n",
    "\n",
    "def compute_mixing_layer_commu(layer_commu_arr, network, parallel=False):\n",
    "    \"\"\"Take layer-partition json, or list of such, and return array of layer mixing values.\"\"\"\n",
    "    \n",
    "    # If input is single layer-partition json, that's OK too.\n",
    "    if type(layer_commu_arr) != list:\n",
    "        layer_commu_arr = [layer_commu_arr]\n",
    "    \n",
    "    data = zip(layer_commu_arr, [network] * len(layer_commu_arr))\n",
    "    \n",
    "    if parallel:\n",
    "        p = Pool(8 if len(data) > 8 else len(data))\n",
    "        res = p.map(worker_compute_mixing_layer_commu, data)\n",
    "        p.close()\n",
    "    else:\n",
    "        res = map(worker_compute_mixing_layer_commu, data)\n",
    "    \n",
    "    # Compute mixing\n",
    "    mixing = []\n",
    "    for mixing_iter in res:\n",
    "        mixing.extend(mixing_iter)\n",
    "        \n",
    "    return mixing\n",
    "\n",
    "def community_members(layer_commu):\n",
    "    commu_members = defaultdict(set)\n",
    "    for l, layer_partition in layer_commu.items():\n",
    "        for c, nodes in layer_partition.items():\n",
    "            commu_members[c].update(nodes)\n",
    "    return commu_members\n",
    "\n",
    "def participation_similarity(layer_commu):\n",
    "    \"\"\"Returns pairwise community participation profile cosine similarities.\"\"\"\n",
    "    # Count node participation for each community\n",
    "    all_nodes = set()\n",
    "    commu_participation_profile = defaultdict(Counter)\n",
    "    for l, layer_partition in layer_commu.items():\n",
    "        for c, nodes in layer_partition.items():\n",
    "            commu_participation_profile[c].update(nodes)\n",
    "            all_nodes.update(nodes)\n",
    "\n",
    "    # Compute pairwise cosine similarity of participation profiles\n",
    "    participation_vectors = np.array(\n",
    "        [\n",
    "            np.array([commu_participation_profile[c][n] for n in all_nodes])# * 1.0 / sum(commu_participation_profile[c].values())\n",
    "            for c in sorted(commu_participation_profile.keys())\n",
    "        ]\n",
    "    )\n",
    "    similarity_matrix = cosine_similarity(\n",
    "        participation_vectors\n",
    "    )\n",
    "    \n",
    "    # Extract upper triangle of similarity matrix\n",
    "    return [\n",
    "        similarity_matrix[i, j]\n",
    "        for i in range(similarity_matrix.shape[0])\n",
    "        for j in range(similarity_matrix.shape[1])\n",
    "        if j > i\n",
    "    ]\n",
    "\n",
    "def communities_connectedness(layer_commu, network):\n",
    "    \"\"\"Compute the number of links between each dyad in each community\"\"\"\n",
    "    commu_connectedness = defaultdict(lambda: defaultdict(int))\n",
    "    for l, partition in layer_commu.items():\n",
    "        links_l_counter = Counter([tuple(sorted(d)) for d in zip(network[l]['user1'].values, network[l]['user2'].values)])\n",
    "        for c, nodes in partition.items():\n",
    "            for dyad in get_dyads(nodes):\n",
    "                commu_connectedness[c][dyad] += links_l_counter[dyad]\n",
    "    return commu_connectedness\n",
    "\n",
    "def between_layer_community_similarity(layer_commu):\n",
    "    \"\"\"Compute a interlayer similarity matrix for each community, that compares each instance\n",
    "    of a community to every other ones. This is done for every communities, so the resulting\n",
    "    data structure is a three-way matrix where each [:, :, k] face is a similarity matrix for\n",
    "    community k.\"\"\"\n",
    "    \n",
    "    # Get dimensions of similarity tensor\n",
    "    coms, layers = set(), set()\n",
    "    for l, layer_partition in layer_commu.items():\n",
    "        layers.add(l)\n",
    "        coms.update(layer_partition.keys())\n",
    "    \n",
    "    # Matrix indices\n",
    "    index_layers = dict(zip(sorted(layers), range(len(layers))))\n",
    "    index_commus = dict(zip(sorted(coms), range(len(coms))))\n",
    "\n",
    "    # Compute similarity matrix\n",
    "    similarity_matrix = np.empty((len(layers), len(layers), len(coms))) * np.nan\n",
    "    for l_i, layer_partition_i in layer_commu.items():\n",
    "        for l_j, layer_partition_j in layer_commu.items():\n",
    "            if l_i >= l_j: continue\n",
    "            i = index_layers[l_i]\n",
    "            j = index_layers[l_j]\n",
    "            for c_i_k, nodes_i_k in layer_partition_i.items():\n",
    "                for c_j_k, nodes_j_k in layer_partition_j.items():\n",
    "                    if c_i_k == c_j_k:\n",
    "                        k = index_commus[c_j_k]\n",
    "                        similarity_matrix[i, j, k] = jaccard_similarity(nodes_i_k, nodes_j_k)\n",
    "    \n",
    "    return similarity_matrix\n",
    "\n",
    "def diagonal_commu_mean(mat, offset):\n",
    "    return np.nanmean(np.diagonal(mat, offset), 0)\n",
    "\n",
    "def merge_adjacent_layers(layer_commu, width=1):\n",
    "    layer_commu_modified = defaultdict(lambda: defaultdict(set))\n",
    "    for l_source, l_partition in layer_commu.items():\n",
    "        for c, nodes in l_partition.items():\n",
    "            for l_target in range(l_source-width, l_source+width+1):\n",
    "                if l_target in layer_commu and c in layer_commu[l_target]:\n",
    "                    layer_commu_modified[l_target][c].update(nodes)\n",
    "    return dict((k, dict((c, list(n)) for c, n in v.items())) for k, v in layer_commu_modified.items())\n",
    "\n",
    "def compute_participation_profile(layer_commu):\n",
    "    commu_participation_profile = defaultdict(Counter)\n",
    "    for l, layer_partition in layer_commu.items():\n",
    "        for c, nodes in layer_partition.items():\n",
    "            commu_participation_profile[c].update(nodes)\n",
    "    return commu_participation_profile\n",
    "\n",
    "def daily_distr_community_similarity_to_prev_instance(layer_commu):\n",
    "    \"\"\"Compute Daily average community participation profile similarity to previous day\"\"\"\n",
    "    def daily_participation_profile(layer_commu):\n",
    "        layer_ranges = zip(\n",
    "            range(0, max(layer_commu.keys()), 144),\n",
    "            range(144, max(layer_commu.keys())+144, 144)\n",
    "        )\n",
    "\n",
    "        # Remove weekend\n",
    "        del layer_ranges[5:7]\n",
    "\n",
    "        all_nodes = sorted(set([n for _, partition in layer_commu.items() for _, nodes in partition.items() for n in nodes]))\n",
    "\n",
    "        day_participation_profile = defaultdict(lambda: defaultdict(list))\n",
    "        for day, (ls, lt) in enumerate(layer_ranges):\n",
    "            layer_commu_day = dict()\n",
    "            for l in range(ls, lt):\n",
    "                if l in layer_commu:\n",
    "                    layer_commu_day[l] = layer_commu[l]\n",
    "\n",
    "            participation_profile = compute_participation_profile(layer_commu_day)\n",
    "            for c, pp in participation_profile.items():\n",
    "                day_participation_profile[c][day] = np.array([pp[n] for n in sorted(all_nodes)])\n",
    "\n",
    "        return day_participation_profile\n",
    "\n",
    "    def instance_similarity_to_prev_instance(day_participation_profile):\n",
    "        return_ds = defaultdict(lambda: defaultdict(float))\n",
    "        for c, data in day_participation_profile.items():\n",
    "            data = sorted(data.items(), key=lambda (k, v): k)\n",
    "            for i, (day, pp) in enumerate(data[1:], 1):\n",
    "                return_ds[c][day] = cosine_similarity(pp.reshape(-1, 1).T, data[i-1][1].reshape(-1, 1).T)[0][0]\n",
    "        return return_ds\n",
    "\n",
    "    commu_day_participation_profile = daily_participation_profile(layer_commu)\n",
    "    commu_instance_similarity_to_pre_instance = instance_similarity_to_prev_instance(commu_day_participation_profile)\n",
    "\n",
    "    day_prev_instance_similarity = defaultdict(list)\n",
    "    for _, data in commu_instance_similarity_to_pre_instance.items():\n",
    "        for day, sim in data.items():\n",
    "            day_prev_instance_similarity[day].append(sim)\n",
    "    \n",
    "    x = list(zip(*sorted(day_prev_instance_similarity.items(), key=lambda (k, v): k))[0])\n",
    "    Y = list(zip(*sorted(day_prev_instance_similarity.items(), key=lambda (k, v): k))[1])\n",
    "    \n",
    "    return x, Y\n",
    "\n",
    "def days_new_communities(layer_commu_pred, thr=0, interval=55):\n",
    "    periods, new_communities, communities, all_communities = [], [], [], set()\n",
    "    for i in range(int(np.ceil(len(layer_commu_pred) / float(interval)))):\n",
    "        interval_communities = set()\n",
    "        layers = sorted(layer_commu_pred.keys())[i*interval:(i+1)*interval]\n",
    "        for l in layers:\n",
    "            l_communities = [k for k, v in layer_commu_pred[l].items() if len(v) > thr]\n",
    "            interval_communities.update(l_communities)\n",
    "        new_communities.append(len(interval_communities - all_communities))\n",
    "        communities.append(len(interval_communities))\n",
    "        all_communities.update(list(interval_communities))\n",
    "        periods.append(i)\n",
    "    return np.array(periods), np.array(new_communities), np.array(communities)"
   ]
  },
  {
   "cell_type": "markdown",
   "metadata": {},
   "source": [
    "## Not used"
   ]
  },
  {
   "cell_type": "code",
   "execution_count": null,
   "metadata": {
    "ExecuteTime": {
     "end_time": "2017-03-15T06:53:11.681082",
     "start_time": "2017-03-15T06:53:11.673940"
    },
    "collapsed": false,
    "run_control": {
     "frozen": false,
     "read_only": false
    }
   },
   "outputs": [],
   "source": []
  },
  {
   "cell_type": "markdown",
   "metadata": {},
   "source": [
    "# **Load and preprocess**"
   ]
  },
  {
   "cell_type": "markdown",
   "metadata": {},
   "source": [
    "## *Sensible DTU*"
   ]
  },
  {
   "cell_type": "markdown",
   "metadata": {},
   "source": [
    "### Load"
   ]
  },
  {
   "cell_type": "code",
   "execution_count": 8,
   "metadata": {
    "ExecuteTime": {
     "end_time": "2017-03-20T09:10:20.004543",
     "start_time": "2017-03-20T09:10:17.040857"
    },
    "collapsed": true,
    "run_control": {
     "frozen": false,
     "read_only": false
    }
   },
   "outputs": [],
   "source": [
    "network_sensible = load_binned_network('1month_data_new','10mins_short_new'); fof = 2"
   ]
  },
  {
   "cell_type": "markdown",
   "metadata": {},
   "source": [
    "### Format as list of DFs"
   ]
  },
  {
   "cell_type": "code",
   "execution_count": 9,
   "metadata": {
    "ExecuteTime": {
     "end_time": "2017-03-20T09:10:20.835531",
     "start_time": "2017-03-20T09:10:20.007225"
    },
    "collapsed": false,
    "run_control": {
     "frozen": false,
     "read_only": false
    }
   },
   "outputs": [],
   "source": [
    "# Make slices for a span of days (e.g. monday to friday)\n",
    "# The below configuration gives exactly the three-week period in january 2014\n",
    "spd = 288 / fof  # slices per day\n",
    "smargin_start = 0#spd / 3\n",
    "smargin_end = 0#spd / 3 - 6\n",
    "dow = 0\n",
    "\n",
    "# Correct to have empty layers where data is not used (similar to workplace)\n",
    "network1 = [\n",
    "    l\n",
    "    for d in range(0, 5) + range(7, 12)# + range(14, 19)\n",
    "    for l in network_sensible[spd*(dow+5+d)+smargin_start:spd*(dow+6+d)-smargin_end]\n",
    "]\n",
    "\n",
    "# Null out layers in non-work hours\n",
    "network1_wh = [\n",
    "    df if 8 < (l%144)/6 < 17 else \n",
    "    pd.DataFrame(columns = ['timestamp', 'user1', 'user2'])\n",
    "    for l, df in enumerate(network1)\n",
    "]\n",
    "network1_fh = [\n",
    "    df if ((l%144)/6 < 8 or (l%144)/6 > 17) else \n",
    "    pd.DataFrame(columns = ['timestamp', 'user1', 'user2'])\n",
    "    for l, df in enumerate(network1)\n",
    "]"
   ]
  },
  {
   "cell_type": "markdown",
   "metadata": {},
   "source": [
    "### Format as pajek"
   ]
  },
  {
   "cell_type": "code",
   "execution_count": 10,
   "metadata": {
    "ExecuteTime": {
     "end_time": "2017-03-20T09:11:05.394562",
     "start_time": "2017-03-20T09:10:22.594664"
    },
    "collapsed": true,
    "run_control": {
     "frozen": false,
     "read_only": false
    }
   },
   "outputs": [],
   "source": [
    "layer_indices1_wh = [l for l, n in enumerate(network1_wh) if n.shape[0] > 0]\n",
    "A1_wh = build_adjacency_tensor([n for n in network1_wh if n.shape[0] > 0], index=None)\n",
    "network_pajek1_wh = write_pajek(A1_wh)\n",
    "\n",
    "layer_indices1_fh = [l for l, n in enumerate(network1_fh) if n.shape[0] > 0]\n",
    "A1_fh = build_adjacency_tensor([n for n in network1_fh if n.shape[0] > 0], index=None)\n",
    "network_pajek1_fh = write_pajek(A1_fh)"
   ]
  },
  {
   "cell_type": "markdown",
   "metadata": {},
   "source": [
    "### Get predefined partitions"
   ]
  },
  {
   "cell_type": "markdown",
   "metadata": {},
   "source": [
    "#### Study line"
   ]
  },
  {
   "cell_type": "code",
   "execution_count": 11,
   "metadata": {
    "ExecuteTime": {
     "end_time": "2017-03-20T07:00:38.202755",
     "start_time": "2017-03-20T07:00:37.940296"
    },
    "collapsed": false,
    "run_control": {
     "frozen": false,
     "read_only": false
    }
   },
   "outputs": [
    {
     "ename": "KeyError",
     "evalue": "'results'",
     "output_type": "error",
     "traceback": [
      "\u001b[0;31m---------------------------------------------------------------------------\u001b[0m",
      "\u001b[0;31mKeyError\u001b[0m                                  Traceback (most recent call last)",
      "\u001b[0;32m<ipython-input-11-6ad8fae0314e>\u001b[0m in \u001b[0;36m<module>\u001b[0;34m()\u001b[0m\n\u001b[0;32m----> 1\u001b[0;31m \u001b[0mstudy_line_raw\u001b[0m \u001b[0;34m=\u001b[0m \u001b[0mrq\u001b[0m\u001b[0;34m.\u001b[0m\u001b[0mget\u001b[0m\u001b[0;34m(\u001b[0m\u001b[0;34m\"https://www.sensible.dtu.dk/sensible-dtu/connectors/connector_raw/v1/user/?bearer_token=7de23992eb4815d062e098e7f391bb&attributes=study_line\"\u001b[0m\u001b[0;34m)\u001b[0m\u001b[0;34m.\u001b[0m\u001b[0mjson\u001b[0m\u001b[0;34m(\u001b[0m\u001b[0;34m)\u001b[0m\u001b[0;34m[\u001b[0m\u001b[0;34m'results'\u001b[0m\u001b[0;34m]\u001b[0m\u001b[0;34m\u001b[0m\u001b[0m\n\u001b[0m\u001b[1;32m      2\u001b[0m \u001b[0;32mwith\u001b[0m \u001b[0mopen\u001b[0m\u001b[0;34m(\u001b[0m\u001b[0;34m'data_cache/userid_map.json'\u001b[0m\u001b[0;34m,\u001b[0m \u001b[0;34m'r'\u001b[0m\u001b[0;34m)\u001b[0m \u001b[0;32mas\u001b[0m \u001b[0mfp\u001b[0m\u001b[0;34m:\u001b[0m\u001b[0;34m\u001b[0m\u001b[0m\n\u001b[1;32m      3\u001b[0m     \u001b[0muserid_map\u001b[0m \u001b[0;34m=\u001b[0m \u001b[0mdict\u001b[0m\u001b[0;34m(\u001b[0m\u001b[0;34m(\u001b[0m\u001b[0mk\u001b[0m\u001b[0;34m,\u001b[0m \u001b[0mint\u001b[0m\u001b[0;34m(\u001b[0m\u001b[0mv\u001b[0m\u001b[0;34m)\u001b[0m\u001b[0;34m)\u001b[0m \u001b[0;32mfor\u001b[0m \u001b[0mk\u001b[0m\u001b[0;34m,\u001b[0m \u001b[0mv\u001b[0m \u001b[0;32min\u001b[0m \u001b[0mjson\u001b[0m\u001b[0;34m.\u001b[0m\u001b[0mload\u001b[0m\u001b[0;34m(\u001b[0m\u001b[0mfp\u001b[0m\u001b[0;34m)\u001b[0m\u001b[0;34m.\u001b[0m\u001b[0mitems\u001b[0m\u001b[0;34m(\u001b[0m\u001b[0;34m)\u001b[0m\u001b[0;34m)\u001b[0m\u001b[0;34m\u001b[0m\u001b[0m\n\u001b[1;32m      4\u001b[0m \u001b[0mstudent_study_line\u001b[0m \u001b[0;34m=\u001b[0m \u001b[0mdict\u001b[0m\u001b[0;34m(\u001b[0m\u001b[0;34m(\u001b[0m\u001b[0muserid_map\u001b[0m\u001b[0;34m[\u001b[0m\u001b[0md\u001b[0m\u001b[0;34m[\u001b[0m\u001b[0;34m'user'\u001b[0m\u001b[0;34m]\u001b[0m\u001b[0;34m]\u001b[0m\u001b[0;34m,\u001b[0m \u001b[0md\u001b[0m\u001b[0;34m[\u001b[0m\u001b[0;34m'study_line'\u001b[0m\u001b[0;34m]\u001b[0m\u001b[0;34m)\u001b[0m \u001b[0;32mfor\u001b[0m \u001b[0md\u001b[0m \u001b[0;32min\u001b[0m \u001b[0mstudy_line_raw\u001b[0m \u001b[0;32mif\u001b[0m \u001b[0;34m'study_line'\u001b[0m \u001b[0;32min\u001b[0m \u001b[0md\u001b[0m\u001b[0;34m)\u001b[0m\u001b[0;34m\u001b[0m\u001b[0m\n",
      "\u001b[0;31mKeyError\u001b[0m: 'results'"
     ]
    }
   ],
   "source": [
    "study_line_raw = rq.get(\"https://www.sensible.dtu.dk/sensible-dtu/connectors/connector_raw/v1/user/?bearer_token=7de23992eb4815d062e098e7f391bb&attributes=study_line\").json()['results']\n",
    "with open('data_cache/userid_map.json', 'r') as fp:\n",
    "    userid_map = dict((k, int(v)) for k, v in json.load(fp).items())\n",
    "student_study_line = dict((userid_map[d['user']], d['study_line']) for d in study_line_raw if 'study_line' in d)"
   ]
  },
  {
   "cell_type": "markdown",
   "metadata": {},
   "source": [
    "#### Vector group"
   ]
  },
  {
   "cell_type": "code",
   "execution_count": 11,
   "metadata": {
    "ExecuteTime": {
     "end_time": "2017-03-20T09:11:05.400783",
     "start_time": "2017-03-20T09:11:05.396307"
    },
    "collapsed": true,
    "run_control": {
     "frozen": false,
     "read_only": false
    }
   },
   "outputs": [],
   "source": [
    "with open('data_cache/student_vector_group.json', 'r') as fp:\n",
    "    student_vector_group = dict((int(k), int(v)) for k, v in json.load(fp).items())"
   ]
  },
  {
   "cell_type": "markdown",
   "metadata": {},
   "source": [
    "#### Gender"
   ]
  },
  {
   "cell_type": "code",
   "execution_count": 12,
   "metadata": {
    "ExecuteTime": {
     "end_time": "2017-03-20T09:11:05.407021",
     "start_time": "2017-03-20T09:11:05.402087"
    },
    "collapsed": false,
    "run_control": {
     "frozen": false,
     "read_only": false
    }
   },
   "outputs": [],
   "source": [
    "with open('data_cache/student_gender.json', 'r') as fp:\n",
    "    student_gender = dict((int(k), v) for k, v in json.load(fp).items())"
   ]
  },
  {
   "cell_type": "markdown",
   "metadata": {},
   "source": [
    "## *Workplace*"
   ]
  },
  {
   "cell_type": "markdown",
   "metadata": {},
   "source": [
    "### Load"
   ]
  },
  {
   "cell_type": "code",
   "execution_count": 13,
   "metadata": {
    "ExecuteTime": {
     "end_time": "2017-03-20T09:11:05.446626",
     "start_time": "2017-03-20T09:11:05.408296"
    },
    "collapsed": false,
    "run_control": {
     "frozen": false,
     "read_only": false
    }
   },
   "outputs": [
    {
     "name": "stdout",
     "output_type": "stream",
     "text": [
      "3\n"
     ]
    }
   ],
   "source": [
    "# Load\n",
    "network_workplace = pd.read_csv(\"data/workplace/tij_InVS.txt\", delimiter=\" \", names=[\"timestamp\", 'user1', 'user2'])\n",
    "\n",
    "# Minimum timestamp is a thursday\n",
    "print dt.fromtimestamp(network_workplace['timestamp'].min()).weekday()\n",
    "\n",
    "# Shift data by 4 days to make first day a monday\n",
    "network_workplace['timestamp'] = np.array([dt.fromtimestamp(ts) for ts in (network_workplace['timestamp'] + 86400 * 4)])"
   ]
  },
  {
   "cell_type": "markdown",
   "metadata": {},
   "source": [
    "### Get predefined partitions"
   ]
  },
  {
   "cell_type": "code",
   "execution_count": 14,
   "metadata": {
    "ExecuteTime": {
     "end_time": "2017-03-20T09:11:05.465190",
     "start_time": "2017-03-20T09:11:05.448228"
    },
    "collapsed": false,
    "run_control": {
     "frozen": false,
     "read_only": false
    }
   },
   "outputs": [],
   "source": [
    "workplace_teams = pd.read_csv(\"data/workplace/metadata_inVS13.txt\", delimiter=\"\\t\", names=[\"employee\", \"team\"])\n",
    "\n",
    "employee_team = {}\n",
    "for _, row in workplace_teams.iterrows():\n",
    "    employee_team[row['employee']] = row['team']"
   ]
  },
  {
   "cell_type": "markdown",
   "metadata": {},
   "source": [
    "### Format as list of DFs"
   ]
  },
  {
   "cell_type": "code",
   "execution_count": 15,
   "metadata": {
    "ExecuteTime": {
     "end_time": "2017-03-20T09:11:07.361265",
     "start_time": "2017-03-20T09:11:05.467402"
    },
    "collapsed": true,
    "run_control": {
     "frozen": false,
     "read_only": false
    }
   },
   "outputs": [],
   "source": [
    "# Layer width in minutes\n",
    "layer_size = 10\n",
    "\n",
    "# Layer time bins from lower of first to (and including) upper of last\n",
    "lower_bin = int(network_workplace['timestamp'].min().date().strftime(\"%s\"))\n",
    "upper_bin = int(network_workplace['timestamp'].max().date().strftime(\"%s\")) + 86400\n",
    "bins = [dt.fromtimestamp(ts) for ts in np.arange(lower_bin, upper_bin+layer_size*60, layer_size*60)]\n",
    "\n",
    "# List of pandas dataframes, each a temporal network layer\n",
    "network2 = [\n",
    "    network_workplace[(network_workplace['timestamp'] > low) & (network_workplace['timestamp'] < high)] for low, high in zip(bins[:-1], bins[1:])\n",
    "]\n",
    "\n",
    "# network2[54]    # first monday\n",
    "# network2[687]   # first friday\n",
    "# network2[1700]  # last"
   ]
  },
  {
   "cell_type": "markdown",
   "metadata": {},
   "source": [
    "### Format as pajek"
   ]
  },
  {
   "cell_type": "code",
   "execution_count": 16,
   "metadata": {
    "ExecuteTime": {
     "end_time": "2017-03-20T09:11:08.745572",
     "start_time": "2017-03-20T09:11:07.362957"
    },
    "collapsed": true,
    "run_control": {
     "frozen": false,
     "read_only": false
    }
   },
   "outputs": [],
   "source": [
    "layer_indices2 = [l for l, n in enumerate(network2) if n.shape[0] > 0]\n",
    "A2 = build_adjacency_tensor([n for n in network2 if n.shape[0] > 0], index=None)\n",
    "network_pajek2 = write_pajek(A2)"
   ]
  },
  {
   "cell_type": "markdown",
   "metadata": {},
   "source": [
    "# **Analysis**"
   ]
  },
  {
   "cell_type": "markdown",
   "metadata": {},
   "source": [
    "## *Sensible DTU*"
   ]
  },
  {
   "cell_type": "markdown",
   "metadata": {},
   "source": [
    "### Create many solutions"
   ]
  },
  {
   "cell_type": "code",
   "execution_count": 17,
   "metadata": {
    "ExecuteTime": {
     "end_time": "2017-03-20T09:45:05.817832",
     "start_time": "2017-03-20T09:11:33.307003"
    },
    "collapsed": false,
    "run_control": {
     "frozen": false,
     "read_only": false
    }
   },
   "outputs": [],
   "source": [
    "layer_commu_pred_JSL_1_wh_arr, layer_commu_pred_FL_1_wh_arr, layer_commu_pred_AL_1_wh_arr, layer_commu_pred_NL_1_wh_arr = compute_layer_commu_4_models(network_pajek1_wh, network1_wh, layer_indices1_wh, \"1_wh\", 1, parallel=False)\n",
    "#layer_commu_pred_JSL_1_fh_arr, layer_commu_pred_FL_1_fh_arr, layer_commu_pred_AL_1_fh_arr, layer_commu_pred_NL_1_fh_arr = compute_layer_commu_4_models(network_pajek1_fh, network1_fh, layer_indices1_fh, \"1_fh\", 0, parallel=False)"
   ]
  },
  {
   "cell_type": "markdown",
   "metadata": {},
   "source": [
    "### Create a single large solution"
   ]
  },
  {
   "cell_type": "code",
   "execution_count": 12,
   "metadata": {
    "ExecuteTime": {
     "end_time": "2017-03-20T07:27:00.053350",
     "start_time": "2017-03-20T07:01:26.340281"
    },
    "collapsed": false,
    "run_control": {
     "frozen": false,
     "read_only": false
    }
   },
   "outputs": [],
   "source": [
    "layer_commu_pred_JSL_1_wh_arr, layer_commu_pred_FL_1_wh_arr, layer_commu_pred_AL_1_wh_arr, layer_commu_pred_NL_1_wh_arr = simple_compute_layer_commu_4_models(\n",
    "    network_pajek1_wh, network1_wh, layer_indices1_wh\n",
    ")\n",
    "# layer_commu_pred_JSL_1_fh_arr, layer_commu_pred_FL_1_fh_arr, layer_commu_pred_AL_1_fh_arr, layer_commu_pred_NL_1_fh_arr = simple_compute_layer_commu_4_models(\n",
    "#     network_pajek1_fh, network1_fh, layer_indices1_fh\n",
    "# )"
   ]
  },
  {
   "cell_type": "markdown",
   "metadata": {},
   "source": [
    "### Degree of mixing"
   ]
  },
  {
   "cell_type": "markdown",
   "metadata": {},
   "source": [
    "#### Working hours"
   ]
  },
  {
   "cell_type": "code",
   "execution_count": 1158,
   "metadata": {
    "ExecuteTime": {
     "end_time": "2017-03-17T16:13:52.600438",
     "start_time": "2017-03-17T16:06:26.569889"
    },
    "collapsed": true,
    "run_control": {
     "frozen": false,
     "read_only": false
    }
   },
   "outputs": [],
   "source": [
    "mixing_JSL_1_wh = compute_mixing_layer_commu(layer_commu_pred_JSL_1_wh_arr, network1_wh, parallel=True)\n",
    "mixing_FL_1_wh = compute_mixing_layer_commu(layer_commu_pred_FL_1_wh_arr, network1_wh, parallel=True)\n",
    "mixing_AL_1_wh = compute_mixing_layer_commu(layer_commu_pred_AL_1_wh_arr, network1_wh, parallel=True)\n",
    "mixing_NL_1_wh = compute_mixing_layer_commu(layer_commu_pred_NL_1_wh_arr, network1_wh, parallel=True)"
   ]
  },
  {
   "cell_type": "code",
   "execution_count": 1175,
   "metadata": {
    "ExecuteTime": {
     "end_time": "2017-03-17T16:42:10.318699",
     "start_time": "2017-03-17T16:42:09.858320"
    },
    "collapsed": false,
    "run_control": {
     "frozen": false,
     "read_only": false
    }
   },
   "outputs": [
    {
     "data": {
      "image/png": "[encoded data removed]",
      "text/plain": [
       "<matplotlib.figure.Figure at 0x268bd2a10>"
      ]
     },
     "metadata": {},
     "output_type": "display_data"
    }
   ],
   "source": [
    "plt.figure(figsize=(3.42/2, 1.2), frameon=False)\n",
    "\n",
    "# JSL histogram\n",
    "v, b = np.histogram(mixing_JSL_1_wh, bins=np.linspace(0, 1.0, 21), normed=True)\n",
    "plt.step(b, [v[0]] + list(v), where='pre', color=\"#e74c3c\", lw=0.5)\n",
    "b_step, v_step = get_x_y_steps(b, [v[0]] + list(v), where=\"pre\")\n",
    "plt.fill_between(b_step, v_step, color=\"#e74c3c\", alpha=0.5, label=\"JSL\")\n",
    "\n",
    "# FL histogram\n",
    "v, b = np.histogram(mixing_FL_1_wh, bins=np.linspace(0, 1.0, 21), normed=True)\n",
    "plt.step(b, [v[0]] + list(v), where='pre', color=\"#3498db\", lw=0.5)\n",
    "b_step, v_step = get_x_y_steps(b, [v[0]] + list(v), where=\"pre\")\n",
    "plt.fill_between(b_step, v_step, color=\"#3498db\", alpha=0.5, label=\"FL\")\n",
    "\n",
    "# # AL histogram\n",
    "# v, b = np.histogram(mixing_AL_1_tmp, bins=np.linspace(0, 1.0, 21), normed=True)\n",
    "# plt.step(b, [v[0]] + list(v), where='pre', color=\"#1abc9c\", lw=0.5)\n",
    "# b_step, v_step = get_x_y_steps(b, [v[0]] + list(v), where=\"pre\")\n",
    "# plt.fill_between(b_step, v_step, color=\"#1abc9c\", alpha=0.5, label=\"JSL\")\n",
    "\n",
    "# AL histogram\n",
    "v, b = np.histogram(mixing_NL_1_tmp, bins=np.linspace(0, 1.0, 21), normed=True)\n",
    "plt.step(b, [v[0]] + list(v), where='pre', color=\"#f1c40f\", lw=0.5)\n",
    "b_step, v_step = get_x_y_steps(b, [v[0]] + list(v), where=\"pre\")\n",
    "plt.fill_between(b_step, v_step, color=\"#f1c40f\", alpha=0.5, label=\"JSL\")\n",
    "\n",
    "plt.xlabel(\"$\\mu$\")\n",
    "plt.yscale(\"log\")\n",
    "\n",
    "#plt.legend(frameon=False)\n",
    "#plt.savefig(\"figures/mixing_coef_distribution_sensibleDTU_wh.pdf\")\n",
    "plt.show()"
   ]
  },
  {
   "cell_type": "code",
   "execution_count": 1166,
   "metadata": {
    "ExecuteTime": {
     "end_time": "2017-03-17T16:19:05.544021",
     "start_time": "2017-03-17T16:19:04.865876"
    },
    "collapsed": false,
    "run_control": {
     "frozen": false,
     "read_only": false
    }
   },
   "outputs": [
    {
     "data": {
      "image/png": "[encoded data removed]",
      "text/plain": [
       "<matplotlib.figure.Figure at 0x18a5c0a50>"
      ]
     },
     "metadata": {},
     "output_type": "display_data"
    }
   ],
   "source": [
    "plt.figure(figsize=(3.42/2, 1.2), frameon=False)\n",
    "\n",
    "# JSL histogram\n",
    "v, b = np.histogram(mixing_JSL_1_wh, normed=True, bins=np.linspace(0, 0.1, 11))\n",
    "plt.step(b, [v[0]] + list(v), where='pre', color=\"#e74c3c\", lw=0.5)\n",
    "b_step, v_step = get_x_y_steps(b, [v[0]] + list(v), where=\"pre\")\n",
    "plt.fill_between(b_step, v_step, color=\"#e74c3c\", alpha=0.5, label=\"JSL\")\n",
    "\n",
    "# FL histogram\n",
    "v, b = np.histogram(mixing_FL_1_wh, normed=True, bins=np.linspace(0, 0.1, 11))\n",
    "plt.step(b, [v[0]] + list(v), where='pre', color=\"#3498db\", lw=0.5)\n",
    "b_step, v_step = get_x_y_steps(b, [v[0]] + list(v), where=\"pre\")\n",
    "plt.fill_between(b_step, v_step, color=\"#3498db\", alpha=0.5, label=\"FL\")\n",
    "\n",
    "# AL histogram\n",
    "# v, b = np.histogram(mixing_AL_1_wh, normed=True, bins=np.linspace(0, 0.15, 16))\n",
    "# plt.step(b, [v[0]] + list(v), where='pre', color=\"#1abc9c\", lw=0.5)\n",
    "# b_step, v_step = get_x_y_steps(b, [v[0]] + list(v), where=\"pre\")\n",
    "# plt.fill_between(b_step, v_step, color=\"#1abc9c\", alpha=0.5, label=\"JSL\")\n",
    "\n",
    "# NL histogram\n",
    "v, b = np.histogram(mixing_NL_1_wh, normed=True, bins=np.linspace(0, 0.1, 11))\n",
    "plt.step(b, [v[0]] + list(v), where='pre', color=\"#f1c40f\", lw=0.5)\n",
    "b_step, v_step = get_x_y_steps(b, [v[0]] + list(v), where=\"pre\")\n",
    "plt.fill_between(b_step, v_step, color=\"#f1c40f\", alpha=0.5, label=\"JSL\")\n",
    "\n",
    "plt.xlabel(\"$\\mu$\")\n",
    "plt.yscale(\"log\")\n",
    "plt.xlim(0, 0.1)\n",
    "#plt.xticks([0, 0.05, 0.10], fontsize=10)\n",
    "plt.yticks(fontsize=10)\n",
    "\n",
    "#plt.legend(frameon=False)\n",
    "plt.savefig(\"figures/mixing_coef_distribution_sensibleDTU_wh_inset.pdf\")\n",
    "plt.show()"
   ]
  },
  {
   "cell_type": "markdown",
   "metadata": {},
   "source": [
    "#### Free hours"
   ]
  },
  {
   "cell_type": "code",
   "execution_count": 83,
   "metadata": {
    "ExecuteTime": {
     "end_time": "2017-03-16T12:27:47.195519",
     "start_time": "2017-03-16T12:06:21.933689"
    },
    "collapsed": false,
    "run_control": {
     "frozen": false,
     "read_only": false
    }
   },
   "outputs": [],
   "source": [
    "mixing_JSL_1_fh = compute_mixing_layer_commu(layer_commu_pred_JSL_1_fh_arr, network1_fh, parallel=True)\n",
    "mixing_FL_1_fh = compute_mixing_layer_commu(layer_commu_pred_FL_1_fh_arr, network1_fh, parallel=True)\n",
    "mixing_AL_1_fh = compute_mixing_layer_commu(layer_commu_pred_AL_1_fh_arr, network1_fh, parallel=True)\n",
    "mixing_NL_1_fh = compute_mixing_layer_commu(layer_commu_pred_NL_1_fh_arr, network1_fh, parallel=True)"
   ]
  },
  {
   "cell_type": "code",
   "execution_count": 150,
   "metadata": {
    "ExecuteTime": {
     "end_time": "2017-03-16T12:58:51.524337",
     "start_time": "2017-03-16T12:58:50.783008"
    },
    "collapsed": false,
    "run_control": {
     "frozen": false,
     "read_only": false
    }
   },
   "outputs": [
    {
     "data": {
      "image/png": "[encoded data removed]",
      "text/plain": [
       "<matplotlib.figure.Figure at 0x11a697550>"
      ]
     },
     "metadata": {},
     "output_type": "display_data"
    }
   ],
   "source": [
    "plt.figure(figsize=(3.42/2, 1.2), frameon=False)\n",
    "\n",
    "# JSL histogram\n",
    "v_JSL, b_JSL = np.histogram(mixing_JSL_1_fh, bins=np.linspace(0, 0.5, 21), normed=True)\n",
    "plt.step(b_JSL, [v_JSL[0]] + list(v_JSL), where='pre', color=\"#e74c3c\", lw=2)\n",
    "b_JSL_step, v_JSL_step = get_x_y_steps(b_JSL, [v_JSL[0]] + list(v_JSL), where=\"pre\")\n",
    "plt.fill_between(b_JSL_step, v_JSL_step, color=\"#e74c3c\", alpha=0.5, label=\"JSL\")\n",
    "\n",
    "# FL histogram\n",
    "v_FL, b_FL = np.histogram(mixing_FL_1_fh, bins=np.linspace(0, 0.5, 11), normed=True)\n",
    "plt.step(b_FL, [v_FL[0]] + list(v_FL), where='pre', color=\"#3498db\", lw=2)\n",
    "b_FL_step, v_FL_step = get_x_y_steps(b_FL, [v_FL[0]] + list(v_FL), where=\"pre\")\n",
    "plt.fill_between(b_FL_step, v_FL_step, color=\"#3498db\", alpha=0.5, label=\"FL\")\n",
    "\n",
    "plt.xlabel(\"$\\mu$\")\n",
    "plt.yscale(\"log\")\n",
    "\n",
    "plt.legend(frameon=False)\n",
    "plt.savefig(\"figures/mixing_coef_distribution_sensibleDTU_fh.pdf\")\n",
    "plt.show()"
   ]
  },
  {
   "cell_type": "markdown",
   "metadata": {
    "collapsed": true,
    "run_control": {
     "frozen": false,
     "read_only": false
    }
   },
   "source": [
    "### Community overlap/entropy"
   ]
  },
  {
   "cell_type": "markdown",
   "metadata": {},
   "source": [
    "#### Working hours"
   ]
  },
  {
   "cell_type": "code",
   "execution_count": 1181,
   "metadata": {
    "ExecuteTime": {
     "end_time": "2017-03-17T16:45:04.200197",
     "start_time": "2017-03-17T16:45:03.251335"
    },
    "collapsed": false,
    "run_control": {
     "frozen": false,
     "read_only": false
    }
   },
   "outputs": [],
   "source": [
    "# List of communities that each node participates in, from each solution\n",
    "communities_JSL_1_wh_arr = [node_communities(layer_commu_pred_JSL_1_wh) for layer_commu_pred_JSL_1_wh in layer_commu_pred_JSL_1_wh_arr] \n",
    "communities_FL_1_wh_arr = [node_communities(layer_commu_pred_FL_1_wh) for layer_commu_pred_FL_1_wh in layer_commu_pred_FL_1_wh_arr] \n",
    "communities_AL_1_wh_arr = [node_communities(layer_commu_pred_AL_1_wh) for layer_commu_pred_AL_1_wh in layer_commu_pred_AL_1_wh_arr] \n",
    "communities_NL_1_wh_arr = [node_communities(layer_commu_pred_NL_1_wh) for layer_commu_pred_NL_1_wh in layer_commu_pred_NL_1_wh_arr] \n",
    "\n",
    "# Compute entropy and overlap for each user\n",
    "entropy_JSL_1_wh_arr, overlap_JSL_1_wh_arr = zip(*[compute_entropy_and_overlap(communities_JSL_1_wh) for communities_JSL_1_wh in communities_JSL_1_wh_arr])\n",
    "entropy_FL_1_wh_arr, overlap_FL_1_wh_arr = zip(*[compute_entropy_and_overlap(communities_FL_1_wh) for communities_FL_1_wh in communities_FL_1_wh_arr])\n",
    "entropy_AL_1_wh_arr, overlap_AL_1_wh_arr = zip(*[compute_entropy_and_overlap(communities_AL_1_wh) for communities_AL_1_wh in communities_AL_1_wh_arr])\n",
    "entropy_NL_1_wh_arr, overlap_NL_1_wh_arr = zip(*[compute_entropy_and_overlap(communities_NL_1_wh) for communities_NL_1_wh in communities_NL_1_wh_arr])\n",
    "\n",
    "# Ravel arrays-of-arrays to arrays\n",
    "entropy_JSL_1_wh, overlap_JSL_1_wh = ravel_two_level(entropy_JSL_1_wh_arr), ravel_two_level(overlap_JSL_1_wh_arr)\n",
    "entropy_FL_1_wh, overlap_FL_1_wh = ravel_two_level(entropy_FL_1_wh_arr), ravel_two_level(overlap_FL_1_wh_arr)\n",
    "entropy_AL_1_wh, overlap_AL_1_wh = ravel_two_level(entropy_AL_1_wh_arr), ravel_two_level(overlap_AL_1_wh_arr)\n",
    "entropy_NL_1_wh, overlap_NL_1_wh = ravel_two_level(entropy_NL_1_wh_arr), ravel_two_level(overlap_NL_1_wh_arr)"
   ]
  },
  {
   "cell_type": "markdown",
   "metadata": {},
   "source": [
    "##### Overlap"
   ]
  },
  {
   "cell_type": "code",
   "execution_count": 1182,
   "metadata": {
    "ExecuteTime": {
     "end_time": "2017-03-17T16:45:06.012747",
     "start_time": "2017-03-17T16:45:05.872532"
    },
    "collapsed": false,
    "run_control": {
     "frozen": false,
     "read_only": false
    }
   },
   "outputs": [
    {
     "data": {
      "image/png": "[encoded data removed]",
      "text/plain": [
       "<matplotlib.figure.Figure at 0x16173bd90>"
      ]
     },
     "metadata": {},
     "output_type": "display_data"
    }
   ],
   "source": [
    "plt.figure(figsize=(3.42/2, 1.2), frameon=False)\n",
    "\n",
    "# FL histogram\n",
    "v_FL, b_FL = np.histogram(overlap_FL_1_wh, bins=np.linspace(1, 15, 15), normed=True)\n",
    "plt.step(b_FL, [v_FL[0]] + list(v_FL), where='pre', color=\"#3498db\", lw=2)\n",
    "b_FL_step, v_FL_step = get_x_y_steps(b_FL, [v_FL[0]] + list(v_FL), where=\"pre\")\n",
    "plt.fill_between(b_FL_step, v_FL_step, color=\"#3498db\", alpha=0.5, label=\"FL\")\n",
    "\n",
    "# JSL histogram\n",
    "v_JSL, b_JSL = np.histogram(overlap_JSL_1_wh, bins=np.linspace(1, 15, 15), normed=True)\n",
    "plt.step(b_JSL, [v_JSL[0]] + list(v_JSL), where='pre', color=\"#e74c3c\", lw=2)\n",
    "b_JSL_step, v_JSL_step = get_x_y_steps(b_JSL, [v_JSL[0]] + list(v_JSL), where=\"pre\")\n",
    "plt.fill_between(b_JSL_step, v_JSL_step, color=\"#e74c3c\", alpha=0.5, label=\"JSL\")\n",
    "\n",
    "plt.xlabel(\"overlap\".capitalize())\n",
    "\n",
    "plt.xlim(1, 15)\n",
    "\n",
    "#plt.legend(frameon=False)\n",
    "#plt.savefig(\"figures/overlap_distribution_sensibleDTU_wh.pdf\")\n",
    "plt.show()"
   ]
  },
  {
   "cell_type": "code",
   "execution_count": 1169,
   "metadata": {
    "ExecuteTime": {
     "end_time": "2017-03-17T16:38:04.528320",
     "start_time": "2017-03-17T16:38:04.363743"
    },
    "collapsed": false,
    "run_control": {
     "frozen": false,
     "read_only": false
    }
   },
   "outputs": [
    {
     "data": {
      "image/png": "[encoded data removed]",
      "text/plain": [
       "<matplotlib.figure.Figure at 0x268c2ba90>"
      ]
     },
     "metadata": {},
     "output_type": "display_data"
    }
   ],
   "source": [
    "plt.figure(figsize=(3.42/2, 2.4/4), frameon=False)\n",
    "\n",
    "# JSL histogram\n",
    "v_JSL, b_JSL = np.histogram(overlap_JSL_1_wh, bins=np.linspace(0, 30, 13), normed=True)\n",
    "plt.step(b_JSL, [v_JSL[0]] + list(v_JSL), where='pre', color=\"#e74c3c\", lw=2)\n",
    "b_JSL_step, v_JSL_step = get_x_y_steps(b_JSL, [v_JSL[0]] + list(v_JSL), where=\"pre\")\n",
    "plt.fill_between(b_JSL_step, v_JSL_step, color=\"#e74c3c\", alpha=0.5, label=\"JSL\")\n",
    "\n",
    "# FL histogram\n",
    "v_FL, b_FL = np.histogram(overlap_FL_1_wh, bins=np.linspace(0, 30, 13), normed=True)\n",
    "plt.step(b_FL, [v_FL[0]] + list(v_FL), where='pre', color=\"#3498db\", lw=2)\n",
    "b_FL_step, v_FL_step = get_x_y_steps(b_FL, [v_FL[0]] + list(v_FL), where=\"pre\")\n",
    "plt.fill_between(b_FL_step, v_FL_step, color=\"#3498db\", alpha=0.5, label=\"FL\")\n",
    "\n",
    "# AL histogram\n",
    "v_AL, b_AL = np.histogram(overlap_AL_1_wh, normed=True)#, bins=np.logspace(0, np.log10(200), 15))\n",
    "plt.step(b_AL, [v_AL[0]] + list(v_AL), where='pre', color=\"#1abc9c\", lw=2)\n",
    "b_AL_step, v_AL_step = get_x_y_steps(b_AL, [v_AL[0]] + list(v_AL), where=\"pre\")\n",
    "plt.fill_between(b_AL_step, v_AL_step, color=\"#1abc9c\", alpha=0.5, label=\"AL\")\n",
    "\n",
    "# # NL histogram\n",
    "v_NL, b_NL = np.histogram(overlap_NL_1_wh, normed=True)\n",
    "plt.step(b_NL, [v_NL[0]] + list(v_NL), where='pre', color=\"#f1c40f\", lw=2)\n",
    "b_NL_step, v_NL_step = get_x_y_steps(b_NL, [v_NL[0]] + list(v_NL), where=\"pre\")\n",
    "plt.fill_between(b_NL_step, v_NL_step, color=\"#f1c40f\", alpha=0.5, label=\"NL\")\n",
    "\n",
    "#plt.yticks([0, 0.05, 0.1])\n",
    "plt.xlabel(\"overlap\".capitalize())\n",
    "plt.xlim(0, 50)\n",
    "\n",
    "#plt.legend(frameon=False)\n",
    "#plt.savefig(\"figures/overlap_distribution_sensibleDTU_wh_all_distr_wide.pdf\")\n",
    "plt.show()"
   ]
  },
  {
   "cell_type": "code",
   "execution_count": 1170,
   "metadata": {
    "ExecuteTime": {
     "end_time": "2017-03-17T16:38:13.806247",
     "start_time": "2017-03-17T16:38:11.115903"
    },
    "collapsed": false,
    "run_control": {
     "frozen": false,
     "read_only": false
    }
   },
   "outputs": [
    {
     "data": {
      "image/png": "[encoded data removed]",
      "text/plain": [
       "<matplotlib.figure.Figure at 0x268b47550>"
      ]
     },
     "metadata": {},
     "output_type": "display_data"
    }
   ],
   "source": [
    "alpha_JSL_1_wh, beta_JSL_1_wh, loc_JSL_1_wh, scale_JSL_1_wh = sp.stats.beta.fit(overlap_JSL_1_wh)\n",
    "alpha_FL_1_wh, beta_FL_1_wh, loc_FL_1_wh, scale_FL_1_wh = sp.stats.beta.fit(overlap_FL_1_wh)\n",
    "alpha_AL_1_wh, beta_AL_1_wh, loc_AL_1_wh, scale_AL_1_wh = sp.stats.beta.fit(overlap_AL_1_wh)\n",
    "alpha_NL_1_wh, beta_NL_1_wh, loc_NL_1_wh, scale_NL_1_wh = sp.stats.beta.fit(overlap_NL_1_wh)\n",
    "\n",
    "overlap_fit_samples_JSL_1_wh = sp.stats.beta.rvs(alpha_JSL_1_wh, beta_JSL_1_wh, loc_JSL_1_wh, scale_JSL_1_wh, size=10000)\n",
    "overlap_fit_samples_FL_1_wh = sp.stats.beta.rvs(alpha_FL_1_wh, beta_FL_1_wh, loc_FL_1_wh, scale_FL_1_wh, size=10000)\n",
    "overlap_fit_samples_AL_1_wh = sp.stats.beta.rvs(alpha_AL_1_wh, beta_AL_1_wh, loc_AL_1_wh, scale_AL_1_wh, size=10000)\n",
    "overlap_fit_samples_NL_1_wh = sp.stats.beta.rvs(alpha_NL_1_wh, beta_NL_1_wh, loc_NL_1_wh, scale_NL_1_wh, size=10000)\n",
    "\n",
    "plt.figure(figsize=(3.42/2, 2.4/4), frameon=False)\n",
    "\n",
    "# JSL histogram\n",
    "v_JSL, b_JSL = np.histogram(overlap_fit_samples_JSL_1_wh, bins=np.linspace(0, 30, 13), normed=True)\n",
    "plt.step(b_JSL, [v_JSL[0]] + list(v_JSL), where='pre', color=\"#e74c3c\", lw=2)\n",
    "b_JSL_step, v_JSL_step = get_x_y_steps(b_JSL, [v_JSL[0]] + list(v_JSL), where=\"pre\")\n",
    "plt.fill_between(b_JSL_step, v_JSL_step, color=\"#e74c3c\", alpha=0.5, label=\"JSL\")\n",
    "\n",
    "# FL histogram\n",
    "v_FL, b_FL = np.histogram(overlap_fit_samples_FL_1_wh, bins=np.linspace(0, 30, 13), normed=True)\n",
    "plt.step(b_FL, [v_FL[0]] + list(v_FL), where='pre', color=\"#3498db\", lw=2)\n",
    "b_FL_step, v_FL_step = get_x_y_steps(b_FL, [v_FL[0]] + list(v_FL), where=\"pre\")\n",
    "plt.fill_between(b_FL_step, v_FL_step, color=\"#3498db\", alpha=0.5, label=\"FL\")\n",
    "\n",
    "# AL histogram\n",
    "v_AL, b_AL = np.histogram(overlap_fit_samples_AL_1_wh, normed=True)#, bins=np.logspace(0, np.log10(200), 15))\n",
    "plt.step(b_AL, [v_AL[0]] + list(v_AL), where='pre', color=\"#1abc9c\", lw=2)\n",
    "b_AL_step, v_AL_step = get_x_y_steps(b_AL, [v_AL[0]] + list(v_AL), where=\"pre\")\n",
    "plt.fill_between(b_AL_step, v_AL_step, color=\"#1abc9c\", alpha=0.5, label=\"AL\")\n",
    "\n",
    "# NL histogram\n",
    "v_NL, b_NL = np.histogram(overlap_fit_samples_NL_1_wh, normed=True)\n",
    "plt.step(b_NL, [v_NL[0]] + list(v_NL), where='pre', color=\"#f1c40f\", lw=2)\n",
    "b_NL_step, v_NL_step = get_x_y_steps(b_NL, [v_NL[0]] + list(v_NL), where=\"pre\")\n",
    "plt.fill_between(b_NL_step, v_NL_step, color=\"#f1c40f\", alpha=0.5, label=\"NL\")\n",
    "\n",
    "plt.xlabel(\"overlap\".capitalize())\n",
    "plt.xlim(0, 50)\n",
    "\n",
    "plt.legend(frameon=False)\n",
    "#plt.savefig(\"figures/overlap_distribution_sensibleDTU_wh_all_distr_beta_fit_wide.pdf\")\n",
    "plt.show()"
   ]
  },
  {
   "cell_type": "markdown",
   "metadata": {},
   "source": [
    "##### Entropy"
   ]
  },
  {
   "cell_type": "code",
   "execution_count": 1172,
   "metadata": {
    "ExecuteTime": {
     "end_time": "2017-03-17T16:38:57.527842",
     "start_time": "2017-03-17T16:38:57.342762"
    },
    "collapsed": false,
    "run_control": {
     "frozen": false,
     "read_only": false
    }
   },
   "outputs": [
    {
     "data": {
      "image/png": "[encoded data removed]",
      "text/plain": [
       "<matplotlib.figure.Figure at 0x2b739c490>"
      ]
     },
     "metadata": {},
     "output_type": "display_data"
    }
   ],
   "source": [
    "plt.figure(figsize=(3.42/2, 1.2/2), frameon=False)\n",
    "\n",
    "# JSL histogram\n",
    "v_JSL, b_JSL = np.histogram(entropy_JSL_1_wh, bins=np.linspace(0, 10, 21), normed=True)\n",
    "plt.step(b_JSL, [v_JSL[0]] + list(v_JSL), where='pre', color=\"#e74c3c\", lw=2)\n",
    "b_JSL_step, v_JSL_step = get_x_y_steps(b_JSL, [v_JSL[0]] + list(v_JSL), where=\"pre\")\n",
    "plt.fill_between(b_JSL_step, v_JSL_step, color=\"#e74c3c\", alpha=0.5, label=\"JSL\")\n",
    "\n",
    "# FL histogram\n",
    "v_FL, b_FL = np.histogram(entropy_FL_1_wh, bins=np.linspace(0, 10, 21), normed=True)\n",
    "plt.step(b_FL, [v_FL[0]] + list(v_FL), where='pre', color=\"#3498db\", lw=2)\n",
    "b_FL_step, v_FL_step = get_x_y_steps(b_FL, [v_FL[0]] + list(v_FL), where=\"pre\")\n",
    "plt.fill_between(b_FL_step, v_FL_step, color=\"#3498db\", alpha=0.5, label=\"FL\")\n",
    "\n",
    "# AL histogram\n",
    "v_AL, b_AL = np.histogram(entropy_AL_1_wh, bins=np.linspace(0, 10, 21), normed=True)\n",
    "plt.step(b_AL, [v_AL[0]] + list(v_AL), where='pre', color=\"#1abc9c\", lw=2)\n",
    "b_AL_step, v_AL_step = get_x_y_steps(b_AL, [v_AL[0]] + list(v_AL), where=\"pre\")\n",
    "plt.fill_between(b_AL_step, v_AL_step, color=\"#1abc9c\", alpha=0.5, label=\"AL\")\n",
    "\n",
    "# NL histogram\n",
    "v_NL, b_NL = np.histogram(entropy_NL_1_wh, bins=np.linspace(0, 10, 21), normed=True)\n",
    "plt.step(b_NL, [v_NL[0]] + list(v_NL), where='pre', color=\"#f1c40f\", lw=2)\n",
    "b_NL_step, v_NL_step = get_x_y_steps(b_NL, [v_NL[0]] + list(v_NL), where=\"pre\")\n",
    "plt.fill_between(b_NL_step, v_NL_step, color=\"#f1c40f\", alpha=0.5, label=\"NL\")\n",
    "\n",
    "plt.xlabel(\"entropy\".capitalize())\n",
    "plt.xlim(0)\n",
    "\n",
    "plt.legend(frameon=False)\n",
    "#plt.savefig(\"figures/entropy_distribution_sensibleDTU_wh_all_distr_wide.pdf\")\n",
    "plt.show()"
   ]
  },
  {
   "cell_type": "code",
   "execution_count": 1173,
   "metadata": {
    "ExecuteTime": {
     "end_time": "2017-03-17T16:39:36.062261",
     "start_time": "2017-03-17T16:39:33.617870"
    },
    "collapsed": false,
    "run_control": {
     "frozen": false,
     "read_only": false
    },
    "scrolled": false
   },
   "outputs": [
    {
     "data": {
      "image/png": "[encoded data removed]",
      "text/plain": [
       "<matplotlib.figure.Figure at 0x18a8d4ed0>"
      ]
     },
     "metadata": {},
     "output_type": "display_data"
    }
   ],
   "source": [
    "alpha_JSL_1_wh, beta_JSL_1_wh, loc_JSL_1_wh, scale_JSL_1_wh = sp.stats.beta.fit(entropy_JSL_1_wh)\n",
    "alpha_FL_1_wh, beta_FL_1_wh, loc_FL_1_wh, scale_FL_1_wh = sp.stats.beta.fit(entropy_FL_1_wh)\n",
    "alpha_AL_1_wh, beta_AL_1_wh, loc_AL_1_wh, scale_AL_1_wh = sp.stats.beta.fit(entropy_AL_1_wh)\n",
    "alpha_NL_1_wh, beta_NL_1_wh, loc_NL_1_wh, scale_NL_1_wh = sp.stats.beta.fit(entropy_NL_1_wh)\n",
    "\n",
    "entropy_fit_samples_JSL_1_wh = sp.stats.beta.rvs(alpha_JSL_1_wh, beta_JSL_1_wh, loc_JSL_1_wh, scale_JSL_1_wh, size=10000)\n",
    "entropy_fit_samples_FL_1_wh = sp.stats.beta.rvs(alpha_FL_1_wh, beta_FL_1_wh, loc_FL_1_wh, scale_FL_1_wh, size=10000)\n",
    "entropy_fit_samples_AL_1_wh = sp.stats.beta.rvs(alpha_AL_1_wh, beta_AL_1_wh, loc_AL_1_wh, scale_AL_1_wh, size=10000)\n",
    "entropy_fit_samples_NL_1_wh = sp.stats.beta.rvs(alpha_NL_1_wh, beta_NL_1_wh, loc_NL_1_wh, scale_NL_1_wh, size=10000)\n",
    "\n",
    "plt.figure(figsize=(3.42/2, 2.4/4), frameon=False)\n",
    "\n",
    "# JSL histogram\n",
    "v_JSL, b_JSL = np.histogram(entropy_fit_samples_JSL_1_wh, bins=np.linspace(0, 8, 17), normed=True)\n",
    "plt.step(b_JSL, [v_JSL[0]] + list(v_JSL), where='pre', color=\"#e74c3c\", lw=2)\n",
    "b_JSL_step, v_JSL_step = get_x_y_steps(b_JSL, [v_JSL[0]] + list(v_JSL), where=\"pre\")\n",
    "plt.fill_between(b_JSL_step, v_JSL_step, color=\"#e74c3c\", alpha=0.5, label=\"JSL\")\n",
    "\n",
    "# FL histogram\n",
    "v_FL, b_FL = np.histogram(entropy_fit_samples_FL_1_wh, bins=np.linspace(0, 8, 17), normed=True)\n",
    "plt.step(b_FL, [v_FL[0]] + list(v_FL), where='pre', color=\"#3498db\", lw=2)\n",
    "b_FL_step, v_FL_step = get_x_y_steps(b_FL, [v_FL[0]] + list(v_FL), where=\"pre\")\n",
    "plt.fill_between(b_FL_step, v_FL_step, color=\"#3498db\", alpha=0.5, label=\"FL\")\n",
    "\n",
    "# AL histogram\n",
    "v_AL, b_AL = np.histogram(entropy_fit_samples_AL_1_wh, bins=np.linspace(0, 8, 17), normed=True)\n",
    "plt.step(b_AL, [v_AL[0]] + list(v_AL), where='pre', color=\"#1abc9c\", lw=2)\n",
    "b_AL_step, v_AL_step = get_x_y_steps(b_AL, [v_AL[0]] + list(v_AL), where=\"pre\")\n",
    "plt.fill_between(b_AL_step, v_AL_step, color=\"#1abc9c\", alpha=0.5, label=\"AL\")\n",
    "\n",
    "# NL histogram\n",
    "v_NL, b_NL = np.histogram(entropy_fit_samples_NL_1_wh, bins=np.linspace(0, 8, 17), normed=True)\n",
    "plt.step(b_NL, [v_NL[0]] + list(v_NL), where='pre', color=\"#f1c40f\", lw=2)\n",
    "b_NL_step, v_NL_step = get_x_y_steps(b_NL, [v_NL[0]] + list(v_NL), where=\"pre\")\n",
    "plt.fill_between(b_NL_step, v_NL_step, color=\"#f1c40f\", alpha=0.5, label=\"NL\")\n",
    "\n",
    "plt.xlabel(\"entropy\".capitalize())\n",
    "plt.xlim(0)\n",
    "\n",
    "plt.legend(frameon=False)\n",
    "#plt.savefig(\"figures/entropy_distribution_sensibleDTU_wh_all_distr_beta_fit_wide.pdf\")\n",
    "plt.show()"
   ]
  },
  {
   "cell_type": "markdown",
   "metadata": {},
   "source": [
    "#### Free hours"
   ]
  },
  {
   "cell_type": "code",
   "execution_count": 1183,
   "metadata": {
    "ExecuteTime": {
     "end_time": "2017-03-17T16:45:19.558834",
     "start_time": "2017-03-17T16:45:11.376742"
    },
    "collapsed": false,
    "run_control": {
     "frozen": false,
     "read_only": false
    }
   },
   "outputs": [],
   "source": [
    "# List of communities that each node participates in, from each solution\n",
    "communities_JSL_1_fh_arr = [node_communities(layer_commu_pred_JSL_1_fh) for layer_commu_pred_JSL_1_fh in layer_commu_pred_JSL_1_fh_arr] \n",
    "communities_FL_1_fh_arr = [node_communities(layer_commu_pred_FL_1_fh) for layer_commu_pred_FL_1_fh in layer_commu_pred_FL_1_fh_arr] \n",
    "communities_AL_1_fh_arr = [node_communities(layer_commu_pred_AL_1_fh) for layer_commu_pred_AL_1_fh in layer_commu_pred_AL_1_fh_arr] \n",
    "communities_NL_1_fh_arr = [node_communities(layer_commu_pred_NL_1_fh) for layer_commu_pred_NL_1_fh in layer_commu_pred_NL_1_fh_arr] \n",
    "\n",
    "# Compute entropy and overlap for each user\n",
    "entropy_JSL_1_fh_arr, overlap_JSL_1_fh_arr = zip(*[compute_entropy_and_overlap(communities_JSL_1_fh) for communities_JSL_1_fh in communities_JSL_1_fh_arr])\n",
    "entropy_FL_1_fh_arr, overlap_FL_1_fh_arr = zip(*[compute_entropy_and_overlap(communities_FL_1_fh) for communities_FL_1_fh in communities_FL_1_fh_arr])\n",
    "entropy_AL_1_fh_arr, overlap_AL_1_fh_arr = zip(*[compute_entropy_and_overlap(communities_AL_1_fh) for communities_AL_1_fh in communities_AL_1_fh_arr])\n",
    "entropy_NL_1_fh_arr, overlap_NL_1_fh_arr = zip(*[compute_entropy_and_overlap(communities_NL_1_fh) for communities_NL_1_fh in communities_NL_1_fh_arr])\n",
    "\n",
    "# Ravel arrays-of-arrays to arrays\n",
    "entropy_JSL_1_fh, overlap_JSL_1_fh = ravel_two_level(entropy_JSL_1_fh_arr), ravel_two_level(overlap_JSL_1_fh_arr)\n",
    "entropy_FL_1_fh, overlap_FL_1_fh = ravel_two_level(entropy_FL_1_fh_arr), ravel_two_level(overlap_FL_1_fh_arr)\n",
    "entropy_AL_1_fh, overlap_AL_1_fh = ravel_two_level(entropy_AL_1_fh_arr), ravel_two_level(overlap_AL_1_fh_arr)\n",
    "entropy_NL_1_fh, overlap_NL_1_fh = ravel_two_level(entropy_NL_1_fh_arr), ravel_two_level(overlap_NL_1_fh_arr)"
   ]
  },
  {
   "cell_type": "markdown",
   "metadata": {},
   "source": [
    "##### Overlap"
   ]
  },
  {
   "cell_type": "code",
   "execution_count": 169,
   "metadata": {
    "ExecuteTime": {
     "end_time": "2017-03-16T13:17:47.687547",
     "start_time": "2017-03-16T13:17:47.451068"
    },
    "collapsed": false,
    "run_control": {
     "frozen": false,
     "read_only": false
    }
   },
   "outputs": [
    {
     "data": {
      "image/png": "[encoded data removed]",
      "text/plain": [
       "<matplotlib.figure.Figure at 0x11d3f6710>"
      ]
     },
     "metadata": {},
     "output_type": "display_data"
    }
   ],
   "source": [
    "plt.figure(figsize=(3.42/2, 1.2), frameon=False)\n",
    "\n",
    "# FL histogram\n",
    "v_FL, b_FL = np.histogram(overlap_FL_1_fh, bins=np.linspace(1, 15, 15), normed=True)\n",
    "plt.step(b_FL, [v_FL[0]] + list(v_FL), where='pre', color=\"#3498db\", lw=2)\n",
    "b_FL_step, v_FL_step = get_x_y_steps(b_FL, [v_FL[0]] + list(v_FL), where=\"pre\")\n",
    "plt.fill_between(b_FL_step, v_FL_step, color=\"#3498db\", alpha=0.5, label=\"FL\")\n",
    "\n",
    "# JSL histogram\n",
    "v_JSL, b_JSL = np.histogram(overlap_JSL_1_fh, bins=np.linspace(1, 15, 15), normed=True)\n",
    "plt.step(b_JSL, [v_JSL[0]] + list(v_JSL), where='pre', color=\"#e74c3c\", lw=2)\n",
    "b_JSL_step, v_JSL_step = get_x_y_steps(b_JSL, [v_JSL[0]] + list(v_JSL), where=\"pre\")\n",
    "plt.fill_between(b_JSL_step, v_JSL_step, color=\"#e74c3c\", alpha=0.5, label=\"JSL\")\n",
    "\n",
    "plt.xlabel(\"overlap\".capitalize())\n",
    "#plt.yscale(\"log\")\n",
    "\n",
    "plt.xlim(1, 15)\n",
    "\n",
    "plt.legend(frameon=False)\n",
    "#plt.savefig(\"figures/overlap_distribution_sensibleDTU_fh.pdf\")\n",
    "plt.show()"
   ]
  },
  {
   "cell_type": "code",
   "execution_count": 170,
   "metadata": {
    "ExecuteTime": {
     "end_time": "2017-03-16T13:18:08.398608",
     "start_time": "2017-03-16T13:18:08.137224"
    },
    "collapsed": false,
    "run_control": {
     "frozen": false,
     "read_only": false
    }
   },
   "outputs": [
    {
     "data": {
      "image/png": "[encoded data removed]",
      "text/plain": [
       "<matplotlib.figure.Figure at 0x146f61590>"
      ]
     },
     "metadata": {},
     "output_type": "display_data"
    }
   ],
   "source": [
    "plt.figure(figsize=(3.42/2, 2.4/4), frameon=False)\n",
    "\n",
    "# JSL histogram\n",
    "v_JSL, b_JSL = np.histogram(overlap_JSL_1_fh, bins=np.linspace(0, 30, 13), normed=True)\n",
    "plt.step(b_JSL, [v_JSL[0]] + list(v_JSL), where='pre', color=\"#e74c3c\", lw=2)\n",
    "b_JSL_step, v_JSL_step = get_x_y_steps(b_JSL, [v_JSL[0]] + list(v_JSL), where=\"pre\")\n",
    "plt.fill_between(b_JSL_step, v_JSL_step, color=\"#e74c3c\", alpha=0.5, label=\"JSL\")\n",
    "\n",
    "# FL histogram\n",
    "v_FL, b_FL = np.histogram(overlap_FL_1_fh, bins=np.linspace(0, 30, 13), normed=True)\n",
    "plt.step(b_FL, [v_FL[0]] + list(v_FL), where='pre', color=\"#3498db\", lw=2)\n",
    "b_FL_step, v_FL_step = get_x_y_steps(b_FL, [v_FL[0]] + list(v_FL), where=\"pre\")\n",
    "plt.fill_between(b_FL_step, v_FL_step, color=\"#3498db\", alpha=0.5, label=\"FL\")\n",
    "\n",
    "# AL histogram\n",
    "v_AL, b_AL = np.histogram(overlap_AL_1_fh, normed=True)#, bins=np.logspace(0, np.log10(200), 15))\n",
    "plt.step(b_AL, [v_AL[0]] + list(v_AL), where='pre', color=\"#1abc9c\", lw=2)\n",
    "b_AL_step, v_AL_step = get_x_y_steps(b_AL, [v_AL[0]] + list(v_AL), where=\"pre\")\n",
    "plt.fill_between(b_AL_step, v_AL_step, color=\"#1abc9c\", alpha=0.5, label=\"AL\")\n",
    "\n",
    "# # NL histogram\n",
    "v_NL, b_NL = np.histogram(overlap_NL_1_fh, normed=True)\n",
    "plt.step(b_NL, [v_NL[0]] + list(v_NL), where='pre', color=\"#f1c40f\", lw=2)\n",
    "b_NL_step, v_NL_step = get_x_y_steps(b_NL, [v_NL[0]] + list(v_NL), where=\"pre\")\n",
    "plt.fill_between(b_NL_step, v_NL_step, color=\"#f1c40f\", alpha=0.5, label=\"NL\")\n",
    "\n",
    "#plt.yticks([0, 0.05, 0.1])\n",
    "plt.xlabel(\"overlap\".capitalize())\n",
    "plt.xlim(0, 50)\n",
    "\n",
    "plt.legend(frameon=False)\n",
    "plt.savefig(\"figures/overlap_distribution_sensibleDTU_fh_all_distr_wide.pdf\")\n",
    "plt.show()"
   ]
  },
  {
   "cell_type": "code",
   "execution_count": 171,
   "metadata": {
    "ExecuteTime": {
     "end_time": "2017-03-16T13:18:12.803843",
     "start_time": "2017-03-16T13:18:12.514011"
    },
    "collapsed": false,
    "run_control": {
     "frozen": false,
     "read_only": false
    }
   },
   "outputs": [
    {
     "data": {
      "image/png": "[encoded data removed]",
      "text/plain": [
       "<matplotlib.figure.Figure at 0x11a10e990>"
      ]
     },
     "metadata": {},
     "output_type": "display_data"
    }
   ],
   "source": [
    "plt.figure(figsize=(3.42/2, 1.2/2), frameon=False)\n",
    "\n",
    "# JSL histogram\n",
    "v_JSL, b_JSL = np.histogram(entropy_JSL_1_fh, bins=np.linspace(0, 8, 17), normed=True)\n",
    "plt.step(b_JSL, [v_JSL[0]] + list(v_JSL), where='pre', color=\"#e74c3c\", lw=2)\n",
    "b_JSL_step, v_JSL_step = get_x_y_steps(b_JSL, [v_JSL[0]] + list(v_JSL), where=\"pre\")\n",
    "plt.fill_between(b_JSL_step, v_JSL_step, color=\"#e74c3c\", alpha=0.5, label=\"JSL\")\n",
    "\n",
    "# FL histogram\n",
    "v_FL, b_FL = np.histogram(entropy_FL_1_fh, bins=np.linspace(0, 8, 17), normed=True)\n",
    "plt.step(b_FL, [v_FL[0]] + list(v_FL), where='pre', color=\"#3498db\", lw=2)\n",
    "b_FL_step, v_FL_step = get_x_y_steps(b_FL, [v_FL[0]] + list(v_FL), where=\"pre\")\n",
    "plt.fill_between(b_FL_step, v_FL_step, color=\"#3498db\", alpha=0.5, label=\"FL\")\n",
    "\n",
    "# AL histogram\n",
    "v_AL, b_AL = np.histogram(entropy_AL_1_fh, bins=np.linspace(0, 8, 17), normed=True)\n",
    "plt.step(b_AL, [v_AL[0]] + list(v_AL), where='pre', color=\"#1abc9c\", lw=2)\n",
    "b_AL_step, v_AL_step = get_x_y_steps(b_AL, [v_AL[0]] + list(v_AL), where=\"pre\")\n",
    "plt.fill_between(b_AL_step, v_AL_step, color=\"#1abc9c\", alpha=0.5, label=\"AL\")\n",
    "\n",
    "# NL histogram\n",
    "v_NL, b_NL = np.histogram(entropy_NL_1_fh, bins=np.linspace(0, 8, 17), normed=True)\n",
    "plt.step(b_NL, [v_NL[0]] + list(v_NL), where='pre', color=\"#f1c40f\", lw=2)\n",
    "b_NL_step, v_NL_step = get_x_y_steps(b_NL, [v_NL[0]] + list(v_NL), where=\"pre\")\n",
    "plt.fill_between(b_NL_step, v_NL_step, color=\"#f1c40f\", alpha=0.5, label=\"NL\")\n",
    "\n",
    "plt.xlabel(\"entropy\".capitalize())\n",
    "plt.xlim(0)\n",
    "\n",
    "plt.legend(frameon=False)\n",
    "plt.savefig(\"figures/entropy_distribution_sensibleDTU_all_distr_wide.pdf\")\n",
    "plt.show()"
   ]
  },
  {
   "cell_type": "code",
   "execution_count": 166,
   "metadata": {
    "ExecuteTime": {
     "end_time": "2017-03-15T09:30:11.364850",
     "start_time": "2017-03-15T09:30:09.034976"
    },
    "collapsed": false,
    "run_control": {
     "frozen": false,
     "read_only": false
    },
    "scrolled": true
   },
   "outputs": [
    {
     "data": {
      "image/png": "[encoded data removed]",
      "text/plain": [
       "<matplotlib.figure.Figure at 0x117f39f90>"
      ]
     },
     "metadata": {},
     "output_type": "display_data"
    }
   ],
   "source": [
    "alpha_JSL_1_fh, beta_JSL_1_fh, loc_JSL_1_fh, scale_JSL_1_fh = sp.stats.beta.fit(entropy_JSL_1_fh)\n",
    "alpha_FL_1_fh, beta_FL_1_fh, loc_FL_1_fh, scale_FL_1_fh = sp.stats.beta.fit(entropy_FL_1_fh)\n",
    "alpha_AL_1_fh, beta_AL_1_fh, loc_AL_1_fh, scale_AL_1_fh = sp.stats.beta.fit(entropy_AL_1_fh)\n",
    "alpha_NL_1_fh, beta_NL_1_fh, loc_NL_1_fh, scale_NL_1_fh = sp.stats.beta.fit(entropy_NL_1_fh)\n",
    "\n",
    "entropy_fit_samples_JSL_1_fh = sp.stats.beta.rvs(alpha_JSL_1_fh, beta_JSL_1_fh, loc_JSL_1_fh, scale_JSL_1_fh, size=10000)\n",
    "entropy_fit_samples_FL_1_fh = sp.stats.beta.rvs(alpha_FL_1_fh, beta_FL_1_fh, loc_FL_1_fh, scale_FL_1_fh, size=10000)\n",
    "entropy_fit_samples_AL_1_fh = sp.stats.beta.rvs(alpha_AL_1_fh, beta_AL_1_fh, loc_AL_1_fh, scale_AL_1_fh, size=10000)\n",
    "entropy_fit_samples_NL_1_fh = sp.stats.beta.rvs(alpha_NL_1_fh, beta_NL_1_fh, loc_NL_1_fh, scale_NL_1_fh, size=10000)\n",
    "\n",
    "plt.figure(figsize=(3.42/2, 2.4/4), frameon=False)\n",
    "\n",
    "# JSL histogram\n",
    "v_JSL, b_JSL = np.histogram(entropy_fit_samples_JSL_1_fh, bins=np.linspace(0, 8, 17), normed=True)\n",
    "plt.step(b_JSL, [v_JSL[0]] + list(v_JSL), where='pre', color=\"#e74c3c\", lw=2)\n",
    "b_JSL_step, v_JSL_step = get_x_y_steps(b_JSL, [v_JSL[0]] + list(v_JSL), where=\"pre\")\n",
    "plt.fill_between(b_JSL_step, v_JSL_step, color=\"#e74c3c\", alpha=0.5, label=\"JSL\")\n",
    "\n",
    "# FL histogram\n",
    "v_FL, b_FL = np.histogram(entropy_fit_samples_FL_1_fh, bins=np.linspace(0, 8, 17), normed=True)\n",
    "plt.step(b_FL, [v_FL[0]] + list(v_FL), where='pre', color=\"#3498db\", lw=2)\n",
    "b_FL_step, v_FL_step = get_x_y_steps(b_FL, [v_FL[0]] + list(v_FL), where=\"pre\")\n",
    "plt.fill_between(b_FL_step, v_FL_step, color=\"#3498db\", alpha=0.5, label=\"FL\")\n",
    "\n",
    "# AL histogram\n",
    "v_AL, b_AL = np.histogram(entropy_fit_samples_AL_1_fh, bins=np.linspace(0, 8, 17), normed=True)\n",
    "plt.step(b_AL, [v_AL[0]] + list(v_AL), where='pre', color=\"#1abc9c\", lw=2)\n",
    "b_AL_step, v_AL_step = get_x_y_steps(b_AL, [v_AL[0]] + list(v_AL), where=\"pre\")\n",
    "plt.fill_between(b_AL_step, v_AL_step, color=\"#1abc9c\", alpha=0.5, label=\"AL\")\n",
    "\n",
    "# NL histogram\n",
    "v_NL, b_NL = np.histogram(entropy_fit_samples_NL_1_fh, bins=np.linspace(0, 8, 17), normed=True)\n",
    "plt.step(b_NL, [v_NL[0]] + list(v_NL), where='pre', color=\"#f1c40f\", lw=2)\n",
    "b_NL_step, v_NL_step = get_x_y_steps(b_NL, [v_NL[0]] + list(v_NL), where=\"pre\")\n",
    "plt.fill_between(b_NL_step, v_NL_step, color=\"#f1c40f\", alpha=0.5, label=\"NL\")\n",
    "\n",
    "plt.xlabel(\"entropy\".capitalize())\n",
    "plt.xlim(0)\n",
    "\n",
    "plt.legend(frameon=False)\n",
    "plt.savefig(\"figures/entropy_distribution_sensibleDTU_fh_all_distr_beta_fit_wide.pdf\")\n",
    "plt.show()"
   ]
  },
  {
   "cell_type": "markdown",
   "metadata": {},
   "source": [
    "### Solution NMI"
   ]
  },
  {
   "cell_type": "markdown",
   "metadata": {},
   "source": [
    "#### Working hours"
   ]
  },
  {
   "cell_type": "code",
   "execution_count": 174,
   "metadata": {
    "ExecuteTime": {
     "end_time": "2017-03-16T13:47:22.599932",
     "start_time": "2017-03-16T13:45:00.141996"
    },
    "collapsed": false,
    "run_control": {
     "frozen": false,
     "read_only": false
    }
   },
   "outputs": [
    {
     "name": "stdout",
     "output_type": "stream",
     "text": [
      "JSL\n",
      "\tstudent_study_line 0.823912185896\n",
      "\tshuffle_dict_kvs(student_study_line) 0.497664143785\n",
      "\tstudent_vector_group 0.843879384929\n",
      "\tshuffle_dict_kvs(student_vector_group) 0.755668912645\n",
      "\n",
      "FL\n",
      "\tstudent_study_line 0.837398696121\n",
      "\tshuffle_dict_kvs(student_study_line) 0.482519386051\n",
      "\tstudent_vector_group 0.834798681092\n",
      "\tshuffle_dict_kvs(student_vector_group) 0.733569641567\n"
     ]
    }
   ],
   "source": [
    "print \"JSL\"\n",
    "\n",
    "print \"\\tstudent_study_line\", np.mean([\n",
    "        np.mean(solution_average_NMI(layer_commu_pred_JSL_1_wh, student_study_line))\n",
    "        for layer_commu_pred_JSL_1_wh in layer_commu_pred_JSL_1_wh_arr\n",
    "    ]\n",
    ")\n",
    "print \"\\tshuffle_dict_kvs(student_study_line)\", np.mean([\n",
    "        np.mean(solution_average_NMI(layer_commu_pred_JSL_1_wh, shuffle_dict_kvs(student_study_line)))\n",
    "        for layer_commu_pred_JSL_1_wh in layer_commu_pred_JSL_1_wh_arr\n",
    "    ]\n",
    ")\n",
    "print \"\\tstudent_vector_group\", np.mean([\n",
    "        np.mean(solution_average_NMI(layer_commu_pred_JSL_1_wh, student_vector_group))\n",
    "        for layer_commu_pred_JSL_1_wh in layer_commu_pred_JSL_1_wh_arr\n",
    "    ]\n",
    ")\n",
    "print \"\\tshuffle_dict_kvs(student_vector_group)\", np.mean([\n",
    "        np.mean(solution_average_NMI(layer_commu_pred_JSL_1_wh, shuffle_dict_kvs(student_vector_group)))\n",
    "        for layer_commu_pred_JSL_1_wh in layer_commu_pred_JSL_1_wh_arr\n",
    "    ]\n",
    ")\n",
    "\n",
    "print \"\\nFL\"\n",
    "\n",
    "print \"\\tstudent_study_line\", np.mean([\n",
    "        np.mean(solution_average_NMI(layer_commu_pred_FL_1_wh, student_study_line))\n",
    "        for layer_commu_pred_FL_1_wh in layer_commu_pred_FL_1_wh_arr\n",
    "    ]\n",
    ")\n",
    "print \"\\tshuffle_dict_kvs(student_study_line)\", np.mean([\n",
    "        np.mean(solution_average_NMI(layer_commu_pred_FL_1_wh, shuffle_dict_kvs(student_study_line)))\n",
    "        for layer_commu_pred_FL_1_wh in layer_commu_pred_FL_1_wh_arr\n",
    "    ]\n",
    ")\n",
    "print \"\\tstudent_vector_group\", np.mean([\n",
    "        np.mean(solution_average_NMI(layer_commu_pred_FL_1_wh, student_vector_group))\n",
    "        for layer_commu_pred_FL_1_wh in layer_commu_pred_FL_1_wh_arr\n",
    "    ]\n",
    ")\n",
    "print \"\\tshuffle_dict_kvs(student_vector_group)\", np.mean([\n",
    "        np.mean(solution_average_NMI(layer_commu_pred_FL_1_wh, shuffle_dict_kvs(student_vector_group)))\n",
    "        for layer_commu_pred_FL_1_wh in layer_commu_pred_FL_1_wh_arr\n",
    "    ]\n",
    ")"
   ]
  },
  {
   "cell_type": "markdown",
   "metadata": {},
   "source": [
    "#### Free hours"
   ]
  },
  {
   "cell_type": "code",
   "execution_count": 173,
   "metadata": {
    "ExecuteTime": {
     "end_time": "2017-03-16T13:21:28.142498",
     "start_time": "2017-03-16T13:19:57.271486"
    },
    "collapsed": false,
    "run_control": {
     "frozen": false,
     "read_only": false
    }
   },
   "outputs": [
    {
     "name": "stdout",
     "output_type": "stream",
     "text": [
      "student_study_line 0.73514635974\n",
      "shuffle_dict_kvs(student_study_line) 0.705187282261\n",
      "student_vector_group 0.907199162613\n",
      "shuffle_dict_kvs(student_vector_group) 0.896242515222\n"
     ]
    }
   ],
   "source": [
    "print \"student_study_line\", np.mean([\n",
    "        np.mean(solution_average_NMI(layer_commu_pred_JSL_1_fh, student_study_line))\n",
    "        for layer_commu_pred_JSL_1_fh in layer_commu_pred_JSL_1_fh_arr\n",
    "    ]\n",
    "    \n",
    ")\n",
    "print \"shuffle_dict_kvs(student_study_line)\", np.mean([\n",
    "        np.mean(solution_average_NMI(layer_commu_pred_JSL_1_fh, shuffle_dict_kvs(student_study_line)))\n",
    "        for layer_commu_pred_JSL_1_fh in layer_commu_pred_JSL_1_fh_arr\n",
    "    ]\n",
    "    \n",
    ")\n",
    "print \"student_vector_group\", np.mean([\n",
    "        np.mean(solution_average_NMI(layer_commu_pred_JSL_1_fh, student_vector_group))\n",
    "        for layer_commu_pred_JSL_1_fh in layer_commu_pred_JSL_1_fh_arr\n",
    "    ]\n",
    "    \n",
    ")\n",
    "print \"shuffle_dict_kvs(student_vector_group)\", np.mean([\n",
    "        np.mean(solution_average_NMI(layer_commu_pred_JSL_1_fh, shuffle_dict_kvs(student_vector_group)))\n",
    "        for layer_commu_pred_JSL_1_fh in layer_commu_pred_JSL_1_fh_arr\n",
    "    ]\n",
    "    \n",
    ")"
   ]
  },
  {
   "cell_type": "markdown",
   "metadata": {},
   "source": [
    "### Community entropy"
   ]
  },
  {
   "cell_type": "markdown",
   "metadata": {},
   "source": [
    "#### Working hours"
   ]
  },
  {
   "cell_type": "code",
   "execution_count": 1184,
   "metadata": {
    "ExecuteTime": {
     "end_time": "2017-03-17T16:46:14.052747",
     "start_time": "2017-03-17T16:46:12.529674"
    },
    "collapsed": false,
    "run_control": {
     "frozen": false,
     "read_only": false
    }
   },
   "outputs": [],
   "source": [
    "commu_entropy_JSL_1_wh_arr = [compute_community_entropy(layer_commu_pred_JSL_1_wh, student_gender) for layer_commu_pred_JSL_1_wh in layer_commu_pred_JSL_1_wh_arr]\n",
    "commu_entropy_FL_1_wh_arr = [compute_community_entropy(layer_commu_pred_FL_1_wh, student_gender) for layer_commu_pred_FL_1_wh in layer_commu_pred_FL_1_wh_arr]\n",
    "commu_entropy_AL_1_wh_arr = [compute_community_entropy(layer_commu_pred_AL_1_wh, student_gender) for layer_commu_pred_AL_1_wh in layer_commu_pred_AL_1_wh_arr]\n",
    "commu_entropy_NL_1_wh_arr = [compute_community_entropy(layer_commu_pred_NL_1_wh, student_gender) for layer_commu_pred_NL_1_wh in layer_commu_pred_NL_1_wh_arr]\n",
    "\n",
    "commu_entropy_JSL_1_wh = ravel_two_level(commu_entropy_JSL_1_wh_arr)\n",
    "commu_entropy_FL_1_wh = ravel_two_level(commu_entropy_FL_1_wh_arr)\n",
    "commu_entropy_AL_1_wh = ravel_two_level(commu_entropy_AL_1_wh_arr)\n",
    "commu_entropy_NL_1_wh = ravel_two_level(commu_entropy_NL_1_wh_arr)"
   ]
  },
  {
   "cell_type": "code",
   "execution_count": 1186,
   "metadata": {
    "ExecuteTime": {
     "end_time": "2017-03-17T16:46:25.590412",
     "start_time": "2017-03-17T16:46:25.368468"
    },
    "collapsed": false,
    "run_control": {
     "frozen": false,
     "read_only": false
    }
   },
   "outputs": [
    {
     "data": {
      "image/png": "[encoded data removed]",
      "text/plain": [
       "<matplotlib.figure.Figure at 0x12a8b3290>"
      ]
     },
     "metadata": {},
     "output_type": "display_data"
    }
   ],
   "source": [
    "plt.figure(figsize=(3.42/2, 2.4/4), frameon=False)\n",
    "\n",
    "# JSL histogram\n",
    "v, b = np.histogram(commu_entropy_JSL_1_wh, bins=np.linspace(0, 2.5, 12), normed=True)\n",
    "plt.step(b, [v[0]] + list(v), where='pre', color=\"#e74c3c\", lw=0.5)\n",
    "b_step, v_step = get_x_y_steps(b, [v[0]] + list(v), where=\"pre\")\n",
    "plt.fill_between(b_step, v_step, color=\"#e74c3c\", alpha=0.5, label=\"JSL\")\n",
    "\n",
    "# FL histogram\n",
    "v, b = np.histogram(commu_entropy_FL_1_wh, bins=np.linspace(0, 2.5, 12), normed=True)\n",
    "plt.step(b, [v[0]] + list(v), where='pre', color=\"#3498db\", lw=0.5)\n",
    "b_step, v_step = get_x_y_steps(b, [v[0]] + list(v), where=\"pre\")\n",
    "plt.fill_between(b_step, v_step, color=\"#3498db\", alpha=0.5, label=\"FL\")\n",
    "\n",
    "# # AL histogram\n",
    "# v, b = np.histogram(commu_entropy_AL_1_wh, bins=np.linspace(0, 2, 11), normed=True)\n",
    "# plt.step(b, [v[0]] + list(v), where='pre', col3or=\"#1abc9c\", lw=0.5)\n",
    "# b_step, v_step = get_x_y_steps(b, [v[0]] + list(v), where=\"pre\")\n",
    "# plt.fill_between(b_step, v_step, color=\"#1abc9c\", alpha=0.5, label=\"AL\")\n",
    "\n",
    "# NL histogram\n",
    "v, b = np.histogram(commu_entropy_NL_1_wh, bins=np.linspace(0, 2, 11), normed=True)\n",
    "plt.step(b, [v[0]] + list(v), where='pre', color=\"#f1c40f\", lw=0.5)\n",
    "b_step, v_step = get_x_y_steps(b, [v[0]] + list(v), where=\"pre\")\n",
    "plt.fill_between(b_step, v_step, color=\"#f1c40f\", alpha=0.5, label=\"NL\")\n",
    "\n",
    "plt.xlabel(\"community entropy\".capitalize())\n",
    "#plt.xlim(0, 2)\n",
    "#plt.yscale(\"log\")\n",
    "\n",
    "#plt.legend(frameon=False)\n",
    "plt.savefig(\"figures/commu_entropy_distribution_sensibleDTU_all_distr_wide.pdf\")\n",
    "plt.show()"
   ]
  },
  {
   "cell_type": "markdown",
   "metadata": {},
   "source": [
    "### Size distribution"
   ]
  },
  {
   "cell_type": "code",
   "execution_count": 18,
   "metadata": {
    "ExecuteTime": {
     "end_time": "2017-03-20T09:50:50.251109",
     "start_time": "2017-03-20T09:50:49.622942"
    },
    "collapsed": false,
    "run_control": {
     "frozen": false,
     "read_only": false
    }
   },
   "outputs": [],
   "source": [
    "sizes_JSL_1_wh_arr = [compute_community_size(layer_commu_pred_JSL_1_wh, network1) for layer_commu_pred_JSL_1_wh in layer_commu_pred_JSL_1_wh_arr]\n",
    "sizes_FL_1_wh_arr = [compute_community_size(layer_commu_pred_FL_1_wh, network1) for layer_commu_pred_FL_1_wh in layer_commu_pred_FL_1_wh_arr]\n",
    "sizes_AL_1_wh_arr = [compute_community_size(layer_commu_pred_AL_1_wh, network1) for layer_commu_pred_AL_1_wh in layer_commu_pred_AL_1_wh_arr]\n",
    "sizes_NL_1_wh_arr = [compute_community_size(layer_commu_pred_NL_1_wh, network1) for layer_commu_pred_NL_1_wh in layer_commu_pred_NL_1_wh_arr]\n",
    "\n",
    "sizes_JSL_1_wh = ravel_two_level(sizes_JSL_1_wh_arr)\n",
    "sizes_FL_1_wh = ravel_two_level(sizes_FL_1_wh_arr)\n",
    "sizes_AL_1_wh = ravel_two_level(sizes_AL_1_wh_arr)\n",
    "sizes_NL_1_wh = ravel_two_level(sizes_NL_1_wh_arr)"
   ]
  },
  {
   "cell_type": "code",
   "execution_count": null,
   "metadata": {
    "collapsed": true,
    "run_control": {
     "frozen": false,
     "read_only": false
    }
   },
   "outputs": [],
   "source": [
    "# Doesn't fit a powerlaw!\n",
    "# x = np.linspace(0, 0.2, 100)\n",
    "# y_JSL = sp.stats.powerlaw.pdf(x, *sp.stats.powerlaw.fit(sizes_JSL_2))\n",
    "# y_FL = sp.stats.powerlaw.pdf(x, *sp.stats.powerlaw.fit(sizes_FL_2))\n",
    "# y_AL = sp.stats.powerlaw.pdf(x, *sp.stats.powerlaw.fit(sizes_AL_2))\n",
    "# y_NL = sp.stats.powerlaw.pdf(x, *sp.stats.powerlaw.fit(sizes_NL_2))"
   ]
  },
  {
   "cell_type": "code",
   "execution_count": 26,
   "metadata": {
    "ExecuteTime": {
     "end_time": "2017-03-20T09:52:31.826575",
     "start_time": "2017-03-20T09:52:30.667789"
    },
    "collapsed": false,
    "run_control": {
     "frozen": false,
     "read_only": false
    }
   },
   "outputs": [
    {
     "data": {
      "image/png": "[encoded data removed]",
      "text/plain": [
       "<matplotlib.figure.Figure at 0x1155652d0>"
      ]
     },
     "metadata": {},
     "output_type": "display_data"
    }
   ],
   "source": [
    "plt.figure(figsize=(3.42/2, 2.4/4), frameon=False)\n",
    "\n",
    "# JSL histogram\n",
    "v, b = np.histogram(sizes_JSL_1_wh, np.logspace(np.log10(1e-3), np.log10(1), 11), normed=True)\n",
    "plt.step(b, [v[0]] + list(v), where='pre', color=\"#e74c3c\", lw=0.5)\n",
    "b_step, v_step = get_x_y_steps(b, [v[0]] + list(v), where=\"pre\")\n",
    "plt.fill_between(b_step, v_step, color=\"#e74c3c\", alpha=0.5, label=\"JSL\")\n",
    "#plt.plot(x, y_JSL, color=\"#e74c3c\", lw=0.5)\n",
    "\n",
    "# FL histogram\n",
    "v, b = np.histogram(sizes_FL_1_wh, np.logspace(np.log10(1e-3), np.log10(1), 11), normed=True)\n",
    "plt.step(b, [v[0]] + list(v), where='pre', color=\"#3498db\", lw=0.5)\n",
    "b_step, v_step = get_x_y_steps(b, [v[0]] + list(v), where=\"pre\")\n",
    "plt.fill_between(b_step, v_step, color=\"#3498db\", alpha=0.5, label=\"FL\")\n",
    "#plt.plot(x, y_FL, color=\"#3498db\", lw=0.5)\n",
    "\n",
    "# AL histogram\n",
    "# v, b = np.histogram(sizes_AL_1_wh, np.logspace(np.log10(1e-3), np.log10(0.2), 11), normed=True)\n",
    "# plt.step(b, [v[0]] + list(v), where='pre', color=\"#1abc9c\", lw=0.5)\n",
    "# b_step, v_step = get_x_y_steps(b, [v[0]] + list(v), where=\"pre\")\n",
    "# plt.fill_between(b_step, v_step, color=\"#1abc9c\", alpha=0.5, label=\"AL\")\n",
    "# #plt.plot(x, y_AL, color=\"#1abc9c\", lw=0.5)\n",
    "\n",
    "# NL histogram\n",
    "v, b = np.histogram(sizes_NL_1_wh)#, np.logspace(np.log10(1e-3), np.log10(0.2), 11), normed=True)\n",
    "plt.step(b, [v[0]] + list(v), where='pre', color=\"#f1c40f\", lw=0.5)\n",
    "b_step, v_step = get_x_y_steps(b, [v[0]] + list(v), where=\"pre\")\n",
    "plt.fill_between(b_step, v_step, color=\"#f1c40f\", alpha=0.5, label=\"NL\")\n",
    "#plt.plot(x, y_NL, color=\"#f1c40f\", lw=0.5)\n",
    "\n",
    "plt.yscale(\"log\")\n",
    "plt.xscale(\"log\")\n",
    "\n",
    "plt.xlabel(\"size\".capitalize())\n",
    "plt.xlim(1e-3)\n",
    "\n",
    "#plt.legend(frameon=False)\n",
    "plt.savefig(\"figures/size_distribution_sensibleDTU_1_wh_all_distr_wide_loglog.pdf\")\n",
    "plt.show()"
   ]
  },
  {
   "cell_type": "code",
   "execution_count": 32,
   "metadata": {
    "ExecuteTime": {
     "end_time": "2017-03-20T09:53:12.975621",
     "start_time": "2017-03-20T09:53:12.029834"
    },
    "collapsed": false,
    "run_control": {
     "frozen": false,
     "read_only": false
    },
    "scrolled": false
   },
   "outputs": [
    {
     "data": {
      "image/png": "[encoded data removed]",
      "text/plain": [
       "<matplotlib.figure.Figure at 0x117d5d050>"
      ]
     },
     "metadata": {},
     "output_type": "display_data"
    }
   ],
   "source": [
    "plt.figure(figsize=(3.42/2, 2.4/4), frameon=False)\n",
    "\n",
    "# JSL histogram\n",
    "v, b = np.histogram(sizes_JSL_1_wh, np.linspace(0, 0.06, 11), normed=True)\n",
    "plt.step(b, [v[0]] + list(v), where='pre', color=\"#e74c3c\", lw=0.5)\n",
    "b_step, v_step = get_x_y_steps(b, [v[0]] + list(v), where=\"pre\")\n",
    "plt.fill_between(b_step, v_step, color=\"#e74c3c\", alpha=0.5, label=\"JSL\")\n",
    "#plt.plot(x, y_JSL, color=\"#e74c3c\")\n",
    "\n",
    "# FL histogram\n",
    "v, b = np.histogram(sizes_FL_1_wh, np.linspace(0, 0.06, 11), normed=True)\n",
    "plt.step(b, [v[0]] + list(v), where='pre', color=\"#3498db\", lw=0.5)\n",
    "b_step, v_step = get_x_y_steps(b, [v[0]] + list(v), where=\"pre\")\n",
    "plt.fill_between(b_step, v_step, color=\"#3498db\", alpha=0.5, label=\"FL\")\n",
    "#plt.plot(x, y_FL, color=\"#3498db\")\n",
    "\n",
    "# AL histogram\n",
    "v, b = np.histogram(sizes_AL_1_wh, np.linspace(0, 0.06, 11), normed=True)\n",
    "plt.step(b, [v[0]] + list(v), where='pre', color=\"#1abc9c\", lw=0.5)\n",
    "b_step, v_step = get_x_y_steps(b, [v[0]] + list(v), where=\"pre\")\n",
    "plt.fill_between(b_step, v_step, color=\"#1abc9c\", alpha=0.5, label=\"AL\")\n",
    "#plt.plot(x, y_AL, color=\"#1abc9c\")\n",
    "\n",
    "# NL histogram\n",
    "v, b = np.histogram(sizes_NL_1_wh, np.linspace(0, 0.06, 11), normed=True)\n",
    "plt.step(b, [v[0]] + list(v), where='pre', color=\"#f1c40f\", lw=0.5)\n",
    "b_step, v_step = get_x_y_steps(b, [v[0]] + list(v), where=\"pre\")\n",
    "plt.fill_between(b_step, v_step, color=\"#f1c40f\", alpha=0.5, label=\"NL\")\n",
    "#plt.plot(x, y_NL, color=\"#f1c40f\")\n",
    "\n",
    "plt.yscale(\"log\")\n",
    "\n",
    "plt.xlabel(\"size\".capitalize())\n",
    "plt.xlim(1e-3)\n",
    "\n",
    "#plt.legend(frameon=False)\n",
    "plt.savefig(\"figures/size_distribution_sensibleDTU_all_distr_wide_log.pdf\")\n",
    "plt.show()"
   ]
  },
  {
   "cell_type": "markdown",
   "metadata": {},
   "source": [
    "### Participation profile similarity"
   ]
  },
  {
   "cell_type": "code",
   "execution_count": 1191,
   "metadata": {
    "ExecuteTime": {
     "end_time": "2017-03-17T16:51:56.386126",
     "start_time": "2017-03-17T16:48:15.774438"
    },
    "collapsed": true,
    "run_control": {
     "frozen": false,
     "read_only": false
    }
   },
   "outputs": [],
   "source": [
    "similarity_vals_JSL_1_wh = ravel_two_level(\n",
    "    [participation_similarity(layer_commu_pred_JSL_1_wh) for layer_commu_pred_JSL_1_wh in layer_commu_pred_JSL_1_wh_arr]\n",
    ")\n",
    "similarity_vals_FL_1_wh = ravel_two_level(\n",
    "    [participation_similarity(layer_commu_pred_FL_1_wh) for layer_commu_pred_FL_1_wh in layer_commu_pred_FL_1_wh_arr]\n",
    ")\n",
    "similarity_vals_AL_1_wh = ravel_two_level(\n",
    "    [participation_similarity(layer_commu_pred_AL_1_wh) for layer_commu_pred_AL_1_wh in layer_commu_pred_AL_1_wh_arr]\n",
    ")\n",
    "similarity_vals_NL_1_wh = ravel_two_level(\n",
    "    [participation_similarity(layer_commu_pred_NL_1_wh) for layer_commu_pred_NL_1_wh in layer_commu_pred_NL_1_wh_arr]\n",
    ")"
   ]
  },
  {
   "cell_type": "code",
   "execution_count": 1192,
   "metadata": {
    "ExecuteTime": {
     "end_time": "2017-03-17T16:54:48.862229",
     "start_time": "2017-03-17T16:52:02.405378"
    },
    "collapsed": false,
    "run_control": {
     "frozen": false,
     "read_only": false
    },
    "scrolled": true
   },
   "outputs": [
    {
     "data": {
      "image/png": "[encoded data removed]",
      "text/plain": [
       "<matplotlib.figure.Figure at 0x14f1b8d10>"
      ]
     },
     "metadata": {},
     "output_type": "display_data"
    }
   ],
   "source": [
    "plt.figure(figsize=(3.42/2, 2.4/2), frameon=False)\n",
    "\n",
    "# JSL histogram\n",
    "v, b = np.histogram(similarity_vals_JSL_1_wh, np.linspace(0, 1, 11), normed=True)\n",
    "plt.step(b, [v[0]] + list(v), where='pre', color=\"#e74c3c\", lw=0.5)\n",
    "b_step, v_step = get_x_y_steps(b, [v[0]] + list(v), where=\"pre\")\n",
    "plt.fill_between(b_step, v_step, color=\"#e74c3c\", alpha=0.5, label=\"JSL\")\n",
    "\n",
    "# FL histogram\n",
    "v, b = np.histogram(similarity_vals_FL_1_wh, np.linspace(0, 1, 11), normed=True)\n",
    "plt.step(b, [v[0]] + list(v), where='pre', color=\"#3498db\", lw=0.5)\n",
    "b_step, v_step = get_x_y_steps(b, [v[0]] + list(v), where=\"pre\")\n",
    "plt.fill_between(b_step, v_step, color=\"#3498db\", alpha=0.5, label=\"FL\")\n",
    "\n",
    "# # AL histogram\n",
    "# v, b = np.histogram(similarity_vals_AL_1_wh, np.linspace(0, 1, 11), normed=True)\n",
    "# plt.step(b, [v[0]] + list(v), where='pre', color=\"#1abc9c\", lw=0.5)\n",
    "# b_step, v_step = get_x_y_steps(b, [v[0]] + list(v), where=\"pre\")\n",
    "# plt.fill_between(b_step, v_step, color=\"#1abc9c\", alpha=0.5, label=\"AL\")\n",
    "\n",
    "# NL histogram\n",
    "v, b = np.histogram(similarity_vals_NL_1_wh, np.linspace(0, 1, 11), normed=True)\n",
    "plt.step(b, [v[0]] + list(v), where='pre', color=\"#f1c40f\", lw=0.5)\n",
    "b_step, v_step = get_x_y_steps(b, [v[0]] + list(v), where=\"pre\")\n",
    "plt.fill_between(b_step, v_step, color=\"#f1c40f\", alpha=0.5, label=\"NL\")\n",
    "\n",
    "plt.yscale(\"log\")\n",
    "plt.xlabel(\"size\".capitalize())\n",
    "\n",
    "#plt.legend(frameon=False)\n",
    "#plt.savefig(\"figures/profile_similarity_distribution_sensibleDTU_all_distr_wide_log.pdf\")\n",
    "plt.show()"
   ]
  },
  {
   "cell_type": "markdown",
   "metadata": {},
   "source": [
    "### Daily new communities"
   ]
  },
  {
   "cell_type": "code",
   "execution_count": 262,
   "metadata": {
    "ExecuteTime": {
     "end_time": "2017-03-22T16:14:03.149841",
     "start_time": "2017-03-22T16:14:03.117871"
    },
    "collapsed": false,
    "run_control": {
     "frozen": false,
     "read_only": false
    }
   },
   "outputs": [],
   "source": [
    "periods_JSL_1_wh, new_communities_JSL_1_wh, communities_JSL_1_wh = days_new_communities(layer_commu_pred_JSL_1_wh_arr[0], thr=2)\n",
    "periods_FL_1_wh, new_communities_FL_1_wh, communities_FL_1_wh = days_new_communities(layer_commu_pred_FL_1_wh_arr[0], thr=2)\n",
    "periods_AL_1_wh, new_communities_AL_1_wh, communities_AL_1_wh = days_new_communities(layer_commu_pred_AL_1_wh_arr[0], thr=2)\n",
    "periods_NL_1_wh, new_communities_NL_1_wh, communities_NL_1_wh = days_new_communities(layer_commu_pred_NL_1_wh_arr[0], thr=2)"
   ]
  },
  {
   "cell_type": "code",
   "execution_count": 268,
   "metadata": {
    "ExecuteTime": {
     "end_time": "2017-03-22T16:21:07.368569",
     "start_time": "2017-03-22T16:21:06.928182"
    },
    "collapsed": false,
    "run_control": {
     "frozen": false,
     "read_only": false
    }
   },
   "outputs": [
    {
     "data": {
      "image/png": "[encoded data removed]",
      "text/plain": [
       "<matplotlib.figure.Figure at 0x116f5f9d0>"
      ]
     },
     "metadata": {},
     "output_type": "display_data"
    }
   ],
   "source": [
    "plt.figure(figsize=(3.42/2, 2.4/2), frameon=False)\n",
    "\n",
    "plt.plot(periods_JSL_1_wh, new_communities_JSL_1_wh * 1.0 / communities_JSL_1_wh, c=\"#e74c3c\", label=\"JSL\", lw=0.5)\n",
    "plt.scatter(periods_JSL_1_wh, new_communities_JSL_1_wh * 1.0 / communities_JSL_1_wh, c=\"#e74c3c\", lw=0, s=5)\n",
    "\n",
    "plt.plot(periods_FL_1_wh, new_communities_FL_1_wh * 1.0 / communities_FL_1_wh, c=\"#3498db\", label=\"FL\", lw=0.5)\n",
    "plt.scatter(periods_FL_1_wh, new_communities_FL_1_wh * 1.0 / communities_FL_1_wh, c=\"#3498db\", lw=0, s=5)\n",
    "\n",
    "# plt.plot(periods_AL_1_wh, new_communities_AL_1_wh * 1.0 / communities_AL_1_wh, c=\"#1abc9c\", label=\"AL\", lw=0.5)\n",
    "# plt.scatter(periods_AL_1_wh, new_communities_AL_1_wh * 1.0 / communities_AL_1_wh, c=\"#1abc9c\", lw=0, s=5)\n",
    "\n",
    "plt.plot(periods_NL_1_wh, new_communities_NL_1_wh * 1.0 / communities_NL_1_wh, c=\"#f1c40f\", label=\"NL\", lw=0.5)\n",
    "plt.scatter(periods_NL_1_wh, new_communities_NL_1_wh * 1.0 / communities_NL_1_wh, c=\"#f1c40f\", lw=0, s=5)\n",
    "\n",
    "plt.ylim(0, 1.1)\n",
    "plt.xlim(0, 9)\n",
    "#plt.grid()\n",
    "plt.xlabel(\"Time [days]\")\n",
    "plt.ylabel(\"Fraction new communities\")\n",
    "#plt.legend()\n",
    "plt.savefig(\"figures/daily_new_communities_1_wh.pdf\")\n",
    "plt.show()"
   ]
  },
  {
   "cell_type": "markdown",
   "metadata": {},
   "source": [
    "### Daily average community participation profile similarity to previous day"
   ]
  },
  {
   "cell_type": "code",
   "execution_count": 264,
   "metadata": {
    "ExecuteTime": {
     "end_time": "2017-03-22T16:14:27.475386",
     "start_time": "2017-03-22T16:14:26.415325"
    },
    "collapsed": false
   },
   "outputs": [],
   "source": [
    "x_JSL_1_wh, Y_JSL_1_wh = daily_distr_community_similarity_to_prev_instance(layer_commu_pred_JSL_1_wh_arr[0])\n",
    "x_FL_1_wh, Y_FL_1_wh = daily_distr_community_similarity_to_prev_instance(layer_commu_pred_FL_1_wh_arr[0])"
   ]
  },
  {
   "cell_type": "code",
   "execution_count": 278,
   "metadata": {
    "ExecuteTime": {
     "end_time": "2017-03-22T16:31:03.528153",
     "start_time": "2017-03-22T16:31:03.288615"
    },
    "collapsed": false,
    "scrolled": true
   },
   "outputs": [
    {
     "data": {
      "image/png": "[encoded data removed]",
      "text/plain": [
       "<matplotlib.figure.Figure at 0x11872b390>"
      ]
     },
     "metadata": {},
     "output_type": "display_data"
    }
   ],
   "source": [
    "plt.figure(figsize=(3.42/2, 2.4/2), frameon=False)\n",
    "confidence_intervals(x_JSL_1_wh, Y_JSL_1_wh, c=\"#e74c3c\")\n",
    "confidence_intervals(x_FL_1_wh, Y_FL_1_wh, c=\"#2980b9\")\n",
    "plt.ylim(-0.1, 1)\n",
    "plt.xlim(1, 9)\n",
    "plt.xlabel(\"Time [Days]\")\n",
    "plt.ylabel(\"Cosine similarity\")\n",
    "plt.savefig(\"figures/daily_community_prev_instance_similarity_1_wh.pdf\")\n",
    "plt.show()"
   ]
  },
  {
   "cell_type": "markdown",
   "metadata": {},
   "source": [
    "### Reoccurance similarity to previous instance"
   ]
  },
  {
   "cell_type": "code",
   "execution_count": null,
   "metadata": {
    "ExecuteTime": {
     "start_time": "2017-03-20T08:08:12.833Z"
    },
    "collapsed": true
   },
   "outputs": [],
   "source": [
    "similarity_matrix_JSL = between_layer_community_similarity(layer_commu_pred_JSL_1_wh_arr[0])\n",
    "similarity_matrix_FL = between_layer_community_similarity(layer_commu_pred_FL_1_wh_arr[0])\n",
    "similarity_matrix_AL = between_layer_community_similarity(layer_commu_pred_AL_1_wh_arr[0])\n",
    "similarity_matrix_NL = between_layer_community_similarity(layer_commu_pred_NL_1_wh_arr[0])"
   ]
  },
  {
   "cell_type": "code",
   "execution_count": 226,
   "metadata": {
    "ExecuteTime": {
     "end_time": "2017-03-20T08:22:25.984297",
     "start_time": "2017-03-20T08:22:25.775480"
    },
    "collapsed": false
   },
   "outputs": [
    {
     "data": {
      "image/png": "[encoded data removed]",
      "text/plain": [
       "<matplotlib.figure.Figure at 0x1152c3610>"
      ]
     },
     "metadata": {},
     "output_type": "display_data"
    }
   ],
   "source": [
    "k = 19\n",
    "lag = 10\n",
    "\n",
    "plt.figure(figsize=(10, 4))\n",
    "tmp = interpolate_nans(np.diagonal(similarity_matrix_JSL[:, :, k], lag))\n",
    "#tmp = interpolate_nans(similarity_matrix_JSL[0, :, k])\n",
    "plt.plot(range(len(tmp)), smooth(tmp, 10), c=\"r\")\n",
    "tmp = interpolate_nans(np.diagonal(similarity_matrix_FL[:, :, k], lag))\n",
    "#tmp = interpolate_nans(similarity_matrix_FL[0, :, k])\n",
    "plt.plot(range(len(tmp)), smooth(tmp, 10), c=\"b\")\n",
    "plt.show()"
   ]
  },
  {
   "cell_type": "code",
   "execution_count": 367,
   "metadata": {
    "ExecuteTime": {
     "end_time": "2017-03-20T09:07:49.985020",
     "start_time": "2017-03-20T09:07:49.762008"
    },
    "collapsed": false,
    "scrolled": false
   },
   "outputs": [
    {
     "data": {
      "image/png": "[encoded data removed]",
      "text/plain": [
       "<matplotlib.figure.Figure at 0x115ed5b50>"
      ]
     },
     "metadata": {},
     "output_type": "display_data"
    }
   ],
   "source": [
    "lag = 3\n",
    "\n",
    "plt.figure(figsize=(10, 4))\n",
    "tmp = diagonal_commu_mean(similarity_matrix_JSL, lag)\n",
    "plt.plot(range(len(tmp)), smooth(tmp, 6), c=\"r\")\n",
    "tmp = diagonal_commu_mean(similarity_matrix_FL, lag)\n",
    "plt.plot(range(len(tmp)), smooth(tmp, 6), c=\"b\")\n",
    "tmp = diagonal_commu_mean(similarity_matrix_AL, lag)\n",
    "plt.plot(range(len(tmp)), smooth(tmp, 6), c=\"g\")\n",
    "tmp = diagonal_commu_mean(similarity_matrix_NL, lag)\n",
    "plt.plot(range(len(tmp)), smooth(tmp, 6), c=\"y\")\n",
    "plt.ylim(0, 1)\n",
    "plt.show()"
   ]
  },
  {
   "cell_type": "markdown",
   "metadata": {},
   "source": [
    "### Community connectedness"
   ]
  },
  {
   "cell_type": "code",
   "execution_count": 881,
   "metadata": {
    "ExecuteTime": {
     "end_time": "2017-03-17T08:07:15.281096",
     "start_time": "2017-03-17T08:07:14.427580"
    },
    "collapsed": true,
    "run_control": {
     "frozen": false,
     "read_only": false
    }
   },
   "outputs": [],
   "source": [
    "commu_connectedness_JSL_1_wh = communities_connectedness(layer_commu_pred_JSL_1_wh_arr[0], network1_wh)\n",
    "commu_connectedness_FL_1_wh = communities_connectedness(layer_commu_pred_FL_1_wh_arr[0], network1_wh)"
   ]
  },
  {
   "cell_type": "code",
   "execution_count": 884,
   "metadata": {
    "ExecuteTime": {
     "end_time": "2017-03-17T08:07:39.788638",
     "start_time": "2017-03-17T08:07:39.323302"
    },
    "collapsed": false,
    "run_control": {
     "frozen": false,
     "read_only": false
    }
   },
   "outputs": [
    {
     "data": {
      "image/png": "[encoded data removed]",
      "text/plain": [
       "<matplotlib.figure.Figure at 0x10b91fdd0>"
      ]
     },
     "metadata": {},
     "output_type": "display_data"
    }
   ],
   "source": [
    "plt.hist([np.mean(dyad_connectedness.values()) for dyad_connectedness in commu_connectedness_JSL_1_wh.values()], alpha=0.2, color=\"r\")\n",
    "plt.hist([np.mean(dyad_connectedness.values()) for dyad_connectedness in commu_connectedness_FL_1_wh.values()], alpha=0.2, color=\"b\")\n",
    "plt.yscale(\"log\")"
   ]
  },
  {
   "cell_type": "markdown",
   "metadata": {},
   "source": [
    "## *Workplace*"
   ]
  },
  {
   "cell_type": "markdown",
   "metadata": {},
   "source": [
    "### Create many solutions"
   ]
  },
  {
   "cell_type": "code",
   "execution_count": 49,
   "metadata": {
    "ExecuteTime": {
     "end_time": "2017-03-20T10:23:30.319657",
     "start_time": "2017-03-20T10:23:02.418654"
    },
    "collapsed": false,
    "run_control": {
     "frozen": false,
     "read_only": false
    }
   },
   "outputs": [],
   "source": [
    "layer_commu_pred_JSL_2_arr, layer_commu_pred_FL_2_arr, layer_commu_pred_AL_2_arr, layer_commu_pred_NL_2_arr = compute_layer_commu_4_models(network_pajek2, network2, layer_indices2, \"2\", 1, parallel=True)"
   ]
  },
  {
   "cell_type": "markdown",
   "metadata": {},
   "source": [
    "### Degree of mixing"
   ]
  },
  {
   "cell_type": "code",
   "execution_count": 176,
   "metadata": {
    "ExecuteTime": {
     "end_time": "2017-03-16T13:55:16.829283",
     "start_time": "2017-03-16T13:48:46.682506"
    },
    "collapsed": true,
    "run_control": {
     "frozen": false,
     "read_only": false
    }
   },
   "outputs": [],
   "source": [
    "mixing_JSL_2 = compute_mixing_layer_commu(layer_commu_pred_JSL_2_arr, network2, parallel=True)\n",
    "mixing_FL_2 = compute_mixing_layer_commu(layer_commu_pred_FL_2_arr, network2, parallel=True)\n",
    "mixing_AL_2 = compute_mixing_layer_commu(layer_commu_pred_AL_2_arr, network2, parallel=True)\n",
    "mixing_NL_2 = compute_mixing_layer_commu(layer_commu_pred_NL_2_arr, network2, parallel=True)"
   ]
  },
  {
   "cell_type": "code",
   "execution_count": 184,
   "metadata": {
    "ExecuteTime": {
     "end_time": "2017-03-16T14:01:24.936028",
     "start_time": "2017-03-16T14:01:24.260478"
    },
    "collapsed": false,
    "run_control": {
     "frozen": false,
     "read_only": false
    }
   },
   "outputs": [
    {
     "data": {
      "image/png": "[encoded data removed]",
      "text/plain": [
       "<matplotlib.figure.Figure at 0x10d423790>"
      ]
     },
     "metadata": {},
     "output_type": "display_data"
    }
   ],
   "source": [
    "plt.figure(figsize=(3.42/2, 1.2), frameon=False)\n",
    "\n",
    "# JSL histogram\n",
    "v_JSL, b_JSL = np.histogram(mixing_JSL_2, bins=np.linspace(0, 1, 11), normed=True)\n",
    "plt.step(b_JSL, [v_JSL[0]] + list(v_JSL), where='pre', color=\"#e74c3c\", lw=0.5)\n",
    "b_JSL_step, v_JSL_step = get_x_y_steps(b_JSL, [v_JSL[0]] + list(v_JSL), where=\"pre\")\n",
    "plt.fill_between(b_JSL_step, v_JSL_step, color=\"#e74c3c\", alpha=0.5, label=\"JSL\")\n",
    "\n",
    "# FL histogram\n",
    "v_FL, b_FL = np.histogram(mixing_FL_2, bins=np.linspace(0, 1, 11), normed=True)\n",
    "plt.step(b_FL, [v_FL[0]] + list(v_FL), where='pre', color=\"#3498db\", lw=0.5)\n",
    "b_FL_step, v_FL_step = get_x_y_steps(b_FL, [v_FL[0]] + list(v_FL), where=\"pre\")\n",
    "plt.fill_between(b_FL_step, v_FL_step, color=\"#3498db\", alpha=0.5, label=\"FL\")\n",
    "\n",
    "# # AL histogram\n",
    "# v_AL, b_AL = np.histogram(mixing_AL_2, bins=np.linspace(0, 1, 11), normed=True)\n",
    "# plt.step(b_AL, [v_AL[0]] + list(v_AL), where='pre', color=\"#1abc9c\", lw=0.5)\n",
    "# b_AL_step, v_AL_step = get_x_y_steps(b_AL, [v_AL[0]] + list(v_AL), where=\"pre\")\n",
    "# plt.fill_between(b_AL_step, v_AL_step, color=\"#1abc9c\", alpha=0.5, label=\"AL\")\n",
    "\n",
    "# NL histogram\n",
    "v_NL, b_NL = np.histogram(mixing_NL_2, bins=np.linspace(0, 1, 11), normed=True)\n",
    "plt.step(b_NL, [v_NL[0]] + list(v_NL), where='pre', color=\"#f1c40f\", lw=0.5)\n",
    "b_NL_step, v_NL_step = get_x_y_steps(b_NL, [v_NL[0]] + list(v_NL), where=\"pre\")\n",
    "plt.fill_between(b_NL_step, v_NL_step, color=\"#f1c40f\", alpha=0.5, label=\"NL\")\n",
    "\n",
    "plt.xlabel(\"$\\mu$\")\n",
    "plt.yscale(\"log\")\n",
    "\n",
    "plt.legend(frameon=False)\n",
    "plt.savefig(\"figures/mixing_coef_distribution_workplace.pdf\")\n",
    "plt.show()"
   ]
  },
  {
   "cell_type": "markdown",
   "metadata": {
    "collapsed": true,
    "run_control": {
     "frozen": false,
     "read_only": false
    }
   },
   "source": [
    "### Community overlap/entropy"
   ]
  },
  {
   "cell_type": "code",
   "execution_count": 179,
   "metadata": {
    "ExecuteTime": {
     "end_time": "2017-03-16T13:58:41.203409",
     "start_time": "2017-03-16T13:58:38.113138"
    },
    "collapsed": true,
    "run_control": {
     "frozen": false,
     "read_only": false
    }
   },
   "outputs": [],
   "source": [
    "# List of communities that each node participates in, from each solution\n",
    "communities_JSL_2_arr = [node_communities(layer_commu_pred_JSL_2) for layer_commu_pred_JSL_2 in layer_commu_pred_JSL_2_arr] \n",
    "communities_FL_2_arr = [node_communities(layer_commu_pred_FL_2) for layer_commu_pred_FL_2 in layer_commu_pred_FL_2_arr] \n",
    "communities_AL_2_arr = [node_communities(layer_commu_pred_AL_2) for layer_commu_pred_AL_2 in layer_commu_pred_AL_2_arr] \n",
    "communities_NL_2_arr = [node_communities(layer_commu_pred_NL_2) for layer_commu_pred_NL_2 in layer_commu_pred_NL_2_arr] \n",
    "\n",
    "# Compute entropy and overlap for each user\n",
    "entropy_JSL_2_arr, overlap_JSL_2_arr = zip(*[compute_entropy_and_overlap(communities_JSL_2) for communities_JSL_2 in communities_JSL_2_arr])\n",
    "entropy_FL_2_arr, overlap_FL_2_arr = zip(*[compute_entropy_and_overlap(communities_FL_2) for communities_FL_2 in communities_FL_2_arr])\n",
    "entropy_AL_2_arr, overlap_AL_2_arr = zip(*[compute_entropy_and_overlap(communities_AL_2) for communities_AL_2 in communities_AL_2_arr])\n",
    "entropy_NL_2_arr, overlap_NL_2_arr = zip(*[compute_entropy_and_overlap(communities_NL_2) for communities_NL_2 in communities_NL_2_arr])\n",
    "\n",
    "# Ravel arrays-of-arrays to arrays\n",
    "entropy_JSL_2, overlap_JSL_2 = ravel_two_level(entropy_JSL_2_arr), ravel_two_level(overlap_JSL_2_arr)\n",
    "entropy_FL_2, overlap_FL_2 = ravel_two_level(entropy_FL_2_arr), ravel_two_level(overlap_FL_2_arr)\n",
    "entropy_AL_2, overlap_AL_2 = ravel_two_level(entropy_AL_2_arr), ravel_two_level(overlap_AL_2_arr)\n",
    "entropy_NL_2, overlap_NL_2 = ravel_two_level(entropy_NL_2_arr), ravel_two_level(overlap_NL_2_arr)"
   ]
  },
  {
   "cell_type": "code",
   "execution_count": 185,
   "metadata": {
    "ExecuteTime": {
     "end_time": "2017-03-16T14:02:13.349418",
     "start_time": "2017-03-16T14:02:13.106601"
    },
    "collapsed": false,
    "run_control": {
     "frozen": false,
     "read_only": false
    }
   },
   "outputs": [
    {
     "data": {
      "image/png": "[encoded data removed]",
      "text/plain": [
       "<matplotlib.figure.Figure at 0x10959a150>"
      ]
     },
     "metadata": {},
     "output_type": "display_data"
    }
   ],
   "source": [
    "plt.figure(figsize=(3.42/2, 1.2), frameon=False)\n",
    "\n",
    "# JSL histogram\n",
    "v_JSL, b_JSL = np.histogram(overlap_JSL_2, bins=np.linspace(0, 30, 13), normed=True)\n",
    "plt.step(b_JSL, [v_JSL[0]] + list(v_JSL), where='pre', color=\"#e74c3c\", lw=0.5)\n",
    "b_JSL_step, v_JSL_step = get_x_y_steps(b_JSL, [v_JSL[0]] + list(v_JSL), where=\"pre\")\n",
    "plt.fill_between(b_JSL_step, v_JSL_step, color=\"#e74c3c\", alpha=0.5, label=\"JSL\")\n",
    "\n",
    "# FL histogram\n",
    "v_FL, b_FL = np.histogram(overlap_FL_2, bins=np.linspace(0, 30, 13), normed=True)\n",
    "plt.step(b_FL, [v_FL[0]] + list(v_FL), where='pre', color=\"#3498db\", lw=0.5)\n",
    "b_FL_step, v_FL_step = get_x_y_steps(b_FL, [v_FL[0]] + list(v_FL), where=\"pre\")\n",
    "plt.fill_between(b_FL_step, v_FL_step, color=\"#3498db\", alpha=0.5, label=\"FL\")\n",
    "\n",
    "plt.xlabel(\"overlap\".capitalize())\n",
    "\n",
    "plt.legend(frameon=False)\n",
    "plt.savefig(\"figures/overlap_distribution_workplace.pdf\")\n",
    "plt.show()"
   ]
  },
  {
   "cell_type": "code",
   "execution_count": 194,
   "metadata": {
    "ExecuteTime": {
     "end_time": "2017-03-16T14:03:40.943818",
     "start_time": "2017-03-16T14:03:40.720334"
    },
    "collapsed": false,
    "run_control": {
     "frozen": false,
     "read_only": false
    }
   },
   "outputs": [
    {
     "data": {
      "image/png": "[encoded data removed]",
      "text/plain": [
       "<matplotlib.figure.Figure at 0x10cc73cd0>"
      ]
     },
     "metadata": {},
     "output_type": "display_data"
    }
   ],
   "source": [
    "plt.figure(figsize=(3.42/2, 2.4/4), frameon=False)\n",
    "\n",
    "# JSL histogram\n",
    "v_JSL, b_JSL = np.histogram(overlap_JSL_2, bins=np.linspace(0, 80, 33), normed=True)\n",
    "plt.step(b_JSL, [v_JSL[0]] + list(v_JSL), where='pre', color=\"#e74c3c\", lw=0.5)\n",
    "b_JSL_step, v_JSL_step = get_x_y_steps(b_JSL, [v_JSL[0]] + list(v_JSL), where=\"pre\")\n",
    "plt.fill_between(b_JSL_step, v_JSL_step, color=\"#e74c3c\", alpha=0.5, label=\"JSL\")\n",
    "\n",
    "# FL histogram\n",
    "v_FL, b_FL = np.histogram(overlap_FL_2, bins=np.linspace(0, 80, 33), normed=True)\n",
    "plt.step(b_FL, [v_FL[0]] + list(v_FL), where='pre', color=\"#3498db\", lw=0.5)\n",
    "b_FL_step, v_FL_step = get_x_y_steps(b_FL, [v_FL[0]] + list(v_FL), where=\"pre\")\n",
    "plt.fill_between(b_FL_step, v_FL_step, color=\"#3498db\", alpha=0.5, label=\"FL\")\n",
    "\n",
    "# AL histogram\n",
    "v_AL, b_AL = np.histogram(overlap_AL_2, bins=np.linspace(0, 80, 33), normed=True)\n",
    "plt.step(b_AL, [v_AL[0]] + list(v_AL), where='pre', color=\"#1abc9c\", lw=0.5)\n",
    "b_AL_step, v_AL_step = get_x_y_steps(b_AL, [v_AL[0]] + list(v_AL), where=\"pre\")\n",
    "plt.fill_between(b_AL_step, v_AL_step, color=\"#1abc9c\", alpha=0.5, label=\"AL\")\n",
    "\n",
    "# # NL histogram\n",
    "v_NL, b_NL = np.histogram(overlap_NL_2, bins=np.linspace(0, 80, 33), normed=True)\n",
    "plt.step(b_NL, [v_NL[0]] + list(v_NL), where='pre', color=\"#f1c40f\", lw=0.5)\n",
    "b_NL_step, v_NL_step = get_x_y_steps(b_NL, [v_NL[0]] + list(v_NL), where=\"pre\")\n",
    "plt.fill_between(b_NL_step, v_NL_step, color=\"#f1c40f\", alpha=0.5, label=\"NL\")\n",
    "\n",
    "plt.yticks([0, 0.05, 0.1])\n",
    "plt.xlabel(\"overlap\".capitalize())\n",
    "#plt.xlim(0, 80)\n",
    "\n",
    "#plt.legend(frameon=False)\n",
    "plt.savefig(\"figures/overlap_distribution_workplace_all_distr_wide.pdf\")\n",
    "plt.show()"
   ]
  },
  {
   "cell_type": "code",
   "execution_count": 198,
   "metadata": {
    "ExecuteTime": {
     "end_time": "2017-03-16T14:06:17.089250",
     "start_time": "2017-03-16T14:06:16.865558"
    },
    "collapsed": false,
    "run_control": {
     "frozen": false,
     "read_only": false
    }
   },
   "outputs": [
    {
     "data": {
      "image/png": "[encoded data removed]",
      "text/plain": [
       "<matplotlib.figure.Figure at 0x10b4dae10>"
      ]
     },
     "metadata": {},
     "output_type": "display_data"
    }
   ],
   "source": [
    "alpha_JSL_2, beta_JSL_2, loc_JSL_2, scale_JSL_2 = sp.stats.beta.fit(overlap_JSL_2)\n",
    "alpha_FL_2, beta_FL_2, loc_FL_2, scale_FL_2 = sp.stats.beta.fit(overlap_FL_2)\n",
    "alpha_AL_2, beta_AL_2, loc_AL_2, scale_AL_2 = sp.stats.beta.fit(overlap_AL_2)\n",
    "alpha_NL_2, beta_NL_2, loc_NL_2, scale_NL_2 = sp.stats.beta.fit(overlap_NL_2)\n",
    "\n",
    "overlap_fit_samples_JSL_2 = sp.stats.beta.rvs(alpha_JSL_2, beta_JSL_2, loc_JSL_2, scale_JSL_2, size=10000)\n",
    "overlap_fit_samples_FL_2 = sp.stats.beta.rvs(alpha_FL_2, beta_FL_2, loc_FL_2, scale_FL_2, size=10000)\n",
    "overlap_fit_samples_AL_2 = sp.stats.beta.rvs(alpha_AL_2, beta_AL_2, loc_AL_2, scale_AL_2, size=10000)\n",
    "overlap_fit_samples_NL_2 = sp.stats.beta.rvs(alpha_NL_2, beta_NL_2, loc_NL_2, scale_NL_2, size=10000)\n",
    "\n",
    "plt.figure(figsize=(3.42/2, 2.4/4), frameon=False)\n",
    "\n",
    "# FL histogram\n",
    "v_FL, b_FL = np.histogram(overlap_fit_samples_FL_2, bins=np.linspace(0, 30, 13), normed=True)\n",
    "plt.step(b_FL, [v_FL[0]] + list(v_FL), where='pre', color=\"#3498db\", lw=0.5)\n",
    "b_FL_step, v_FL_step = get_x_y_steps(b_FL, [v_FL[0]] + list(v_FL), where=\"pre\")\n",
    "plt.fill_between(b_FL_step, v_FL_step, color=\"#3498db\", alpha=0.5, label=\"FL\")\n",
    "\n",
    "# JSL histogram\n",
    "v_JSL, b_JSL = np.histogram(overlap_fit_samples_JSL_2, bins=np.linspace(0, 30, 13), normed=True)\n",
    "plt.step(b_JSL, [v_JSL[0]] + list(v_JSL), where='pre', color=\"#e74c3c\", lw=0.5)\n",
    "b_JSL_step, v_JSL_step = get_x_y_steps(b_JSL, [v_JSL[0]] + list(v_JSL), where=\"pre\")\n",
    "plt.fill_between(b_JSL_step, v_JSL_step, color=\"#e74c3c\", alpha=0.5, label=\"JSL\")\n",
    "\n",
    "# AL histogram\n",
    "v_AL, b_AL = np.histogram(overlap_fit_samples_AL_2, normed=True)#, bins=np.logspace(0, np.log10(200), 15))\n",
    "plt.step(b_AL, [v_AL[0]] + list(v_AL), where='pre', color=\"#1abc9c\", lw=0.5)\n",
    "b_AL_step, v_AL_step = get_x_y_steps(b_AL, [v_AL[0]] + list(v_AL), where=\"pre\")\n",
    "plt.fill_between(b_AL_step, v_AL_step, color=\"#1abc9c\", alpha=0.5, label=\"AL\")\n",
    "\n",
    "# # NL histogram\n",
    "v_NL, b_NL = np.histogram(overlap_fit_samples_NL_2, normed=True)\n",
    "plt.step(b_NL, [v_NL[0]] + list(v_NL), where='pre', color=\"#f1c40f\", lw=0.5)\n",
    "b_NL_step, v_NL_step = get_x_y_steps(b_NL, [v_NL[0]] + list(v_NL), where=\"pre\")\n",
    "plt.fill_between(b_NL_step, v_NL_step, color=\"#f1c40f\", alpha=0.5, label=\"NL\")\n",
    "\n",
    "plt.yticks([0, 0.05, 0.1])\n",
    "plt.xlabel(\"overlap\".capitalize())\n",
    "plt.xlim(0, 80)\n",
    "\n",
    "#plt.legend(frameon=False)\n",
    "plt.savefig(\"figures/overlap_distribution_workplace_all_distr_beta_fit_wide.pdf\")\n",
    "plt.show()"
   ]
  },
  {
   "cell_type": "code",
   "execution_count": 199,
   "metadata": {
    "ExecuteTime": {
     "end_time": "2017-03-16T14:06:26.644353",
     "start_time": "2017-03-16T14:06:26.392898"
    },
    "collapsed": false,
    "run_control": {
     "frozen": false,
     "read_only": false
    }
   },
   "outputs": [
    {
     "data": {
      "image/png": "[encoded data removed]",
      "text/plain": [
       "<matplotlib.figure.Figure at 0x10d540b90>"
      ]
     },
     "metadata": {},
     "output_type": "display_data"
    }
   ],
   "source": [
    "plt.figure(figsize=(3.42/2, 2.4/4), frameon=False)\n",
    "\n",
    "# JSL histogram\n",
    "v_JSL, b_JSL = np.histogram(entropy_JSL_2, bins=np.linspace(0, 8, 17), normed=True)\n",
    "plt.step(b_JSL, [v_JSL[0]] + list(v_JSL), where='pre', color=\"#e74c3c\", lw=0.5)\n",
    "b_JSL_step, v_JSL_step = get_x_y_steps(b_JSL, [v_JSL[0]] + list(v_JSL), where=\"pre\")\n",
    "plt.fill_between(b_JSL_step, v_JSL_step, color=\"#e74c3c\", alpha=0.5, label=\"JSL\")\n",
    "\n",
    "# FL histogram\n",
    "v_FL, b_FL = np.histogram(entropy_FL_2, bins=np.linspace(0, 8, 17), normed=True)\n",
    "plt.step(b_FL, [v_FL[0]] + list(v_FL), where='pre', color=\"#3498db\", lw=0.5)\n",
    "b_FL_step, v_FL_step = get_x_y_steps(b_FL, [v_FL[0]] + list(v_FL), where=\"pre\")\n",
    "plt.fill_between(b_FL_step, v_FL_step, color=\"#3498db\", alpha=0.5, label=\"FL\")\n",
    "\n",
    "# AL histogram\n",
    "v_AL, b_AL = np.histogram(entropy_AL_2, bins=np.linspace(0, 8, 17), normed=True)\n",
    "plt.step(b_AL, [v_AL[0]] + list(v_AL), where='pre', color=\"#1abc9c\", lw=0.5)\n",
    "b_AL_step, v_AL_step = get_x_y_steps(b_AL, [v_AL[0]] + list(v_AL), where=\"pre\")\n",
    "plt.fill_between(b_AL_step, v_AL_step, color=\"#1abc9c\", alpha=0.5, label=\"AL\")\n",
    "\n",
    "# NL histogram\n",
    "v_NL, b_NL = np.histogram(entropy_NL_2, bins=np.linspace(0, 8, 17), normed=True)\n",
    "plt.step(b_NL, [v_NL[0]] + list(v_NL), where='pre', color=\"#f1c40f\", lw=0.5)\n",
    "b_NL_step, v_NL_step = get_x_y_steps(b_NL, [v_NL[0]] + list(v_NL), where=\"pre\")\n",
    "plt.fill_between(b_NL_step, v_NL_step, color=\"#f1c40f\", alpha=0.5, label=\"NL\")\n",
    "\n",
    "plt.xlabel(\"entropy\".capitalize())\n",
    "plt.xlim(0)\n",
    "\n",
    "#plt.legend(frameon=False)\n",
    "plt.savefig(\"figures/entropy_distribution_workplace_all_distr_wide.pdf\")\n",
    "plt.show()"
   ]
  },
  {
   "cell_type": "code",
   "execution_count": 200,
   "metadata": {
    "ExecuteTime": {
     "end_time": "2017-03-16T14:07:01.601372",
     "start_time": "2017-03-16T14:06:42.554233"
    },
    "collapsed": false,
    "run_control": {
     "frozen": false,
     "read_only": false
    }
   },
   "outputs": [
    {
     "name": "stderr",
     "output_type": "stream",
     "text": [
      "/usr/local/lib/python2.7/site-packages/scipy/optimize/minpack.py:161: RuntimeWarning: The iteration is not making good progress, as measured by the \n",
      "  improvement from the last ten iterations.\n",
      "  warnings.warn(msg, RuntimeWarning)\n"
     ]
    },
    {
     "data": {
      "image/png": "[encoded data removed]",
      "text/plain": [
       "<matplotlib.figure.Figure at 0x10d0b8610>"
      ]
     },
     "metadata": {},
     "output_type": "display_data"
    }
   ],
   "source": [
    "alpha_JSL_2, beta_JSL_2, loc_JSL_2, scale_JSL_2 = sp.stats.beta.fit(entropy_JSL_2)\n",
    "alpha_FL_2, beta_FL_2, loc_FL_2, scale_FL_2 = sp.stats.beta.fit(entropy_FL_2)\n",
    "alpha_AL_2, beta_AL_2, loc_AL_2, scale_AL_2 = sp.stats.beta.fit(entropy_AL_2)\n",
    "alpha_NL_2, beta_NL_2, loc_NL_2, scale_NL_2 = sp.stats.beta.fit(entropy_NL_2)\n",
    "\n",
    "entropy_fit_samples_JSL_2 = sp.stats.beta.rvs(alpha_JSL_2, beta_JSL_2, loc_JSL_2, scale_JSL_2, size=10000)\n",
    "entropy_fit_samples_FL_2 = sp.stats.beta.rvs(alpha_FL_2, beta_FL_2, loc_FL_2, scale_FL_2, size=10000)\n",
    "entropy_fit_samples_AL_2 = sp.stats.beta.rvs(alpha_AL_2, beta_AL_2, loc_AL_2, scale_AL_2, size=10000)\n",
    "entropy_fit_samples_NL_2 = sp.stats.beta.rvs(alpha_NL_2, beta_NL_2, loc_NL_2, scale_NL_2, size=10000)\n",
    "\n",
    "plt.figure(figsize=(3.42/2, 2.4/4), frameon=False)\n",
    "\n",
    "# JSL histogram\n",
    "v_JSL, b_JSL = np.histogram(entropy_fit_samples_JSL_2, bins=np.linspace(0, 8, 17), normed=True)\n",
    "plt.step(b_JSL, [v_JSL[0]] + list(v_JSL), where='pre', color=\"#e74c3c\", lw=0.5)\n",
    "b_JSL_step, v_JSL_step = get_x_y_steps(b_JSL, [v_JSL[0]] + list(v_JSL), where=\"pre\")\n",
    "plt.fill_between(b_JSL_step, v_JSL_step, color=\"#e74c3c\", alpha=0.5, label=\"JSL\")\n",
    "\n",
    "# FL histogram\n",
    "v_FL, b_FL = np.histogram(entropy_fit_samples_FL_2, bins=np.linspace(0, 8, 17), normed=True)\n",
    "plt.step(b_FL, [v_FL[0]] + list(v_FL), where='pre', color=\"#3498db\", lw=0.5)\n",
    "b_FL_step, v_FL_step = get_x_y_steps(b_FL, [v_FL[0]] + list(v_FL), where=\"pre\")\n",
    "plt.fill_between(b_FL_step, v_FL_step, color=\"#3498db\", alpha=0.5, label=\"FL\")\n",
    "\n",
    "# AL histogram\n",
    "v_AL, b_AL = np.histogram(entropy_fit_samples_AL_2, bins=np.linspace(0, 8, 17), normed=True)\n",
    "plt.step(b_AL, [v_AL[0]] + list(v_AL), where='pre', color=\"#1abc9c\", lw=0.5)\n",
    "b_AL_step, v_AL_step = get_x_y_steps(b_AL, [v_AL[0]] + list(v_AL), where=\"pre\")\n",
    "plt.fill_between(b_AL_step, v_AL_step, color=\"#1abc9c\", alpha=0.5, label=\"AL\")\n",
    "\n",
    "# NL histogram\n",
    "v_NL, b_NL = np.histogram(entropy_fit_samples_NL_2, bins=np.linspace(0, 8, 17), normed=True)\n",
    "plt.step(b_NL, [v_NL[0]] + list(v_NL), where='pre', color=\"#f1c40f\", lw=0.5)\n",
    "b_NL_step, v_NL_step = get_x_y_steps(b_NL, [v_NL[0]] + list(v_NL), where=\"pre\")\n",
    "plt.fill_between(b_NL_step, v_NL_step, color=\"#f1c40f\", alpha=0.5, label=\"NL\")\n",
    "\n",
    "plt.xlabel(\"entropy\".capitalize())\n",
    "plt.xlim(0)\n",
    "\n",
    "#plt.legend(frameon=False)\n",
    "plt.savefig(\"figures/entropy_distribution_workplace_all_distr_beta_fit_wide.pdf\")\n",
    "plt.show()"
   ]
  },
  {
   "cell_type": "markdown",
   "metadata": {},
   "source": [
    "### Solution NMI"
   ]
  },
  {
   "cell_type": "code",
   "execution_count": 202,
   "metadata": {
    "ExecuteTime": {
     "end_time": "2017-03-16T14:12:42.782708",
     "start_time": "2017-03-16T14:10:22.497926"
    },
    "collapsed": false,
    "run_control": {
     "frozen": false,
     "read_only": false
    }
   },
   "outputs": [
    {
     "name": "stdout",
     "output_type": "stream",
     "text": [
      " JSL\n",
      "\temployee_team 0.742423550842\n",
      "\tshuffle_dict_kvs(employee_team) 0.419023628819\n",
      "\n",
      "FL\n",
      "\temployee_team 0.736437154056\n",
      "\tshuffle_dict_kvs(employee_team) 0.432057502381\n"
     ]
    }
   ],
   "source": [
    "print \"JSL\"\n",
    "\n",
    "print \"\\temployee_team\", np.mean([\n",
    "        np.mean(solution_average_NMI(layer_commu_pred_JSL_2, employee_team))\n",
    "        for layer_commu_pred_JSL_2 in layer_commu_pred_JSL_2_arr\n",
    "    ]\n",
    ")\n",
    "print \"\\tshuffle_dict_kvs(employee_team)\", np.mean([\n",
    "        np.mean(solution_average_NMI(layer_commu_pred_JSL_2, shuffle_dict_kvs(employee_team)))\n",
    "        for layer_commu_pred_JSL_2 in layer_commu_pred_JSL_2_arr\n",
    "    ]\n",
    ")\n",
    "\n",
    "print \"\\nFL\"\n",
    "\n",
    "print \"\\temployee_team\", np.mean([\n",
    "        np.mean(solution_average_NMI(layer_commu_pred_FL_2, employee_team))\n",
    "        for layer_commu_pred_FL_2 in layer_commu_pred_FL_2_arr\n",
    "    ]\n",
    ")\n",
    "print \"\\tshuffle_dict_kvs(employee_team)\", np.mean([\n",
    "        np.mean(solution_average_NMI(layer_commu_pred_FL_2, shuffle_dict_kvs(employee_team)))\n",
    "        for layer_commu_pred_FL_2 in layer_commu_pred_FL_2_arr\n",
    "    ]\n",
    ")"
   ]
  },
  {
   "cell_type": "markdown",
   "metadata": {},
   "source": [
    "### Community entropy"
   ]
  },
  {
   "cell_type": "raw",
   "metadata": {
    "ExecuteTime": {
     "end_time": "2017-03-16T14:58:28.003634",
     "start_time": "2017-03-16T14:58:19.791295"
    }
   },
   "source": [
    "commu_entropy_JSL_2_arr = [compute_community_entropy(layer_commu_pred_JSL_2, employee_team) for layer_commu_pred_JSL_2 in layer_commu_pred_JSL_2_arr]\n",
    "commu_entropy_FL_2_arr = [compute_community_entropy(layer_commu_pred_FL_2, employee_team) for layer_commu_pred_FL_2 in layer_commu_pred_FL_2_arr]\n",
    "commu_entropy_AL_2_arr = [compute_community_entropy(layer_commu_pred_AL_2, employee_team) for layer_commu_pred_AL_2 in layer_commu_pred_AL_2_arr]\n",
    "commu_entropy_NL_2_arr = [compute_community_entropy(layer_commu_pred_NL_2, employee_team) for layer_commu_pred_NL_2 in layer_commu_pred_NL_2_arr]\n",
    "\n",
    "commu_entropy_JSL_2 = ravel_two_level(commu_entropy_JSL_2_arr)\n",
    "commu_entropy_FL_2 = ravel_two_level(commu_entropy_FL_2_arr)\n",
    "commu_entropy_AL_2 = ravel_two_level(commu_entropy_AL_2_arr)\n",
    "commu_entropy_NL_2 = ravel_two_level(commu_entropy_NL_2_arr)"
   ]
  },
  {
   "cell_type": "code",
   "execution_count": 345,
   "metadata": {
    "ExecuteTime": {
     "end_time": "2017-03-16T20:12:42.745236",
     "start_time": "2017-03-16T20:12:42.497534"
    },
    "collapsed": false,
    "run_control": {
     "frozen": false,
     "read_only": false
    }
   },
   "outputs": [
    {
     "data": {
      "image/png": "[encoded data removed]",
      "text/plain": [
       "<matplotlib.figure.Figure at 0x124209090>"
      ]
     },
     "metadata": {},
     "output_type": "display_data"
    }
   ],
   "source": [
    "plt.figure(figsize=(3.42/2, 2.4/4), frameon=False)\n",
    "\n",
    "# JSL histogram\n",
    "v, b = np.histogram(commu_entropy_JSL_2, bins=np.linspace(0, 2.5, 12), normed=True)\n",
    "plt.step(b, [v[0]] + list(v), where='pre', color=\"#e74c3c\", lw=0.5)\n",
    "b_step, v_step = get_x_y_steps(b, [v[0]] + list(v), where=\"pre\")\n",
    "plt.fill_between(b_step, v_step, color=\"#e74c3c\", alpha=0.5, label=\"JSL\")\n",
    "\n",
    "# FL histogram\n",
    "v, b = np.histogram(commu_entropy_FL_2, bins=np.linspace(0, 2.5, 12), normed=True)\n",
    "plt.step(b, [v[0]] + list(v), where='pre', color=\"#3498db\", lw=0.5)\n",
    "b_step, v_step = get_x_y_steps(b, [v[0]] + list(v), where=\"pre\")\n",
    "plt.fill_between(b_step, v_step, color=\"#3498db\", alpha=0.5, label=\"FL\")\n",
    "\n",
    "# AL histogram\n",
    "v, b = np.histogram(commu_entropy_AL_2, bins=np.linspace(0, 2.5, 12), normed=True)\n",
    "plt.step(b, [v[0]] + list(v), where='pre', color=\"#1abc9c\", lw=0.5)\n",
    "b_step, v_step = get_x_y_steps(b, [v[0]] + list(v), where=\"pre\")\n",
    "plt.fill_between(b_step, v_step, color=\"#1abc9c\", alpha=0.5, label=\"AL\")\n",
    "\n",
    "# NL histogram\n",
    "v, b = np.histogram(commu_entropy_NL_2, bins=np.linspace(0, 2.5, 12), normed=True)\n",
    "plt.step(b, [v[0]] + list(v), where='pre', color=\"#f1c40f\", lw=0.5)\n",
    "b_step, v_step = get_x_y_steps(b, [v[0]] + list(v), where=\"pre\")\n",
    "plt.fill_between(b_step, v_step, color=\"#f1c40f\", alpha=0.5, label=\"NL\")\n",
    "\n",
    "plt.xlabel(\"community entropy\".capitalize())\n",
    "#plt.xlim(0, 2)\n",
    "#plt.yscale(\"log\")\n",
    "\n",
    "#plt.legend(frameon=False)\n",
    "plt.savefig(\"figures/commu_entropy_distribution_workplace_all_distr_wide.pdf\")\n",
    "plt.show()"
   ]
  },
  {
   "cell_type": "markdown",
   "metadata": {},
   "source": [
    "### Size distribution"
   ]
  },
  {
   "cell_type": "code",
   "execution_count": 208,
   "metadata": {
    "ExecuteTime": {
     "end_time": "2017-03-16T14:15:02.699636",
     "start_time": "2017-03-16T14:14:52.900811"
    },
    "collapsed": true,
    "run_control": {
     "frozen": false,
     "read_only": false
    }
   },
   "outputs": [],
   "source": [
    "sizes_JSL_2_arr = [compute_community_size(layer_commu_pred_JSL_2, network2) for layer_commu_pred_JSL_2 in layer_commu_pred_JSL_2_arr]\n",
    "sizes_FL_2_arr = [compute_community_size(layer_commu_pred_FL_2, network2) for layer_commu_pred_FL_2 in layer_commu_pred_FL_2_arr]\n",
    "sizes_AL_2_arr = [compute_community_size(layer_commu_pred_AL_2, network2) for layer_commu_pred_AL_2 in layer_commu_pred_AL_2_arr]\n",
    "sizes_NL_2_arr = [compute_community_size(layer_commu_pred_NL_2, network2) for layer_commu_pred_NL_2 in layer_commu_pred_NL_2_arr]\n",
    "\n",
    "sizes_JSL_2 = ravel_two_level(sizes_JSL_2_arr)\n",
    "sizes_FL_2 = ravel_two_level(sizes_FL_2_arr)\n",
    "sizes_AL_2 = ravel_two_level(sizes_AL_2_arr)\n",
    "sizes_NL_2 = ravel_two_level(sizes_NL_2_arr)"
   ]
  },
  {
   "cell_type": "code",
   "execution_count": null,
   "metadata": {
    "collapsed": true,
    "run_control": {
     "frozen": false,
     "read_only": false
    }
   },
   "outputs": [],
   "source": [
    "# Doesn't fit a powerlaw!\n",
    "# x = np.linspace(0, 0.2, 100)\n",
    "# y_JSL = sp.stats.powerlaw.pdf(x, *sp.stats.powerlaw.fit(sizes_JSL_2))\n",
    "# y_FL = sp.stats.powerlaw.pdf(x, *sp.stats.powerlaw.fit(sizes_FL_2))\n",
    "# y_AL = sp.stats.powerlaw.pdf(x, *sp.stats.powerlaw.fit(sizes_AL_2))\n",
    "# y_NL = sp.stats.powerlaw.pdf(x, *sp.stats.powerlaw.fit(sizes_NL_2))"
   ]
  },
  {
   "cell_type": "code",
   "execution_count": 315,
   "metadata": {
    "ExecuteTime": {
     "end_time": "2017-03-16T15:26:39.633901",
     "start_time": "2017-03-16T15:26:38.383781"
    },
    "collapsed": false,
    "run_control": {
     "frozen": false,
     "read_only": false
    }
   },
   "outputs": [
    {
     "data": {
      "image/png": "[encoded data removed]",
      "text/plain": [
       "<matplotlib.figure.Figure at 0x12cf0d150>"
      ]
     },
     "metadata": {},
     "output_type": "display_data"
    }
   ],
   "source": [
    "plt.figure(figsize=(3.42/2, 2.4/4), frameon=False)\n",
    "\n",
    "# JSL histogram\n",
    "v, b = np.histogram(sizes_JSL_2, np.logspace(np.log10(1e-3), np.log10(1), 11), normed=True)\n",
    "plt.step(b, [v[0]] + list(v), where='pre', color=\"#e74c3c\", lw=0.5)\n",
    "b_step, v_step = get_x_y_steps(b, [v[0]] + list(v), where=\"pre\")\n",
    "plt.fill_between(b_step, v_step, color=\"#e74c3c\", alpha=0.5, label=\"JSL\")\n",
    "#plt.plot(x, y_JSL, color=\"#e74c3c\", lw=2)\n",
    "\n",
    "# FL histogram\n",
    "v, b = np.histogram(sizes_FL_2, np.logspace(np.log10(1e-3), np.log10(1), 11), normed=True)\n",
    "plt.step(b, [v[0]] + list(v), where='pre', color=\"#3498db\", lw=0.5)\n",
    "b_step, v_step = get_x_y_steps(b, [v[0]] + list(v), where=\"pre\")\n",
    "plt.fill_between(b_step, v_step, color=\"#3498db\", alpha=0.5, label=\"FL\")\n",
    "#plt.plot(x, y_FL, color=\"#3498db\", lw=2)\n",
    "\n",
    "# AL histogram\n",
    "v, b = np.histogram(sizes_AL_2, np.logspace(np.log10(1e-3), np.log10(0.2), 11), normed=True)\n",
    "plt.step(b, [v[0]] + list(v), where='pre', color=\"#1abc9c\", lw=0.5)\n",
    "b_step, v_step = get_x_y_steps(b, [v[0]] + list(v), where=\"pre\")\n",
    "plt.fill_between(b_step, v_step, color=\"#1abc9c\", alpha=0.5, label=\"AL\")\n",
    "#plt.plot(x, y_AL, color=\"#1abc9c\", lw=2)\n",
    "\n",
    "# NL histogram\n",
    "v, b = np.histogram(sizes_NL_2, np.logspace(np.log10(1e-3), np.log10(0.2), 11), normed=True)\n",
    "plt.step(b, [v[0]] + list(v), where='pre', color=\"#f1c40f\", lw=0.5)\n",
    "b_step, v_step = get_x_y_steps(b, [v[0]] + list(v), where=\"pre\")\n",
    "plt.fill_between(b_step, v_step, color=\"#f1c40f\", alpha=0.5, label=\"NL\")\n",
    "#plt.plot(x, y_NL, color=\"#f1c40f\", lw=2)\n",
    "\n",
    "plt.yscale(\"log\")\n",
    "plt.xscale(\"log\")\n",
    "\n",
    "plt.xlabel(\"size\".capitalize())\n",
    "plt.xlim(1e-3)\n",
    "\n",
    "#plt.legend(frameon=False)\n",
    "plt.savefig(\"figures/size_distribution_workplace_all_distr_wide_loglog.pdf\")\n",
    "plt.show()"
   ]
  },
  {
   "cell_type": "code",
   "execution_count": 316,
   "metadata": {
    "ExecuteTime": {
     "end_time": "2017-03-16T15:26:45.092398",
     "start_time": "2017-03-16T15:26:44.206175"
    },
    "collapsed": false,
    "run_control": {
     "frozen": false,
     "read_only": false
    },
    "scrolled": true
   },
   "outputs": [
    {
     "data": {
      "image/png": "[encoded data removed]",
      "text/plain": [
       "<matplotlib.figure.Figure at 0x12d8ec3d0>"
      ]
     },
     "metadata": {},
     "output_type": "display_data"
    }
   ],
   "source": [
    "plt.figure(figsize=(3.42/2, 2.4/4), frameon=False)\n",
    "\n",
    "# JSL histogram\n",
    "v, b = np.histogram(sizes_JSL_2, np.linspace(0, 0.2, 11), normed=True)\n",
    "plt.step(b, [v[0]] + list(v), where='pre', color=\"#e74c3c\", lw=0.5)\n",
    "b_step, v_step = get_x_y_steps(b, [v[0]] + list(v), where=\"pre\")\n",
    "plt.fill_between(b_step, v_step, color=\"#e74c3c\", alpha=0.5, label=\"JSL\")\n",
    "#plt.plot(x, y_JSL, color=\"#e74c3c\")\n",
    "\n",
    "# FL histogram\n",
    "v, b = np.histogram(sizes_FL_2, np.linspace(0, 0.2, 11), normed=True)\n",
    "plt.step(b, [v[0]] + list(v), where='pre', color=\"#3498db\", lw=0.5)\n",
    "b_step, v_step = get_x_y_steps(b, [v[0]] + list(v), where=\"pre\")\n",
    "plt.fill_between(b_step, v_step, color=\"#3498db\", alpha=0.5, label=\"FL\")\n",
    "#plt.plot(x, y_FL, color=\"#3498db\")\n",
    "\n",
    "# AL histogram\n",
    "v, b = np.histogram(sizes_AL_2, np.linspace(0, 0.2, 11), normed=True)\n",
    "plt.step(b, [v[0]] + list(v), where='pre', color=\"#1abc9c\", lw=0.5)\n",
    "b_step, v_step = get_x_y_steps(b, [v[0]] + list(v), where=\"pre\")\n",
    "plt.fill_between(b_step, v_step, color=\"#1abc9c\", alpha=0.5, label=\"AL\")\n",
    "#plt.plot(x, y_AL, color=\"#1abc9c\")\n",
    "\n",
    "# NL histogram\n",
    "v, b = np.histogram(sizes_NL_2, np.linspace(0, 0.2, 11), normed=True)\n",
    "plt.step(b, [v[0]] + list(v), where='pre', color=\"#f1c40f\", lw=0.5)\n",
    "b_step, v_step = get_x_y_steps(b, [v[0]] + list(v), where=\"pre\")\n",
    "plt.fill_between(b_step, v_step, color=\"#f1c40f\", alpha=0.5, label=\"NL\")\n",
    "#plt.plot(x, y_NL, color=\"#f1c40f\")\n",
    "\n",
    "plt.yscale(\"log\")\n",
    "\n",
    "plt.xlabel(\"size\".capitalize())\n",
    "plt.xlim(1e-3)\n",
    "\n",
    "#plt.legend(frameon=False)\n",
    "plt.savefig(\"figures/size_distribution_workplace_all_distr_wide_log.pdf\")\n",
    "plt.show()"
   ]
  },
  {
   "cell_type": "markdown",
   "metadata": {},
   "source": [
    "### Participation profile similarity"
   ]
  },
  {
   "cell_type": "code",
   "execution_count": 483,
   "metadata": {
    "ExecuteTime": {
     "end_time": "2017-03-16T21:11:47.602890",
     "start_time": "2017-03-16T21:11:39.493433"
    },
    "collapsed": true,
    "run_control": {
     "frozen": false,
     "read_only": false
    }
   },
   "outputs": [],
   "source": [
    "similarity_vals_JSL_2 = ravel_two_level(\n",
    "    [participation_similarity(layer_commu_pred_JSL_2) for layer_commu_pred_JSL_2 in layer_commu_pred_JSL_2_arr[:8]]\n",
    ")\n",
    "similarity_vals_FL_2 = ravel_two_level(\n",
    "    [participation_similarity(layer_commu_pred_FL_2) for layer_commu_pred_FL_2 in layer_commu_pred_FL_2_arr[:8]]\n",
    ")\n",
    "similarity_vals_AL_2 = ravel_two_level(\n",
    "    [participation_similarity(layer_commu_pred_AL_2) for layer_commu_pred_AL_2 in layer_commu_pred_AL_2_arr[:8]]\n",
    ")\n",
    "similarity_vals_NL_2 = ravel_two_level(\n",
    "    [participation_similarity(layer_commu_pred_NL_2) for layer_commu_pred_NL_2 in layer_commu_pred_NL_2_arr[:8]]\n",
    ")"
   ]
  },
  {
   "cell_type": "code",
   "execution_count": 490,
   "metadata": {
    "ExecuteTime": {
     "end_time": "2017-03-16T21:25:05.699872",
     "start_time": "2017-03-16T21:25:03.350793"
    },
    "collapsed": false,
    "run_control": {
     "frozen": false,
     "read_only": false
    },
    "scrolled": false
   },
   "outputs": [
    {
     "data": {
      "image/png": "[encoded data removed]",
      "text/plain": [
       "<matplotlib.figure.Figure at 0x176e2ff90>"
      ]
     },
     "metadata": {},
     "output_type": "display_data"
    }
   ],
   "source": [
    "plt.figure(figsize=(3.42/2, 2.4/2), frameon=False)\n",
    "\n",
    "# JSL histogram\n",
    "v, b = np.histogram(similarity_vals_JSL_2, np.linspace(0, 1, 11), normed=True)\n",
    "plt.step(b, [v[0]] + list(v), where='pre', color=\"#e74c3c\", lw=0.5)\n",
    "b_step, v_step = get_x_y_steps(b, [v[0]] + list(v), where=\"pre\")\n",
    "plt.fill_between(b_step, v_step, color=\"#e74c3c\", alpha=0.5, label=\"JSL\")\n",
    "\n",
    "# FL histogram\n",
    "v, b = np.histogram(similarity_vals_FL_2, np.linspace(0, 1, 11), normed=True)\n",
    "plt.step(b, [v[0]] + list(v), where='pre', color=\"#3498db\", lw=0.5)\n",
    "b_step, v_step = get_x_y_steps(b, [v[0]] + list(v), where=\"pre\")\n",
    "plt.fill_between(b_step, v_step, color=\"#3498db\", alpha=0.5, label=\"FL\")\n",
    "\n",
    "# # AL histogram\n",
    "# v, b = np.histogram(similarity_vals_AL_2, np.linspace(0, 1, 11), normed=True)\n",
    "# plt.step(b, [v[0]] + list(v), where='pre', color=\"#1abc9c\", lw=0.5)\n",
    "# b_step, v_step = get_x_y_steps(b, [v[0]] + list(v), where=\"pre\")\n",
    "# plt.fill_between(b_step, v_step, color=\"#1abc9c\", alpha=0.5, label=\"AL\")\n",
    "\n",
    "# NL histogram\n",
    "v, b = np.histogram(similarity_vals_NL_2, np.linspace(0, 1, 11), normed=True)\n",
    "plt.step(b, [v[0]] + list(v), where='pre', color=\"#f1c40f\", lw=0.5)\n",
    "b_step, v_step = get_x_y_steps(b, [v[0]] + list(v), where=\"pre\")\n",
    "plt.fill_between(b_step, v_step, color=\"#f1c40f\", alpha=0.5, label=\"NL\")\n",
    "\n",
    "plt.yscale(\"log\")\n",
    "plt.xlabel(\"size\".capitalize())\n",
    "\n",
    "#plt.legend(frameon=False)\n",
    "plt.savefig(\"figures/profile_similarity_distribution_workplace_all_distr_wide_log.pdf\")\n",
    "plt.show()"
   ]
  },
  {
   "cell_type": "markdown",
   "metadata": {},
   "source": [
    "### Community cohesion"
   ]
  },
  {
   "cell_type": "code",
   "execution_count": 1195,
   "metadata": {
    "ExecuteTime": {
     "end_time": "2017-03-17T16:59:26.232540",
     "start_time": "2017-03-17T16:59:25.619539"
    },
    "collapsed": true,
    "run_control": {
     "frozen": false,
     "read_only": false
    }
   },
   "outputs": [],
   "source": [
    "commu_connectedness_JSL_2 = communities_connectedness(layer_commu_pred_JSL_2_arr[0], network2)\n",
    "commu_connectedness_FL_2 = communities_connectedness(layer_commu_pred_FL_2_arr[0], network2)\n",
    "commu_connectedness_AL_2 = communities_connectedness(layer_commu_pred_AL_2_arr[0], network2)\n",
    "commu_connectedness_NL_2 = communities_connectedness(layer_commu_pred_NL_2_arr[0], network2)"
   ]
  },
  {
   "cell_type": "code",
   "execution_count": null,
   "metadata": {
    "collapsed": true,
    "run_control": {
     "frozen": false,
     "read_only": false
    }
   },
   "outputs": [],
   "source": [
    "def communities_edge_connectivity(commu_edges):\n",
    "    \n",
    "    for commu, edges in commu_edges.items():\n",
    "        G = nx.MultiGraph()\n",
    "        for e, w in edges.items():\n",
    "            if w == 0: continue\n",
    "            for _ in range(w):\n",
    "                G.add_edge(e)"
   ]
  },
  {
   "cell_type": "code",
   "execution_count": 1229,
   "metadata": {
    "ExecuteTime": {
     "end_time": "2017-03-17T17:16:29.478829",
     "start_time": "2017-03-17T17:16:29.280227"
    },
    "collapsed": false,
    "run_control": {
     "frozen": false,
     "read_only": false
    }
   },
   "outputs": [],
   "source": [
    "c_c = dict()\n",
    "for commu, edges in commu_connectedness_AL_2.items():\n",
    "    G = nx.MultiGraph()\n",
    "    for e, w in edges.items():\n",
    "        if w == 0: continue\n",
    "        for _ in range(w):\n",
    "            G.add_edge(*e)\n",
    "    c_c[commu] = nx.node_connectivity(G)\n"
   ]
  },
  {
   "cell_type": "code",
   "execution_count": 1230,
   "metadata": {
    "ExecuteTime": {
     "end_time": "2017-03-17T17:16:29.596100",
     "start_time": "2017-03-17T17:16:29.591990"
    },
    "collapsed": false,
    "run_control": {
     "frozen": false,
     "read_only": false
    }
   },
   "outputs": [
    {
     "data": {
      "text/plain": [
       "4.2427843803056025"
      ]
     },
     "execution_count": 1230,
     "metadata": {},
     "output_type": "execute_result"
    }
   ],
   "source": [
    "np.mean(c_c.values())"
   ]
  },
  {
   "cell_type": "code",
   "execution_count": 1133,
   "metadata": {
    "ExecuteTime": {
     "end_time": "2017-03-17T09:37:34.060413",
     "start_time": "2017-03-17T09:37:34.001821"
    },
    "collapsed": true,
    "run_control": {
     "frozen": false,
     "read_only": false
    }
   },
   "outputs": [],
   "source": [
    "def x_y(commu_connectedness, commu_state_nodes):\n",
    "    x, y = [], []\n",
    "    for c in commu_connectedness.keys():\n",
    "        x.append(len(set(commu_state_nodes[c])))\n",
    "        #y.append(np.sum(commu_connectedness[c].values()) * 1.0 / len(set(commu_state_nodes[c])))\n",
    "        y.append(np.mean(np.array(commu_connectedness[c].values()) > 0))\n",
    "    return np.array(x) + np.random.random(len(x))-0.5, np.array(y)# + np.random.random(len(y))-0.5\n",
    "\n",
    "x_JSL, y_JSL = x_y(commu_connectedness_JSL_2, commu_state_nodes_JSL_2)\n",
    "x_FL, y_FL = x_y(commu_connectedness_FL_2, commu_state_nodes_FL_2)\n",
    "x_AL, y_AL = x_y(commu_connectedness_AL_2, commu_state_nodes_AL_2)\n",
    "x_NL, y_NL = x_y(commu_connectedness_NL_2, commu_state_nodes_NL_2)"
   ]
  },
  {
   "cell_type": "code",
   "execution_count": 1134,
   "metadata": {
    "ExecuteTime": {
     "end_time": "2017-03-17T09:37:34.653779",
     "start_time": "2017-03-17T09:37:34.510268"
    },
    "collapsed": false,
    "run_control": {
     "frozen": false,
     "read_only": false
    }
   },
   "outputs": [
    {
     "data": {
      "image/png": "[encoded data removed]",
      "text/plain": [
       "<matplotlib.figure.Figure at 0x263680050>"
      ]
     },
     "metadata": {},
     "output_type": "display_data"
    }
   ],
   "source": [
    "plt.scatter(x_JSL, y_JSL, alpha=0.2, lw=0, c=\"r\")\n",
    "plt.scatter(x_FL, y_FL, alpha=0.2, lw=0, c=\"b\")\n",
    "plt.show()"
   ]
  },
  {
   "cell_type": "code",
   "execution_count": 1138,
   "metadata": {
    "ExecuteTime": {
     "end_time": "2017-03-17T09:39:35.090328",
     "start_time": "2017-03-17T09:39:31.563112"
    },
    "collapsed": false,
    "run_control": {
     "frozen": false,
     "read_only": false
    }
   },
   "outputs": [
    {
     "data": {
      "image/png": "[encoded data removed]",
      "text/plain": [
       "<matplotlib.figure.Figure at 0x10b839090>"
      ]
     },
     "metadata": {},
     "output_type": "display_data"
    }
   ],
   "source": [
    "#plt.figure(figsize=(3.42/2, 2.4/2), frameon=False)\n",
    "sns.kdeplot(x_JSL, y_JSL, gridsize=200, cmap=\"Reds\")\n",
    "plt.scatter(x_JSL, y_JSL, alpha=0.2, lw=0, c=\"r\")\n",
    "sns.kdeplot(x_FL, y_FL, gridsize=200, cmap=\"Blues\")\n",
    "plt.scatter(x_FL, y_FL, alpha=0.2, lw=0, c=\"b\")\n",
    "plt.ylim(0, 1)\n",
    "plt.xlim(0, 20)\n",
    "plt.show()"
   ]
  },
  {
   "cell_type": "code",
   "execution_count": 1197,
   "metadata": {
    "ExecuteTime": {
     "end_time": "2017-03-17T17:00:59.780047",
     "start_time": "2017-03-17T17:00:59.176088"
    },
    "collapsed": false,
    "run_control": {
     "frozen": false,
     "read_only": false
    }
   },
   "outputs": [
    {
     "data": {
      "image/png": "[encoded data removed]",
      "text/plain": [
       "<matplotlib.figure.Figure at 0x12dbd20d0>"
      ]
     },
     "metadata": {},
     "output_type": "display_data"
    }
   ],
   "source": [
    "plt.hist([shannon_entropy(dyad_connectedness.values()) for dyad_connectedness in commu_connectedness_JSL_2.values()], alpha=0.2, color=\"r\", normed=True)\n",
    "plt.hist([shannon_entropy(dyad_connectedness.values()) for dyad_connectedness in commu_connectedness_FL_2.values()], alpha=0.2, color=\"b\", normed=True)\n",
    "plt.yscale(\"log\")"
   ]
  },
  {
   "cell_type": "code",
   "execution_count": 1149,
   "metadata": {
    "ExecuteTime": {
     "end_time": "2017-03-17T09:49:59.677664",
     "start_time": "2017-03-17T09:49:59.464906"
    },
    "collapsed": false,
    "run_control": {
     "frozen": false,
     "read_only": false
    }
   },
   "outputs": [
    {
     "data": {
      "text/plain": [
       "(array([ 0.315,  0.   ,  0.315,  1.26 ,  2.835,  2.52 ,  2.52 ,  0.63 ,  1.575,  3.78 ]),\n",
       " array([ 0.3651,  0.4286,  0.4921,  0.5556,  0.619 ,  0.6825,  0.746 ,  0.8095,  0.873 ,  0.9365,  1.    ]),\n",
       " <a list of 10 Patch objects>)"
      ]
     },
     "execution_count": 1149,
     "metadata": {},
     "output_type": "execute_result"
    },
    {
     "data": {
      "image/png": "[encoded data removed]",
      "text/plain": [
       "<matplotlib.figure.Figure at 0x2b7873cd0>"
      ]
     },
     "metadata": {},
     "output_type": "display_data"
    }
   ],
   "source": [
    "plt.hist([np.mean(np.array(dyad_connectedness.values()) > 0) for dyad_connectedness in commu_connectedness_JSL_2.values()], alpha=0.2, color=\"r\", normed=True)\n",
    "plt.hist([np.mean(np.array(dyad_connectedness.values()) > 0) for dyad_connectedness in commu_connectedness_FL_2.values()], alpha=0.2, color=\"b\", normed=True)"
   ]
  },
  {
   "cell_type": "code",
   "execution_count": 1151,
   "metadata": {
    "ExecuteTime": {
     "end_time": "2017-03-17T09:51:12.960166",
     "start_time": "2017-03-17T09:51:12.746757"
    },
    "collapsed": false,
    "run_control": {
     "frozen": false,
     "read_only": false
    }
   },
   "outputs": [
    {
     "data": {
      "text/plain": [
       "(array([ 0.3375,  0.0422,  0.0844,  0.211 ,  0.2953,  0.3797,  0.3375,  0.0844,  0.211 ,  0.1266]),\n",
       " array([ 0.    ,  0.474 ,  0.9481,  1.4221,  1.8962,  2.3702,  2.8443,  3.3183,  3.7924,  4.2664,\n",
       "         4.7405]),\n",
       " <a list of 10 Patch objects>)"
      ]
     },
     "execution_count": 1151,
     "metadata": {},
     "output_type": "execute_result"
    },
    {
     "data": {
      "image/png": "[encoded data removed]",
      "text/plain": [
       "<matplotlib.figure.Figure at 0x10d2c6390>"
      ]
     },
     "metadata": {},
     "output_type": "display_data"
    }
   ],
   "source": [
    "plt.hist([shannon_entropy(dyad_connectedness.values()) for dyad_connectedness in commu_connectedness_JSL_2.values()], alpha=0.2, color=\"r\", normed=True)\n",
    "plt.hist([shannon_entropy(dyad_connectedness.values()) for dyad_connectedness in commu_connectedness_FL_2.values()], alpha=0.2, color=\"b\", normed=True)"
   ]
  },
  {
   "cell_type": "code",
   "execution_count": null,
   "metadata": {
    "collapsed": true,
    "run_control": {
     "frozen": false,
     "read_only": false
    }
   },
   "outputs": [],
   "source": [
    "community_nodes(layer_commu_pred_JSL_1_wh)"
   ]
  },
  {
   "cell_type": "code",
   "execution_count": 870,
   "metadata": {
    "ExecuteTime": {
     "end_time": "2017-03-17T08:03:14.667751",
     "start_time": "2017-03-17T08:03:14.662014"
    },
    "collapsed": false,
    "run_control": {
     "frozen": false,
     "read_only": false
    }
   },
   "outputs": [],
   "source": [
    "plot = sns.jointplot(\"sepal_width\", \"petal_length\", data=iris, kind=\"kde\", space=0, color=\"b\")\n",
    "\n",
    "ax = plot.ax_joint \n",
    "plot.ax_marg_x.set_yscale('log')\n",
    "plot.ax_marg_y.set_xscale('log')\n",
    "\n",
    "plt.show()"
   ]
  },
  {
   "cell_type": "code",
   "execution_count": 870,
   "metadata": {
    "ExecuteTime": {
     "end_time": "2017-03-17T08:03:14.667751",
     "start_time": "2017-03-17T08:03:14.662014"
    },
    "collapsed": false,
    "run_control": {
     "frozen": false,
     "read_only": false
    }
   },
   "outputs": [],
   "source": []
  },
  {
   "cell_type": "code",
   "execution_count": 1136,
   "metadata": {
    "ExecuteTime": {
     "end_time": "2017-03-17T09:38:10.550459",
     "start_time": "2017-03-17T09:38:07.450271"
    },
    "collapsed": false,
    "run_control": {
     "frozen": false,
     "read_only": false
    }
   },
   "outputs": [
    {
     "data": {
      "image/png": "[encoded data removed]",
      "text/plain": [
       "<matplotlib.figure.Figure at 0x262e0af10>"
      ]
     },
     "metadata": {},
     "output_type": "display_data"
    },
    {
     "data": {
      "image/png": "[encoded data removed]",
      "text/plain": [
       "<matplotlib.figure.Figure at 0x262577c90>"
      ]
     },
     "metadata": {},
     "output_type": "display_data"
    },
    {
     "data": {
      "image/png": "[encoded data removed]",
      "text/plain": [
       "<matplotlib.figure.Figure at 0x25e9d8cd0>"
      ]
     },
     "metadata": {},
     "output_type": "display_data"
    }
   ],
   "source": [
    "sns.jointplot(x_JSL, y_JSL, kind=\"kde\", cmap=\"Reds\", xlim=[0, 30], ylim=[0, 20], bw=2, figsize=(3.42/2, 2.4/2))\n",
    "plt.savefig(\"figures/size_vs_cohesion_JSL_2.pdf\")\n",
    "plot2 = sns.jointplot(x_FL, y_FL, kind=\"kde\", cmap=\"Blues\", xlim=[0, 30], ylim=[0, 20], bw=2)\n",
    "plt.show()\n",
    "plot2 = sns.jointplot(x_NL, y_NL, kind=\"kde\", cmap=\"Oranges\", xlim=[0, 30], ylim=[0, 20], bw=2)\n",
    "plt.show()"
   ]
  },
  {
   "cell_type": "code",
   "execution_count": 1103,
   "metadata": {
    "ExecuteTime": {
     "end_time": "2017-03-17T09:25:22.541942",
     "start_time": "2017-03-17T09:25:21.999709"
    },
    "collapsed": false,
    "run_control": {
     "frozen": false,
     "read_only": false
    }
   },
   "outputs": [
    {
     "data": {
      "image/png": "[encoded data removed]",
      "text/plain": [
       "<matplotlib.figure.Figure at 0x26e6e0190>"
      ]
     },
     "metadata": {},
     "output_type": "display_data"
    }
   ],
   "source": [
    "import numpy as np\n",
    "import matplotlib.pyplot as plt\n",
    "import matplotlib.colors as colors\n",
    "from matplotlib.mlab import bivariate_normal\n",
    "\n",
    "'''\n",
    "Lognorm: Instead of pcolor log10(Z1) you can have colorbars that have\n",
    "the exponential labels using a norm.\n",
    "'''\n",
    "\n",
    "xmin = min(x)\n",
    "xmax = max(x)\n",
    "ymin = min(y)\n",
    "ymax = max(y)\n",
    "\n",
    "X, Y = np.meshgrid(np.linspace(0, 20, 100), np.linspace(0, 20, 100))\n",
    "positions = np.vstack([X.ravel(), Y.ravel()])\n",
    "\n",
    "kernel = sp.stats.gaussian_kde(np.vstack([x_JSL, y_JSL]))\n",
    "Z = np.log(np.reshape(kernel(positions).T, X.shape))\n",
    "\n",
    "fig, ax = plt.subplots(2, 1)\n",
    "\n",
    "pcm = ax[0].pcolor(\n",
    "    X, Y, Z,\n",
    "   #norm=colors.LogNorm(vmin=Z.min(), vmax=Z.max()),\n",
    "   cmap='PuBu_r'\n",
    ")\n",
    "# fig.colorbar(pcm, ax=ax[0], extend='max')\n",
    "\n",
    "# pcm = ax[1].pcolor(X, Y, Z, cmap='PuBu_r')\n",
    "# fig.colorbar(pcm, ax=ax[1], extend='max')\n",
    "# fig.show()"
   ]
  },
  {
   "cell_type": "code",
   "execution_count": null,
   "metadata": {
    "collapsed": true,
    "run_control": {
     "frozen": false,
     "read_only": false
    }
   },
   "outputs": [],
   "source": []
  },
  {
   "cell_type": "markdown",
   "metadata": {},
   "source": [
    "### Daily new communities"
   ]
  },
  {
   "cell_type": "code",
   "execution_count": 50,
   "metadata": {
    "ExecuteTime": {
     "end_time": "2017-03-20T10:23:52.908229",
     "start_time": "2017-03-20T10:23:52.884619"
    },
    "collapsed": false,
    "run_control": {
     "frozen": false,
     "read_only": false
    }
   },
   "outputs": [],
   "source": [
    "def days_new_communities(layer_commu_pred, thr=0, interval=55):\n",
    "    periods, new_communities, communities, all_communities = [], [], [], set()\n",
    "    for i in range(int(np.ceil(len(layer_commu_pred) / float(interval)))):\n",
    "        interval_communities = set()\n",
    "        layers = sorted(layer_commu_pred.keys())[i*interval:(i+1)*interval]\n",
    "        for l in layers:\n",
    "            l_communities = [k for k, v in layer_commu_pred[l].items() if len(v) > thr]\n",
    "            interval_communities.update(l_communities)\n",
    "        new_communities.append(len(interval_communities - all_communities))\n",
    "        communities.append(len(interval_communities))\n",
    "        all_communities.update(list(interval_communities))\n",
    "        periods.append(i)\n",
    "    return np.array(periods), np.array(new_communities), np.array(communities)\n",
    "\n",
    "periods_JSL_2, new_communities_JSL_2, communities_JSL_2 = days_new_communities(layer_commu_pred_JSL_2_arr[0], thr=2)\n",
    "periods_FL_2, new_communities_FL_2, communities_FL_2 = days_new_communities(layer_commu_pred_FL_2_arr[0], thr=2)\n",
    "periods_AL_2, new_communities_AL_2, communities_AL_2 = days_new_communities(layer_commu_pred_AL_2_arr[0], thr=2)\n",
    "periods_NL_2, new_communities_NL_2, communities_NL_2 = days_new_communities(layer_commu_pred_NL_2_arr[0], thr=2)"
   ]
  },
  {
   "cell_type": "code",
   "execution_count": 269,
   "metadata": {
    "ExecuteTime": {
     "end_time": "2017-03-22T16:24:49.868323",
     "start_time": "2017-03-22T16:24:49.614298"
    },
    "collapsed": false,
    "run_control": {
     "frozen": false,
     "read_only": false
    }
   },
   "outputs": [
    {
     "data": {
      "image/png": "[encoded data removed]",
      "text/plain": [
       "<matplotlib.figure.Figure at 0x118754fd0>"
      ]
     },
     "metadata": {},
     "output_type": "display_data"
    }
   ],
   "source": [
    "plt.figure(figsize=(3.42/2, 2.4/2), frameon=False)\n",
    "\n",
    "plt.plot(periods_JSL_2, new_communities_JSL_2 * 1.0 / communities_JSL_2, c=\"#e74c3c\", label=\"JSL\", lw=0.5)\n",
    "plt.scatter(periods_JSL_2, new_communities_JSL_2 * 1.0 / communities_JSL_2, c=\"#e74c3c\", lw=0, s=5)\n",
    "\n",
    "plt.plot(periods_FL_2, new_communities_FL_2 * 1.0 / communities_FL_2, c=\"#3498db\", label=\"FL\", lw=0.5)\n",
    "plt.scatter(periods_FL_2, new_communities_FL_2 * 1.0 / communities_FL_2, c=\"#3498db\", lw=0, s=5)\n",
    "\n",
    "# plt.plot(periods_AL_2, new_communities_AL_2 * 1.0 / communities_AL_2, c=\"#1abc9c\", label=\"AL\", lw=0.5)\n",
    "# plt.scatter(periods_AL_2, new_communities_AL_2 * 1.0 / communities_AL_2, c=\"#1abc9c\", lw=0, s=5)\n",
    "\n",
    "plt.plot(periods_NL_2, new_communities_NL_2 * 1.0 / communities_NL_2, c=\"#f1c40f\", label=\"NL\", lw=0.5)\n",
    "plt.scatter(periods_NL_2, new_communities_NL_2 * 1.0 / communities_NL_2, c=\"#f1c40f\", lw=0, s=5)\n",
    "\n",
    "plt.ylim(0, 1.1)\n",
    "plt.xlim(0, 9)\n",
    "#plt.grid()\n",
    "plt.xlabel(\"Time [days]\")\n",
    "plt.ylabel(\"Fraction new communities\")\n",
    "#plt.legend()\n",
    "plt.savefig(\"figures/daily_new_communities_2.pdf\")\n",
    "plt.show()"
   ]
  },
  {
   "cell_type": "markdown",
   "metadata": {},
   "source": [
    "### Daily average community participation profile similarity to previous day"
   ]
  },
  {
   "cell_type": "code",
   "execution_count": 249,
   "metadata": {
    "ExecuteTime": {
     "end_time": "2017-03-22T16:06:16.929147",
     "start_time": "2017-03-22T16:06:16.733555"
    },
    "collapsed": false
   },
   "outputs": [],
   "source": [
    "x_JSL_2, Y_JSL_2 = daily_distr_community_similarity_to_prev_instance(layer_commu_pred_JSL_2_arr[0])\n",
    "x_FL_2, Y_FL_2 = daily_distr_community_similarity_to_prev_instance(layer_commu_pred_FL_2_arr[0])"
   ]
  },
  {
   "cell_type": "code",
   "execution_count": 276,
   "metadata": {
    "ExecuteTime": {
     "end_time": "2017-03-22T16:27:08.171372",
     "start_time": "2017-03-22T16:27:07.945493"
    },
    "collapsed": false,
    "scrolled": true
   },
   "outputs": [
    {
     "data": {
      "image/png": "[encoded data removed]",
      "text/plain": [
       "<matplotlib.figure.Figure at 0x1159f9fd0>"
      ]
     },
     "metadata": {},
     "output_type": "display_data"
    }
   ],
   "source": [
    "plt.figure(figsize=(3.42/2, 2.4/2), frameon=False)\n",
    "confidence_intervals(x_JSL_2, Y_JSL_2, c=\"#e74c3c\")\n",
    "confidence_intervals(x_FL_2, Y_FL_2, c=\"#2980b9\")\n",
    "plt.ylim(-0.1, 1)\n",
    "plt.xlim(1, 9)\n",
    "plt.xlabel(\"Time [Days]\")\n",
    "plt.ylabel(\"Cosine similarity\")\n",
    "plt.savefig(\"figures/daily_community_prev_instance_similarity_2.pdf\")\n",
    "plt.show()"
   ]
  },
  {
   "cell_type": "code",
   "execution_count": null,
   "metadata": {
    "collapsed": true
   },
   "outputs": [],
   "source": []
  }
 ],
 "metadata": {
  "kernelspec": {
   "display_name": "Python 2",
   "language": "python",
   "name": "python2"
  },
  "language_info": {
   "codemirror_mode": {
    "name": "ipython",
    "version": 2
   },
   "file_extension": ".py",
   "mimetype": "text/x-python",
   "name": "python",
   "nbconvert_exporter": "python",
   "pygments_lexer": "ipython2",
   "version": "2.7.12"
  },
  "nav_menu": {},
  "toc": {
   "navigate_menu": true,
   "number_sections": true,
   "sideBar": true,
   "threshold": 6,
   "toc_cell": false,
   "toc_section_display": "block",
   "toc_window_display": true
  },
  "toc_position": {
   "height": "2175px",
   "left": "0px",
   "right": "988.003px",
   "top": "105px",
   "width": "213px"
  }
 },
 "nbformat": 4,
 "nbformat_minor": 1
}
