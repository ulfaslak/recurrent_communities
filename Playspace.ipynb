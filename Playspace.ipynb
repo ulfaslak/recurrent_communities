{
 "cells": [
  {
   "cell_type": "markdown",
   "metadata": {},
   "source": [
    "# Preamble"
   ]
  },
  {
   "cell_type": "markdown",
   "metadata": {},
   "source": [
    "## Imports"
   ]
  },
  {
   "cell_type": "code",
   "execution_count": 1,
   "metadata": {
    "ExecuteTime": {
     "end_time": "2017-02-07T12:57:30.952011",
     "start_time": "2017-02-07T12:57:30.243503"
    },
    "collapsed": false,
    "run_control": {
     "frozen": false,
     "read_only": false
    }
   },
   "outputs": [],
   "source": [
    "%matplotlib inline\n",
    "import networkx as nx\n",
    "import community\n",
    "import numpy as np\n",
    "import matplotlib.pylab as plt\n",
    "import sys\n",
    "from collections import Counter, defaultdict\n",
    "from random import choice\n",
    "from sklearn.metrics.cluster import normalized_mutual_info_score, mutual_info_score\n",
    "import seaborn as sns\n",
    "import subprocess\n",
    "import re\n",
    "import itertools\n",
    "import scipy\n",
    "\n",
    "import numpy as np, scipy.stats as st"
   ]
  },
  {
   "cell_type": "markdown",
   "metadata": {},
   "source": [
    "## Set layout params"
   ]
  },
  {
   "cell_type": "code",
   "execution_count": 791,
   "metadata": {
    "ExecuteTime": {
     "end_time": "2017-02-07T07:10:18.519617",
     "start_time": "2017-02-07T07:10:18.503557"
    },
    "collapsed": false,
    "run_control": {
     "frozen": false,
     "read_only": false
    }
   },
   "outputs": [],
   "source": [
    "plt.style.use([\"classic\"])\n",
    "np.set_printoptions(precision=4)\n",
    "np.core.arrayprint._line_width = 100\n",
    "\n",
    "def standarize_plot_parameters():\n",
    "    # http://scipy.github.io/old-wiki/pages/Cookbook/Matplotlib/LaTeX_Examples\n",
    "    # thesis has 417.47 points in column size, with 0.6\\columnwidth\n",
    "    fig_width_pt = 417.47*0.6\n",
    "    inches_per_pt = 1.0/72.27               # Convert pt to inches\n",
    "    golden_mean = (np.sqrt(5)-1.0)/2.0         # Aesthetic ratio\n",
    "    fig_width = fig_width_pt*inches_per_pt  # width in inches\n",
    "    fig_height = fig_width*golden_mean       # height in inches\n",
    "    params = {\n",
    "       'axes.labelsize': 10,\n",
    "       'legend.fontsize': 10,\n",
    "       'xtick.labelsize': 8,\n",
    "       'ytick.labelsize': 8,\n",
    "       'figure.figsize': [fig_width, fig_height],\n",
    "       'font.family': 'STIXGeneral',  # close enough to LaTeX font\n",
    "       'font.size': 10\n",
    "    }\n",
    "    plt.rcParams.update(params)\n",
    "\n",
    "standarize_plot_parameters()"
   ]
  },
  {
   "cell_type": "markdown",
   "metadata": {},
   "source": [
    "## Visualization functions"
   ]
  },
  {
   "cell_type": "code",
   "execution_count": 3,
   "metadata": {
    "ExecuteTime": {
     "end_time": "2017-02-07T12:57:31.421971",
     "start_time": "2017-02-07T12:57:31.402828"
    },
    "collapsed": true,
    "run_control": {
     "frozen": false,
     "read_only": false
    }
   },
   "outputs": [],
   "source": [
    "def draw(G, partition=\"teal\"):\n",
    "    if partition == True:\n",
    "        partition = community.best_partition(G).values()\n",
    "    pos = nx.nx_pydot.graphviz_layout(G, prog='neato')\n",
    "    nx.draw_networkx_nodes(G, pos=pos, node_size=50, alpha=1.0, linewidths=0, node_color=partition)\n",
    "    nx.draw_networkx_edges(G, pos=pos, width=1, alpha=.3)\n",
    "    plt.axis(\"off\")\n",
    "    \n",
    "def scatter_mean(X, Y, c, label=\"\"):\n",
    "    plt.plot(\n",
    "        np.mean(np.array(X), axis=0),\n",
    "        np.mean(np.array(Y), axis=0),\n",
    "        c=c, lw=2, ls=\"--\", label=label\n",
    "    )\n",
    "    \n",
    "def confidence_intervals(X, Y, c, label=\"\", mid_50_percentile=False):\n",
    "    X, Y = np.array(X), np.array(Y)\n",
    "    low, upp = st.t.interval(\n",
    "        0.99,\n",
    "        Y.shape[0]-1,\n",
    "        loc=np.mean(Y, axis=0),\n",
    "        scale=st.sem(Y)\n",
    "    )\n",
    "    plt.fill_between(\n",
    "        np.mean(X, axis=0),\n",
    "        low,\n",
    "        upp,\n",
    "        alpha=0.5,\n",
    "        color=c,\n",
    "        lw=0\n",
    "    )\n",
    "    plt.plot(\n",
    "        np.mean(X, axis=0),\n",
    "        np.mean(Y, axis=0),\n",
    "        lw=2,\n",
    "        c=c,\n",
    "        label=label\n",
    "    )\n",
    "    if mid_50_percentile:\n",
    "        plt.fill_between(\n",
    "            np.mean(X, axis=0),\n",
    "            np.percentile(Y, 25, axis=0),\n",
    "            np.percentile(Y, 75, axis=0),\n",
    "            alpha=.25,\n",
    "            color=c\n",
    "        )"
   ]
  },
  {
   "cell_type": "markdown",
   "metadata": {},
   "source": [
    "## Analysis functions"
   ]
  },
  {
   "cell_type": "code",
   "execution_count": 4,
   "metadata": {
    "ExecuteTime": {
     "end_time": "2017-02-07T12:57:32.337707",
     "start_time": "2017-02-07T12:57:32.178502"
    },
    "collapsed": true,
    "run_control": {
     "frozen": false,
     "read_only": false
    }
   },
   "outputs": [],
   "source": [
    "def NMI_score(p1, p2):\n",
    "    nodes = sorted(set(p1.keys()) & set(p2.keys()))\n",
    "    return normalized_mutual_info_score(\n",
    "        [p1[n] for n in nodes],\n",
    "        [p2[n] for n in nodes]\n",
    "    )\n",
    "\n",
    "def interlayer_NMI(layer_commu, signal_layers):\n",
    "    \"\"\"Return signal-noise NMI and noise-noise NMI\"\"\"\n",
    "    layers = sorted(layer_commu.keys())\n",
    "    partitions = defaultdict(dict)\n",
    "    for l in layers:\n",
    "        for c, nodes in layer_commu[l].items():\n",
    "            for n in nodes:\n",
    "                partitions[l][int(n)] = c\n",
    "\n",
    "    similarity = np.zeros((len(layers), len(layers)))\n",
    "    for l1 in layers:\n",
    "        partition1 = partitions[l1]\n",
    "        for l2 in layers:\n",
    "            partition2 = partitions[l2]\n",
    "            try:\n",
    "                similarity[l1, l2] = NMI_score(partition1, partition2)\n",
    "            except:\n",
    "                globals().update(locals())\n",
    "                similarity[l1, l2] = NMI_score(partition1, partition2)\n",
    "    \n",
    "    signal_layers = set(signal_layers)\n",
    "    noise_layers = set(layers) - signal_layers\n",
    "    \n",
    "    signal_signal_NMI = np.mean([\n",
    "        np.mean(similarity[sl, list(signal_layers - {sl})])\n",
    "        for sl in signal_layers\n",
    "    ])\n",
    "    \n",
    "    signal_noise_mean_NMI = np.mean([\n",
    "        np.mean(similarity[sl, list(noise_layers)])\n",
    "        for sl in signal_layers\n",
    "    ])\n",
    "    \n",
    "    signal_noise_std_NMI = np.mean([\n",
    "        np.std(similarity[sl, list(noise_layers)])\n",
    "        for sl in signal_layers\n",
    "    ])\n",
    "    \n",
    "    noise_noise_NMI = np.mean([\n",
    "        np.mean(similarity[nl, list(noise_layers - {nl})])\n",
    "        for nl in noise_layers\n",
    "    ])\n",
    "    \n",
    "    return signal_signal_NMI, signal_noise_mean_NMI, signal_noise_std_NMI, noise_noise_NMI\n",
    "\n",
    "    \n",
    "\n",
    "def independent_edge_swaps(G, num_swaps):\n",
    "    Gc = G.copy()\n",
    "    for _ in range(num_swaps):\n",
    "        nx.double_edge_swap(Gc, 1)\n",
    "    return Gc\n",
    "\n",
    "def Infomap(pajek_string, *args):\n",
    "    \"\"\"Run multiplex community detection because Python implementation has no docs\n",
    "    \n",
    "    Parameters\n",
    "    ----------\n",
    "    pajek_string : str\n",
    "        Pajek representation of the network (str)\n",
    "    *args : dict\n",
    "        Infomap execution options. (http://www.mapequation.org/code.html#Options)\n",
    "    Returns\n",
    "    -------\n",
    "    communities : list of lists\n",
    "    layer_communities : data structure in required format for d3 viz (json)\n",
    "    \"\"\"\n",
    "    \n",
    "    def _get_id_to_label(filename):\n",
    "        with open('output/' + filename + \".net\", 'r') as fp:\n",
    "            parsed_network = fp.read()\n",
    "        return dict(\n",
    "            (int(n.split()[0]), n.split('\"')[1])\n",
    "            for n in parsed_network.split(\"\\n*multiplex\")[0].split(\"\\n\")[1:]\n",
    "        )\n",
    "    \n",
    "    def _parse_communities(id_to_label, filename):\n",
    "        with open('output/'+filename+\"_expanded.clu\", 'r') as infile:\n",
    "            clusters = infile.read()\n",
    "\n",
    "        # Get layers, nodes and clusters from _extended.clu file\n",
    "        la_no_clu = re.findall(r'\\d+ \\d+ \\d+ \\d\\.\\d+', clusters) # [\"30 1 2 0.00800543\",...]\n",
    "        la_no_clu = [tuple(i.split()) for i in la_no_clu]\n",
    "\n",
    "        communities_json = defaultdict(set)\n",
    "        for layer, node, cluster, _ in la_no_clu:\n",
    "            communities_json[int(layer)].add((id_to_label[int(node)], int(cluster)))\n",
    "\n",
    "        return communities_json\n",
    "    \n",
    "    def _clean_up(filename):\n",
    "        subprocess.call(['rm', 'input/'+filename+'.net'])\n",
    "        subprocess.call(['rm', 'output/'+filename+'_expanded.clu'])\n",
    "    \n",
    "    # Check for process id in args (for multiprocessing)\n",
    "    if args[-1][:3] == \"pid\":\n",
    "        pid = args[-1][3:]\n",
    "        args = args[:-1]\n",
    "    else:\n",
    "        pid = \"\"\n",
    "        \n",
    "    # Get network in multiplex string format and define filename\n",
    "    filename = 'tmpnet' + pid\n",
    "\n",
    "    # Store locally\n",
    "    with open(\"input/\"+filename+\".net\", 'w') as outfile:\n",
    "        outfile.write(pajek_string)\n",
    "    \n",
    "    # Run Infomap for multiplex network\n",
    "    subprocess.call(\n",
    "        ['./infomap/Infomap', 'input/'+filename+\".net\"] + \\\n",
    "        list(args)\n",
    "    )\n",
    "    \n",
    "    # Parse communities from Infomap output\n",
    "    id_to_label = _get_id_to_label(filename)\n",
    "    parsed_communities = _parse_communities(id_to_label, filename)\n",
    "    _clean_up(filename)\n",
    "\n",
    "    orig_clu = [item for sublist in parsed_communities.values() for item in sublist]\n",
    "    communities = dict()\n",
    "    for key, group in itertools.groupby(orig_clu, lambda x: x[1]):\n",
    "        for thing in group:\n",
    "            try:\n",
    "                communities[key].append(thing[0])\n",
    "            except KeyError:\n",
    "                communities[thing[1]] = [thing[0]]\n",
    "    communities = dict((k,set(v)) for k,v in communities.items())\n",
    "\n",
    "    layer_communities = {}\n",
    "    for layer, group in parsed_communities.items():\n",
    "        communities = {}\n",
    "        for no, clu in group:\n",
    "            try:\n",
    "                communities[clu-1].append(no)\n",
    "            except KeyError:\n",
    "                communities[clu-1] = [no]\n",
    "        layer_communities[layer] = communities\n",
    "\n",
    "    return communities, layer_communities"
   ]
  },
  {
   "cell_type": "markdown",
   "metadata": {},
   "source": [
    "## Simulation functions"
   ]
  },
  {
   "cell_type": "markdown",
   "metadata": {},
   "source": [
    "### Generate networks"
   ]
  },
  {
   "cell_type": "code",
   "execution_count": 5,
   "metadata": {
    "ExecuteTime": {
     "end_time": "2017-02-07T12:57:33.354805",
     "start_time": "2017-02-07T12:57:33.266270"
    },
    "collapsed": false,
    "run_control": {
     "frozen": false,
     "read_only": false
    }
   },
   "outputs": [],
   "source": [
    "def temporal_network_with_signal_layer(G_signal, N_signal, N_noise, num_swaps=100):\n",
    "    \"\"\"Build temporal network with noise around a signal layer.\n",
    "    \n",
    "    Input\n",
    "    -----\n",
    "    G_signal : networkx.classes.graph.Graph\n",
    "    N_signal : int\n",
    "    N_noise : int\n",
    "    num_swaps : int\n",
    "    \n",
    "    Output\n",
    "    ------\n",
    "    out : str\n",
    "        Temporal network in pajek format\n",
    "    \"\"\"\n",
    "    \n",
    "    def write_pajek(A, node_labels=None, index_from=0):\n",
    "        \"\"\"Return multiplex representation of multiplex network adjacency matrix A\n",
    "\n",
    "        Providing an adjacency tensor where A[:, :, k] is adjacency matrix of temporal\n",
    "        layer k, return a pajek format representation of the temporal network which weights interlayer\n",
    "        edges by state node neighborhood similarity. \n",
    "\n",
    "        Parameters\n",
    "        ----------\n",
    "        A : numpy.3darray\n",
    "            3d tensor where each A[:, :, k] is a layer adjacency matrix\n",
    "        max_trans_prob : float/str\n",
    "            Cap on interlayer edge weights. 'square' for square penalty.\n",
    "        power_penalty : int/float\n",
    "            Power to jaccard similarity betw. state nodes to penalize low similarity\n",
    "        index_from : int\n",
    "            From which number to index nodes and layers in pajek format from\n",
    "        style : bool\n",
    "            Either 'zigzag', 'vertical', or 'simple'. 'vertical' will give working results but is\n",
    "            essentially wrong use of Infomap, 'simple' should be possible to use in Infomap but is not\n",
    "            at this point, so 'zigzag' is preferred because it is an explicit representation of the way\n",
    "            the network should be represented internally in Infomap.\n",
    "\n",
    "        Returns\n",
    "        -------\n",
    "        out_file : string\n",
    "            A network string in multiplex format\n",
    "        intid_to_origid : dict\n",
    "            Key-value pairs of node integer id and original id\n",
    "        origid_to_intid : dict\n",
    "            Reverse of intid_to_origid\n",
    "        \"\"\"\n",
    "\n",
    "        def _write_outfile(A):\n",
    "            \"\"\"Write nodes and intra/inter-edges from A and J to string.\"\"\"\n",
    "            def __remove_symmetry_A(A):\n",
    "                A_triu = defaultdict(int)\n",
    "                for (i, j, k), w in A.items():\n",
    "                    if j > i:\n",
    "                        A_triu[(i, j, k)] = w\n",
    "                return A_triu\n",
    "            def __write_nodes(outfile):\n",
    "                outfile += \"*Vertices %d\" % Nn\n",
    "                for nid, label in enumerate(nodes):\n",
    "                    outfile += '\\n%d \"%s\" 1.0' % (nid + index_from, str(label))\n",
    "                return outfile\n",
    "            def __write_intra_edges(outfile):\n",
    "                outfile += \"\\n*Intra\\n# layer node node [weight]\"\n",
    "                for (i, j, k), w in __remove_symmetry_A(A).items():\n",
    "                    outfile += '\\n%d %d %d %f' % (\n",
    "                        k + index_from,  # layer\n",
    "                        nodemap[i] + index_from,  # node\n",
    "                        nodemap[j] + index_from,  # node\n",
    "                        w                # weight\n",
    "                    )\n",
    "                return outfile\n",
    "\n",
    "            outfile = \"\"\n",
    "            outfile = __write_nodes(outfile)\n",
    "            outfile = __write_intra_edges(outfile)\n",
    "\n",
    "            return outfile\n",
    "\n",
    "        nodes = sorted(set([n for i, j, _ in A.keys() for n in [i, j]]))\n",
    "        Nn = len(nodes)\n",
    "        Nl = len(set([k for i, j, k in A.keys()]))\n",
    "\n",
    "        nodemap = dict(zip(nodes, range(Nn)))\n",
    "\n",
    "        return _write_outfile(A)\n",
    "\n",
    "    def _create_adjacency_matrix(layer_edges):\n",
    "        \"\"\"Return 3d adjacency matrix of the temporal network.\n",
    "        \n",
    "        Input\n",
    "        -----\n",
    "        layer_edges : dict\n",
    "        \n",
    "        Output\n",
    "        ------\n",
    "        A : dict\n",
    "        \"\"\"\n",
    "        A = defaultdict(int)\n",
    "        for l, edges in layer_edges.items():\n",
    "            for edge in edges:\n",
    "                    A[(edge[0], edge[1], l)] += 1\n",
    "                    A[(edge[1], edge[0], l)] += 1    \n",
    "        return A\n",
    "    \n",
    "    def _independent_edge_swaps(G, num_swaps):\n",
    "        Gc = G.copy()\n",
    "        for _ in range(num_swaps):\n",
    "            nx.double_edge_swap(Gc, 1)\n",
    "        return Gc\n",
    "    \n",
    "    # Layer numbers in a vector\n",
    "    layers = range(N_signal + N_noise)\n",
    "    \n",
    "    # Pick the position of the signal layers\n",
    "    signal_layers = []\n",
    "    for _ in range(N_signal):\n",
    "        signal_layers.append(choice(list(set(layers) - set(signal_layers))))\n",
    "    \n",
    "    # Create layer-edge map\n",
    "    layer_edges = dict(\n",
    "        (l, G_signal.edges()) if l in signal_layers else\n",
    "        (l, _independent_edge_swaps(G_signal.copy(), num_swaps).edges())\n",
    "        for l in layers\n",
    "    )\n",
    "    \n",
    "    return write_pajek(_create_adjacency_matrix(layer_edges)), signal_layers\n",
    "\n",
    "\n",
    "\n",
    "def gen_G(network_size=100, K=3, P=1, cut_nodes=15):\n",
    "    G = nx.powerlaw_cluster_graph(network_size + cut_nodes, K, P)\n",
    "    for n, k in sorted(G.degree().items(), key=lambda k: k[1], reverse=True)[:cut_nodes]:\n",
    "        G.remove_node(n)\n",
    "    for n, k in G.degree().items():\n",
    "        if k == 0: G.remove_node(n)\n",
    "    return G"
   ]
  },
  {
   "cell_type": "markdown",
   "metadata": {},
   "source": [
    "### Run simulations"
   ]
  },
  {
   "cell_type": "code",
   "execution_count": 36,
   "metadata": {
    "ExecuteTime": {
     "end_time": "2017-02-07T11:35:32.221487",
     "start_time": "2017-02-07T11:35:30.495898"
    },
    "collapsed": false,
    "run_control": {
     "frozen": false,
     "read_only": false
    },
    "scrolled": false
   },
   "outputs": [
    {
     "name": "stdout",
     "output_type": "stream",
     "text": [
      "5\n"
     ]
    }
   ],
   "source": [
    "def simulate_NMI_vs_num_swaps(N_signal, N_noise, reps=10):\n",
    "    \"\"\"Compute NMI vs number of swaps in noise layers\n",
    "    \n",
    "    1. Create a signal layer, with a predefined structure, and embed that into a\n",
    "    temporal network in at N_signal different times.\n",
    "    2. Copy the signal layer and \n",
    "    permute it by num_swaps edge swaps and insert that at N_noise different times.\n",
    "    3. Record the average NMI between the signal layers and the noise layers.\n",
    "    4. Record the average NMI between the noise layers.\n",
    "    5. Repeat 1-4 for increasing num_swaps.\n",
    "    \"\"\"\n",
    "    X = []\n",
    "    Y0ss, Y0snM, Y0snSD, Y0nn = [], [], [], []\n",
    "    Y1ss, Y1snM, Y1snSD, Y1nn = [], [], [], []\n",
    "    Y2ss, Y2snM, Y2snSD, Y2nn = [], [], [], []\n",
    "    try:\n",
    "        for _ in range(reps):\n",
    "\n",
    "            G = gen_G()\n",
    "\n",
    "            x = []\n",
    "            y0ss, y0snM, y0snSD, y0nn = [], [], [], []\n",
    "            y1ss, y1snM, y1snSD, y1nn = [], [], [], []\n",
    "            y2ss, y2snM, y2snSD, y2nn = [], [], [], []\n",
    "            \n",
    "            for num_swaps in sorted(set([int(num_swaps) for num_swaps in np.logspace(0.1, np.log10(500), 25, base=10)])):\n",
    "\n",
    "                temporal_network, signal_layers = temporal_network_with_signal_layer(G, N_signal, N_noise, num_swaps)\n",
    "\n",
    "                _, layer_commu_pred_1 = Infomap(\n",
    "                    temporal_network,\n",
    "                    'output/',\n",
    "                    '-i',\n",
    "                    'multiplex',\n",
    "                    '--multiplex-relax-rate', '0.25',\n",
    "                    '--multiplex-relax-limit', '1',\n",
    "                    '--overlapping',\n",
    "                    '--expanded',\n",
    "                    '--clu',\n",
    "                    '--pajek',\n",
    "                    '--two-level',\n",
    "                    '-z'\n",
    "                )\n",
    "                \n",
    "                _, layer_commu_pred_all = Infomap(\n",
    "                    temporal_network,\n",
    "                    'output/',\n",
    "                    '-i',\n",
    "                    'multiplex',\n",
    "                    '--multiplex-relax-rate', '0.25',\n",
    "                    '--overlapping',\n",
    "                    '--expanded',\n",
    "                    '--clu',\n",
    "                    '--pajek',\n",
    "                    '--two-level',\n",
    "                    '-z'\n",
    "                )\n",
    "\n",
    "                _, layer_commu_pred_js = Infomap(\n",
    "                    temporal_network,\n",
    "                    'output/',\n",
    "                    '-i',\n",
    "                    'multiplex',\n",
    "                    '--multiplex-js-relax-rate', '0.25',\n",
    "                    '--overlapping',\n",
    "                    '--expanded',\n",
    "                    '--clu',\n",
    "                    '--pajek',\n",
    "                    '--two-level',\n",
    "                    '-z'\n",
    "                )\n",
    "\n",
    "                y0ss_, y0snM_, y0snSD_, y0nn_ = interlayer_NMI(layer_commu_pred_1, signal_layers)\n",
    "                y1ss_, y1snM_, y1snSD_, y1nn_ = interlayer_NMI(layer_commu_pred_all, signal_layers)\n",
    "                y2ss_, y2snM_, y2snSD_, y2nn_ = interlayer_NMI(layer_commu_pred_js, signal_layers)\n",
    "                \n",
    "                x.append(num_swaps)            \n",
    "                y0ss.append(y0ss_)\n",
    "                y0snM.append(y0snM_)\n",
    "                y0snSD.append(y0snSD_)\n",
    "                y0nn.append(y0nn_)\n",
    "                y1ss.append(y1ss_)\n",
    "                y1snM.append(y1snM_)\n",
    "                y1snSD.append(y1snSD_)\n",
    "                y1nn.append(y1nn_)\n",
    "                y2ss.append(y2ss_)\n",
    "                y2snM.append(y2snM_)\n",
    "                y2snSD.append(y2snSD_)\n",
    "                y2nn.append(y2nn_)\n",
    "\n",
    "                print num_swaps,\n",
    "            print\n",
    "\n",
    "            X.append(x)\n",
    "            Y0ss.append(y0ss)\n",
    "            Y0snM.append(y0snM)\n",
    "            Y0snSD.append(y0snSD)\n",
    "            Y0nn.append(y0nn)\n",
    "            Y1ss.append(y1ss)\n",
    "            Y1snM.append(y1snM)\n",
    "            Y1snSD.append(y1snSD)\n",
    "            Y1nn.append(y1nn)\n",
    "            Y2ss.append(y2ss)\n",
    "            Y2snM.append(y2snM)\n",
    "            Y2snSD.append(y2snSD)\n",
    "            Y2nn.append(y2nn)\n",
    "\n",
    "        return X, Y0ss, Y0snM, Y0snSD, Y0nn, Y1ss, Y1snM, Y1snSD, Y1nn, Y2ss, Y2snM, Y2snSD, Y2nn\n",
    "    \n",
    "    except KeyboardInterrupt:\n",
    "        return X, Y0ss, Y0snM, Y0snSD, Y0nn, Y1ss, Y1snM, Y1snSD, Y1nn, Y2ss, Y2snM, Y2snSD, Y2nn\n",
    "    \n",
    "def simulate_NMI_vs_N_noise(N_signal, num_swaps=500, reps=10):\n",
    "    \"\"\"Compute NMI vs number of swaps in noise layers\n",
    "    \n",
    "    1. Create a signal layer, with a predefined structure, and embed that into a\n",
    "    temporal network in at N_signal different times.\n",
    "    2. Copy the signal layer and \n",
    "    permute it by num_swaps edge swaps and insert that at N_noise different times.\n",
    "    3. Record the average NMI between the signal layers and the noise layers.\n",
    "    4. Record the average NMI between the noise layers.\n",
    "    5. Repeat 1-4 for increasing num_swaps.\n",
    "    \"\"\"\n",
    "    \n",
    "    X = []\n",
    "    Y0ss, Y0snM, Y0snSD, Y0nn = [], [], [], []\n",
    "    Y1ss, Y1snM, Y1snSD, Y1nn = [], [], [], []\n",
    "    Y2ss, Y2snM, Y2snSD, Y2nn = [], [], [], []\n",
    "    \n",
    "    try:\n",
    "        for _ in range(reps):\n",
    "\n",
    "            G = gen_G()\n",
    "\n",
    "            x = []\n",
    "            y0ss, y0snM, y0snSD, y0nn = [], [], [], []\n",
    "            y1ss, y1snM, y1snSD, y1nn = [], [], [], []\n",
    "            y2ss, y2snM, y2snSD, y2nn = [], [], [], []\n",
    "            \n",
    "            for N_noise in map(int, np.linspace(5, 100, 20)):\n",
    "\n",
    "                temporal_network, signal_layers = temporal_network_with_signal_layer(G, N_signal, N_noise, num_swaps)\n",
    "\n",
    "                _, layer_commu_pred_1 = Infomap(\n",
    "                    temporal_network,\n",
    "                    'output/',\n",
    "                    '-i',\n",
    "                    'multiplex',\n",
    "                    '--multiplex-relax-rate', '0.25',\n",
    "                    '--multiplex-relax-limit', '1',\n",
    "                    '--overlapping',\n",
    "                    '--expanded',\n",
    "                    '--clu',\n",
    "                    '--pajek',\n",
    "                    '--two-level',\n",
    "                    '-z'\n",
    "                )\n",
    "                \n",
    "                _, layer_commu_pred_all = Infomap(\n",
    "                    temporal_network,\n",
    "                    'output/',\n",
    "                    '-i',\n",
    "                    'multiplex',\n",
    "                    '--multiplex-relax-rate', '0.25',\n",
    "                    '--overlapping',\n",
    "                    '--expanded',\n",
    "                    '--clu',\n",
    "                    '--pajek',\n",
    "                    '--two-level',\n",
    "                    '-z'\n",
    "                )\n",
    "\n",
    "                _, layer_commu_pred_js = Infomap(\n",
    "                    temporal_network,\n",
    "                    'output/',\n",
    "                    '-i',\n",
    "                    'multiplex',\n",
    "                    '--multiplex-js-relax-rate', '0.25',\n",
    "                    '--overlapping',\n",
    "                    '--expanded',\n",
    "                    '--clu',\n",
    "                    '--pajek',\n",
    "                    '--two-level',\n",
    "                    '-z'\n",
    "                )\n",
    "\n",
    "                y0ss_, y0snM_, y0snSD_, y0nn_ = interlayer_NMI(layer_commu_pred_1, signal_layers)\n",
    "                y1ss_, y1snM_, y1snSD_, y1nn_ = interlayer_NMI(layer_commu_pred_all, signal_layers)\n",
    "                y2ss_, y2snM_, y2snSD_, y2nn_ = interlayer_NMI(layer_commu_pred_js, signal_layers)\n",
    "                \n",
    "                x.append(N_noise)            \n",
    "                y0ss.append(y0ss_)\n",
    "                y0snM.append(y0snM_)\n",
    "                y0snSD.append(y0snSD_)\n",
    "                y0nn.append(y0nn_)\n",
    "                y1ss.append(y1ss_)\n",
    "                y1snM.append(y1snM_)\n",
    "                y1snSD.append(y1snSD_)\n",
    "                y1nn.append(y1nn_)\n",
    "                y2ss.append(y2ss_)\n",
    "                y2snM.append(y2snM_)\n",
    "                y2snSD.append(y2snSD_)\n",
    "                y2nn.append(y2nn_)\n",
    "\n",
    "\n",
    "                print N_noise,\n",
    "            print\n",
    "\n",
    "            X.append(x)\n",
    "            Y0ss.append(y0ss)\n",
    "            Y0snM.append(y0snM)\n",
    "            Y0snSD.append(y0snSD)\n",
    "            Y0nn.append(y0nn)\n",
    "            Y1ss.append(y1ss)\n",
    "            Y1snM.append(y1snM)\n",
    "            Y1snSD.append(y1snSD)\n",
    "            Y1nn.append(y1nn)\n",
    "            Y2ss.append(y2ss)\n",
    "            Y2snM.append(y2snM)\n",
    "            Y2snSD.append(y2snSD)\n",
    "            Y2nn.append(y2nn)\n",
    "\n",
    "        return X, Y0ss, Y0snM, Y0snSD, Y0nn, Y1ss, Y1snM, Y1snSD, Y1nn, Y2ss, Y2snM, Y2snSD, Y2nn\n",
    "    \n",
    "    except KeyboardInterrupt:\n",
    "        return X, Y0ss, Y0snM, Y0snSD, Y0nn, Y1ss, Y1snM, Y1snSD, Y1nn, Y2ss, Y2snM, Y2snSD, Y2nn\n",
    "    \n",
    "\n",
    "    \n",
    "#X, Y0ss, Y0snM, Y0snSD, Y0nn, Y1ss, Y1snM, Y1snSD, Y1nn, Y2ss, Y2snM, Y2snSD, Y2nn = simulate_NMI_vs_num_swaps(2, 10, reps=100)\n",
    "X1, Y0ss1, Y0snM1, Y0snSD1, Y0nn1, Y1ss1, Y1snM1, Y1snSD1, Y1nn1, Y2ss1, Y2snM1, Y2snSD1, Y2nn1 = simulate_NMI_vs_N_noise(2, 500, reps=100)"
   ]
  },
  {
   "cell_type": "code",
   "execution_count": 531,
   "metadata": {
    "ExecuteTime": {
     "end_time": "2017-02-03T01:42:29.946225",
     "start_time": "2017-02-03T01:42:29.934103"
    },
    "collapsed": false,
    "run_control": {
     "frozen": false,
     "read_only": false
    }
   },
   "outputs": [],
   "source": [
    "x"
   ]
  },
  {
   "cell_type": "code",
   "execution_count": 801,
   "metadata": {
    "ExecuteTime": {
     "end_time": "2017-02-07T07:22:25.520054",
     "start_time": "2017-02-07T07:22:25.314870"
    },
    "collapsed": false,
    "run_control": {
     "frozen": false,
     "read_only": false
    }
   },
   "outputs": [
    {
     "data": {
      "image/png": "[encoded data removed]",
      "text/plain": [
       "<matplotlib.figure.Figure at 0x7fe89c6a7950>"
      ]
     },
     "metadata": {},
     "output_type": "display_data"
    }
   ],
   "source": [
    "plt.figure(None, frameon=False)\n",
    "\n",
    "confidence_intervals(X, Y0snM, \"#2980b9\", label=\"Adjacent layers linked\")\n",
    "confidence_intervals(X, Y1snM, c=\"#d35400\", label=\"All layers linked\")\n",
    "confidence_intervals(X, Y2snM, c=\"#16a085\", label=\"Divergence prop. links\")\n",
    "#scatter_mean(X, Y2nn, c=\"#2c3e50\", label=\"Baseline\")\n",
    "\n",
    "# Y2nn_last = np.array(Y2nn)[:, -1]\n",
    "# plt.plot(X[0], [np.mean(Y2nn_last)] * (len(X[0])), c=\"#2c3e50\", ls=\"--\", lw=2.5, label=\"Baseline (random)\")\n",
    "# # low, upp = st.t.interval(0.99, Y2nn_last.shape[0]-1, loc=np.mean(Y2nn_last), scale=st.sem(Y2nn_last))\n",
    "# # plt.fill_between(X[0], low, upp, color=\"k\", alpha=0.5)\n",
    "\n",
    "plt.xticks(fontsize=12)\n",
    "plt.yticks([0.2, 0.4, 0.6, 0.8, 1.0], fontsize=12)\n",
    "\n",
    "plt.xlabel(\"Number of edge swaps\", fontsize=12)\n",
    "plt.ylabel(\"NMI\", fontsize=12)\n",
    "\n",
    "plt.ylim(0.0, 1.0)\n",
    "plt.xlim(0.0, 500)\n",
    "plt.grid()\n",
    "plt.tight_layout(pad=0)\n",
    "plt.savefig(\"figures/NMI_vs_num_edgeswaps.png\")\n",
    "plt.savefig(\"figures/NMI_vs_num_edgeswaps.pdf\")\n",
    "plt.show()"
   ]
  },
  {
   "cell_type": "code",
   "execution_count": 800,
   "metadata": {
    "ExecuteTime": {
     "end_time": "2017-02-07T07:22:19.280600",
     "start_time": "2017-02-07T07:22:19.048424"
    },
    "collapsed": false,
    "run_control": {
     "frozen": false,
     "read_only": false
    }
   },
   "outputs": [
    {
     "data": {
      "image/png": "[encoded data removed]",
      "text/plain": [
       "<matplotlib.figure.Figure at 0x7fe8e10c4110>"
      ]
     },
     "metadata": {},
     "output_type": "display_data"
    }
   ],
   "source": [
    "plt.figure(None, frameon=False)\n",
    "\n",
    "confidence_intervals(X1, Y1snM1, c=\"#d35400\", label=\"Full state node (SN) linkage\")\n",
    "confidence_intervals(X1, Y0snM1, \"#2980b9\", label=\"Adjacent SN linkage\")\n",
    "confidence_intervals(X1, Y2snM1, c=\"#16a085\", label=\"Neighborhood div. SN linkage\")\n",
    "#scatter_mean(X1, Y2nn1, \"#2c3e50\", label=\"Baseline\")\n",
    "\n",
    "plt.xticks(fontsize=12)\n",
    "plt.yticks([0.2, 0.4, 0.6, 0.8, 1.0], fontsize=12)\n",
    "\n",
    "plt.xlabel(\"Number of noise layers\", fontsize=12)\n",
    "plt.ylabel(\"NMI\", fontsize=12)\n",
    "\n",
    "plt.ylim(0.0, 1.0)\n",
    "plt.xlim(5.0, 100)\n",
    "plt.grid()\n",
    "plt.legend()\n",
    "plt.tight_layout(pad=0)\n",
    "plt.savefig(\"figures/NMI_vs_N_noise.png\")\n",
    "plt.savefig(\"figures/NMI_vs_N_noise.pdf\")\n",
    "plt.show()"
   ]
  },
  {
   "cell_type": "code",
   "execution_count": null,
   "metadata": {
    "ExecuteTime": {
     "start_time": "2017-02-03T15:05:25.195Z"
    },
    "collapsed": false,
    "run_control": {
     "frozen": false,
     "read_only": false
    }
   },
   "outputs": [
    {
     "name": "stdout",
     "output_type": "stream",
     "text": [
      "1 2 3 4 5 7 9 11 15 19 25 32 41 53 68 87 112 143 184 236 303 389 499 1 2 3 4 5 7 9 11 15 19 25 "
     ]
    }
   ],
   "source": [
    "N_signal, N_noise = 1, 10\n",
    "\n",
    "G = gen_G()\n",
    "\n",
    "Ynn = []\n",
    "for _ in range(100):\n",
    "    x = []\n",
    "    ynn = []\n",
    "\n",
    "    for num_swaps in sorted(set([int(num_swaps) for num_swaps in np.logspace(0.1, np.log10(500), 25, base=10)])):\n",
    "\n",
    "        temporal_network, signal_layers = temporal_network_with_signal_layer(G, N_signal, N_noise, num_swaps)\n",
    "\n",
    "    #     _, layer_commu_pred_1 = Infomap(\n",
    "    #         temporal_network,\n",
    "    #         'output/',\n",
    "    #         '-i',\n",
    "    #         'multiplex',\n",
    "    #         '--multiplex-relax-rate', '0.25',\n",
    "    #         '--multiplex-relax-limit', '1',\n",
    "    #         '--overlapping',\n",
    "    #         '--expanded',\n",
    "    #         '--clu',\n",
    "    #         '--pajek',\n",
    "    #         '--two-level',\n",
    "    #         '-z'\n",
    "    #     )\n",
    "\n",
    "        _, layer_commu_pred_js = Infomap(\n",
    "            temporal_network,\n",
    "            'output/',\n",
    "            '-i',\n",
    "            'multiplex',\n",
    "            '--multiplex-js-relax-rate', '0.25',\n",
    "            '--overlapping',\n",
    "            '--expanded',\n",
    "            '--clu',\n",
    "            '--pajek',\n",
    "            '--two-level',\n",
    "            '-z'\n",
    "        )\n",
    "\n",
    "        noise_layers = list(set(range(N_signal+N_noise)) - set(signal_layers))\n",
    "        ynn.append(np.mean([\n",
    "             normalized_mutual_info_score(\n",
    "                np.random.randint(len(layer_commu_pred_js[l1]), size=len(G.nodes())),\n",
    "                np.random.randint(len(layer_commu_pred_js[l2]), size=len(G.nodes()))\n",
    "            )\n",
    "            for l1 in noise_layers\n",
    "            for l2 in noise_layers\n",
    "            if l2 > l1\n",
    "        ]))\n",
    "        x.append(num_swaps)\n",
    "\n",
    "        print num_swaps, \n",
    "        \n",
    "    Ynn.append(ynn)"
   ]
  },
  {
   "cell_type": "code",
   "execution_count": 755,
   "metadata": {
    "ExecuteTime": {
     "end_time": "2017-02-07T02:10:25.531280",
     "start_time": "2017-02-07T02:10:25.422134"
    },
    "collapsed": false,
    "run_control": {
     "frozen": false,
     "read_only": false
    }
   },
   "outputs": [
    {
     "data": {
      "image/png": "[encoded data removed]",
      "text/plain": [
       "<matplotlib.figure.Figure at 0x7fe89ca262d0>"
      ]
     },
     "metadata": {},
     "output_type": "display_data"
    }
   ],
   "source": [
    "plt.figure(None, frameon=False)\n",
    "\n",
    "confidence_intervals(X, Ynn, c=\"#16a085\", label=\"Random\")\n",
    "\n",
    "plt.xticks(fontsize=12)\n",
    "plt.yticks([0.2, 0.4, 0.6, 0.8, 1.0], fontsize=12)\n",
    "\n",
    "plt.xlabel(\"Number of edge swaps\", fontsize=12)\n",
    "plt.ylabel(\"NMI\", fontsize=12)\n",
    "\n",
    "plt.ylim(0.0, 1.0)\n",
    "#plt.xlim(5.0, 100)\n",
    "plt.grid()\n",
    "plt.legend()\n",
    "#plt.savefig()\n",
    "plt.show()"
   ]
  },
  {
   "cell_type": "markdown",
   "metadata": {},
   "source": [
    "# New heading"
   ]
  },
  {
   "cell_type": "code",
   "execution_count": 75,
   "metadata": {
    "ExecuteTime": {
     "end_time": "2017-02-07T11:42:07.716579",
     "start_time": "2017-02-07T11:41:47.033072"
    },
    "collapsed": false,
    "run_control": {
     "frozen": false,
     "read_only": false
    }
   },
   "outputs": [],
   "source": [
    "#x = []\n",
    "#y = []\n",
    "for _ in range(1000):\n",
    "    G1 = gen_G()\n",
    "    G2 = gen_G()\n",
    "\n",
    "    y.append(NMI_score(community.best_partition(G1), community.best_partition(G2)))"
   ]
  },
  {
   "cell_type": "code",
   "execution_count": 70,
   "metadata": {
    "ExecuteTime": {
     "end_time": "2017-02-07T11:39:43.193065",
     "start_time": "2017-02-07T11:39:43.037668"
    },
    "collapsed": false,
    "run_control": {
     "frozen": false,
     "read_only": false
    }
   },
   "outputs": [
    {
     "data": {
      "text/plain": [
       "(array([  2.,   3.,   7.,  15.,  14.,  30.,  17.,  10.,  11.,   1.]),\n",
       " array([ 0.1277,  0.1484,  0.1692,  0.1899,  0.2106,  0.2313,  0.2521,  0.2728,  0.2935,  0.3143,\n",
       "         0.335 ]),\n",
       " <a list of 10 Patch objects>)"
      ]
     },
     "execution_count": 70,
     "metadata": {},
     "output_type": "execute_result"
    },
    {
     "data": {
      "image/png": "[encoded data removed]",
      "text/plain": [
       "<matplotlib.figure.Figure at 0x10ee097d0>"
      ]
     },
     "metadata": {},
     "output_type": "display_data"
    }
   ],
   "source": [
    "plt.hist(x)"
   ]
  },
  {
   "cell_type": "code",
   "execution_count": 76,
   "metadata": {
    "ExecuteTime": {
     "end_time": "2017-02-07T11:42:52.949421",
     "start_time": "2017-02-07T11:42:52.799747"
    },
    "collapsed": false,
    "run_control": {
     "frozen": false,
     "read_only": false
    }
   },
   "outputs": [
    {
     "data": {
      "text/plain": [
       "(array([  11.,   47.,  163.,  313.,  497.,  482.,  326.,  185.,   55.,   21.]),\n",
       " array([ 0.173 ,  0.199 ,  0.2249,  0.2509,  0.2768,  0.3027,  0.3287,  0.3546,  0.3806,  0.4065,\n",
       "         0.4325]),\n",
       " <a list of 10 Patch objects>)"
      ]
     },
     "execution_count": 76,
     "metadata": {},
     "output_type": "execute_result"
    },
    {
     "data": {
      "image/png": "[encoded data removed]",
      "text/plain": [
       "<matplotlib.figure.Figure at 0x10f0f5310>"
      ]
     },
     "metadata": {},
     "output_type": "display_data"
    }
   ],
   "source": [
    "plt.hist(y)"
   ]
  },
  {
   "cell_type": "code",
   "execution_count": 81,
   "metadata": {
    "ExecuteTime": {
     "end_time": "2017-02-07T11:43:27.679429",
     "start_time": "2017-02-07T11:43:27.671053"
    },
    "collapsed": false,
    "run_control": {
     "frozen": false,
     "read_only": false
    }
   },
   "outputs": [
    {
     "data": {
      "text/plain": [
       "(0.30466895966143787, 0.30285783561719898, 0.30648008370567675)"
      ]
     },
     "execution_count": 81,
     "metadata": {},
     "output_type": "execute_result"
    }
   ],
   "source": [
    "def mean_confidence_interval(data, confidence=0.95):\n",
    "    a = 1.0*np.array(data)\n",
    "    n = len(a)\n",
    "    m, se = np.mean(a), scipy.stats.sem(a)\n",
    "    h = se * scipy.stats.t._ppf((1+confidence)/2., n-1)\n",
    "    return m, m-h, m+h\n",
    "\n",
    "mean_confidence_interval(y)"
   ]
  },
  {
   "cell_type": "code",
   "execution_count": 10,
   "metadata": {
    "ExecuteTime": {
     "end_time": "2017-02-07T12:45:09.186996",
     "start_time": "2017-02-07T12:45:09.079109"
    },
    "collapsed": true,
    "run_control": {
     "frozen": false,
     "read_only": false
    }
   },
   "outputs": [],
   "source": []
  },
  {
   "cell_type": "code",
   "execution_count": 15,
   "metadata": {
    "ExecuteTime": {
     "end_time": "2017-02-07T12:46:16.521182",
     "start_time": "2017-02-07T12:46:16.516671"
    },
    "collapsed": false
   },
   "outputs": [],
   "source": []
  },
  {
   "cell_type": "code",
   "execution_count": 785,
   "metadata": {
    "ExecuteTime": {
     "end_time": "2017-02-07T05:42:22.056573",
     "start_time": "2017-02-07T05:42:21.891289"
    },
    "collapsed": false
   },
   "outputs": [
    {
     "ename": "AttributeError",
     "evalue": "'module' object has no attribute 'best_partition'",
     "output_type": "error",
     "traceback": [
      "\u001b[1;31m---------------------------------------------------------------------------\u001b[0m",
      "\u001b[1;31mAttributeError\u001b[0m                            Traceback (most recent call last)",
      "\u001b[1;32m<ipython-input-785-521eed5fae0f>\u001b[0m in \u001b[0;36m<module>\u001b[1;34m()\u001b[0m\n\u001b[0;32m     33\u001b[0m \u001b[1;33m\u001b[0m\u001b[0m\n\u001b[0;32m     34\u001b[0m     \u001b[1;31m# Compute partitions\u001b[0m\u001b[1;33m\u001b[0m\u001b[1;33m\u001b[0m\u001b[0m\n\u001b[1;32m---> 35\u001b[1;33m     \u001b[0mp1\u001b[0m \u001b[1;33m=\u001b[0m \u001b[0mcommunity\u001b[0m\u001b[1;33m.\u001b[0m\u001b[0mbest_partition\u001b[0m\u001b[1;33m(\u001b[0m\u001b[0mG1\u001b[0m\u001b[1;33m)\u001b[0m  \u001b[1;31m# {node: cluster, node: cluster, ...}\u001b[0m\u001b[1;33m\u001b[0m\u001b[0m\n\u001b[0m\u001b[0;32m     36\u001b[0m     \u001b[0mp2\u001b[0m \u001b[1;33m=\u001b[0m \u001b[0mcommunity\u001b[0m\u001b[1;33m.\u001b[0m\u001b[0mbest_partition\u001b[0m\u001b[1;33m(\u001b[0m\u001b[0mG2\u001b[0m\u001b[1;33m)\u001b[0m\u001b[1;33m\u001b[0m\u001b[0m\n\u001b[0;32m     37\u001b[0m \u001b[1;33m\u001b[0m\u001b[0m\n",
      "\u001b[1;31mAttributeError\u001b[0m: 'module' object has no attribute 'best_partition'"
     ]
    }
   ],
   "source": [
    "%matplotlib inline\n",
    "import networkx as nx\n",
    "import community\n",
    "from collections import defaultdict\n",
    "import matplotlib.pylab as plt\n",
    "from sklearn.metrics.cluster import normalized_mutual_info_score\n",
    "import numpy as np\n",
    "\n",
    "def gen_Graph(N, K, P):\n",
    "    return nx.powerlaw_cluster_graph(N, K, P)\n",
    "def independent_edge_swaps(G, num_swaps):\n",
    "    Gc = G.copy()\n",
    "    for _ in range(num_swaps):\n",
    "        nx.double_edge_swap(Gc, 1)\n",
    "    return Gc\n",
    "def NMI_score(p1, p2):\n",
    "    nodes = sorted(set(p1.keys()) & set(p2.keys()))\n",
    "    return normalized_mutual_info_score(\n",
    "        [p1[n] for n in nodes],\n",
    "        [p2[n] for n in nodes]\n",
    "    )\n",
    "def smooth(y, box_pts):\n",
    "    box = np.ones(box_pts)/box_pts\n",
    "    y_smooth = np.convolve(y, box, mode='same')\n",
    "    return y_smooth\n",
    "\n",
    "num_swap_vals, J_vals, NMI_vals = [], [], []\n",
    "for num_swaps in range(1000):\n",
    "    # Generate two random graphs\n",
    "    N = 100\n",
    "    G1 = gen_Graph(N, 3, 1)\n",
    "    G2 = independent_edge_swaps(G1, num_swaps)\n",
    "\n",
    "    # Compute partitions\n",
    "    p1 = community.best_partition(G1)  # {node: cluster, node: cluster, ...}\n",
    "    p2 = community.best_partition(G2)\n",
    "\n",
    "    # Invert partition datastructures to # {cluster: [node, node, ...], cluster: [node, node, ...]}\n",
    "    p1_inv = defaultdict(list)\n",
    "    p2_inv = defaultdict(list)\n",
    "    for n, c in p1.items():\n",
    "        p1_inv[c].append(n)\n",
    "    for n, c in p2.items():\n",
    "        p2_inv[c].append(n)\n",
    "\n",
    "    # Compute average weighted jaccard similarity\n",
    "    J = 0\n",
    "    for ci, ni in p1_inv.items():\n",
    "        for cj, nj in p2_inv.items():\n",
    "            n_ij = len(set(ni) & set(nj))\n",
    "            A_inter_B = len(set(ni) & set(nj))\n",
    "            A_union_B = len(set(ni) | set(nj))\n",
    "            J += (n_ij * 1.0 / N) * (A_inter_B * 1.0 / A_union_B)\n",
    "\n",
    "    # Compute NMI score\n",
    "    NMI = NMI_score(p1, p2)\n",
    "    \n",
    "    # Save data\n",
    "    num_swap_vals.append(num_swaps)\n",
    "    J_vals.append(J)\n",
    "    NMI_vals.append(NMI)\n",
    "    \n",
    "# Plot NMI vs number of swaps and J vs number of swaps in the same figure to compare\n",
    "plt.figure()\n",
    "plt.scatter(num_swap_vals, J_vals, c=\"r\", label=\"J average values\", alpha=0.1)\n",
    "plt.scatter(num_swap_vals, NMI_vals, c=\"b\", label=\"NMI values\", alpha=0.1)\n",
    "plt.plot(num_swap_vals, smooth(J_vals, 10), c=\"r\")\n",
    "plt.plot(num_swap_vals, smooth(NMI_vals, 10), c=\"b\")\n",
    "plt.xlabel(\"Number of edge swaps\")\n",
    "plt.ylabel(\"NMI / J average\")\n",
    "plt.show()\n",
    "\n",
    "# Plot NMI vs J\n",
    "plt.figure()\n",
    "plt.scatter(J_vals, NMI_vals)\n",
    "plt.show()"
   ]
  },
  {
   "cell_type": "code",
   "execution_count": 784,
   "metadata": {
    "ExecuteTime": {
     "end_time": "2017-02-07T05:42:18.714740",
     "start_time": "2017-02-07T05:42:18.688607"
    },
    "collapsed": false
   },
   "outputs": [
    {
     "ename": "NameError",
     "evalue": "name 'num_swap_vals' is not defined",
     "output_type": "error",
     "traceback": [
      "\u001b[1;31m---------------------------------------------------------------------------\u001b[0m",
      "\u001b[1;31mNameError\u001b[0m                                 Traceback (most recent call last)",
      "\u001b[1;32m<ipython-input-784-952c31970b32>\u001b[0m in \u001b[0;36m<module>\u001b[1;34m()\u001b[0m\n\u001b[0;32m      1\u001b[0m \u001b[1;31m# Plot NMI vs number of swaps and J vs number of swaps in the same figure to compare\u001b[0m\u001b[1;33m\u001b[0m\u001b[1;33m\u001b[0m\u001b[0m\n\u001b[0;32m      2\u001b[0m \u001b[0mplt\u001b[0m\u001b[1;33m.\u001b[0m\u001b[0mfigure\u001b[0m\u001b[1;33m(\u001b[0m\u001b[1;33m)\u001b[0m\u001b[1;33m\u001b[0m\u001b[0m\n\u001b[1;32m----> 3\u001b[1;33m \u001b[0mplt\u001b[0m\u001b[1;33m.\u001b[0m\u001b[0mscatter\u001b[0m\u001b[1;33m(\u001b[0m\u001b[0mnum_swap_vals\u001b[0m\u001b[1;33m,\u001b[0m \u001b[0mJ_vals\u001b[0m\u001b[1;33m,\u001b[0m \u001b[0mc\u001b[0m\u001b[1;33m=\u001b[0m\u001b[1;34m\"r\"\u001b[0m\u001b[1;33m,\u001b[0m \u001b[0mlabel\u001b[0m\u001b[1;33m=\u001b[0m\u001b[1;34m\"J average values\"\u001b[0m\u001b[1;33m,\u001b[0m \u001b[0malpha\u001b[0m\u001b[1;33m=\u001b[0m\u001b[1;36m0.1\u001b[0m\u001b[1;33m)\u001b[0m\u001b[1;33m\u001b[0m\u001b[0m\n\u001b[0m\u001b[0;32m      4\u001b[0m \u001b[0mplt\u001b[0m\u001b[1;33m.\u001b[0m\u001b[0mscatter\u001b[0m\u001b[1;33m(\u001b[0m\u001b[0mnum_swap_vals\u001b[0m\u001b[1;33m,\u001b[0m \u001b[0mNMI_vals\u001b[0m\u001b[1;33m,\u001b[0m \u001b[0mc\u001b[0m\u001b[1;33m=\u001b[0m\u001b[1;34m\"b\"\u001b[0m\u001b[1;33m,\u001b[0m \u001b[0mlabel\u001b[0m\u001b[1;33m=\u001b[0m\u001b[1;34m\"NMI values\"\u001b[0m\u001b[1;33m,\u001b[0m \u001b[0malpha\u001b[0m\u001b[1;33m=\u001b[0m\u001b[1;36m0.1\u001b[0m\u001b[1;33m)\u001b[0m\u001b[1;33m\u001b[0m\u001b[0m\n\u001b[0;32m      5\u001b[0m \u001b[0mplt\u001b[0m\u001b[1;33m.\u001b[0m\u001b[0mplot\u001b[0m\u001b[1;33m(\u001b[0m\u001b[0mnum_swap_vals\u001b[0m\u001b[1;33m,\u001b[0m \u001b[0msmooth\u001b[0m\u001b[1;33m(\u001b[0m\u001b[0mJ_vals\u001b[0m\u001b[1;33m,\u001b[0m \u001b[1;36m10\u001b[0m\u001b[1;33m)\u001b[0m\u001b[1;33m,\u001b[0m \u001b[0mc\u001b[0m\u001b[1;33m=\u001b[0m\u001b[1;34m\"r\"\u001b[0m\u001b[1;33m)\u001b[0m\u001b[1;33m\u001b[0m\u001b[0m\n",
      "\u001b[1;31mNameError\u001b[0m: name 'num_swap_vals' is not defined"
     ]
    },
    {
     "data": {
      "text/plain": [
       "<matplotlib.figure.Figure at 0x7fe89edc8550>"
      ]
     },
     "metadata": {},
     "output_type": "display_data"
    }
   ],
   "source": [
    "# Plot NMI vs number of swaps and J vs number of swaps in the same figure to compare\n",
    "plt.figure()\n",
    "plt.scatter(num_swap_vals, J_vals, c=\"r\", label=\"J average values\", alpha=0.1)\n",
    "plt.scatter(num_swap_vals, NMI_vals, c=\"b\", label=\"NMI values\", alpha=0.1)\n",
    "plt.plot(num_swap_vals, smooth(J_vals, 10), c=\"r\")\n",
    "plt.plot(num_swap_vals, smooth(NMI_vals, 10), c=\"b\")\n",
    "plt.xlabel(\"Number of edge swaps\")\n",
    "plt.ylabel(\"NMI / J average\")\n",
    "plt.legend()\n",
    "plt.show()\n",
    "\n",
    "# Plot NMI vs J\n",
    "plt.figure()\n",
    "plt.scatter(J_vals, NMI_vals)\n",
    "plt.xlabel(\"J average\")\n",
    "plt.ylabel(\"NMI\")\n",
    "\n",
    "plt.show()"
   ]
  },
  {
   "cell_type": "code",
   "execution_count": null,
   "metadata": {
    "collapsed": true
   },
   "outputs": [],
   "source": []
  }
 ],
 "metadata": {
  "kernelspec": {
   "display_name": "Python 2",
   "language": "python",
   "name": "python2"
  },
  "language_info": {
   "codemirror_mode": {
    "name": "ipython",
    "version": 2
   },
   "file_extension": ".py",
   "mimetype": "text/x-python",
   "name": "python",
   "nbconvert_exporter": "python",
   "pygments_lexer": "ipython2",
   "version": "2.7.11"
  },
  "nav_menu": {},
  "toc": {
   "navigate_menu": true,
   "number_sections": true,
   "sideBar": true,
   "threshold": 6,
   "toc_cell": false,
   "toc_section_display": "block",
   "toc_window_display": false
  }
 },
 "nbformat": 4,
 "nbformat_minor": 1
}
